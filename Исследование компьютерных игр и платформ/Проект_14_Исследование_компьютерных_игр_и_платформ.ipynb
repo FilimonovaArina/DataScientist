{
  "cells": [
    {
      "cell_type": "markdown",
      "id": "39dde2d7",
      "metadata": {
        "id": "39dde2d7"
      },
      "source": [
        "Интернет-магазин продает компьютерные игры по всему миру и собирается выявить определяющие успешность игр закономерности для планирования рекламных кампаний. Доступны данные продаж игр, их рейтинги, жанры, платформы и возрастной рейтинг ESRB. Данные периода до 2016 года будут использоваться для прогнозирования продаж на 2017 и более поздние годы."
      ]
    },
    {
      "cell_type": "markdown",
      "id": "16f325e5",
      "metadata": {
        "id": "16f325e5"
      },
      "source": [
        "**Изучение данных и обработка их**"
      ]
    },
    {
      "cell_type": "code",
      "execution_count": null,
      "id": "3c1e0dcb",
      "metadata": {
        "id": "3c1e0dcb"
      },
      "outputs": [],
      "source": [
        "import pandas as pd\n",
        "import numpy as np\n",
        "import matplotlib.pyplot as plt\n",
        "import seaborn as sns\n",
        "from scipy import stats as st"
      ]
    },
    {
      "cell_type": "code",
      "execution_count": null,
      "id": "51a053f4",
      "metadata": {
        "id": "51a053f4"
      },
      "outputs": [],
      "source": [
        "try:\n",
        "    data = pd.read_csv('/Users/arina200212yandex.ru/Desktop/games.csv')\n",
        "except:\n",
        "    data = pd.read_csv('/datasets/games.csv')"
      ]
    },
    {
      "cell_type": "code",
      "execution_count": null,
      "id": "978eeab5",
      "metadata": {
        "id": "978eeab5",
        "outputId": "eaf92a41-b8e5-414c-b310-40f277981558"
      },
      "outputs": [
        {
          "name": "stdout",
          "output_type": "stream",
          "text": [
            "<class 'pandas.core.frame.DataFrame'>\n",
            "RangeIndex: 16715 entries, 0 to 16714\n",
            "Data columns (total 11 columns):\n",
            " #   Column           Non-Null Count  Dtype  \n",
            "---  ------           --------------  -----  \n",
            " 0   Name             16713 non-null  object \n",
            " 1   Platform         16715 non-null  object \n",
            " 2   Year_of_Release  16446 non-null  float64\n",
            " 3   Genre            16713 non-null  object \n",
            " 4   NA_sales         16715 non-null  float64\n",
            " 5   EU_sales         16715 non-null  float64\n",
            " 6   JP_sales         16715 non-null  float64\n",
            " 7   Other_sales      16715 non-null  float64\n",
            " 8   Critic_Score     8137 non-null   float64\n",
            " 9   User_Score       10014 non-null  object \n",
            " 10  Rating           9949 non-null   object \n",
            "dtypes: float64(6), object(5)\n",
            "memory usage: 1.4+ MB\n"
          ]
        }
      ],
      "source": [
        "data.info()"
      ]
    },
    {
      "cell_type": "code",
      "execution_count": null,
      "id": "043d86f3",
      "metadata": {
        "id": "043d86f3",
        "outputId": "94df78f9-04d7-4e00-c958-b9a3e1b52647"
      },
      "outputs": [
        {
          "data": {
            "text/html": [
              "<div>\n",
              "<style scoped>\n",
              "    .dataframe tbody tr th:only-of-type {\n",
              "        vertical-align: middle;\n",
              "    }\n",
              "\n",
              "    .dataframe tbody tr th {\n",
              "        vertical-align: top;\n",
              "    }\n",
              "\n",
              "    .dataframe thead th {\n",
              "        text-align: right;\n",
              "    }\n",
              "</style>\n",
              "<table border=\"1\" class=\"dataframe\">\n",
              "  <thead>\n",
              "    <tr style=\"text-align: right;\">\n",
              "      <th></th>\n",
              "      <th>Name</th>\n",
              "      <th>Platform</th>\n",
              "      <th>Year_of_Release</th>\n",
              "      <th>Genre</th>\n",
              "      <th>NA_sales</th>\n",
              "      <th>EU_sales</th>\n",
              "      <th>JP_sales</th>\n",
              "      <th>Other_sales</th>\n",
              "      <th>Critic_Score</th>\n",
              "      <th>User_Score</th>\n",
              "      <th>Rating</th>\n",
              "    </tr>\n",
              "  </thead>\n",
              "  <tbody>\n",
              "    <tr>\n",
              "      <th>9539</th>\n",
              "      <td>Megamind: The Blue Defender</td>\n",
              "      <td>PSP</td>\n",
              "      <td>2010.0</td>\n",
              "      <td>Adventure</td>\n",
              "      <td>0.08</td>\n",
              "      <td>0.03</td>\n",
              "      <td>0.00</td>\n",
              "      <td>0.02</td>\n",
              "      <td>NaN</td>\n",
              "      <td>tbd</td>\n",
              "      <td>E10+</td>\n",
              "    </tr>\n",
              "    <tr>\n",
              "      <th>7475</th>\n",
              "      <td>The Naked Brothers Band: The Video Game</td>\n",
              "      <td>Wii</td>\n",
              "      <td>2008.0</td>\n",
              "      <td>Misc</td>\n",
              "      <td>0.19</td>\n",
              "      <td>0.00</td>\n",
              "      <td>0.00</td>\n",
              "      <td>0.01</td>\n",
              "      <td>NaN</td>\n",
              "      <td>NaN</td>\n",
              "      <td>NaN</td>\n",
              "    </tr>\n",
              "    <tr>\n",
              "      <th>5410</th>\n",
              "      <td>Spy Hunter</td>\n",
              "      <td>XB</td>\n",
              "      <td>2002.0</td>\n",
              "      <td>Racing</td>\n",
              "      <td>0.25</td>\n",
              "      <td>0.07</td>\n",
              "      <td>0.00</td>\n",
              "      <td>0.01</td>\n",
              "      <td>71.0</td>\n",
              "      <td>tbd</td>\n",
              "      <td>T</td>\n",
              "    </tr>\n",
              "    <tr>\n",
              "      <th>16320</th>\n",
              "      <td>BlazBlue: Calamity Trigger</td>\n",
              "      <td>PC</td>\n",
              "      <td>2010.0</td>\n",
              "      <td>Fighting</td>\n",
              "      <td>0.00</td>\n",
              "      <td>0.01</td>\n",
              "      <td>0.00</td>\n",
              "      <td>0.00</td>\n",
              "      <td>NaN</td>\n",
              "      <td>8.7</td>\n",
              "      <td>T</td>\n",
              "    </tr>\n",
              "    <tr>\n",
              "      <th>9913</th>\n",
              "      <td>SD Gundam G Generation-F.I.F</td>\n",
              "      <td>PS</td>\n",
              "      <td>2001.0</td>\n",
              "      <td>Strategy</td>\n",
              "      <td>0.00</td>\n",
              "      <td>0.00</td>\n",
              "      <td>0.11</td>\n",
              "      <td>0.01</td>\n",
              "      <td>NaN</td>\n",
              "      <td>NaN</td>\n",
              "      <td>NaN</td>\n",
              "    </tr>\n",
              "    <tr>\n",
              "      <th>9059</th>\n",
              "      <td>MTV Music Generator 3: This Is the Remix</td>\n",
              "      <td>PS2</td>\n",
              "      <td>2004.0</td>\n",
              "      <td>Misc</td>\n",
              "      <td>0.07</td>\n",
              "      <td>0.05</td>\n",
              "      <td>0.00</td>\n",
              "      <td>0.02</td>\n",
              "      <td>79.0</td>\n",
              "      <td>8.6</td>\n",
              "      <td>T</td>\n",
              "    </tr>\n",
              "    <tr>\n",
              "      <th>7845</th>\n",
              "      <td>Kenka Banchou 4: Ichinen Sensou</td>\n",
              "      <td>PSP</td>\n",
              "      <td>2010.0</td>\n",
              "      <td>Action</td>\n",
              "      <td>0.00</td>\n",
              "      <td>0.00</td>\n",
              "      <td>0.19</td>\n",
              "      <td>0.00</td>\n",
              "      <td>NaN</td>\n",
              "      <td>NaN</td>\n",
              "      <td>NaN</td>\n",
              "    </tr>\n",
              "    <tr>\n",
              "      <th>9710</th>\n",
              "      <td>The King of Fighters '94</td>\n",
              "      <td>NG</td>\n",
              "      <td>1994.0</td>\n",
              "      <td>Fighting</td>\n",
              "      <td>0.00</td>\n",
              "      <td>0.00</td>\n",
              "      <td>0.12</td>\n",
              "      <td>0.00</td>\n",
              "      <td>NaN</td>\n",
              "      <td>NaN</td>\n",
              "      <td>NaN</td>\n",
              "    </tr>\n",
              "    <tr>\n",
              "      <th>6442</th>\n",
              "      <td>Shin Megami Tensei: Devil Survivor</td>\n",
              "      <td>DS</td>\n",
              "      <td>2009.0</td>\n",
              "      <td>Role-Playing</td>\n",
              "      <td>0.13</td>\n",
              "      <td>0.00</td>\n",
              "      <td>0.12</td>\n",
              "      <td>0.01</td>\n",
              "      <td>84.0</td>\n",
              "      <td>8.8</td>\n",
              "      <td>T</td>\n",
              "    </tr>\n",
              "    <tr>\n",
              "      <th>6527</th>\n",
              "      <td>ExciteBots: Trick Racing</td>\n",
              "      <td>Wii</td>\n",
              "      <td>2009.0</td>\n",
              "      <td>Racing</td>\n",
              "      <td>0.24</td>\n",
              "      <td>0.00</td>\n",
              "      <td>0.00</td>\n",
              "      <td>0.02</td>\n",
              "      <td>77.0</td>\n",
              "      <td>8.6</td>\n",
              "      <td>E</td>\n",
              "    </tr>\n",
              "    <tr>\n",
              "      <th>13502</th>\n",
              "      <td>The Tale of Despereaux</td>\n",
              "      <td>Wii</td>\n",
              "      <td>2008.0</td>\n",
              "      <td>Platform</td>\n",
              "      <td>0.04</td>\n",
              "      <td>0.00</td>\n",
              "      <td>0.00</td>\n",
              "      <td>0.00</td>\n",
              "      <td>NaN</td>\n",
              "      <td>tbd</td>\n",
              "      <td>E10+</td>\n",
              "    </tr>\n",
              "    <tr>\n",
              "      <th>8917</th>\n",
              "      <td>Phantasy Star Online Episode I &amp; II</td>\n",
              "      <td>XB</td>\n",
              "      <td>2003.0</td>\n",
              "      <td>Role-Playing</td>\n",
              "      <td>0.11</td>\n",
              "      <td>0.03</td>\n",
              "      <td>0.00</td>\n",
              "      <td>0.01</td>\n",
              "      <td>NaN</td>\n",
              "      <td>NaN</td>\n",
              "      <td>NaN</td>\n",
              "    </tr>\n",
              "    <tr>\n",
              "      <th>377</th>\n",
              "      <td>FIFA Soccer 2004</td>\n",
              "      <td>PS2</td>\n",
              "      <td>NaN</td>\n",
              "      <td>Sports</td>\n",
              "      <td>0.59</td>\n",
              "      <td>2.36</td>\n",
              "      <td>0.04</td>\n",
              "      <td>0.51</td>\n",
              "      <td>84.0</td>\n",
              "      <td>6.4</td>\n",
              "      <td>E</td>\n",
              "    </tr>\n",
              "    <tr>\n",
              "      <th>2652</th>\n",
              "      <td>ABBA: You Can Dance</td>\n",
              "      <td>Wii</td>\n",
              "      <td>2011.0</td>\n",
              "      <td>Misc</td>\n",
              "      <td>0.18</td>\n",
              "      <td>0.49</td>\n",
              "      <td>0.00</td>\n",
              "      <td>0.10</td>\n",
              "      <td>66.0</td>\n",
              "      <td>tbd</td>\n",
              "      <td>E10+</td>\n",
              "    </tr>\n",
              "    <tr>\n",
              "      <th>13702</th>\n",
              "      <td>Code Geass: Hangyaku no Lelouch R2 - Banjou no...</td>\n",
              "      <td>DS</td>\n",
              "      <td>2008.0</td>\n",
              "      <td>Misc</td>\n",
              "      <td>0.00</td>\n",
              "      <td>0.00</td>\n",
              "      <td>0.04</td>\n",
              "      <td>0.00</td>\n",
              "      <td>NaN</td>\n",
              "      <td>NaN</td>\n",
              "      <td>NaN</td>\n",
              "    </tr>\n",
              "  </tbody>\n",
              "</table>\n",
              "</div>"
            ],
            "text/plain": [
              "                                                    Name Platform  \\\n",
              "9539                         Megamind: The Blue Defender      PSP   \n",
              "7475             The Naked Brothers Band: The Video Game      Wii   \n",
              "5410                                          Spy Hunter       XB   \n",
              "16320                         BlazBlue: Calamity Trigger       PC   \n",
              "9913                        SD Gundam G Generation-F.I.F       PS   \n",
              "9059            MTV Music Generator 3: This Is the Remix      PS2   \n",
              "7845                     Kenka Banchou 4: Ichinen Sensou      PSP   \n",
              "9710                            The King of Fighters '94       NG   \n",
              "6442                  Shin Megami Tensei: Devil Survivor       DS   \n",
              "6527                            ExciteBots: Trick Racing      Wii   \n",
              "13502                             The Tale of Despereaux      Wii   \n",
              "8917                 Phantasy Star Online Episode I & II       XB   \n",
              "377                                     FIFA Soccer 2004      PS2   \n",
              "2652                                 ABBA: You Can Dance      Wii   \n",
              "13702  Code Geass: Hangyaku no Lelouch R2 - Banjou no...       DS   \n",
              "\n",
              "       Year_of_Release         Genre  NA_sales  EU_sales  JP_sales  \\\n",
              "9539            2010.0     Adventure      0.08      0.03      0.00   \n",
              "7475            2008.0          Misc      0.19      0.00      0.00   \n",
              "5410            2002.0        Racing      0.25      0.07      0.00   \n",
              "16320           2010.0      Fighting      0.00      0.01      0.00   \n",
              "9913            2001.0      Strategy      0.00      0.00      0.11   \n",
              "9059            2004.0          Misc      0.07      0.05      0.00   \n",
              "7845            2010.0        Action      0.00      0.00      0.19   \n",
              "9710            1994.0      Fighting      0.00      0.00      0.12   \n",
              "6442            2009.0  Role-Playing      0.13      0.00      0.12   \n",
              "6527            2009.0        Racing      0.24      0.00      0.00   \n",
              "13502           2008.0      Platform      0.04      0.00      0.00   \n",
              "8917            2003.0  Role-Playing      0.11      0.03      0.00   \n",
              "377                NaN        Sports      0.59      2.36      0.04   \n",
              "2652            2011.0          Misc      0.18      0.49      0.00   \n",
              "13702           2008.0          Misc      0.00      0.00      0.04   \n",
              "\n",
              "       Other_sales  Critic_Score User_Score Rating  \n",
              "9539          0.02           NaN        tbd   E10+  \n",
              "7475          0.01           NaN        NaN    NaN  \n",
              "5410          0.01          71.0        tbd      T  \n",
              "16320         0.00           NaN        8.7      T  \n",
              "9913          0.01           NaN        NaN    NaN  \n",
              "9059          0.02          79.0        8.6      T  \n",
              "7845          0.00           NaN        NaN    NaN  \n",
              "9710          0.00           NaN        NaN    NaN  \n",
              "6442          0.01          84.0        8.8      T  \n",
              "6527          0.02          77.0        8.6      E  \n",
              "13502         0.00           NaN        tbd   E10+  \n",
              "8917          0.01           NaN        NaN    NaN  \n",
              "377           0.51          84.0        6.4      E  \n",
              "2652          0.10          66.0        tbd   E10+  \n",
              "13702         0.00           NaN        NaN    NaN  "
            ]
          },
          "execution_count": 62,
          "metadata": {},
          "output_type": "execute_result"
        }
      ],
      "source": [
        "data.sample(15)"
      ]
    },
    {
      "cell_type": "code",
      "execution_count": null,
      "id": "b6b26a42",
      "metadata": {
        "id": "b6b26a42",
        "outputId": "60af1102-aae6-4c7b-eee8-4e18faba27a0"
      },
      "outputs": [
        {
          "data": {
            "text/plain": [
              "Name                  2\n",
              "Platform              0\n",
              "Year_of_Release     269\n",
              "Genre                 2\n",
              "NA_sales              0\n",
              "EU_sales              0\n",
              "JP_sales              0\n",
              "Other_sales           0\n",
              "Critic_Score       8578\n",
              "User_Score         6701\n",
              "Rating             6766\n",
              "dtype: int64"
            ]
          },
          "execution_count": 63,
          "metadata": {},
          "output_type": "execute_result"
        }
      ],
      "source": [
        "data.isna().sum()"
      ]
    },
    {
      "cell_type": "code",
      "execution_count": null,
      "id": "3072acd6",
      "metadata": {
        "id": "3072acd6",
        "outputId": "5554a068-36f6-4342-a9f6-d8b297100e91"
      },
      "outputs": [
        {
          "data": {
            "text/html": [
              "<div>\n",
              "<style scoped>\n",
              "    .dataframe tbody tr th:only-of-type {\n",
              "        vertical-align: middle;\n",
              "    }\n",
              "\n",
              "    .dataframe tbody tr th {\n",
              "        vertical-align: top;\n",
              "    }\n",
              "\n",
              "    .dataframe thead th {\n",
              "        text-align: right;\n",
              "    }\n",
              "</style>\n",
              "<table border=\"1\" class=\"dataframe\">\n",
              "  <thead>\n",
              "    <tr style=\"text-align: right;\">\n",
              "      <th></th>\n",
              "      <th>Name</th>\n",
              "      <th>Platform</th>\n",
              "      <th>Year_of_Release</th>\n",
              "      <th>Genre</th>\n",
              "      <th>NA_sales</th>\n",
              "      <th>EU_sales</th>\n",
              "      <th>JP_sales</th>\n",
              "      <th>Other_sales</th>\n",
              "      <th>Critic_Score</th>\n",
              "      <th>User_Score</th>\n",
              "      <th>Rating</th>\n",
              "    </tr>\n",
              "  </thead>\n",
              "  <tbody>\n",
              "    <tr>\n",
              "      <th>count</th>\n",
              "      <td>16713</td>\n",
              "      <td>16715</td>\n",
              "      <td>16446.000000</td>\n",
              "      <td>16713</td>\n",
              "      <td>16715.000000</td>\n",
              "      <td>16715.000000</td>\n",
              "      <td>16715.000000</td>\n",
              "      <td>16715.000000</td>\n",
              "      <td>8137.000000</td>\n",
              "      <td>10014</td>\n",
              "      <td>9949</td>\n",
              "    </tr>\n",
              "    <tr>\n",
              "      <th>unique</th>\n",
              "      <td>11559</td>\n",
              "      <td>31</td>\n",
              "      <td>NaN</td>\n",
              "      <td>12</td>\n",
              "      <td>NaN</td>\n",
              "      <td>NaN</td>\n",
              "      <td>NaN</td>\n",
              "      <td>NaN</td>\n",
              "      <td>NaN</td>\n",
              "      <td>96</td>\n",
              "      <td>8</td>\n",
              "    </tr>\n",
              "    <tr>\n",
              "      <th>top</th>\n",
              "      <td>Need for Speed: Most Wanted</td>\n",
              "      <td>PS2</td>\n",
              "      <td>NaN</td>\n",
              "      <td>Action</td>\n",
              "      <td>NaN</td>\n",
              "      <td>NaN</td>\n",
              "      <td>NaN</td>\n",
              "      <td>NaN</td>\n",
              "      <td>NaN</td>\n",
              "      <td>tbd</td>\n",
              "      <td>E</td>\n",
              "    </tr>\n",
              "    <tr>\n",
              "      <th>freq</th>\n",
              "      <td>12</td>\n",
              "      <td>2161</td>\n",
              "      <td>NaN</td>\n",
              "      <td>3369</td>\n",
              "      <td>NaN</td>\n",
              "      <td>NaN</td>\n",
              "      <td>NaN</td>\n",
              "      <td>NaN</td>\n",
              "      <td>NaN</td>\n",
              "      <td>2424</td>\n",
              "      <td>3990</td>\n",
              "    </tr>\n",
              "    <tr>\n",
              "      <th>mean</th>\n",
              "      <td>NaN</td>\n",
              "      <td>NaN</td>\n",
              "      <td>2006.484616</td>\n",
              "      <td>NaN</td>\n",
              "      <td>0.263377</td>\n",
              "      <td>0.145060</td>\n",
              "      <td>0.077617</td>\n",
              "      <td>0.047342</td>\n",
              "      <td>68.967679</td>\n",
              "      <td>NaN</td>\n",
              "      <td>NaN</td>\n",
              "    </tr>\n",
              "    <tr>\n",
              "      <th>std</th>\n",
              "      <td>NaN</td>\n",
              "      <td>NaN</td>\n",
              "      <td>5.877050</td>\n",
              "      <td>NaN</td>\n",
              "      <td>0.813604</td>\n",
              "      <td>0.503339</td>\n",
              "      <td>0.308853</td>\n",
              "      <td>0.186731</td>\n",
              "      <td>13.938165</td>\n",
              "      <td>NaN</td>\n",
              "      <td>NaN</td>\n",
              "    </tr>\n",
              "    <tr>\n",
              "      <th>min</th>\n",
              "      <td>NaN</td>\n",
              "      <td>NaN</td>\n",
              "      <td>1980.000000</td>\n",
              "      <td>NaN</td>\n",
              "      <td>0.000000</td>\n",
              "      <td>0.000000</td>\n",
              "      <td>0.000000</td>\n",
              "      <td>0.000000</td>\n",
              "      <td>13.000000</td>\n",
              "      <td>NaN</td>\n",
              "      <td>NaN</td>\n",
              "    </tr>\n",
              "    <tr>\n",
              "      <th>25%</th>\n",
              "      <td>NaN</td>\n",
              "      <td>NaN</td>\n",
              "      <td>2003.000000</td>\n",
              "      <td>NaN</td>\n",
              "      <td>0.000000</td>\n",
              "      <td>0.000000</td>\n",
              "      <td>0.000000</td>\n",
              "      <td>0.000000</td>\n",
              "      <td>60.000000</td>\n",
              "      <td>NaN</td>\n",
              "      <td>NaN</td>\n",
              "    </tr>\n",
              "    <tr>\n",
              "      <th>50%</th>\n",
              "      <td>NaN</td>\n",
              "      <td>NaN</td>\n",
              "      <td>2007.000000</td>\n",
              "      <td>NaN</td>\n",
              "      <td>0.080000</td>\n",
              "      <td>0.020000</td>\n",
              "      <td>0.000000</td>\n",
              "      <td>0.010000</td>\n",
              "      <td>71.000000</td>\n",
              "      <td>NaN</td>\n",
              "      <td>NaN</td>\n",
              "    </tr>\n",
              "    <tr>\n",
              "      <th>75%</th>\n",
              "      <td>NaN</td>\n",
              "      <td>NaN</td>\n",
              "      <td>2010.000000</td>\n",
              "      <td>NaN</td>\n",
              "      <td>0.240000</td>\n",
              "      <td>0.110000</td>\n",
              "      <td>0.040000</td>\n",
              "      <td>0.030000</td>\n",
              "      <td>79.000000</td>\n",
              "      <td>NaN</td>\n",
              "      <td>NaN</td>\n",
              "    </tr>\n",
              "    <tr>\n",
              "      <th>max</th>\n",
              "      <td>NaN</td>\n",
              "      <td>NaN</td>\n",
              "      <td>2016.000000</td>\n",
              "      <td>NaN</td>\n",
              "      <td>41.360000</td>\n",
              "      <td>28.960000</td>\n",
              "      <td>10.220000</td>\n",
              "      <td>10.570000</td>\n",
              "      <td>98.000000</td>\n",
              "      <td>NaN</td>\n",
              "      <td>NaN</td>\n",
              "    </tr>\n",
              "  </tbody>\n",
              "</table>\n",
              "</div>"
            ],
            "text/plain": [
              "                               Name Platform  Year_of_Release   Genre  \\\n",
              "count                         16713    16715     16446.000000   16713   \n",
              "unique                        11559       31              NaN      12   \n",
              "top     Need for Speed: Most Wanted      PS2              NaN  Action   \n",
              "freq                             12     2161              NaN    3369   \n",
              "mean                            NaN      NaN      2006.484616     NaN   \n",
              "std                             NaN      NaN         5.877050     NaN   \n",
              "min                             NaN      NaN      1980.000000     NaN   \n",
              "25%                             NaN      NaN      2003.000000     NaN   \n",
              "50%                             NaN      NaN      2007.000000     NaN   \n",
              "75%                             NaN      NaN      2010.000000     NaN   \n",
              "max                             NaN      NaN      2016.000000     NaN   \n",
              "\n",
              "            NA_sales      EU_sales      JP_sales   Other_sales  Critic_Score  \\\n",
              "count   16715.000000  16715.000000  16715.000000  16715.000000   8137.000000   \n",
              "unique           NaN           NaN           NaN           NaN           NaN   \n",
              "top              NaN           NaN           NaN           NaN           NaN   \n",
              "freq             NaN           NaN           NaN           NaN           NaN   \n",
              "mean        0.263377      0.145060      0.077617      0.047342     68.967679   \n",
              "std         0.813604      0.503339      0.308853      0.186731     13.938165   \n",
              "min         0.000000      0.000000      0.000000      0.000000     13.000000   \n",
              "25%         0.000000      0.000000      0.000000      0.000000     60.000000   \n",
              "50%         0.080000      0.020000      0.000000      0.010000     71.000000   \n",
              "75%         0.240000      0.110000      0.040000      0.030000     79.000000   \n",
              "max        41.360000     28.960000     10.220000     10.570000     98.000000   \n",
              "\n",
              "       User_Score Rating  \n",
              "count       10014   9949  \n",
              "unique         96      8  \n",
              "top           tbd      E  \n",
              "freq         2424   3990  \n",
              "mean          NaN    NaN  \n",
              "std           NaN    NaN  \n",
              "min           NaN    NaN  \n",
              "25%           NaN    NaN  \n",
              "50%           NaN    NaN  \n",
              "75%           NaN    NaN  \n",
              "max           NaN    NaN  "
            ]
          },
          "execution_count": 64,
          "metadata": {},
          "output_type": "execute_result"
        }
      ],
      "source": [
        "data.describe(include='all')"
      ]
    },
    {
      "cell_type": "markdown",
      "id": "d36b484a",
      "metadata": {
        "id": "d36b484a"
      },
      "source": [
        "Вывод о наборе данных:\n",
        "\n",
        "Необходимо изменить тип данных столбца Year_of_Release на int(). Также обнаружено наличие пропущенных значений в столбцах Name, Year_of_Release, Critic_Score, User_Score и Rating. Требуется исправить регистр наименований столбцов."
      ]
    },
    {
      "cell_type": "code",
      "execution_count": null,
      "id": "aec09976",
      "metadata": {
        "id": "aec09976"
      },
      "outputs": [],
      "source": [
        "data.columns = data.columns.str.lower()"
      ]
    },
    {
      "cell_type": "markdown",
      "id": "8a19862e",
      "metadata": {
        "id": "8a19862e"
      },
      "source": [
        "Столбцы Name и Year_of_Release содержат небольшое количество пропущенных значений, поэтому удаление этих строк не оказывает серьезного влияния на выборку и не нанесет ущерба для анализа. Требуется произвести удаление строк с пропущенными значениями."
      ]
    },
    {
      "cell_type": "code",
      "execution_count": null,
      "id": "c379543d",
      "metadata": {
        "id": "c379543d"
      },
      "outputs": [],
      "source": [
        "data = data.dropna(subset=['year_of_release', 'name', 'genre']).reset_index()"
      ]
    },
    {
      "cell_type": "markdown",
      "id": "1914f004",
      "metadata": {
        "id": "1914f004"
      },
      "source": [
        "Изменим тип данных."
      ]
    },
    {
      "cell_type": "code",
      "execution_count": null,
      "id": "c9a7755c",
      "metadata": {
        "id": "c9a7755c"
      },
      "outputs": [],
      "source": [
        "data['year_of_release'] = data['year_of_release'].astype(int)"
      ]
    },
    {
      "cell_type": "markdown",
      "id": "7c78364c",
      "metadata": {
        "id": "7c78364c"
      },
      "source": [
        "Обратим внимание на столбец user_score"
      ]
    },
    {
      "cell_type": "code",
      "execution_count": null,
      "id": "5397e12f",
      "metadata": {
        "id": "5397e12f",
        "outputId": "5a60fe3e-a121-4006-bead-c721b6f9a372"
      },
      "outputs": [
        {
          "data": {
            "text/plain": [
              "array(['8', nan, '8.3', '8.5', '6.6', '8.4', '8.6', '7.7', '6.3', '7.4',\n",
              "       '8.2', '9', '7.9', '8.1', '8.7', '7.1', '3.4', '5.3', '4.8', '3.2',\n",
              "       '8.9', '6.4', '7.8', '7.5', '2.6', '7.2', '9.2', '7', '7.3', '4.3',\n",
              "       '7.6', '5.7', '5', '9.1', '6.5', 'tbd', '8.8', '6.9', '9.4', '6.8',\n",
              "       '6.1', '6.7', '5.4', '4', '4.9', '4.5', '9.3', '6.2', '4.2', '6',\n",
              "       '3.7', '4.1', '5.8', '5.6', '5.5', '4.4', '4.6', '5.9', '3.9',\n",
              "       '3.1', '2.9', '5.2', '3.3', '4.7', '5.1', '3.5', '2.5', '1.9', '3',\n",
              "       '2.7', '2.2', '2', '9.5', '2.1', '3.6', '2.8', '1.8', '3.8', '0',\n",
              "       '1.6', '9.6', '2.4', '1.7', '1.1', '0.3', '1.5', '0.7', '1.2',\n",
              "       '2.3', '0.5', '1.3', '0.2', '0.6', '1.4', '0.9', '1', '9.7'],\n",
              "      dtype=object)"
            ]
          },
          "execution_count": 68,
          "metadata": {},
          "output_type": "execute_result"
        }
      ],
      "source": [
        "data['user_score'].unique()"
      ]
    },
    {
      "cell_type": "markdown",
      "id": "80f6e12b",
      "metadata": {
        "id": "80f6e12b"
      },
      "source": [
        "Неверный тип данных обнаружен в столбце - требуется заменить на float, так как содержит числовые значения. Также значение \"tbd\" вызывает вопросы, поэтому необходимо заменить его на nan. Поскольку при более детальном рассмотрении видно, что это означает отсутствие данных (To Be Determined), а значит, можно считать эти случаи пропущенными."
      ]
    },
    {
      "cell_type": "code",
      "execution_count": null,
      "id": "82d124b0",
      "metadata": {
        "id": "82d124b0"
      },
      "outputs": [],
      "source": [
        "data['user_score'] = data['user_score'].replace('tbd', np.NaN)\n",
        "data['user_score'] = data['user_score'].astype('float')"
      ]
    },
    {
      "cell_type": "code",
      "execution_count": null,
      "id": "ba9beefd",
      "metadata": {
        "id": "ba9beefd",
        "outputId": "8c3f097a-cf97-41c4-da97-f25844e91fe0"
      },
      "outputs": [
        {
          "data": {
            "text/html": [
              "<div>\n",
              "<style scoped>\n",
              "    .dataframe tbody tr th:only-of-type {\n",
              "        vertical-align: middle;\n",
              "    }\n",
              "\n",
              "    .dataframe tbody tr th {\n",
              "        vertical-align: top;\n",
              "    }\n",
              "\n",
              "    .dataframe thead th {\n",
              "        text-align: right;\n",
              "    }\n",
              "</style>\n",
              "<table border=\"1\" class=\"dataframe\">\n",
              "  <thead>\n",
              "    <tr style=\"text-align: right;\">\n",
              "      <th></th>\n",
              "      <th>index</th>\n",
              "      <th>name</th>\n",
              "      <th>platform</th>\n",
              "      <th>year_of_release</th>\n",
              "      <th>genre</th>\n",
              "      <th>na_sales</th>\n",
              "      <th>eu_sales</th>\n",
              "      <th>jp_sales</th>\n",
              "      <th>other_sales</th>\n",
              "      <th>critic_score</th>\n",
              "      <th>user_score</th>\n",
              "      <th>rating</th>\n",
              "    </tr>\n",
              "  </thead>\n",
              "  <tbody>\n",
              "    <tr>\n",
              "      <th>1</th>\n",
              "      <td>1</td>\n",
              "      <td>Super Mario Bros.</td>\n",
              "      <td>NES</td>\n",
              "      <td>1985</td>\n",
              "      <td>Platform</td>\n",
              "      <td>29.08</td>\n",
              "      <td>3.58</td>\n",
              "      <td>6.81</td>\n",
              "      <td>0.77</td>\n",
              "      <td>NaN</td>\n",
              "      <td>NaN</td>\n",
              "      <td>NaN</td>\n",
              "    </tr>\n",
              "    <tr>\n",
              "      <th>4</th>\n",
              "      <td>4</td>\n",
              "      <td>Pokemon Red/Pokemon Blue</td>\n",
              "      <td>GB</td>\n",
              "      <td>1996</td>\n",
              "      <td>Role-Playing</td>\n",
              "      <td>11.27</td>\n",
              "      <td>8.89</td>\n",
              "      <td>10.22</td>\n",
              "      <td>1.00</td>\n",
              "      <td>NaN</td>\n",
              "      <td>NaN</td>\n",
              "      <td>NaN</td>\n",
              "    </tr>\n",
              "    <tr>\n",
              "      <th>5</th>\n",
              "      <td>5</td>\n",
              "      <td>Tetris</td>\n",
              "      <td>GB</td>\n",
              "      <td>1989</td>\n",
              "      <td>Puzzle</td>\n",
              "      <td>23.20</td>\n",
              "      <td>2.26</td>\n",
              "      <td>4.22</td>\n",
              "      <td>0.58</td>\n",
              "      <td>NaN</td>\n",
              "      <td>NaN</td>\n",
              "      <td>NaN</td>\n",
              "    </tr>\n",
              "    <tr>\n",
              "      <th>9</th>\n",
              "      <td>9</td>\n",
              "      <td>Duck Hunt</td>\n",
              "      <td>NES</td>\n",
              "      <td>1984</td>\n",
              "      <td>Shooter</td>\n",
              "      <td>26.93</td>\n",
              "      <td>0.63</td>\n",
              "      <td>0.28</td>\n",
              "      <td>0.47</td>\n",
              "      <td>NaN</td>\n",
              "      <td>NaN</td>\n",
              "      <td>NaN</td>\n",
              "    </tr>\n",
              "    <tr>\n",
              "      <th>10</th>\n",
              "      <td>10</td>\n",
              "      <td>Nintendogs</td>\n",
              "      <td>DS</td>\n",
              "      <td>2005</td>\n",
              "      <td>Simulation</td>\n",
              "      <td>9.05</td>\n",
              "      <td>10.95</td>\n",
              "      <td>1.93</td>\n",
              "      <td>2.74</td>\n",
              "      <td>NaN</td>\n",
              "      <td>NaN</td>\n",
              "      <td>NaN</td>\n",
              "    </tr>\n",
              "  </tbody>\n",
              "</table>\n",
              "</div>"
            ],
            "text/plain": [
              "    index                      name platform  year_of_release         genre  \\\n",
              "1       1         Super Mario Bros.      NES             1985      Platform   \n",
              "4       4  Pokemon Red/Pokemon Blue       GB             1996  Role-Playing   \n",
              "5       5                    Tetris       GB             1989        Puzzle   \n",
              "9       9                 Duck Hunt      NES             1984       Shooter   \n",
              "10     10                Nintendogs       DS             2005    Simulation   \n",
              "\n",
              "    na_sales  eu_sales  jp_sales  other_sales  critic_score  user_score rating  \n",
              "1      29.08      3.58      6.81         0.77           NaN         NaN    NaN  \n",
              "4      11.27      8.89     10.22         1.00           NaN         NaN    NaN  \n",
              "5      23.20      2.26      4.22         0.58           NaN         NaN    NaN  \n",
              "9      26.93      0.63      0.28         0.47           NaN         NaN    NaN  \n",
              "10      9.05     10.95      1.93         2.74           NaN         NaN    NaN  "
            ]
          },
          "execution_count": 70,
          "metadata": {},
          "output_type": "execute_result"
        }
      ],
      "source": [
        "data[data['critic_score'].isnull()].head()"
      ]
    },
    {
      "cell_type": "code",
      "execution_count": null,
      "id": "56c8fafe",
      "metadata": {
        "id": "56c8fafe",
        "outputId": "783c7079-a967-4ec5-a6b8-bd6c302f25cf"
      },
      "outputs": [
        {
          "data": {
            "text/html": [
              "<div>\n",
              "<style scoped>\n",
              "    .dataframe tbody tr th:only-of-type {\n",
              "        vertical-align: middle;\n",
              "    }\n",
              "\n",
              "    .dataframe tbody tr th {\n",
              "        vertical-align: top;\n",
              "    }\n",
              "\n",
              "    .dataframe thead th {\n",
              "        text-align: right;\n",
              "    }\n",
              "</style>\n",
              "<table border=\"1\" class=\"dataframe\">\n",
              "  <thead>\n",
              "    <tr style=\"text-align: right;\">\n",
              "      <th></th>\n",
              "      <th>index</th>\n",
              "      <th>name</th>\n",
              "      <th>platform</th>\n",
              "      <th>year_of_release</th>\n",
              "      <th>genre</th>\n",
              "      <th>na_sales</th>\n",
              "      <th>eu_sales</th>\n",
              "      <th>jp_sales</th>\n",
              "      <th>other_sales</th>\n",
              "      <th>critic_score</th>\n",
              "      <th>user_score</th>\n",
              "      <th>rating</th>\n",
              "    </tr>\n",
              "  </thead>\n",
              "  <tbody>\n",
              "    <tr>\n",
              "      <th>1</th>\n",
              "      <td>1</td>\n",
              "      <td>Super Mario Bros.</td>\n",
              "      <td>NES</td>\n",
              "      <td>1985</td>\n",
              "      <td>Platform</td>\n",
              "      <td>29.08</td>\n",
              "      <td>3.58</td>\n",
              "      <td>6.81</td>\n",
              "      <td>0.77</td>\n",
              "      <td>NaN</td>\n",
              "      <td>NaN</td>\n",
              "      <td>NaN</td>\n",
              "    </tr>\n",
              "    <tr>\n",
              "      <th>4</th>\n",
              "      <td>4</td>\n",
              "      <td>Pokemon Red/Pokemon Blue</td>\n",
              "      <td>GB</td>\n",
              "      <td>1996</td>\n",
              "      <td>Role-Playing</td>\n",
              "      <td>11.27</td>\n",
              "      <td>8.89</td>\n",
              "      <td>10.22</td>\n",
              "      <td>1.00</td>\n",
              "      <td>NaN</td>\n",
              "      <td>NaN</td>\n",
              "      <td>NaN</td>\n",
              "    </tr>\n",
              "    <tr>\n",
              "      <th>5</th>\n",
              "      <td>5</td>\n",
              "      <td>Tetris</td>\n",
              "      <td>GB</td>\n",
              "      <td>1989</td>\n",
              "      <td>Puzzle</td>\n",
              "      <td>23.20</td>\n",
              "      <td>2.26</td>\n",
              "      <td>4.22</td>\n",
              "      <td>0.58</td>\n",
              "      <td>NaN</td>\n",
              "      <td>NaN</td>\n",
              "      <td>NaN</td>\n",
              "    </tr>\n",
              "    <tr>\n",
              "      <th>9</th>\n",
              "      <td>9</td>\n",
              "      <td>Duck Hunt</td>\n",
              "      <td>NES</td>\n",
              "      <td>1984</td>\n",
              "      <td>Shooter</td>\n",
              "      <td>26.93</td>\n",
              "      <td>0.63</td>\n",
              "      <td>0.28</td>\n",
              "      <td>0.47</td>\n",
              "      <td>NaN</td>\n",
              "      <td>NaN</td>\n",
              "      <td>NaN</td>\n",
              "    </tr>\n",
              "    <tr>\n",
              "      <th>10</th>\n",
              "      <td>10</td>\n",
              "      <td>Nintendogs</td>\n",
              "      <td>DS</td>\n",
              "      <td>2005</td>\n",
              "      <td>Simulation</td>\n",
              "      <td>9.05</td>\n",
              "      <td>10.95</td>\n",
              "      <td>1.93</td>\n",
              "      <td>2.74</td>\n",
              "      <td>NaN</td>\n",
              "      <td>NaN</td>\n",
              "      <td>NaN</td>\n",
              "    </tr>\n",
              "  </tbody>\n",
              "</table>\n",
              "</div>"
            ],
            "text/plain": [
              "    index                      name platform  year_of_release         genre  \\\n",
              "1       1         Super Mario Bros.      NES             1985      Platform   \n",
              "4       4  Pokemon Red/Pokemon Blue       GB             1996  Role-Playing   \n",
              "5       5                    Tetris       GB             1989        Puzzle   \n",
              "9       9                 Duck Hunt      NES             1984       Shooter   \n",
              "10     10                Nintendogs       DS             2005    Simulation   \n",
              "\n",
              "    na_sales  eu_sales  jp_sales  other_sales  critic_score  user_score rating  \n",
              "1      29.08      3.58      6.81         0.77           NaN         NaN    NaN  \n",
              "4      11.27      8.89     10.22         1.00           NaN         NaN    NaN  \n",
              "5      23.20      2.26      4.22         0.58           NaN         NaN    NaN  \n",
              "9      26.93      0.63      0.28         0.47           NaN         NaN    NaN  \n",
              "10      9.05     10.95      1.93         2.74           NaN         NaN    NaN  "
            ]
          },
          "execution_count": 71,
          "metadata": {},
          "output_type": "execute_result"
        }
      ],
      "source": [
        "data[data['user_score'].isnull()].head()"
      ]
    },
    {
      "cell_type": "code",
      "execution_count": null,
      "id": "63d952e5",
      "metadata": {
        "id": "63d952e5",
        "outputId": "b0a84057-7dd6-4397-dba0-038b724b0a64"
      },
      "outputs": [
        {
          "data": {
            "text/html": [
              "<div>\n",
              "<style scoped>\n",
              "    .dataframe tbody tr th:only-of-type {\n",
              "        vertical-align: middle;\n",
              "    }\n",
              "\n",
              "    .dataframe tbody tr th {\n",
              "        vertical-align: top;\n",
              "    }\n",
              "\n",
              "    .dataframe thead th {\n",
              "        text-align: right;\n",
              "    }\n",
              "</style>\n",
              "<table border=\"1\" class=\"dataframe\">\n",
              "  <thead>\n",
              "    <tr style=\"text-align: right;\">\n",
              "      <th></th>\n",
              "      <th>index</th>\n",
              "      <th>name</th>\n",
              "      <th>platform</th>\n",
              "      <th>year_of_release</th>\n",
              "      <th>genre</th>\n",
              "      <th>na_sales</th>\n",
              "      <th>eu_sales</th>\n",
              "      <th>jp_sales</th>\n",
              "      <th>other_sales</th>\n",
              "      <th>critic_score</th>\n",
              "      <th>user_score</th>\n",
              "      <th>rating</th>\n",
              "    </tr>\n",
              "  </thead>\n",
              "  <tbody>\n",
              "    <tr>\n",
              "      <th>1</th>\n",
              "      <td>1</td>\n",
              "      <td>Super Mario Bros.</td>\n",
              "      <td>NES</td>\n",
              "      <td>1985</td>\n",
              "      <td>Platform</td>\n",
              "      <td>29.08</td>\n",
              "      <td>3.58</td>\n",
              "      <td>6.81</td>\n",
              "      <td>0.77</td>\n",
              "      <td>NaN</td>\n",
              "      <td>NaN</td>\n",
              "      <td>NaN</td>\n",
              "    </tr>\n",
              "    <tr>\n",
              "      <th>4</th>\n",
              "      <td>4</td>\n",
              "      <td>Pokemon Red/Pokemon Blue</td>\n",
              "      <td>GB</td>\n",
              "      <td>1996</td>\n",
              "      <td>Role-Playing</td>\n",
              "      <td>11.27</td>\n",
              "      <td>8.89</td>\n",
              "      <td>10.22</td>\n",
              "      <td>1.00</td>\n",
              "      <td>NaN</td>\n",
              "      <td>NaN</td>\n",
              "      <td>NaN</td>\n",
              "    </tr>\n",
              "    <tr>\n",
              "      <th>5</th>\n",
              "      <td>5</td>\n",
              "      <td>Tetris</td>\n",
              "      <td>GB</td>\n",
              "      <td>1989</td>\n",
              "      <td>Puzzle</td>\n",
              "      <td>23.20</td>\n",
              "      <td>2.26</td>\n",
              "      <td>4.22</td>\n",
              "      <td>0.58</td>\n",
              "      <td>NaN</td>\n",
              "      <td>NaN</td>\n",
              "      <td>NaN</td>\n",
              "    </tr>\n",
              "    <tr>\n",
              "      <th>9</th>\n",
              "      <td>9</td>\n",
              "      <td>Duck Hunt</td>\n",
              "      <td>NES</td>\n",
              "      <td>1984</td>\n",
              "      <td>Shooter</td>\n",
              "      <td>26.93</td>\n",
              "      <td>0.63</td>\n",
              "      <td>0.28</td>\n",
              "      <td>0.47</td>\n",
              "      <td>NaN</td>\n",
              "      <td>NaN</td>\n",
              "      <td>NaN</td>\n",
              "    </tr>\n",
              "    <tr>\n",
              "      <th>10</th>\n",
              "      <td>10</td>\n",
              "      <td>Nintendogs</td>\n",
              "      <td>DS</td>\n",
              "      <td>2005</td>\n",
              "      <td>Simulation</td>\n",
              "      <td>9.05</td>\n",
              "      <td>10.95</td>\n",
              "      <td>1.93</td>\n",
              "      <td>2.74</td>\n",
              "      <td>NaN</td>\n",
              "      <td>NaN</td>\n",
              "      <td>NaN</td>\n",
              "    </tr>\n",
              "  </tbody>\n",
              "</table>\n",
              "</div>"
            ],
            "text/plain": [
              "    index                      name platform  year_of_release         genre  \\\n",
              "1       1         Super Mario Bros.      NES             1985      Platform   \n",
              "4       4  Pokemon Red/Pokemon Blue       GB             1996  Role-Playing   \n",
              "5       5                    Tetris       GB             1989        Puzzle   \n",
              "9       9                 Duck Hunt      NES             1984       Shooter   \n",
              "10     10                Nintendogs       DS             2005    Simulation   \n",
              "\n",
              "    na_sales  eu_sales  jp_sales  other_sales  critic_score  user_score rating  \n",
              "1      29.08      3.58      6.81         0.77           NaN         NaN    NaN  \n",
              "4      11.27      8.89     10.22         1.00           NaN         NaN    NaN  \n",
              "5      23.20      2.26      4.22         0.58           NaN         NaN    NaN  \n",
              "9      26.93      0.63      0.28         0.47           NaN         NaN    NaN  \n",
              "10      9.05     10.95      1.93         2.74           NaN         NaN    NaN  "
            ]
          },
          "execution_count": 72,
          "metadata": {},
          "output_type": "execute_result"
        }
      ],
      "source": [
        "data[data['rating'].isnull()].head()"
      ]
    },
    {
      "cell_type": "markdown",
      "id": "76d93537",
      "metadata": {
        "id": "76d93537"
      },
      "source": [
        "Столбцы Critic_Score, User_Score и Rating имеют очень большое количество пропущенных значений и зависят друг от друга. Скорее всего, эти пропуски возникли не случайно. Из-за этой зависимости и большого количества пропущенных значений (почти половина выборки) не рекомендуется заменять их. Рекомендуется оставить значения, как есть. Однако столбец \"Rating\" следует заменить пропущенные значения на \"norating\"."
      ]
    },
    {
      "cell_type": "code",
      "execution_count": null,
      "id": "f0704c18",
      "metadata": {
        "id": "f0704c18"
      },
      "outputs": [],
      "source": [
        "data['rating'] = data['rating'].replace(np.NaN,'norating')"
      ]
    },
    {
      "cell_type": "markdown",
      "id": "2236d977",
      "metadata": {
        "id": "2236d977"
      },
      "source": [
        "При появлении пропущенных значений в столбце \"Critic_Score\" это могло быть вызвано тем, что на момент выпуска игр еще не было такого правила, как оценка критиков, или может не было доступных критиков для оценки. В столбце \"User_Score\" пропуски скорее всего возникли из-за отсутствия специализированных платформ для оценки пользователей на тот момент. В столбце \"Rating\" пропуски могли появиться из-за того, что во время выпуска этих игр еще не существовалы соответствующие организации, которые занимаются рейтингованием игр.\n",
        "Столбцы \"Name\", \"Platform\", \"Genre\" и \"Rating\" содержат строки разного регистра. Для нормализации данных необходимо привести все строки к нижнему регистру."
      ]
    },
    {
      "cell_type": "markdown",
      "id": "69df8699",
      "metadata": {
        "id": "69df8699"
      },
      "source": [
        "Заметим, что в стобцах name,platform,genre и rating строки имеют разный регистр. Приведем все строки к нижнему регистру"
      ]
    },
    {
      "cell_type": "code",
      "execution_count": null,
      "id": "47fb93cd",
      "metadata": {
        "id": "47fb93cd"
      },
      "outputs": [],
      "source": [
        "list_low = ['name','platform','genre','rating']\n",
        "for i in list_low:\n",
        "    data[i] = data[i].str.lower()"
      ]
    },
    {
      "cell_type": "markdown",
      "id": "209c7641",
      "metadata": {
        "id": "209c7641"
      },
      "source": [
        "Посмотрим на дубликаты:"
      ]
    },
    {
      "cell_type": "code",
      "execution_count": null,
      "id": "d76e7c67",
      "metadata": {
        "id": "d76e7c67",
        "outputId": "b79739e2-86d5-42b1-d63d-a5f0dfb3b122"
      },
      "outputs": [
        {
          "data": {
            "text/plain": [
              "0"
            ]
          },
          "execution_count": 75,
          "metadata": {},
          "output_type": "execute_result"
        }
      ],
      "source": [
        "data.duplicated().sum()"
      ]
    },
    {
      "cell_type": "markdown",
      "id": "75cff87c",
      "metadata": {
        "id": "75cff87c"
      },
      "source": [
        "Явных дубликатов нет."
      ]
    },
    {
      "cell_type": "markdown",
      "id": "b674b260",
      "metadata": {
        "id": "b674b260"
      },
      "source": [
        "Создадим столбец - Суммарные продажи во всех регионах."
      ]
    },
    {
      "cell_type": "code",
      "execution_count": null,
      "id": "5a956796",
      "metadata": {
        "id": "5a956796"
      },
      "outputs": [],
      "source": [
        "data['total_prodag'] = data[['na_sales','eu_sales','jp_sales', 'other_sales']].sum(axis = 1)"
      ]
    },
    {
      "cell_type": "markdown",
      "id": "6d9f6f0f",
      "metadata": {
        "id": "6d9f6f0f"
      },
      "source": [
        "Подготовка данных завершена после обработки пропусков, исправления типа данных столбца Year_of_Release, а также преобразования всех строк столбцов Name, Platform, Genre и Rating в нижний регистр. Дубликаты не обнаружены. "
      ]
    },
    {
      "cell_type": "markdown",
      "id": "49850d90",
      "metadata": {
        "id": "49850d90"
      },
      "source": [
        "**Иследовательский анализ данных**"
      ]
    },
    {
      "cell_type": "markdown",
      "id": "995845d9",
      "metadata": {
        "id": "995845d9"
      },
      "source": [
        "Рассмотрим сколько игр выпускалось в разные годы. "
      ]
    },
    {
      "cell_type": "code",
      "execution_count": null,
      "id": "60842a83",
      "metadata": {
        "id": "60842a83",
        "outputId": "a0561a6a-29de-4b9c-8690-49e047697b70"
      },
      "outputs": [
        {
          "data": {
            "text/html": [
              "<div>\n",
              "<style scoped>\n",
              "    .dataframe tbody tr th:only-of-type {\n",
              "        vertical-align: middle;\n",
              "    }\n",
              "\n",
              "    .dataframe tbody tr th {\n",
              "        vertical-align: top;\n",
              "    }\n",
              "\n",
              "    .dataframe thead th {\n",
              "        text-align: right;\n",
              "    }\n",
              "</style>\n",
              "<table border=\"1\" class=\"dataframe\">\n",
              "  <thead>\n",
              "    <tr style=\"text-align: right;\">\n",
              "      <th></th>\n",
              "      <th>name</th>\n",
              "    </tr>\n",
              "    <tr>\n",
              "      <th>year_of_release</th>\n",
              "      <th></th>\n",
              "    </tr>\n",
              "  </thead>\n",
              "  <tbody>\n",
              "    <tr>\n",
              "      <th>1980</th>\n",
              "      <td>9</td>\n",
              "    </tr>\n",
              "    <tr>\n",
              "      <th>1981</th>\n",
              "      <td>46</td>\n",
              "    </tr>\n",
              "    <tr>\n",
              "      <th>1982</th>\n",
              "      <td>36</td>\n",
              "    </tr>\n",
              "    <tr>\n",
              "      <th>1983</th>\n",
              "      <td>17</td>\n",
              "    </tr>\n",
              "    <tr>\n",
              "      <th>1984</th>\n",
              "      <td>14</td>\n",
              "    </tr>\n",
              "    <tr>\n",
              "      <th>1985</th>\n",
              "      <td>14</td>\n",
              "    </tr>\n",
              "    <tr>\n",
              "      <th>1986</th>\n",
              "      <td>21</td>\n",
              "    </tr>\n",
              "    <tr>\n",
              "      <th>1987</th>\n",
              "      <td>16</td>\n",
              "    </tr>\n",
              "    <tr>\n",
              "      <th>1988</th>\n",
              "      <td>15</td>\n",
              "    </tr>\n",
              "    <tr>\n",
              "      <th>1989</th>\n",
              "      <td>17</td>\n",
              "    </tr>\n",
              "    <tr>\n",
              "      <th>1990</th>\n",
              "      <td>16</td>\n",
              "    </tr>\n",
              "    <tr>\n",
              "      <th>1991</th>\n",
              "      <td>41</td>\n",
              "    </tr>\n",
              "    <tr>\n",
              "      <th>1992</th>\n",
              "      <td>43</td>\n",
              "    </tr>\n",
              "    <tr>\n",
              "      <th>1993</th>\n",
              "      <td>60</td>\n",
              "    </tr>\n",
              "    <tr>\n",
              "      <th>1994</th>\n",
              "      <td>121</td>\n",
              "    </tr>\n",
              "    <tr>\n",
              "      <th>1995</th>\n",
              "      <td>219</td>\n",
              "    </tr>\n",
              "    <tr>\n",
              "      <th>1996</th>\n",
              "      <td>263</td>\n",
              "    </tr>\n",
              "    <tr>\n",
              "      <th>1997</th>\n",
              "      <td>289</td>\n",
              "    </tr>\n",
              "    <tr>\n",
              "      <th>1998</th>\n",
              "      <td>379</td>\n",
              "    </tr>\n",
              "    <tr>\n",
              "      <th>1999</th>\n",
              "      <td>338</td>\n",
              "    </tr>\n",
              "    <tr>\n",
              "      <th>2000</th>\n",
              "      <td>350</td>\n",
              "    </tr>\n",
              "    <tr>\n",
              "      <th>2001</th>\n",
              "      <td>482</td>\n",
              "    </tr>\n",
              "    <tr>\n",
              "      <th>2002</th>\n",
              "      <td>829</td>\n",
              "    </tr>\n",
              "    <tr>\n",
              "      <th>2003</th>\n",
              "      <td>775</td>\n",
              "    </tr>\n",
              "    <tr>\n",
              "      <th>2004</th>\n",
              "      <td>762</td>\n",
              "    </tr>\n",
              "    <tr>\n",
              "      <th>2005</th>\n",
              "      <td>939</td>\n",
              "    </tr>\n",
              "    <tr>\n",
              "      <th>2006</th>\n",
              "      <td>1006</td>\n",
              "    </tr>\n",
              "    <tr>\n",
              "      <th>2007</th>\n",
              "      <td>1197</td>\n",
              "    </tr>\n",
              "    <tr>\n",
              "      <th>2008</th>\n",
              "      <td>1427</td>\n",
              "    </tr>\n",
              "    <tr>\n",
              "      <th>2009</th>\n",
              "      <td>1426</td>\n",
              "    </tr>\n",
              "    <tr>\n",
              "      <th>2010</th>\n",
              "      <td>1255</td>\n",
              "    </tr>\n",
              "    <tr>\n",
              "      <th>2011</th>\n",
              "      <td>1136</td>\n",
              "    </tr>\n",
              "    <tr>\n",
              "      <th>2012</th>\n",
              "      <td>653</td>\n",
              "    </tr>\n",
              "    <tr>\n",
              "      <th>2013</th>\n",
              "      <td>544</td>\n",
              "    </tr>\n",
              "    <tr>\n",
              "      <th>2014</th>\n",
              "      <td>581</td>\n",
              "    </tr>\n",
              "    <tr>\n",
              "      <th>2015</th>\n",
              "      <td>606</td>\n",
              "    </tr>\n",
              "    <tr>\n",
              "      <th>2016</th>\n",
              "      <td>502</td>\n",
              "    </tr>\n",
              "  </tbody>\n",
              "</table>\n",
              "</div>"
            ],
            "text/plain": [
              "                 name\n",
              "year_of_release      \n",
              "1980                9\n",
              "1981               46\n",
              "1982               36\n",
              "1983               17\n",
              "1984               14\n",
              "1985               14\n",
              "1986               21\n",
              "1987               16\n",
              "1988               15\n",
              "1989               17\n",
              "1990               16\n",
              "1991               41\n",
              "1992               43\n",
              "1993               60\n",
              "1994              121\n",
              "1995              219\n",
              "1996              263\n",
              "1997              289\n",
              "1998              379\n",
              "1999              338\n",
              "2000              350\n",
              "2001              482\n",
              "2002              829\n",
              "2003              775\n",
              "2004              762\n",
              "2005              939\n",
              "2006             1006\n",
              "2007             1197\n",
              "2008             1427\n",
              "2009             1426\n",
              "2010             1255\n",
              "2011             1136\n",
              "2012              653\n",
              "2013              544\n",
              "2014              581\n",
              "2015              606\n",
              "2016              502"
            ]
          },
          "execution_count": 77,
          "metadata": {},
          "output_type": "execute_result"
        }
      ],
      "source": [
        "years_igra = data.groupby('year_of_release').agg({'name':'count'})\n",
        "years_igra"
      ]
    },
    {
      "cell_type": "code",
      "execution_count": null,
      "id": "7ccee765",
      "metadata": {
        "scrolled": true,
        "id": "7ccee765",
        "outputId": "0b6aa350-f15d-4273-f072-282001a1f028"
      },
      "outputs": [
        {
          "data": {
            "image/png": "[encoded data removed]",
            "text/plain": [
              "<Figure size 432x288 with 1 Axes>"
            ]
          },
          "metadata": {
            "needs_background": "light"
          },
          "output_type": "display_data"
        },
        {
          "data": {
            "text/html": [
              "<div>\n",
              "<style scoped>\n",
              "    .dataframe tbody tr th:only-of-type {\n",
              "        vertical-align: middle;\n",
              "    }\n",
              "\n",
              "    .dataframe tbody tr th {\n",
              "        vertical-align: top;\n",
              "    }\n",
              "\n",
              "    .dataframe thead th {\n",
              "        text-align: right;\n",
              "    }\n",
              "</style>\n",
              "<table border=\"1\" class=\"dataframe\">\n",
              "  <thead>\n",
              "    <tr style=\"text-align: right;\">\n",
              "      <th></th>\n",
              "      <th>name</th>\n",
              "    </tr>\n",
              "  </thead>\n",
              "  <tbody>\n",
              "    <tr>\n",
              "      <th>count</th>\n",
              "      <td>37.000000</td>\n",
              "    </tr>\n",
              "    <tr>\n",
              "      <th>mean</th>\n",
              "      <td>444.432432</td>\n",
              "    </tr>\n",
              "    <tr>\n",
              "      <th>std</th>\n",
              "      <td>451.604334</td>\n",
              "    </tr>\n",
              "    <tr>\n",
              "      <th>min</th>\n",
              "      <td>9.000000</td>\n",
              "    </tr>\n",
              "    <tr>\n",
              "      <th>25%</th>\n",
              "      <td>36.000000</td>\n",
              "    </tr>\n",
              "    <tr>\n",
              "      <th>50%</th>\n",
              "      <td>338.000000</td>\n",
              "    </tr>\n",
              "    <tr>\n",
              "      <th>75%</th>\n",
              "      <td>762.000000</td>\n",
              "    </tr>\n",
              "    <tr>\n",
              "      <th>max</th>\n",
              "      <td>1427.000000</td>\n",
              "    </tr>\n",
              "  </tbody>\n",
              "</table>\n",
              "</div>"
            ],
            "text/plain": [
              "              name\n",
              "count    37.000000\n",
              "mean    444.432432\n",
              "std     451.604334\n",
              "min       9.000000\n",
              "25%      36.000000\n",
              "50%     338.000000\n",
              "75%     762.000000\n",
              "max    1427.000000"
            ]
          },
          "execution_count": 78,
          "metadata": {},
          "output_type": "execute_result"
        }
      ],
      "source": [
        "years_igra.plot(grid = True)\n",
        "plt.title('Выпуск игр')\n",
        "plt.show()\n",
        "years_igra.describe()"
      ]
    },
    {
      "cell_type": "markdown",
      "id": "ae53259e",
      "metadata": {
        "id": "ae53259e"
      },
      "source": [
        "Наибольшее количество игр было выпущено между 2005 и 2010 годами. Однако значительный рост начался с 1995 года. Для анализа можно выделить период с 1995 по 2010 год, так как в этот период было выпущено максимально возможное количество игр."
      ]
    },
    {
      "cell_type": "markdown",
      "id": "85442229",
      "metadata": {
        "id": "85442229"
      },
      "source": [
        "Посмотрим, как менялись продажи по платформам."
      ]
    },
    {
      "cell_type": "code",
      "execution_count": null,
      "id": "314d2d6b",
      "metadata": {
        "id": "314d2d6b",
        "outputId": "e439887f-c070-491a-8217-afcd8feb42c8"
      },
      "outputs": [
        {
          "data": {
            "text/html": [
              "<div>\n",
              "<style scoped>\n",
              "    .dataframe tbody tr th:only-of-type {\n",
              "        vertical-align: middle;\n",
              "    }\n",
              "\n",
              "    .dataframe tbody tr th {\n",
              "        vertical-align: top;\n",
              "    }\n",
              "\n",
              "    .dataframe thead th {\n",
              "        text-align: right;\n",
              "    }\n",
              "</style>\n",
              "<table border=\"1\" class=\"dataframe\">\n",
              "  <thead>\n",
              "    <tr style=\"text-align: right;\">\n",
              "      <th></th>\n",
              "      <th>total_prodag</th>\n",
              "    </tr>\n",
              "    <tr>\n",
              "      <th>platform</th>\n",
              "      <th></th>\n",
              "    </tr>\n",
              "  </thead>\n",
              "  <tbody>\n",
              "    <tr>\n",
              "      <th>ps2</th>\n",
              "      <td>1233.56</td>\n",
              "    </tr>\n",
              "    <tr>\n",
              "      <th>x360</th>\n",
              "      <td>961.24</td>\n",
              "    </tr>\n",
              "    <tr>\n",
              "      <th>ps3</th>\n",
              "      <td>931.34</td>\n",
              "    </tr>\n",
              "    <tr>\n",
              "      <th>wii</th>\n",
              "      <td>891.18</td>\n",
              "    </tr>\n",
              "    <tr>\n",
              "      <th>ds</th>\n",
              "      <td>802.78</td>\n",
              "    </tr>\n",
              "    <tr>\n",
              "      <th>ps</th>\n",
              "      <td>727.58</td>\n",
              "    </tr>\n",
              "    <tr>\n",
              "      <th>ps4</th>\n",
              "      <td>314.14</td>\n",
              "    </tr>\n",
              "    <tr>\n",
              "      <th>gba</th>\n",
              "      <td>312.88</td>\n",
              "    </tr>\n",
              "    <tr>\n",
              "      <th>psp</th>\n",
              "      <td>289.53</td>\n",
              "    </tr>\n",
              "    <tr>\n",
              "      <th>3ds</th>\n",
              "      <td>257.81</td>\n",
              "    </tr>\n",
              "  </tbody>\n",
              "</table>\n",
              "</div>"
            ],
            "text/plain": [
              "          total_prodag\n",
              "platform              \n",
              "ps2            1233.56\n",
              "x360            961.24\n",
              "ps3             931.34\n",
              "wii             891.18\n",
              "ds              802.78\n",
              "ps              727.58\n",
              "ps4             314.14\n",
              "gba             312.88\n",
              "psp             289.53\n",
              "3ds             257.81"
            ]
          },
          "execution_count": 79,
          "metadata": {},
          "output_type": "execute_result"
        }
      ],
      "source": [
        "ten_platform = data.groupby('platform').agg({'total_prodag':'sum'}).sort_values(by = 'total_prodag', ascending = False)\n",
        "ten_platform = ten_platform.head(10)\n",
        "ten_platform"
      ]
    },
    {
      "cell_type": "code",
      "execution_count": null,
      "id": "a7dc2dc4",
      "metadata": {
        "id": "a7dc2dc4"
      },
      "outputs": [],
      "source": [
        "top_list = ['ps2','x360',\n",
        "'ps3',\n",
        "'wii',\n",
        "'ds',\n",
        "'ps',\n",
        "'ps4',\n",
        "'gba',\n",
        "'psp',\n",
        "'3ds']"
      ]
    },
    {
      "cell_type": "code",
      "execution_count": null,
      "id": "419ae69f",
      "metadata": {
        "id": "419ae69f",
        "outputId": "0026a15f-07b1-4e4f-be83-4c641b445cb6"
      },
      "outputs": [
        {
          "data": {
            "text/html": [
              "<div>\n",
              "<style scoped>\n",
              "    .dataframe tbody tr th:only-of-type {\n",
              "        vertical-align: middle;\n",
              "    }\n",
              "\n",
              "    .dataframe tbody tr th {\n",
              "        vertical-align: top;\n",
              "    }\n",
              "\n",
              "    .dataframe thead th {\n",
              "        text-align: right;\n",
              "    }\n",
              "</style>\n",
              "<table border=\"1\" class=\"dataframe\">\n",
              "  <thead>\n",
              "    <tr style=\"text-align: right;\">\n",
              "      <th></th>\n",
              "      <th>total_prodag</th>\n",
              "    </tr>\n",
              "  </thead>\n",
              "  <tbody>\n",
              "    <tr>\n",
              "      <th>count</th>\n",
              "      <td>10.000000</td>\n",
              "    </tr>\n",
              "    <tr>\n",
              "      <th>mean</th>\n",
              "      <td>672.204000</td>\n",
              "    </tr>\n",
              "    <tr>\n",
              "      <th>std</th>\n",
              "      <td>351.088191</td>\n",
              "    </tr>\n",
              "    <tr>\n",
              "      <th>min</th>\n",
              "      <td>257.810000</td>\n",
              "    </tr>\n",
              "    <tr>\n",
              "      <th>25%</th>\n",
              "      <td>313.195000</td>\n",
              "    </tr>\n",
              "    <tr>\n",
              "      <th>50%</th>\n",
              "      <td>765.180000</td>\n",
              "    </tr>\n",
              "    <tr>\n",
              "      <th>75%</th>\n",
              "      <td>921.300000</td>\n",
              "    </tr>\n",
              "    <tr>\n",
              "      <th>max</th>\n",
              "      <td>1233.560000</td>\n",
              "    </tr>\n",
              "  </tbody>\n",
              "</table>\n",
              "</div>"
            ],
            "text/plain": [
              "       total_prodag\n",
              "count     10.000000\n",
              "mean     672.204000\n",
              "std      351.088191\n",
              "min      257.810000\n",
              "25%      313.195000\n",
              "50%      765.180000\n",
              "75%      921.300000\n",
              "max     1233.560000"
            ]
          },
          "execution_count": 81,
          "metadata": {},
          "output_type": "execute_result"
        },
        {
          "data": {
            "image/png": "[encoded data removed]",
            "text/plain": [
              "<Figure size 432x288 with 1 Axes>"
            ]
          },
          "metadata": {
            "needs_background": "light"
          },
          "output_type": "display_data"
        },
        {
          "data": {
            "image/png": "[encoded data removed]",
            "text/plain": [
              "<Figure size 432x288 with 1 Axes>"
            ]
          },
          "metadata": {
            "needs_background": "light"
          },
          "output_type": "display_data"
        },
        {
          "data": {
            "image/png": "[encoded data removed]",
            "text/plain": [
              "<Figure size 432x288 with 1 Axes>"
            ]
          },
          "metadata": {
            "needs_background": "light"
          },
          "output_type": "display_data"
        },
        {
          "data": {
            "image/png": "[encoded data removed]",
            "text/plain": [
              "<Figure size 432x288 with 1 Axes>"
            ]
          },
          "metadata": {
            "needs_background": "light"
          },
          "output_type": "display_data"
        },
        {
          "data": {
            "image/png": "[encoded data removed]",
            "text/plain": [
              "<Figure size 432x288 with 1 Axes>"
            ]
          },
          "metadata": {
            "needs_background": "light"
          },
          "output_type": "display_data"
        },
        {
          "data": {
            "image/png": "[encoded data removed]",
            "text/plain": [
              "<Figure size 432x288 with 1 Axes>"
            ]
          },
          "metadata": {
            "needs_background": "light"
          },
          "output_type": "display_data"
        },
        {
          "data": {
            "image/png": "[encoded data removed]",
            "text/plain": [
              "<Figure size 432x288 with 1 Axes>"
            ]
          },
          "metadata": {
            "needs_background": "light"
          },
          "output_type": "display_data"
        },
        {
          "data": {
            "image/png": "[encoded data removed]",
            "text/plain": [
              "<Figure size 432x288 with 1 Axes>"
            ]
          },
          "metadata": {
            "needs_background": "light"
          },
          "output_type": "display_data"
        },
        {
          "data": {
            "image/png": "[encoded data removed]",
            "text/plain": [
              "<Figure size 432x288 with 1 Axes>"
            ]
          },
          "metadata": {
            "needs_background": "light"
          },
          "output_type": "display_data"
        },
        {
          "data": {
            "image/png": "[encoded data removed]",
            "text/plain": [
              "<Figure size 432x288 with 1 Axes>"
            ]
          },
          "metadata": {
            "needs_background": "light"
          },
          "output_type": "display_data"
        }
      ],
      "source": [
        "for i in top_list:\n",
        "    data[data['platform'] == i].pivot_table(index='year_of_release', values='total_prodag', aggfunc='sum').plot(grid = True)\n",
        "    plt.title(i)\n",
        "\n",
        "ten_platform.describe()"
      ]
    },
    {
      "cell_type": "markdown",
      "id": "85a27fb2",
      "metadata": {
        "id": "85a27fb2"
      },
      "source": [
        "Характерный срок 'жизни' платформ 9-10 лет."
      ]
    },
    {
      "cell_type": "markdown",
      "id": "a46a02fa",
      "metadata": {
        "id": "a46a02fa"
      },
      "source": [
        "Для изучения динамики развития рынка выбран период с 2014 по 2016 год, так как, анализируя графики жизненного цикла платформ, можно сделать вывод о том, что платформы появляются, достигают пика популярности через несколько лет и затем начинают угасать. Однако, учитывая, что выборка менее информативная для дальнейшего анализа, выбирается именно такой период"
      ]
    },
    {
      "cell_type": "code",
      "execution_count": null,
      "id": "e04a5cd8",
      "metadata": {
        "id": "e04a5cd8",
        "outputId": "64c2ee51-ff4f-422a-8655-9c676cc7b487"
      },
      "outputs": [
        {
          "data": {
            "text/html": [
              "<div>\n",
              "<style scoped>\n",
              "    .dataframe tbody tr th:only-of-type {\n",
              "        vertical-align: middle;\n",
              "    }\n",
              "\n",
              "    .dataframe tbody tr th {\n",
              "        vertical-align: top;\n",
              "    }\n",
              "\n",
              "    .dataframe thead th {\n",
              "        text-align: right;\n",
              "    }\n",
              "</style>\n",
              "<table border=\"1\" class=\"dataframe\">\n",
              "  <thead>\n",
              "    <tr style=\"text-align: right;\">\n",
              "      <th></th>\n",
              "      <th>index</th>\n",
              "      <th>name</th>\n",
              "      <th>platform</th>\n",
              "      <th>year_of_release</th>\n",
              "      <th>genre</th>\n",
              "      <th>na_sales</th>\n",
              "      <th>eu_sales</th>\n",
              "      <th>jp_sales</th>\n",
              "      <th>other_sales</th>\n",
              "      <th>critic_score</th>\n",
              "      <th>user_score</th>\n",
              "      <th>rating</th>\n",
              "      <th>total_prodag</th>\n",
              "    </tr>\n",
              "  </thead>\n",
              "  <tbody>\n",
              "    <tr>\n",
              "      <th>31</th>\n",
              "      <td>31</td>\n",
              "      <td>call of duty: black ops 3</td>\n",
              "      <td>ps4</td>\n",
              "      <td>2015</td>\n",
              "      <td>shooter</td>\n",
              "      <td>6.03</td>\n",
              "      <td>5.86</td>\n",
              "      <td>0.36</td>\n",
              "      <td>2.38</td>\n",
              "      <td>NaN</td>\n",
              "      <td>NaN</td>\n",
              "      <td>norating</td>\n",
              "      <td>14.63</td>\n",
              "    </tr>\n",
              "    <tr>\n",
              "      <th>42</th>\n",
              "      <td>42</td>\n",
              "      <td>grand theft auto v</td>\n",
              "      <td>ps4</td>\n",
              "      <td>2014</td>\n",
              "      <td>action</td>\n",
              "      <td>3.96</td>\n",
              "      <td>6.31</td>\n",
              "      <td>0.38</td>\n",
              "      <td>1.97</td>\n",
              "      <td>97.0</td>\n",
              "      <td>8.3</td>\n",
              "      <td>m</td>\n",
              "      <td>12.62</td>\n",
              "    </tr>\n",
              "    <tr>\n",
              "      <th>47</th>\n",
              "      <td>47</td>\n",
              "      <td>pokemon omega ruby/pokemon alpha sapphire</td>\n",
              "      <td>3ds</td>\n",
              "      <td>2014</td>\n",
              "      <td>role-playing</td>\n",
              "      <td>4.35</td>\n",
              "      <td>3.49</td>\n",
              "      <td>3.10</td>\n",
              "      <td>0.74</td>\n",
              "      <td>NaN</td>\n",
              "      <td>NaN</td>\n",
              "      <td>norating</td>\n",
              "      <td>11.68</td>\n",
              "    </tr>\n",
              "    <tr>\n",
              "      <th>77</th>\n",
              "      <td>77</td>\n",
              "      <td>fifa 16</td>\n",
              "      <td>ps4</td>\n",
              "      <td>2015</td>\n",
              "      <td>sports</td>\n",
              "      <td>1.12</td>\n",
              "      <td>6.12</td>\n",
              "      <td>0.06</td>\n",
              "      <td>1.28</td>\n",
              "      <td>82.0</td>\n",
              "      <td>4.3</td>\n",
              "      <td>e</td>\n",
              "      <td>8.58</td>\n",
              "    </tr>\n",
              "    <tr>\n",
              "      <th>87</th>\n",
              "      <td>87</td>\n",
              "      <td>star wars battlefront (2015)</td>\n",
              "      <td>ps4</td>\n",
              "      <td>2015</td>\n",
              "      <td>shooter</td>\n",
              "      <td>2.99</td>\n",
              "      <td>3.49</td>\n",
              "      <td>0.22</td>\n",
              "      <td>1.28</td>\n",
              "      <td>NaN</td>\n",
              "      <td>NaN</td>\n",
              "      <td>norating</td>\n",
              "      <td>7.98</td>\n",
              "    </tr>\n",
              "    <tr>\n",
              "      <th>...</th>\n",
              "      <td>...</td>\n",
              "      <td>...</td>\n",
              "      <td>...</td>\n",
              "      <td>...</td>\n",
              "      <td>...</td>\n",
              "      <td>...</td>\n",
              "      <td>...</td>\n",
              "      <td>...</td>\n",
              "      <td>...</td>\n",
              "      <td>...</td>\n",
              "      <td>...</td>\n",
              "      <td>...</td>\n",
              "      <td>...</td>\n",
              "    </tr>\n",
              "    <tr>\n",
              "      <th>16432</th>\n",
              "      <td>16703</td>\n",
              "      <td>strawberry nauts</td>\n",
              "      <td>psv</td>\n",
              "      <td>2016</td>\n",
              "      <td>adventure</td>\n",
              "      <td>0.00</td>\n",
              "      <td>0.00</td>\n",
              "      <td>0.01</td>\n",
              "      <td>0.00</td>\n",
              "      <td>NaN</td>\n",
              "      <td>NaN</td>\n",
              "      <td>norating</td>\n",
              "      <td>0.01</td>\n",
              "    </tr>\n",
              "    <tr>\n",
              "      <th>16436</th>\n",
              "      <td>16707</td>\n",
              "      <td>aiyoku no eustia</td>\n",
              "      <td>psv</td>\n",
              "      <td>2014</td>\n",
              "      <td>misc</td>\n",
              "      <td>0.00</td>\n",
              "      <td>0.00</td>\n",
              "      <td>0.01</td>\n",
              "      <td>0.00</td>\n",
              "      <td>NaN</td>\n",
              "      <td>NaN</td>\n",
              "      <td>norating</td>\n",
              "      <td>0.01</td>\n",
              "    </tr>\n",
              "    <tr>\n",
              "      <th>16439</th>\n",
              "      <td>16710</td>\n",
              "      <td>samurai warriors: sanada maru</td>\n",
              "      <td>ps3</td>\n",
              "      <td>2016</td>\n",
              "      <td>action</td>\n",
              "      <td>0.00</td>\n",
              "      <td>0.00</td>\n",
              "      <td>0.01</td>\n",
              "      <td>0.00</td>\n",
              "      <td>NaN</td>\n",
              "      <td>NaN</td>\n",
              "      <td>norating</td>\n",
              "      <td>0.01</td>\n",
              "    </tr>\n",
              "    <tr>\n",
              "      <th>16441</th>\n",
              "      <td>16712</td>\n",
              "      <td>haitaka no psychedelica</td>\n",
              "      <td>psv</td>\n",
              "      <td>2016</td>\n",
              "      <td>adventure</td>\n",
              "      <td>0.00</td>\n",
              "      <td>0.00</td>\n",
              "      <td>0.01</td>\n",
              "      <td>0.00</td>\n",
              "      <td>NaN</td>\n",
              "      <td>NaN</td>\n",
              "      <td>norating</td>\n",
              "      <td>0.01</td>\n",
              "    </tr>\n",
              "    <tr>\n",
              "      <th>16443</th>\n",
              "      <td>16714</td>\n",
              "      <td>winning post 8 2016</td>\n",
              "      <td>psv</td>\n",
              "      <td>2016</td>\n",
              "      <td>simulation</td>\n",
              "      <td>0.00</td>\n",
              "      <td>0.00</td>\n",
              "      <td>0.01</td>\n",
              "      <td>0.00</td>\n",
              "      <td>NaN</td>\n",
              "      <td>NaN</td>\n",
              "      <td>norating</td>\n",
              "      <td>0.01</td>\n",
              "    </tr>\n",
              "  </tbody>\n",
              "</table>\n",
              "<p>1689 rows × 13 columns</p>\n",
              "</div>"
            ],
            "text/plain": [
              "       index                                       name platform  \\\n",
              "31        31                  call of duty: black ops 3      ps4   \n",
              "42        42                         grand theft auto v      ps4   \n",
              "47        47  pokemon omega ruby/pokemon alpha sapphire      3ds   \n",
              "77        77                                    fifa 16      ps4   \n",
              "87        87               star wars battlefront (2015)      ps4   \n",
              "...      ...                                        ...      ...   \n",
              "16432  16703                           strawberry nauts      psv   \n",
              "16436  16707                           aiyoku no eustia      psv   \n",
              "16439  16710              samurai warriors: sanada maru      ps3   \n",
              "16441  16712                    haitaka no psychedelica      psv   \n",
              "16443  16714                        winning post 8 2016      psv   \n",
              "\n",
              "       year_of_release         genre  na_sales  eu_sales  jp_sales  \\\n",
              "31                2015       shooter      6.03      5.86      0.36   \n",
              "42                2014        action      3.96      6.31      0.38   \n",
              "47                2014  role-playing      4.35      3.49      3.10   \n",
              "77                2015        sports      1.12      6.12      0.06   \n",
              "87                2015       shooter      2.99      3.49      0.22   \n",
              "...                ...           ...       ...       ...       ...   \n",
              "16432             2016     adventure      0.00      0.00      0.01   \n",
              "16436             2014          misc      0.00      0.00      0.01   \n",
              "16439             2016        action      0.00      0.00      0.01   \n",
              "16441             2016     adventure      0.00      0.00      0.01   \n",
              "16443             2016    simulation      0.00      0.00      0.01   \n",
              "\n",
              "       other_sales  critic_score  user_score    rating  total_prodag  \n",
              "31            2.38           NaN         NaN  norating         14.63  \n",
              "42            1.97          97.0         8.3         m         12.62  \n",
              "47            0.74           NaN         NaN  norating         11.68  \n",
              "77            1.28          82.0         4.3         e          8.58  \n",
              "87            1.28           NaN         NaN  norating          7.98  \n",
              "...            ...           ...         ...       ...           ...  \n",
              "16432         0.00           NaN         NaN  norating          0.01  \n",
              "16436         0.00           NaN         NaN  norating          0.01  \n",
              "16439         0.00           NaN         NaN  norating          0.01  \n",
              "16441         0.00           NaN         NaN  norating          0.01  \n",
              "16443         0.00           NaN         NaN  norating          0.01  \n",
              "\n",
              "[1689 rows x 13 columns]"
            ]
          },
          "execution_count": 82,
          "metadata": {},
          "output_type": "execute_result"
        }
      ],
      "source": [
        "period_1 = data.query('year_of_release >= 2014')\n",
        "period_1"
      ]
    },
    {
      "cell_type": "code",
      "execution_count": null,
      "id": "4cb399c2",
      "metadata": {
        "id": "4cb399c2",
        "outputId": "f792ee2d-758c-4213-844f-ab93733e08a5"
      },
      "outputs": [
        {
          "data": {
            "image/png": "[encoded data removed]",
            "text/plain": [
              "<Figure size 1440x720 with 1 Axes>"
            ]
          },
          "metadata": {
            "needs_background": "light"
          },
          "output_type": "display_data"
        }
      ],
      "source": [
        "actual_platform = period_1.pivot_table(index = ['year_of_release'], columns = ['platform'], values = ['total_prodag'],aggfunc =  ['sum'])\n",
        "actual_platform.plot(figsize = (20,10),grid = True)\n",
        "plt.show()"
      ]
    },
    {
      "cell_type": "markdown",
      "id": "93aa30af",
      "metadata": {
        "id": "93aa30af"
      },
      "source": [
        "**Вывод**\n",
        "Все представленные на графике платформы в 2016 году имеют снижение продаж, однако некоторые из них не падают так сильно, как другие. Это касается платформ PS4, Xone и 3ds."
      ]
    },
    {
      "cell_type": "markdown",
      "id": "342b97f7",
      "metadata": {
        "id": "342b97f7"
      },
      "source": [
        "Построим график «ящик с усами» по глобальным продажам игр в разбивке по платформам."
      ]
    },
    {
      "cell_type": "code",
      "execution_count": null,
      "id": "18c5b048",
      "metadata": {
        "id": "18c5b048",
        "outputId": "e8f595e4-7da8-47f9-aade-1cac6765796c"
      },
      "outputs": [
        {
          "data": {
            "image/png": "[encoded data removed]",
            "text/plain": [
              "<Figure size 936x576 with 1 Axes>"
            ]
          },
          "metadata": {
            "needs_background": "light"
          },
          "output_type": "display_data"
        }
      ],
      "source": [
        "plt.figure(figsize=(13, 8))\n",
        "(sns.boxplot(data = period_1 , y = 'total_prodag', x='platform')\n",
        "    .set(title = 'Продажи по платформам', xlabel = 'Платформы', ylabel = 'Общие продажи', ylim=(0, 5)))\n",
        "\n",
        "plt.show()"
      ]
    },
    {
      "cell_type": "markdown",
      "id": "325f692c",
      "metadata": {
        "id": "325f692c"
      },
      "source": [
        "Медианные продажи наибольшие у платформ Xbox 360, PS3, PS4 и Xbox One. Среди всех платформ наименьшие продажи у платформы DC. Также на графике присутствуют достаточно много выбросов для каждой платформы."
      ]
    },
    {
      "cell_type": "markdown",
      "id": "dd81d6fb",
      "metadata": {
        "id": "dd81d6fb"
      },
      "source": [
        "На графике распределения продаж видно, что у всех платформ примерно одинаковая плотность диапазона продаж с медианой, которая ближе к нижней квартиле. Из этого можно сделать вывод, что большинство игр имеют довольно низкие объемы продаж, но также присутствуют и игры с высокими показателями продаж."
      ]
    },
    {
      "cell_type": "markdown",
      "id": "141aab3f",
      "metadata": {
        "id": "141aab3f"
      },
      "source": [
        "**Влияние на продажи внутри одной популярной платформы отзывы пользователей и критиков**"
      ]
    },
    {
      "cell_type": "code",
      "execution_count": null,
      "id": "59eeafd3",
      "metadata": {
        "id": "59eeafd3",
        "outputId": "3a351b4f-5a7c-4a17-ea71-de82354a4f61"
      },
      "outputs": [
        {
          "data": {
            "image/png": "[encoded data removed]",
            "text/plain": [
              "<Figure size 432x288 with 1 Axes>"
            ]
          },
          "metadata": {
            "needs_background": "light"
          },
          "output_type": "display_data"
        }
      ],
      "source": [
        "sns.scatterplot(y= 'critic_score', x = 'total_prodag',data =period_1.query('platform == \"ps4\"').dropna())\n",
        "plt.show()"
      ]
    },
    {
      "cell_type": "code",
      "execution_count": null,
      "id": "ecdcc9c3",
      "metadata": {
        "id": "ecdcc9c3",
        "outputId": "fa787a62-af0c-41d0-ff08-8a8a092bf254"
      },
      "outputs": [
        {
          "data": {
            "image/png": "[encoded data removed]",
            "text/plain": [
              "<Figure size 432x288 with 1 Axes>"
            ]
          },
          "metadata": {
            "needs_background": "light"
          },
          "output_type": "display_data"
        }
      ],
      "source": [
        "sns.scatterplot(y= 'user_score', x = 'total_prodag',data =period_1.query('platform == \"ps4\"').dropna())\n",
        "plt.show()"
      ]
    },
    {
      "cell_type": "markdown",
      "id": "8cf43948",
      "metadata": {
        "id": "8cf43948"
      },
      "source": [
        "Чем выше рейтинг игры у критиков, тем скорее всего больше денег она приносит. Однако, когда речь идет об оценках пользователей, ситуация не всегда так однозначна. Некоторые игры, имеющие низкий рейтинг от пользователей, могут все равно собирать достаточно большую сумму продаж."
      ]
    },
    {
      "cell_type": "code",
      "execution_count": null,
      "id": "22b9e39a",
      "metadata": {
        "id": "22b9e39a"
      },
      "outputs": [],
      "source": [
        "top_list = ['ps2','x360',\n",
        "'ps3',\n",
        "'wii',\n",
        "'ds',\n",
        "'ps',\n",
        "'ps4',\n",
        "'gba',\n",
        "'psp',\n",
        "'3ds']"
      ]
    },
    {
      "cell_type": "code",
      "execution_count": null,
      "id": "58b17273",
      "metadata": {
        "id": "58b17273",
        "outputId": "5592a49d-eb6d-4389-e591-2334f5e8ce5f"
      },
      "outputs": [
        {
          "name": "stdout",
          "output_type": "stream",
          "text": [
            "ps2 nan nan\n",
            "x360 -0.138444570945665 0.5257228356581523\n",
            "ps3 -0.16676141347662118 0.44657460493190704\n",
            "wii 1.0 nan\n",
            "ds nan nan\n",
            "ps nan nan\n",
            "ps4 -0.040131589472697356 0.40266141068104083\n",
            "gba nan nan\n",
            "psp nan nan\n",
            "3ds 0.2151932718527028 0.314117492869051\n"
          ]
        }
      ],
      "source": [
        "for i in top_list:\n",
        "    platform = period_1[period_1['platform']== i]\n",
        "    correl = platform['user_score'].corr(platform['total_prodag'])\n",
        "    critic_correl = platform['critic_score'].corr(platform['total_prodag'])\n",
        "    print(i,correl,critic_correl)"
      ]
    },
    {
      "cell_type": "markdown",
      "id": "5b1ae3ee",
      "metadata": {
        "id": "5b1ae3ee"
      },
      "source": [
        "**Вывод**\n",
        "Проанализировав данные для топ 10 платформ и обнаружили следующее:\n",
        "\n",
        "1. PS2: у платформы слабая корреляция как с отзывами критиков, так и пользователей.\n",
        "\n",
        "2. Xbox 360: у платформы также слабая корреляция как с отзывами критиков, так и пользователей.\n",
        "\n",
        "3. PS3: корреляция между платформой и отзывами критиков и пользователей также является слабой.\n",
        "\n",
        "4. Wii: корреляция между платформой и отзывами критиков и пользователей также является слабой.\n",
        "\n",
        "5. DS: корреляция между платформой и отзывами критиков и пользователей также является слабой.\n",
        "\n",
        "6. PS: у нас отсутствуют данные для этой платформы в период с 2006 по 2016 год.\n",
        "\n",
        "7. PS4: корреляция между платформой и отзывами критиков не обнаружена, а корреляция с отзывами пользователей умеренная.\n",
        "\n",
        "8. GBA: у нас не выявлено корреляции между платформой и отзывами критиков и пользователей.\n",
        "\n",
        "9. PSP: корреляция между платформой и отзывами критиков является слабой, а корреляция с отзывами пользователей умеренная.\n",
        "\n",
        "10. 3DS: у этой платформы корреляция между отзывами критиков и пользователей также является слабой, а корреляция между отзывами пользователей и платформой умеренная"
      ]
    },
    {
      "cell_type": "markdown",
      "id": "7956c1c7",
      "metadata": {
        "id": "7956c1c7"
      },
      "source": [
        "**Посмотрим на общее распределение игр по жанрам.**"
      ]
    },
    {
      "cell_type": "code",
      "execution_count": null,
      "id": "77eebaef",
      "metadata": {
        "id": "77eebaef"
      },
      "outputs": [],
      "source": [
        "raspredelenie_genre = period_1.groupby('genre').agg({'total_prodag': 'mean'})"
      ]
    },
    {
      "cell_type": "code",
      "execution_count": null,
      "id": "d08bd251",
      "metadata": {
        "id": "d08bd251",
        "outputId": "028135d5-7c05-4e1d-f79c-f8ae8c8a8f1d"
      },
      "outputs": [
        {
          "data": {
            "image/png": "[encoded data removed]",
            "text/plain": [
              "<Figure size 432x288 with 1 Axes>"
            ]
          },
          "metadata": {
            "needs_background": "light"
          },
          "output_type": "display_data"
        }
      ],
      "source": [
        "raspredelenie_genre.plot(kind='bar')\n",
        "plt.show()"
      ]
    },
    {
      "cell_type": "markdown",
      "id": "585eaabe",
      "metadata": {
        "id": "585eaabe"
      },
      "source": [
        "Самым популярным жанром по продажам игр стал shooter, на втором месте — platrform. Выделяется сильное присутствие продаж именно в этих жанрах."
      ]
    },
    {
      "cell_type": "markdown",
      "id": "d0a9cd8f",
      "metadata": {
        "id": "d0a9cd8f"
      },
      "source": [
        "**Составим портрет пользователя каждого региона**"
      ]
    },
    {
      "cell_type": "markdown",
      "id": "3cc5b1c0",
      "metadata": {
        "id": "3cc5b1c0"
      },
      "source": [
        "Необходимо определить для пользователя каждого региона (NA, EU, JP):"
      ]
    },
    {
      "cell_type": "markdown",
      "id": "f050fdc8",
      "metadata": {
        "id": "f050fdc8"
      },
      "source": [
        "Самые популярные платформы (топ - 5)"
      ]
    },
    {
      "cell_type": "code",
      "execution_count": null,
      "id": "4b262ed2",
      "metadata": {
        "id": "4b262ed2",
        "outputId": "ffe8f763-ad7b-4cd7-8bb5-142b6c91029d"
      },
      "outputs": [
        {
          "data": {
            "text/html": [
              "<div>\n",
              "<style scoped>\n",
              "    .dataframe tbody tr th:only-of-type {\n",
              "        vertical-align: middle;\n",
              "    }\n",
              "\n",
              "    .dataframe tbody tr th {\n",
              "        vertical-align: top;\n",
              "    }\n",
              "\n",
              "    .dataframe thead th {\n",
              "        text-align: right;\n",
              "    }\n",
              "</style>\n",
              "<table border=\"1\" class=\"dataframe\">\n",
              "  <thead>\n",
              "    <tr style=\"text-align: right;\">\n",
              "      <th></th>\n",
              "      <th>na_sales</th>\n",
              "    </tr>\n",
              "    <tr>\n",
              "      <th>platform</th>\n",
              "      <th></th>\n",
              "    </tr>\n",
              "  </thead>\n",
              "  <tbody>\n",
              "    <tr>\n",
              "      <th>ps4</th>\n",
              "      <td>98.61</td>\n",
              "    </tr>\n",
              "    <tr>\n",
              "      <th>xone</th>\n",
              "      <td>81.27</td>\n",
              "    </tr>\n",
              "    <tr>\n",
              "      <th>x360</th>\n",
              "      <td>28.30</td>\n",
              "    </tr>\n",
              "    <tr>\n",
              "      <th>3ds</th>\n",
              "      <td>22.64</td>\n",
              "    </tr>\n",
              "    <tr>\n",
              "      <th>ps3</th>\n",
              "      <td>22.05</td>\n",
              "    </tr>\n",
              "    <tr>\n",
              "      <th>wiiu</th>\n",
              "      <td>19.36</td>\n",
              "    </tr>\n",
              "    <tr>\n",
              "      <th>pc</th>\n",
              "      <td>7.23</td>\n",
              "    </tr>\n",
              "    <tr>\n",
              "      <th>psv</th>\n",
              "      <td>2.52</td>\n",
              "    </tr>\n",
              "    <tr>\n",
              "      <th>wii</th>\n",
              "      <td>2.08</td>\n",
              "    </tr>\n",
              "    <tr>\n",
              "      <th>psp</th>\n",
              "      <td>0.00</td>\n",
              "    </tr>\n",
              "  </tbody>\n",
              "</table>\n",
              "</div>"
            ],
            "text/plain": [
              "          na_sales\n",
              "platform          \n",
              "ps4          98.61\n",
              "xone         81.27\n",
              "x360         28.30\n",
              "3ds          22.64\n",
              "ps3          22.05\n",
              "wiiu         19.36\n",
              "pc            7.23\n",
              "psv           2.52\n",
              "wii           2.08\n",
              "psp           0.00"
            ]
          },
          "execution_count": 91,
          "metadata": {},
          "output_type": "execute_result"
        }
      ],
      "source": [
        "five_platforms_na = period_1.groupby('platform').agg({'na_sales':'sum'}).sort_values(by = 'na_sales', ascending = False)\n",
        "five_platforms_na = five_platforms_na.head(10)\n",
        "five_platforms_na"
      ]
    },
    {
      "cell_type": "code",
      "execution_count": null,
      "id": "72d0958c",
      "metadata": {
        "id": "72d0958c",
        "outputId": "3bf4d513-e142-40b8-e09a-f76b19f9f435"
      },
      "outputs": [
        {
          "data": {
            "image/png": "[encoded data removed]",
            "text/plain": [
              "<Figure size 432x288 with 1 Axes>"
            ]
          },
          "metadata": {
            "needs_background": "light"
          },
          "output_type": "display_data"
        }
      ],
      "source": [
        "five_platforms_na.plot(kind='bar')\n",
        "plt.show()"
      ]
    },
    {
      "cell_type": "code",
      "execution_count": null,
      "id": "445c6a13",
      "metadata": {
        "id": "445c6a13",
        "outputId": "0f46548b-9f12-4866-ac3b-26ab500f294b"
      },
      "outputs": [
        {
          "data": {
            "text/html": [
              "<div>\n",
              "<style scoped>\n",
              "    .dataframe tbody tr th:only-of-type {\n",
              "        vertical-align: middle;\n",
              "    }\n",
              "\n",
              "    .dataframe tbody tr th {\n",
              "        vertical-align: top;\n",
              "    }\n",
              "\n",
              "    .dataframe thead th {\n",
              "        text-align: right;\n",
              "    }\n",
              "</style>\n",
              "<table border=\"1\" class=\"dataframe\">\n",
              "  <thead>\n",
              "    <tr style=\"text-align: right;\">\n",
              "      <th></th>\n",
              "      <th>eu_sales</th>\n",
              "    </tr>\n",
              "    <tr>\n",
              "      <th>platform</th>\n",
              "      <th></th>\n",
              "    </tr>\n",
              "  </thead>\n",
              "  <tbody>\n",
              "    <tr>\n",
              "      <th>ps4</th>\n",
              "      <td>130.04</td>\n",
              "    </tr>\n",
              "    <tr>\n",
              "      <th>xone</th>\n",
              "      <td>46.25</td>\n",
              "    </tr>\n",
              "    <tr>\n",
              "      <th>ps3</th>\n",
              "      <td>25.54</td>\n",
              "    </tr>\n",
              "    <tr>\n",
              "      <th>pc</th>\n",
              "      <td>17.97</td>\n",
              "    </tr>\n",
              "    <tr>\n",
              "      <th>3ds</th>\n",
              "      <td>16.12</td>\n",
              "    </tr>\n",
              "    <tr>\n",
              "      <th>x360</th>\n",
              "      <td>15.49</td>\n",
              "    </tr>\n",
              "    <tr>\n",
              "      <th>wiiu</th>\n",
              "      <td>13.15</td>\n",
              "    </tr>\n",
              "    <tr>\n",
              "      <th>psv</th>\n",
              "      <td>3.53</td>\n",
              "    </tr>\n",
              "    <tr>\n",
              "      <th>wii</th>\n",
              "      <td>2.59</td>\n",
              "    </tr>\n",
              "    <tr>\n",
              "      <th>psp</th>\n",
              "      <td>0.00</td>\n",
              "    </tr>\n",
              "  </tbody>\n",
              "</table>\n",
              "</div>"
            ],
            "text/plain": [
              "          eu_sales\n",
              "platform          \n",
              "ps4         130.04\n",
              "xone         46.25\n",
              "ps3          25.54\n",
              "pc           17.97\n",
              "3ds          16.12\n",
              "x360         15.49\n",
              "wiiu         13.15\n",
              "psv           3.53\n",
              "wii           2.59\n",
              "psp           0.00"
            ]
          },
          "execution_count": 93,
          "metadata": {},
          "output_type": "execute_result"
        }
      ],
      "source": [
        "five_platforms_eu = period_1.groupby('platform').agg({'eu_sales':'sum'}).sort_values(by = 'eu_sales', ascending = False)\n",
        "five_platforms_eu = five_platforms_eu.head(10)\n",
        "five_platforms_eu"
      ]
    },
    {
      "cell_type": "code",
      "execution_count": null,
      "id": "50d61722",
      "metadata": {
        "id": "50d61722",
        "outputId": "f50486a2-915c-4374-a842-e8438d570cd8"
      },
      "outputs": [
        {
          "data": {
            "image/png": "[encoded data removed]",
            "text/plain": [
              "<Figure size 432x288 with 1 Axes>"
            ]
          },
          "metadata": {
            "needs_background": "light"
          },
          "output_type": "display_data"
        }
      ],
      "source": [
        "five_platforms_eu.plot(kind='bar')\n",
        "plt.show()"
      ]
    },
    {
      "cell_type": "code",
      "execution_count": null,
      "id": "52d88b3b",
      "metadata": {
        "id": "52d88b3b",
        "outputId": "09d91f99-b5e7-4945-ce4c-20e259620e9f"
      },
      "outputs": [
        {
          "data": {
            "text/html": [
              "<div>\n",
              "<style scoped>\n",
              "    .dataframe tbody tr th:only-of-type {\n",
              "        vertical-align: middle;\n",
              "    }\n",
              "\n",
              "    .dataframe tbody tr th {\n",
              "        vertical-align: top;\n",
              "    }\n",
              "\n",
              "    .dataframe thead th {\n",
              "        text-align: right;\n",
              "    }\n",
              "</style>\n",
              "<table border=\"1\" class=\"dataframe\">\n",
              "  <thead>\n",
              "    <tr style=\"text-align: right;\">\n",
              "      <th></th>\n",
              "      <th>jp_sales</th>\n",
              "    </tr>\n",
              "    <tr>\n",
              "      <th>platform</th>\n",
              "      <th></th>\n",
              "    </tr>\n",
              "  </thead>\n",
              "  <tbody>\n",
              "    <tr>\n",
              "      <th>3ds</th>\n",
              "      <td>44.24</td>\n",
              "    </tr>\n",
              "    <tr>\n",
              "      <th>ps4</th>\n",
              "      <td>15.02</td>\n",
              "    </tr>\n",
              "    <tr>\n",
              "      <th>psv</th>\n",
              "      <td>14.54</td>\n",
              "    </tr>\n",
              "    <tr>\n",
              "      <th>ps3</th>\n",
              "      <td>11.22</td>\n",
              "    </tr>\n",
              "    <tr>\n",
              "      <th>wiiu</th>\n",
              "      <td>7.31</td>\n",
              "    </tr>\n",
              "    <tr>\n",
              "      <th>psp</th>\n",
              "      <td>0.36</td>\n",
              "    </tr>\n",
              "    <tr>\n",
              "      <th>xone</th>\n",
              "      <td>0.32</td>\n",
              "    </tr>\n",
              "    <tr>\n",
              "      <th>x360</th>\n",
              "      <td>0.08</td>\n",
              "    </tr>\n",
              "    <tr>\n",
              "      <th>pc</th>\n",
              "      <td>0.00</td>\n",
              "    </tr>\n",
              "    <tr>\n",
              "      <th>wii</th>\n",
              "      <td>0.00</td>\n",
              "    </tr>\n",
              "  </tbody>\n",
              "</table>\n",
              "</div>"
            ],
            "text/plain": [
              "          jp_sales\n",
              "platform          \n",
              "3ds          44.24\n",
              "ps4          15.02\n",
              "psv          14.54\n",
              "ps3          11.22\n",
              "wiiu          7.31\n",
              "psp           0.36\n",
              "xone          0.32\n",
              "x360          0.08\n",
              "pc            0.00\n",
              "wii           0.00"
            ]
          },
          "execution_count": 95,
          "metadata": {},
          "output_type": "execute_result"
        }
      ],
      "source": [
        "five_platforms_jp = period_1.groupby('platform').agg({'jp_sales':'sum'}).sort_values(by = 'jp_sales', ascending = False)\n",
        "five_platforms_jp = five_platforms_jp.head(10)\n",
        "five_platforms_jp"
      ]
    },
    {
      "cell_type": "code",
      "execution_count": null,
      "id": "4a5cf26c",
      "metadata": {
        "scrolled": true,
        "id": "4a5cf26c",
        "outputId": "390f5b6f-1f53-4ea3-d302-81ae276cc92f"
      },
      "outputs": [
        {
          "data": {
            "image/png": "[encoded data removed]",
            "text/plain": [
              "<Figure size 432x288 with 1 Axes>"
            ]
          },
          "metadata": {
            "needs_background": "light"
          },
          "output_type": "display_data"
        }
      ],
      "source": [
        "five_platforms_jp.plot(kind='bar')\n",
        "plt.show()"
      ]
    },
    {
      "cell_type": "markdown",
      "id": "3099893e",
      "metadata": {
        "id": "3099893e"
      },
      "source": [
        "**Вывод**\n",
        "\n",
        "Самые популярные платформы в Северной Америке (топ-5): Xbox 360, PS3, PS4, Xbox One, 3DS.\n",
        "\n",
        "Самые популярные платформы в Европе (топ-5): PS3, PS4, Xbox 360, 3DS, PC.\n",
        "\n",
        "Самые популярные платформы в Японии (топ-5): 3DS, PS3, PSP, PS Vita, PS4.\n"
      ]
    },
    {
      "cell_type": "markdown",
      "id": "80c580a4",
      "metadata": {
        "id": "80c580a4"
      },
      "source": [
        "Самые популярные жанры (топ-5)"
      ]
    },
    {
      "cell_type": "code",
      "execution_count": null,
      "id": "a092bdee",
      "metadata": {
        "id": "a092bdee",
        "outputId": "3d6de645-e1c4-48c7-f822-c2f2a515e81b"
      },
      "outputs": [
        {
          "data": {
            "text/html": [
              "<div>\n",
              "<style scoped>\n",
              "    .dataframe tbody tr th:only-of-type {\n",
              "        vertical-align: middle;\n",
              "    }\n",
              "\n",
              "    .dataframe tbody tr th {\n",
              "        vertical-align: top;\n",
              "    }\n",
              "\n",
              "    .dataframe thead th {\n",
              "        text-align: right;\n",
              "    }\n",
              "</style>\n",
              "<table border=\"1\" class=\"dataframe\">\n",
              "  <thead>\n",
              "    <tr style=\"text-align: right;\">\n",
              "      <th></th>\n",
              "      <th>na_sales</th>\n",
              "    </tr>\n",
              "    <tr>\n",
              "      <th>genre</th>\n",
              "      <th></th>\n",
              "    </tr>\n",
              "  </thead>\n",
              "  <tbody>\n",
              "    <tr>\n",
              "      <th>shooter</th>\n",
              "      <td>79.02</td>\n",
              "    </tr>\n",
              "    <tr>\n",
              "      <th>action</th>\n",
              "      <td>72.53</td>\n",
              "    </tr>\n",
              "    <tr>\n",
              "      <th>sports</th>\n",
              "      <td>46.13</td>\n",
              "    </tr>\n",
              "    <tr>\n",
              "      <th>role-playing</th>\n",
              "      <td>33.47</td>\n",
              "    </tr>\n",
              "    <tr>\n",
              "      <th>misc</th>\n",
              "      <td>15.05</td>\n",
              "    </tr>\n",
              "    <tr>\n",
              "      <th>fighting</th>\n",
              "      <td>12.43</td>\n",
              "    </tr>\n",
              "    <tr>\n",
              "      <th>racing</th>\n",
              "      <td>8.74</td>\n",
              "    </tr>\n",
              "    <tr>\n",
              "      <th>platform</th>\n",
              "      <td>6.79</td>\n",
              "    </tr>\n",
              "    <tr>\n",
              "      <th>adventure</th>\n",
              "      <td>5.64</td>\n",
              "    </tr>\n",
              "    <tr>\n",
              "      <th>simulation</th>\n",
              "      <td>2.63</td>\n",
              "    </tr>\n",
              "  </tbody>\n",
              "</table>\n",
              "</div>"
            ],
            "text/plain": [
              "              na_sales\n",
              "genre                 \n",
              "shooter          79.02\n",
              "action           72.53\n",
              "sports           46.13\n",
              "role-playing     33.47\n",
              "misc             15.05\n",
              "fighting         12.43\n",
              "racing            8.74\n",
              "platform          6.79\n",
              "adventure         5.64\n",
              "simulation        2.63"
            ]
          },
          "execution_count": 97,
          "metadata": {},
          "output_type": "execute_result"
        }
      ],
      "source": [
        "five_genre_na = period_1.groupby('genre').agg({'na_sales':'sum'}).sort_values(by = 'na_sales', ascending = False)\n",
        "five_genre_na = five_genre_na.head(10)\n",
        "five_genre_na"
      ]
    },
    {
      "cell_type": "code",
      "execution_count": null,
      "id": "60c85bc5",
      "metadata": {
        "id": "60c85bc5",
        "outputId": "733297ec-e9c8-411c-e1d9-dec7972e9385"
      },
      "outputs": [
        {
          "data": {
            "image/png": "[encoded data removed]",
            "text/plain": [
              "<Figure size 432x288 with 1 Axes>"
            ]
          },
          "metadata": {
            "needs_background": "light"
          },
          "output_type": "display_data"
        }
      ],
      "source": [
        "five_genre_na.plot(kind='bar')\n",
        "plt.show()"
      ]
    },
    {
      "cell_type": "code",
      "execution_count": null,
      "id": "8f6915b0",
      "metadata": {
        "id": "8f6915b0",
        "outputId": "2ede96ba-b1bd-4c93-8e80-37915502b7c4"
      },
      "outputs": [
        {
          "data": {
            "text/html": [
              "<div>\n",
              "<style scoped>\n",
              "    .dataframe tbody tr th:only-of-type {\n",
              "        vertical-align: middle;\n",
              "    }\n",
              "\n",
              "    .dataframe tbody tr th {\n",
              "        vertical-align: top;\n",
              "    }\n",
              "\n",
              "    .dataframe thead th {\n",
              "        text-align: right;\n",
              "    }\n",
              "</style>\n",
              "<table border=\"1\" class=\"dataframe\">\n",
              "  <thead>\n",
              "    <tr style=\"text-align: right;\">\n",
              "      <th></th>\n",
              "      <th>eu_sales</th>\n",
              "    </tr>\n",
              "    <tr>\n",
              "      <th>genre</th>\n",
              "      <th></th>\n",
              "    </tr>\n",
              "  </thead>\n",
              "  <tbody>\n",
              "    <tr>\n",
              "      <th>action</th>\n",
              "      <td>74.68</td>\n",
              "    </tr>\n",
              "    <tr>\n",
              "      <th>shooter</th>\n",
              "      <td>65.52</td>\n",
              "    </tr>\n",
              "    <tr>\n",
              "      <th>sports</th>\n",
              "      <td>45.73</td>\n",
              "    </tr>\n",
              "    <tr>\n",
              "      <th>role-playing</th>\n",
              "      <td>28.17</td>\n",
              "    </tr>\n",
              "    <tr>\n",
              "      <th>racing</th>\n",
              "      <td>14.13</td>\n",
              "    </tr>\n",
              "    <tr>\n",
              "      <th>misc</th>\n",
              "      <td>12.86</td>\n",
              "    </tr>\n",
              "    <tr>\n",
              "      <th>simulation</th>\n",
              "      <td>7.30</td>\n",
              "    </tr>\n",
              "    <tr>\n",
              "      <th>platform</th>\n",
              "      <td>6.80</td>\n",
              "    </tr>\n",
              "    <tr>\n",
              "      <th>fighting</th>\n",
              "      <td>6.69</td>\n",
              "    </tr>\n",
              "    <tr>\n",
              "      <th>adventure</th>\n",
              "      <td>6.49</td>\n",
              "    </tr>\n",
              "  </tbody>\n",
              "</table>\n",
              "</div>"
            ],
            "text/plain": [
              "              eu_sales\n",
              "genre                 \n",
              "action           74.68\n",
              "shooter          65.52\n",
              "sports           45.73\n",
              "role-playing     28.17\n",
              "racing           14.13\n",
              "misc             12.86\n",
              "simulation        7.30\n",
              "platform          6.80\n",
              "fighting          6.69\n",
              "adventure         6.49"
            ]
          },
          "execution_count": 99,
          "metadata": {},
          "output_type": "execute_result"
        }
      ],
      "source": [
        "five_genre_eu = period_1.groupby('genre').agg({'eu_sales':'sum'}).sort_values(by = 'eu_sales', ascending = False)\n",
        "five_genre_eu = five_genre_eu.head(10)\n",
        "five_genre_eu"
      ]
    },
    {
      "cell_type": "code",
      "execution_count": null,
      "id": "c1c5d3dd",
      "metadata": {
        "id": "c1c5d3dd",
        "outputId": "2fe0adeb-4f30-4078-f1d6-0e61bd891fc8"
      },
      "outputs": [
        {
          "data": {
            "image/png": "[encoded data removed]",
            "text/plain": [
              "<Figure size 432x288 with 1 Axes>"
            ]
          },
          "metadata": {
            "needs_background": "light"
          },
          "output_type": "display_data"
        }
      ],
      "source": [
        "five_genre_eu.plot(kind='bar')\n",
        "plt.show()"
      ]
    },
    {
      "cell_type": "code",
      "execution_count": null,
      "id": "7a0982d0",
      "metadata": {
        "id": "7a0982d0",
        "outputId": "a215541a-6be2-4c85-9e7f-4751da413fae"
      },
      "outputs": [
        {
          "data": {
            "text/html": [
              "<div>\n",
              "<style scoped>\n",
              "    .dataframe tbody tr th:only-of-type {\n",
              "        vertical-align: middle;\n",
              "    }\n",
              "\n",
              "    .dataframe tbody tr th {\n",
              "        vertical-align: top;\n",
              "    }\n",
              "\n",
              "    .dataframe thead th {\n",
              "        text-align: right;\n",
              "    }\n",
              "</style>\n",
              "<table border=\"1\" class=\"dataframe\">\n",
              "  <thead>\n",
              "    <tr style=\"text-align: right;\">\n",
              "      <th></th>\n",
              "      <th>jp_sales</th>\n",
              "    </tr>\n",
              "    <tr>\n",
              "      <th>genre</th>\n",
              "      <th></th>\n",
              "    </tr>\n",
              "  </thead>\n",
              "  <tbody>\n",
              "    <tr>\n",
              "      <th>role-playing</th>\n",
              "      <td>31.16</td>\n",
              "    </tr>\n",
              "    <tr>\n",
              "      <th>action</th>\n",
              "      <td>29.58</td>\n",
              "    </tr>\n",
              "    <tr>\n",
              "      <th>fighting</th>\n",
              "      <td>6.37</td>\n",
              "    </tr>\n",
              "    <tr>\n",
              "      <th>misc</th>\n",
              "      <td>5.61</td>\n",
              "    </tr>\n",
              "    <tr>\n",
              "      <th>shooter</th>\n",
              "      <td>4.87</td>\n",
              "    </tr>\n",
              "    <tr>\n",
              "      <th>adventure</th>\n",
              "      <td>3.60</td>\n",
              "    </tr>\n",
              "    <tr>\n",
              "      <th>sports</th>\n",
              "      <td>3.26</td>\n",
              "    </tr>\n",
              "    <tr>\n",
              "      <th>platform</th>\n",
              "      <td>2.69</td>\n",
              "    </tr>\n",
              "    <tr>\n",
              "      <th>simulation</th>\n",
              "      <td>2.31</td>\n",
              "    </tr>\n",
              "    <tr>\n",
              "      <th>racing</th>\n",
              "      <td>1.76</td>\n",
              "    </tr>\n",
              "  </tbody>\n",
              "</table>\n",
              "</div>"
            ],
            "text/plain": [
              "              jp_sales\n",
              "genre                 \n",
              "role-playing     31.16\n",
              "action           29.58\n",
              "fighting          6.37\n",
              "misc              5.61\n",
              "shooter           4.87\n",
              "adventure         3.60\n",
              "sports            3.26\n",
              "platform          2.69\n",
              "simulation        2.31\n",
              "racing            1.76"
            ]
          },
          "execution_count": 101,
          "metadata": {},
          "output_type": "execute_result"
        }
      ],
      "source": [
        "five_genre_jp = period_1.groupby('genre').agg({'jp_sales':'sum'}).sort_values(by = 'jp_sales', ascending = False)\n",
        "five_genre_jp = five_genre_jp.head(10)\n",
        "five_genre_jp"
      ]
    },
    {
      "cell_type": "code",
      "execution_count": null,
      "id": "eeefd8bd",
      "metadata": {
        "id": "eeefd8bd",
        "outputId": "3d7f8277-e4c0-4cdf-8f3f-66278fcdbd1a"
      },
      "outputs": [
        {
          "data": {
            "image/png": "[encoded data removed]",
            "text/plain": [
              "<Figure size 432x288 with 1 Axes>"
            ]
          },
          "metadata": {
            "needs_background": "light"
          },
          "output_type": "display_data"
        }
      ],
      "source": [
        "five_genre_jp.plot(kind='bar')\n",
        "plt.show()"
      ]
    },
    {
      "cell_type": "markdown",
      "id": "a7fb08e9",
      "metadata": {
        "id": "a7fb08e9"
      },
      "source": [
        "**Вывод**\n",
        "\n",
        "Самые популярные жанры в Северной Америке (топ-5): action, shooter, sports, role-playing, misc.\n",
        "\n",
        "Самые популярные жанры в Европе (топ-5): action, shooter, sports, role-playing, racing.\n",
        "\n",
        "Самые популярные жанры в Японии (топ-5): role-playing, action, misc, fighting, platform."
      ]
    },
    {
      "cell_type": "markdown",
      "id": "dfd8259e",
      "metadata": {
        "id": "dfd8259e"
      },
      "source": [
        "**Влияет ли рейтинг ESRB на продажи в отдельном регионе**"
      ]
    },
    {
      "cell_type": "code",
      "execution_count": null,
      "id": "dd4a6c4d",
      "metadata": {
        "id": "dd4a6c4d",
        "outputId": "9b8fc53a-70ad-4926-8ae0-508c580a42a4"
      },
      "outputs": [
        {
          "data": {
            "text/html": [
              "<div>\n",
              "<style scoped>\n",
              "    .dataframe tbody tr th:only-of-type {\n",
              "        vertical-align: middle;\n",
              "    }\n",
              "\n",
              "    .dataframe tbody tr th {\n",
              "        vertical-align: top;\n",
              "    }\n",
              "\n",
              "    .dataframe thead th {\n",
              "        text-align: right;\n",
              "    }\n",
              "</style>\n",
              "<table border=\"1\" class=\"dataframe\">\n",
              "  <thead>\n",
              "    <tr style=\"text-align: right;\">\n",
              "      <th></th>\n",
              "      <th>na_sales</th>\n",
              "    </tr>\n",
              "    <tr>\n",
              "      <th>rating</th>\n",
              "      <th></th>\n",
              "    </tr>\n",
              "  </thead>\n",
              "  <tbody>\n",
              "    <tr>\n",
              "      <th>m</th>\n",
              "      <td>96.42</td>\n",
              "    </tr>\n",
              "    <tr>\n",
              "      <th>norating</th>\n",
              "      <td>64.72</td>\n",
              "    </tr>\n",
              "    <tr>\n",
              "      <th>e</th>\n",
              "      <td>50.74</td>\n",
              "    </tr>\n",
              "    <tr>\n",
              "      <th>t</th>\n",
              "      <td>38.95</td>\n",
              "    </tr>\n",
              "    <tr>\n",
              "      <th>e10+</th>\n",
              "      <td>33.23</td>\n",
              "    </tr>\n",
              "  </tbody>\n",
              "</table>\n",
              "</div>"
            ],
            "text/plain": [
              "          na_sales\n",
              "rating            \n",
              "m            96.42\n",
              "norating     64.72\n",
              "e            50.74\n",
              "t            38.95\n",
              "e10+         33.23"
            ]
          },
          "execution_count": 103,
          "metadata": {},
          "output_type": "execute_result"
        }
      ],
      "source": [
        "rating_na = period_1.groupby('rating').agg({'na_sales':'sum'}).sort_values(by = 'na_sales', ascending = False)\n",
        "rating_na"
      ]
    },
    {
      "cell_type": "code",
      "execution_count": null,
      "id": "b2573922",
      "metadata": {
        "scrolled": true,
        "id": "b2573922",
        "outputId": "0cbc024c-86d1-4cd7-dfe1-13b0086a7d64"
      },
      "outputs": [
        {
          "data": {
            "text/plain": [
              "<function matplotlib.pyplot.show(close=None, block=None)>"
            ]
          },
          "execution_count": 104,
          "metadata": {},
          "output_type": "execute_result"
        },
        {
          "data": {
            "image/png": "[encoded data removed]",
            "text/plain": [
              "<Figure size 432x288 with 1 Axes>"
            ]
          },
          "metadata": {
            "needs_background": "light"
          },
          "output_type": "display_data"
        }
      ],
      "source": [
        "rating_na.plot(kind='bar')\n",
        "plt.show"
      ]
    },
    {
      "cell_type": "code",
      "execution_count": null,
      "id": "6daec2f1",
      "metadata": {
        "id": "6daec2f1",
        "outputId": "11eb3d4a-cd63-489c-b4e5-ffdfc81cdd7b"
      },
      "outputs": [
        {
          "data": {
            "text/html": [
              "<div>\n",
              "<style scoped>\n",
              "    .dataframe tbody tr th:only-of-type {\n",
              "        vertical-align: middle;\n",
              "    }\n",
              "\n",
              "    .dataframe tbody tr th {\n",
              "        vertical-align: top;\n",
              "    }\n",
              "\n",
              "    .dataframe thead th {\n",
              "        text-align: right;\n",
              "    }\n",
              "</style>\n",
              "<table border=\"1\" class=\"dataframe\">\n",
              "  <thead>\n",
              "    <tr style=\"text-align: right;\">\n",
              "      <th></th>\n",
              "      <th>eu_sales</th>\n",
              "    </tr>\n",
              "    <tr>\n",
              "      <th>rating</th>\n",
              "      <th></th>\n",
              "    </tr>\n",
              "  </thead>\n",
              "  <tbody>\n",
              "    <tr>\n",
              "      <th>m</th>\n",
              "      <td>93.44</td>\n",
              "    </tr>\n",
              "    <tr>\n",
              "      <th>norating</th>\n",
              "      <td>58.95</td>\n",
              "    </tr>\n",
              "    <tr>\n",
              "      <th>e</th>\n",
              "      <td>58.06</td>\n",
              "    </tr>\n",
              "    <tr>\n",
              "      <th>t</th>\n",
              "      <td>34.07</td>\n",
              "    </tr>\n",
              "    <tr>\n",
              "      <th>e10+</th>\n",
              "      <td>26.16</td>\n",
              "    </tr>\n",
              "  </tbody>\n",
              "</table>\n",
              "</div>"
            ],
            "text/plain": [
              "          eu_sales\n",
              "rating            \n",
              "m            93.44\n",
              "norating     58.95\n",
              "e            58.06\n",
              "t            34.07\n",
              "e10+         26.16"
            ]
          },
          "execution_count": 105,
          "metadata": {},
          "output_type": "execute_result"
        }
      ],
      "source": [
        "rating_eu = period_1.groupby('rating').agg({'eu_sales':'sum'}).sort_values(by = 'eu_sales', ascending = False)\n",
        "rating_eu"
      ]
    },
    {
      "cell_type": "code",
      "execution_count": null,
      "id": "9236a4b5",
      "metadata": {
        "id": "9236a4b5",
        "outputId": "c7dce334-038c-42c4-ffc6-f93da4df6790"
      },
      "outputs": [
        {
          "data": {
            "text/plain": [
              "<function matplotlib.pyplot.show(close=None, block=None)>"
            ]
          },
          "execution_count": 106,
          "metadata": {},
          "output_type": "execute_result"
        },
        {
          "data": {
            "image/png": "[encoded data removed]",
            "text/plain": [
              "<Figure size 432x288 with 1 Axes>"
            ]
          },
          "metadata": {
            "needs_background": "light"
          },
          "output_type": "display_data"
        }
      ],
      "source": [
        "rating_eu.plot(kind='bar')\n",
        "plt.show"
      ]
    },
    {
      "cell_type": "code",
      "execution_count": null,
      "id": "c37f34ab",
      "metadata": {
        "id": "c37f34ab",
        "outputId": "f5ea9507-f8d9-4f00-ed6c-08bc6edf3bc4"
      },
      "outputs": [
        {
          "data": {
            "text/html": [
              "<div>\n",
              "<style scoped>\n",
              "    .dataframe tbody tr th:only-of-type {\n",
              "        vertical-align: middle;\n",
              "    }\n",
              "\n",
              "    .dataframe tbody tr th {\n",
              "        vertical-align: top;\n",
              "    }\n",
              "\n",
              "    .dataframe thead th {\n",
              "        text-align: right;\n",
              "    }\n",
              "</style>\n",
              "<table border=\"1\" class=\"dataframe\">\n",
              "  <thead>\n",
              "    <tr style=\"text-align: right;\">\n",
              "      <th></th>\n",
              "      <th>jp_sales</th>\n",
              "    </tr>\n",
              "    <tr>\n",
              "      <th>rating</th>\n",
              "      <th></th>\n",
              "    </tr>\n",
              "  </thead>\n",
              "  <tbody>\n",
              "    <tr>\n",
              "      <th>norating</th>\n",
              "      <td>56.90</td>\n",
              "    </tr>\n",
              "    <tr>\n",
              "      <th>t</th>\n",
              "      <td>14.78</td>\n",
              "    </tr>\n",
              "    <tr>\n",
              "      <th>e</th>\n",
              "      <td>8.94</td>\n",
              "    </tr>\n",
              "    <tr>\n",
              "      <th>m</th>\n",
              "      <td>8.01</td>\n",
              "    </tr>\n",
              "    <tr>\n",
              "      <th>e10+</th>\n",
              "      <td>4.46</td>\n",
              "    </tr>\n",
              "  </tbody>\n",
              "</table>\n",
              "</div>"
            ],
            "text/plain": [
              "          jp_sales\n",
              "rating            \n",
              "norating     56.90\n",
              "t            14.78\n",
              "e             8.94\n",
              "m             8.01\n",
              "e10+          4.46"
            ]
          },
          "execution_count": 107,
          "metadata": {},
          "output_type": "execute_result"
        }
      ],
      "source": [
        "rating_jp = period_1.groupby('rating').agg({'jp_sales':'sum'}).sort_values(by = 'jp_sales', ascending = False)\n",
        "rating_jp"
      ]
    },
    {
      "cell_type": "code",
      "execution_count": null,
      "id": "570da3bf",
      "metadata": {
        "id": "570da3bf",
        "outputId": "10ebc96f-8f17-4cef-9ae6-246a2b68fe57"
      },
      "outputs": [
        {
          "data": {
            "text/plain": [
              "<function matplotlib.pyplot.show(close=None, block=None)>"
            ]
          },
          "execution_count": 108,
          "metadata": {},
          "output_type": "execute_result"
        },
        {
          "data": {
            "image/png": "[encoded data removed]",
            "text/plain": [
              "<Figure size 432x288 with 1 Axes>"
            ]
          },
          "metadata": {
            "needs_background": "light"
          },
          "output_type": "display_data"
        }
      ],
      "source": [
        "rating_jp.plot(kind='bar')\n",
        "plt.show"
      ]
    },
    {
      "cell_type": "markdown",
      "id": "09326e73",
      "metadata": {
        "id": "09326e73"
      },
      "source": [
        "**Вывод**\n",
        "\n",
        "Влияние рейтинга ESRB на продажи для Северной Америки и Европы можно заметить. Наибольшее количество продаж приходится на игры с рейтингами категории E (для всех) и M (для \"старше 17 лет\"). \n",
        "\n",
        "В Японии, где действует свое рейтинговое агентство, мы не можем сделать выводы о влиянии рейтинга ESRB, т.к. почти у всех игр в данной выборке нет рейтинга от данной организации."
      ]
    },
    {
      "cell_type": "markdown",
      "id": "2525eb9f",
      "metadata": {
        "id": "2525eb9f"
      },
      "source": [
        "**Проверка гипотез**"
      ]
    },
    {
      "cell_type": "markdown",
      "id": "ec451d02",
      "metadata": {
        "id": "ec451d02"
      },
      "source": [
        "**Средние пользовательские рейтинги платформ Xbox One и PC одинаковые**"
      ]
    },
    {
      "cell_type": "markdown",
      "id": "5f1ee535",
      "metadata": {
        "id": "5f1ee535"
      },
      "source": [
        "Н0 - средние пользовательские рейтинги платформ Xbox One и PC одинаковые.\n",
        "\n",
        "Н1 - средние пользовательские рейтинги платформ Xbox One и PC различны."
      ]
    },
    {
      "cell_type": "markdown",
      "id": "29621902",
      "metadata": {
        "id": "29621902"
      },
      "source": [
        "Для проверки гипотезы о равенстве средних двух генеральных совокупностей по взятым из них выборкам будем использовать функцию st.ttest_ind."
      ]
    },
    {
      "cell_type": "code",
      "execution_count": null,
      "id": "232f9619",
      "metadata": {
        "id": "232f9619",
        "outputId": "aadf55f8-a453-43d6-9f98-133734440be5"
      },
      "outputs": [
        {
          "name": "stdout",
          "output_type": "stream",
          "text": [
            "p-значение:  0.11601398086668827\n",
            "Не получилось отвергнуть нулевую гипотезу\n"
          ]
        }
      ],
      "source": [
        "alpha = 0.05\n",
        "one_vborka = period_1[period_1['platform']== \"xone\"]['user_score'].dropna()\n",
        "two_vborka  = period_1[(period_1['platform'] == 'pc')]['user_score'].dropna() \n",
        "tests = st.ttest_ind(one_vborka,two_vborka,equal_var = False)\n",
        "\n",
        "print('p-значение: ',tests.pvalue)\n",
        "if tests.pvalue < alpha:\n",
        "    print(\"Отвергаем нулевую гипотезу\")\n",
        "else:\n",
        "    print(\"Не получилось отвергнуть нулевую гипотезу\")\n"
      ]
    },
    {
      "cell_type": "markdown",
      "id": "e2d67ad0",
      "metadata": {
        "id": "e2d67ad0"
      },
      "source": [
        "Вывод: средние пользовательсвие рейтинги платформ Xbox One и PC статистически значимо не различаются."
      ]
    },
    {
      "cell_type": "markdown",
      "id": "3b859e1f",
      "metadata": {
        "id": "3b859e1f"
      },
      "source": [
        "**Средние пользовательские рейтинги жанров Action (англ. «действие», экшен-игры) и Sports (англ. «спортивные соревнования») разные.**"
      ]
    },
    {
      "cell_type": "markdown",
      "id": "42f22f0d",
      "metadata": {
        "id": "42f22f0d"
      },
      "source": [
        "Н0 - Средние пользовательские рейтинги жанров Action (англ. «действие», экшен-игры) и Sports (англ. «спортивные соревнования») одинаковые.\n",
        "\n",
        "Н1 - Средние пользовательские рейтинги жанров Action (англ. «действие», экшен-игры) и Sports (англ. «спортивные соревнования») разные."
      ]
    },
    {
      "cell_type": "markdown",
      "id": "3fc8e052",
      "metadata": {
        "id": "3fc8e052"
      },
      "source": [
        "Для проверки гипотезы о равенстве средних двух генеральных совокупностей по взятым из них выборкам будем использовать функцию st.ttest_ind."
      ]
    },
    {
      "cell_type": "code",
      "execution_count": null,
      "id": "a57676ba",
      "metadata": {
        "id": "a57676ba",
        "outputId": "5b0b249c-a915-4ef0-aa80-8e3e55aed749"
      },
      "outputs": [
        {
          "name": "stdout",
          "output_type": "stream",
          "text": [
            "p-значение:  1.1825550382644557e-14\n",
            "Отвергаем нулевую гипотезу\n"
          ]
        }
      ],
      "source": [
        "alpha = 0.05\n",
        "one_vborka = period_1[period_1['genre']== \"action\"]['user_score'].dropna()\n",
        "two_vborka  = period_1[(period_1['genre'] == 'sports')]['user_score'].dropna() \n",
        "tests = st.ttest_ind(one_vborka,two_vborka,equal_var = False)\n",
        "\n",
        "print('p-значение: ',tests.pvalue)\n",
        "if tests.pvalue < alpha:\n",
        "    print(\"Отвергаем нулевую гипотезу\")\n",
        "else:\n",
        "    print(\"Не получилось отвергнуть нулевую гипотезу\")"
      ]
    },
    {
      "cell_type": "markdown",
      "id": "b36c2619",
      "metadata": {
        "id": "b36c2619"
      },
      "source": [
        "Вывод: средние пользовательские рейтинги жанров Action (англ. «действие», экшен-игры) и Sports (англ. «спортивные соревнования») статистически значимо различаются."
      ]
    },
    {
      "cell_type": "markdown",
      "id": "e9e202fc",
      "metadata": {
        "id": "e9e202fc"
      },
      "source": [
        "**Общий вывод**"
      ]
    },
    {
      "cell_type": "markdown",
      "id": "9418747b",
      "metadata": {
        "id": "9418747b"
      },
      "source": [
        "**Всплеск продаж игр**"
      ]
    },
    {
      "cell_type": "markdown",
      "id": "aeed6294",
      "metadata": {
        "id": "aeed6294"
      },
      "source": [
        "Большинство игр было выпущено в период с 2005 по 2010 годы, однако основной всплеск произошел в 1995 году. Поэтому для нас период с 1995 по 2010 годы имеет большое значение, поскольку в этот период было выпущено максимальное количество игр."
      ]
    },
    {
      "cell_type": "code",
      "execution_count": null,
      "id": "f8531cab",
      "metadata": {
        "id": "f8531cab",
        "outputId": "47febb96-dd6d-49a5-dbe0-3df25ffa4eb9"
      },
      "outputs": [
        {
          "data": {
            "text/plain": [
              "<function matplotlib.pyplot.show(close=None, block=None)>"
            ]
          },
          "execution_count": 111,
          "metadata": {},
          "output_type": "execute_result"
        },
        {
          "data": {
            "image/png": "[encoded data removed]",
            "text/plain": [
              "<Figure size 432x288 with 1 Axes>"
            ]
          },
          "metadata": {
            "needs_background": "light"
          },
          "output_type": "display_data"
        }
      ],
      "source": [
        "years_igra.plot(grid = True)\n",
        "plt.show"
      ]
    },
    {
      "cell_type": "markdown",
      "id": "2e822861",
      "metadata": {
        "id": "2e822861"
      },
      "source": [
        "**Срок жизни платформ**"
      ]
    },
    {
      "cell_type": "markdown",
      "id": "fddf218e",
      "metadata": {
        "id": "fddf218e"
      },
      "source": [
        "Характерный срок 'жизни' платформ 9-10 лет."
      ]
    },
    {
      "cell_type": "code",
      "execution_count": null,
      "id": "337c2eb0",
      "metadata": {
        "id": "337c2eb0",
        "outputId": "e3e8586b-4c54-4752-8ef0-426b94c494dd"
      },
      "outputs": [
        {
          "data": {
            "text/plain": [
              "<function matplotlib.pyplot.show(close=None, block=None)>"
            ]
          },
          "execution_count": 112,
          "metadata": {},
          "output_type": "execute_result"
        },
        {
          "data": {
            "image/png": "[encoded data removed]",
            "text/plain": [
              "<Figure size 432x288 with 1 Axes>"
            ]
          },
          "metadata": {
            "needs_background": "light"
          },
          "output_type": "display_data"
        },
        {
          "data": {
            "image/png": "[encoded data removed]",
            "text/plain": [
              "<Figure size 432x288 with 1 Axes>"
            ]
          },
          "metadata": {
            "needs_background": "light"
          },
          "output_type": "display_data"
        }
      ],
      "source": [
        "data[data['platform'] == 'ps2'].pivot_table(index='year_of_release', values='total_prodag', aggfunc='sum').plot(grid = True,title = 'ps2')\n",
        "data[data['platform'] == 'x360'].pivot_table(index='year_of_release', values='total_prodag', aggfunc='sum').plot(grid = True,title ='x360') \n",
        "plt.show"
      ]
    },
    {
      "cell_type": "markdown",
      "id": "4b665e21",
      "metadata": {
        "id": "4b665e21"
      },
      "source": [
        "**Лидеры среди продаж**"
      ]
    },
    {
      "cell_type": "markdown",
      "id": "565d12d6",
      "metadata": {
        "id": "565d12d6"
      },
      "source": [
        "К 2016 году все представленные платформы имели снижение продаж, однако лишь несколько из них показали сравнительно слабый спад. Это платформы PS4, Xone и 3ds."
      ]
    },
    {
      "cell_type": "markdown",
      "id": "4f8ce928",
      "metadata": {
        "id": "4f8ce928"
      },
      "source": [
        "**Глобальные продажи игр**"
      ]
    },
    {
      "cell_type": "markdown",
      "id": "94f81d70",
      "metadata": {
        "id": "94f81d70"
      },
      "source": [
        "Глобальные продажи игр среди всех платформ характеризуются значительным числом выбросов. Медианные продажи выше у Xbox 360, PS3, PS4 и Xone, а наименьшие - у платформы DC."
      ]
    },
    {
      "cell_type": "markdown",
      "id": "8707aff7",
      "metadata": {
        "id": "8707aff7"
      },
      "source": [
        "**Влияние на продажи платформы с помощью отзывов пользователей и критиков**"
      ]
    },
    {
      "cell_type": "markdown",
      "id": "d780b5d7",
      "metadata": {
        "id": "d780b5d7"
      },
      "source": [
        "Проанализировав данные для топ 10 платформ и обнаружили следующее:\n",
        "\n",
        "1. PS2: у платформы слабая корреляция как с отзывами критиков, так и пользователей.\n",
        "\n",
        "2. Xbox 360: у платформы также слабая корреляция как с отзывами критиков, так и пользователей.\n",
        "\n",
        "3. PS3: корреляция между платформой и отзывами критиков и пользователей также является слабой.\n",
        "\n",
        "4. Wii: корреляция между платформой и отзывами критиков и пользователей также является слабой.\n",
        "\n",
        "5. DS: корреляция между платформой и отзывами критиков и пользователей также является слабой.\n",
        "\n",
        "6. PS: у нас отсутствуют данные для этой платформы в период с 2006 по 2016 год.\n",
        "\n",
        "7. PS4: корреляция между платформой и отзывами критиков не обнаружена, а корреляция с отзывами пользователей умеренная.\n",
        "\n",
        "8. GBA: у нас не выявлено корреляции между платформой и отзывами критиков и пользователей.\n",
        "\n",
        "9. PSP: корреляция между платформой и отзывами критиков является слабой, а корреляция с отзывами пользователей умеренная.\n",
        "\n",
        "10. 3DS: у этой платформы корреляция между отзывами критиков и пользователей также является слабой, а корреляция между отзывами пользователей и платформой умеренная"
      ]
    },
    {
      "cell_type": "markdown",
      "id": "990a7134",
      "metadata": {
        "id": "990a7134"
      },
      "source": [
        "**Жанры**"
      ]
    },
    {
      "cell_type": "markdown",
      "id": "608a0143",
      "metadata": {
        "id": "608a0143"
      },
      "source": [
        "Самым популярным жанром по продажам игр стал shooter, на втором месте platrform. Заметно сильное выделение по продажам именно этих жаров."
      ]
    },
    {
      "cell_type": "markdown",
      "id": "639446e5",
      "metadata": {
        "id": "639446e5"
      },
      "source": [
        "**Портер для пользователя региона \"Северная Америка\"**"
      ]
    },
    {
      "cell_type": "markdown",
      "id": "4e0703ef",
      "metadata": {
        "id": "4e0703ef"
      },
      "source": [
        "Для пользователя региона \"Северная Америка\" наиболее популярны следующие платформы (топ 5): Xbox 360, PS3, PS4, Xbox One и 3DS.\n",
        "\n",
        "Наиболее популярными жанрами в этом регионе являются (топ 5): action, shooter, sports, role-playing и miscellaneous.\n",
        "\n",
        "Также можно наблюдать влияние рейтинга ESRB на продажи. Наибольшее количество продаж приходится на категории M и E (где категория E - для всех, а категория M - для \"старше 17 лет\")."
      ]
    },
    {
      "cell_type": "markdown",
      "id": "2d6a8f93",
      "metadata": {
        "id": "2d6a8f93"
      },
      "source": [
        "**Портер для пользователя региона \"Европа\"**"
      ]
    },
    {
      "cell_type": "markdown",
      "id": "5667258c",
      "metadata": {
        "id": "5667258c"
      },
      "source": [
        "Для пользователя региона \"Европа\" можно выделить пять самых популярных платформ: PS3, PS4, Xbox 360, 3DS и PC. \n",
        "\n",
        "Среди жанров наиболее популярными являются: action, sports, shooter, racing и misc.\n",
        "\n",
        "Также стоит отметить, что оценка рейтинга ESRB оказывает влияние на продажи игр в тех же категориях M и E."
      ]
    },
    {
      "cell_type": "markdown",
      "id": "73057305",
      "metadata": {
        "id": "73057305"
      },
      "source": [
        "**Портер для пользователя региона \"Япония\"**"
      ]
    },
    {
      "cell_type": "markdown",
      "id": "6ce9643f",
      "metadata": {
        "id": "6ce9643f"
      },
      "source": [
        "Для пользователя из региона \"Япония\" можно выделить следующую информацию:\n",
        "\n",
        "Самые популярные платформы (топ 5) - 3DS, PS3, PSP, PSV, PS4.\n",
        "\n",
        "Самые популярные жанры (топ 5) - ролевые игры, экшн, прочее, файтинги, платформеры.\n",
        "\n",
        "Нельзя сделать вывод о влиянии рейтинга ESRB на продажи в Японии, т.к. в этом регионе существует своё рейтинговое агенство, и почти все игры из данной выборки не имеют рейтинга от ESRB."
      ]
    },
    {
      "cell_type": "markdown",
      "id": "6d795726",
      "metadata": {
        "id": "6d795726"
      },
      "source": [
        "**Гипотеза о том, что средние пользовательские рейтинги платформ Xbox One и PC одинаковые**"
      ]
    },
    {
      "cell_type": "markdown",
      "id": "c77316ab",
      "metadata": {
        "id": "c77316ab"
      },
      "source": [
        "Средние пользовательсвие рейтинги платформ Xbox One и PC статистически значимо не различаются на уровне значимости 5%"
      ]
    },
    {
      "cell_type": "markdown",
      "id": "866c7ae3",
      "metadata": {
        "id": "866c7ae3"
      },
      "source": [
        "**Гипотеза о том, что средние пользовательские рейтинги жанров Action (англ. «действие», экшен-игры) и Sports (англ. «спортивные соревнования») разные.**"
      ]
    },
    {
      "cell_type": "markdown",
      "id": "7c78a805",
      "metadata": {
        "id": "7c78a805"
      },
      "source": [
        "Средние пользовательские рейтинги жанров Action (англ. «действие», экшен-игры) и Sports (англ. «спортивные соревнования») статистически значимо различаются на уровне значимости 5%"
      ]
    }
  ],
  "metadata": {
    "ExecuteTimeLog": [
      {
        "duration": 1451,
        "start_time": "2022-12-19T06:22:52.616Z"
      },
      {
        "duration": 148,
        "start_time": "2022-12-19T06:22:54.072Z"
      },
      {
        "duration": 0,
        "start_time": "2022-12-19T06:22:54.222Z"
      },
      {
        "duration": 0,
        "start_time": "2022-12-19T06:22:54.223Z"
      },
      {
        "duration": 0,
        "start_time": "2022-12-19T06:22:54.225Z"
      },
      {
        "duration": 0,
        "start_time": "2022-12-19T06:22:54.227Z"
      },
      {
        "duration": 14,
        "start_time": "2022-12-19T06:22:54.504Z"
      },
      {
        "duration": 13,
        "start_time": "2022-12-19T06:22:54.670Z"
      },
      {
        "duration": 9,
        "start_time": "2022-12-19T06:22:55.173Z"
      },
      {
        "duration": 190,
        "start_time": "2022-12-19T06:23:26.145Z"
      },
      {
        "duration": 18,
        "start_time": "2022-12-19T06:23:27.091Z"
      },
      {
        "duration": 22,
        "start_time": "2022-12-19T06:23:27.265Z"
      },
      {
        "duration": 12,
        "start_time": "2022-12-19T06:23:27.434Z"
      },
      {
        "duration": 3,
        "start_time": "2022-12-19T06:23:28.051Z"
      },
      {
        "duration": 12,
        "start_time": "2022-12-19T06:23:28.496Z"
      },
      {
        "duration": 9,
        "start_time": "2022-12-19T06:23:28.641Z"
      },
      {
        "duration": 4,
        "start_time": "2022-12-19T06:23:29.097Z"
      },
      {
        "duration": 4,
        "start_time": "2022-12-19T06:23:29.409Z"
      },
      {
        "duration": 6,
        "start_time": "2022-12-19T06:23:29.721Z"
      },
      {
        "duration": 17,
        "start_time": "2022-12-19T06:23:30.041Z"
      },
      {
        "duration": 14,
        "start_time": "2022-12-19T06:23:30.186Z"
      },
      {
        "duration": 17,
        "start_time": "2022-12-19T06:23:30.370Z"
      },
      {
        "duration": 21,
        "start_time": "2022-12-19T06:23:30.841Z"
      },
      {
        "duration": 17,
        "start_time": "2022-12-19T06:23:31.202Z"
      },
      {
        "duration": 5,
        "start_time": "2022-12-19T06:23:31.881Z"
      },
      {
        "duration": 33,
        "start_time": "2022-12-19T06:23:32.569Z"
      },
      {
        "duration": 1149,
        "start_time": "2022-12-19T06:37:51.168Z"
      },
      {
        "duration": 54,
        "start_time": "2022-12-19T06:37:52.319Z"
      },
      {
        "duration": 16,
        "start_time": "2022-12-19T06:37:52.375Z"
      },
      {
        "duration": 23,
        "start_time": "2022-12-19T06:37:52.394Z"
      },
      {
        "duration": 10,
        "start_time": "2022-12-19T06:37:52.419Z"
      },
      {
        "duration": 3,
        "start_time": "2022-12-19T06:37:52.430Z"
      },
      {
        "duration": 11,
        "start_time": "2022-12-19T06:37:52.435Z"
      },
      {
        "duration": 38,
        "start_time": "2022-12-19T06:37:52.448Z"
      },
      {
        "duration": 4,
        "start_time": "2022-12-19T06:37:52.488Z"
      },
      {
        "duration": 8,
        "start_time": "2022-12-19T06:37:52.494Z"
      },
      {
        "duration": 10,
        "start_time": "2022-12-19T06:37:52.503Z"
      },
      {
        "duration": 21,
        "start_time": "2022-12-19T06:37:52.515Z"
      },
      {
        "duration": 15,
        "start_time": "2022-12-19T06:37:52.537Z"
      },
      {
        "duration": 36,
        "start_time": "2022-12-19T06:37:52.553Z"
      },
      {
        "duration": 25,
        "start_time": "2022-12-19T06:37:52.590Z"
      },
      {
        "duration": 17,
        "start_time": "2022-12-19T06:37:52.617Z"
      },
      {
        "duration": 6,
        "start_time": "2022-12-19T06:37:52.635Z"
      },
      {
        "duration": 12,
        "start_time": "2022-12-19T06:37:52.643Z"
      },
      {
        "duration": 169,
        "start_time": "2022-12-19T06:37:52.679Z"
      },
      {
        "duration": 11,
        "start_time": "2022-12-19T06:37:52.850Z"
      },
      {
        "duration": 16,
        "start_time": "2022-12-19T06:37:52.863Z"
      },
      {
        "duration": 1624,
        "start_time": "2022-12-19T06:37:52.880Z"
      },
      {
        "duration": 31,
        "start_time": "2022-12-19T06:37:54.506Z"
      },
      {
        "duration": 437,
        "start_time": "2022-12-19T06:37:54.539Z"
      },
      {
        "duration": 491,
        "start_time": "2022-12-19T06:37:54.978Z"
      },
      {
        "duration": 170,
        "start_time": "2022-12-19T06:37:55.471Z"
      },
      {
        "duration": 192,
        "start_time": "2022-12-19T06:37:55.642Z"
      },
      {
        "duration": 4,
        "start_time": "2022-12-19T06:37:55.838Z"
      },
      {
        "duration": 45,
        "start_time": "2022-12-19T06:37:55.844Z"
      },
      {
        "duration": 7,
        "start_time": "2022-12-19T06:37:55.891Z"
      },
      {
        "duration": 192,
        "start_time": "2022-12-19T06:37:55.900Z"
      },
      {
        "duration": 12,
        "start_time": "2022-12-19T06:37:56.094Z"
      },
      {
        "duration": 179,
        "start_time": "2022-12-19T06:37:56.108Z"
      },
      {
        "duration": 12,
        "start_time": "2022-12-19T06:37:56.289Z"
      },
      {
        "duration": 186,
        "start_time": "2022-12-19T06:37:56.303Z"
      },
      {
        "duration": 12,
        "start_time": "2022-12-19T06:37:56.491Z"
      },
      {
        "duration": 194,
        "start_time": "2022-12-19T06:37:56.505Z"
      },
      {
        "duration": 12,
        "start_time": "2022-12-19T06:37:56.700Z"
      },
      {
        "duration": 173,
        "start_time": "2022-12-19T06:37:56.713Z"
      },
      {
        "duration": 14,
        "start_time": "2022-12-19T06:37:56.888Z"
      },
      {
        "duration": 189,
        "start_time": "2022-12-19T06:37:56.903Z"
      },
      {
        "duration": 12,
        "start_time": "2022-12-19T06:37:57.094Z"
      },
      {
        "duration": 179,
        "start_time": "2022-12-19T06:37:57.108Z"
      },
      {
        "duration": 26,
        "start_time": "2022-12-19T06:37:57.289Z"
      },
      {
        "duration": 30,
        "start_time": "2022-12-19T06:37:57.317Z"
      },
      {
        "duration": 567,
        "start_time": "2022-12-19T06:37:57.349Z"
      },
      {
        "duration": 497,
        "start_time": "2022-12-19T06:37:57.918Z"
      },
      {
        "duration": 456,
        "start_time": "2022-12-19T06:37:58.418Z"
      },
      {
        "duration": 3,
        "start_time": "2022-12-19T06:37:58.878Z"
      },
      {
        "duration": 20,
        "start_time": "2022-12-19T06:37:58.882Z"
      },
      {
        "duration": 12,
        "start_time": "2022-12-19T06:37:58.904Z"
      },
      {
        "duration": 163,
        "start_time": "2022-12-19T06:37:58.917Z"
      },
      {
        "duration": 292,
        "start_time": "2022-12-19T06:37:59.081Z"
      },
      {
        "duration": 28,
        "start_time": "2022-12-19T06:39:20.497Z"
      },
      {
        "duration": 1160,
        "start_time": "2022-12-20T17:05:28.038Z"
      },
      {
        "duration": 50,
        "start_time": "2022-12-20T17:05:29.199Z"
      },
      {
        "duration": 1198,
        "start_time": "2022-12-20T17:12:11.090Z"
      },
      {
        "duration": 50,
        "start_time": "2022-12-20T17:12:12.290Z"
      },
      {
        "duration": 13,
        "start_time": "2022-12-20T17:12:12.342Z"
      },
      {
        "duration": 18,
        "start_time": "2022-12-20T17:12:12.357Z"
      },
      {
        "duration": 8,
        "start_time": "2022-12-20T17:12:12.376Z"
      },
      {
        "duration": 6,
        "start_time": "2022-12-20T17:12:12.385Z"
      },
      {
        "duration": 6,
        "start_time": "2022-12-20T17:12:12.392Z"
      },
      {
        "duration": 4,
        "start_time": "2022-12-20T17:12:12.400Z"
      },
      {
        "duration": 5,
        "start_time": "2022-12-20T17:12:12.406Z"
      },
      {
        "duration": 12,
        "start_time": "2022-12-20T17:12:12.413Z"
      },
      {
        "duration": 4,
        "start_time": "2022-12-20T17:12:12.426Z"
      },
      {
        "duration": 10,
        "start_time": "2022-12-20T17:12:12.431Z"
      },
      {
        "duration": 7,
        "start_time": "2022-12-20T17:12:12.443Z"
      },
      {
        "duration": 34,
        "start_time": "2022-12-20T17:12:12.452Z"
      },
      {
        "duration": 13,
        "start_time": "2022-12-20T17:12:12.488Z"
      },
      {
        "duration": 15,
        "start_time": "2022-12-20T17:12:12.502Z"
      },
      {
        "duration": 4,
        "start_time": "2022-12-20T17:12:12.519Z"
      },
      {
        "duration": 22,
        "start_time": "2022-12-20T17:12:12.525Z"
      },
      {
        "duration": 42,
        "start_time": "2022-12-20T17:12:12.549Z"
      },
      {
        "duration": 2,
        "start_time": "2022-12-20T17:12:12.593Z"
      },
      {
        "duration": 12,
        "start_time": "2022-12-20T17:12:12.597Z"
      },
      {
        "duration": 16,
        "start_time": "2022-12-20T17:12:12.611Z"
      },
      {
        "duration": 175,
        "start_time": "2022-12-20T17:12:12.629Z"
      },
      {
        "duration": 11,
        "start_time": "2022-12-20T17:12:12.806Z"
      },
      {
        "duration": 5,
        "start_time": "2022-12-20T17:12:12.819Z"
      },
      {
        "duration": 1425,
        "start_time": "2022-12-20T17:12:12.825Z"
      },
      {
        "duration": 31,
        "start_time": "2022-12-20T17:12:14.251Z"
      },
      {
        "duration": 396,
        "start_time": "2022-12-20T17:12:14.285Z"
      },
      {
        "duration": 3,
        "start_time": "2022-12-20T17:12:14.683Z"
      },
      {
        "duration": 367,
        "start_time": "2022-12-20T17:12:14.688Z"
      },
      {
        "duration": 149,
        "start_time": "2022-12-20T17:12:15.056Z"
      },
      {
        "duration": 165,
        "start_time": "2022-12-20T17:12:15.207Z"
      },
      {
        "duration": 3,
        "start_time": "2022-12-20T17:12:15.379Z"
      },
      {
        "duration": 33,
        "start_time": "2022-12-20T17:12:15.383Z"
      },
      {
        "duration": 6,
        "start_time": "2022-12-20T17:12:15.418Z"
      },
      {
        "duration": 193,
        "start_time": "2022-12-20T17:12:15.425Z"
      },
      {
        "duration": 11,
        "start_time": "2022-12-20T17:12:15.619Z"
      },
      {
        "duration": 168,
        "start_time": "2022-12-20T17:12:15.632Z"
      },
      {
        "duration": 10,
        "start_time": "2022-12-20T17:12:15.801Z"
      },
      {
        "duration": 162,
        "start_time": "2022-12-20T17:12:15.813Z"
      },
      {
        "duration": 11,
        "start_time": "2022-12-20T17:12:15.976Z"
      },
      {
        "duration": 148,
        "start_time": "2022-12-20T17:12:15.988Z"
      },
      {
        "duration": 12,
        "start_time": "2022-12-20T17:12:16.137Z"
      },
      {
        "duration": 154,
        "start_time": "2022-12-20T17:12:16.151Z"
      },
      {
        "duration": 12,
        "start_time": "2022-12-20T17:12:16.307Z"
      },
      {
        "duration": 172,
        "start_time": "2022-12-20T17:12:16.320Z"
      },
      {
        "duration": 11,
        "start_time": "2022-12-20T17:12:16.493Z"
      },
      {
        "duration": 172,
        "start_time": "2022-12-20T17:12:16.506Z"
      },
      {
        "duration": 11,
        "start_time": "2022-12-20T17:12:16.679Z"
      },
      {
        "duration": 169,
        "start_time": "2022-12-20T17:12:16.691Z"
      },
      {
        "duration": 11,
        "start_time": "2022-12-20T17:12:16.861Z"
      },
      {
        "duration": 224,
        "start_time": "2022-12-20T17:12:16.877Z"
      },
      {
        "duration": 11,
        "start_time": "2022-12-20T17:12:17.102Z"
      },
      {
        "duration": 158,
        "start_time": "2022-12-20T17:12:17.115Z"
      },
      {
        "duration": 10,
        "start_time": "2022-12-20T17:12:17.277Z"
      },
      {
        "duration": 16,
        "start_time": "2022-12-20T17:12:17.288Z"
      },
      {
        "duration": 159,
        "start_time": "2022-12-20T17:12:17.305Z"
      },
      {
        "duration": 287,
        "start_time": "2022-12-20T17:12:17.466Z"
      },
      {
        "duration": 22,
        "start_time": "2022-12-20T17:12:35.952Z"
      },
      {
        "duration": 22,
        "start_time": "2022-12-20T17:13:01.577Z"
      },
      {
        "duration": 267,
        "start_time": "2022-12-20T17:15:34.428Z"
      },
      {
        "duration": 624,
        "start_time": "2022-12-20T17:15:34.697Z"
      }
    ],
    "kernelspec": {
      "display_name": "Python 3 (ipykernel)",
      "language": "python",
      "name": "python3"
    },
    "language_info": {
      "codemirror_mode": {
        "name": "ipython",
        "version": 3
      },
      "file_extension": ".py",
      "mimetype": "text/x-python",
      "name": "python",
      "nbconvert_exporter": "python",
      "pygments_lexer": "ipython3",
      "version": "3.9.7"
    },
    "toc": {
      "base_numbering": 1,
      "nav_menu": {},
      "number_sections": true,
      "sideBar": true,
      "skip_h1_title": true,
      "title_cell": "Table of Contents",
      "title_sidebar": "Contents",
      "toc_cell": false,
      "toc_position": {},
      "toc_section_display": true,
      "toc_window_display": false
    },
    "colab": {
      "provenance": []
    }
  },
  "nbformat": 4,
  "nbformat_minor": 5
}