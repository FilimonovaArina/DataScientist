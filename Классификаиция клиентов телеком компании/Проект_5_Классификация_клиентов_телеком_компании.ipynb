{
  "cells": [
    {
      "cell_type": "markdown",
      "metadata": {
        "id": "hG9B1T8Nitvh"
      },
      "source": [
        "# Рекомендация тарифов"
      ]
    },
    {
      "cell_type": "markdown",
      "metadata": {
        "id": "KMhq3xybitvi"
      },
      "source": [
        "Есть данные о поведении клиентов, которые уже перешли на определенные тарифы, и нужно построить модель для задачи классификации, которая сможет выбрать наилучший тариф для новых клиентов. Предобработка данных уже была проведена, так что можно сразу начинать работу с моделью.\n",
        "\n",
        "Для выполнения данной задачи необходимо построить модель с максимально возможным значением accuracy."
      ]
    },
    {
      "cell_type": "markdown",
      "metadata": {
        "id": "fnGWLOBNitvk"
      },
      "source": [
        "## Откройте и изучите файл"
      ]
    },
    {
      "cell_type": "code",
      "execution_count": null,
      "metadata": {
        "id": "sPh_BiLFitvk"
      },
      "outputs": [],
      "source": [
        "import pandas as pd\n",
        "from sklearn.model_selection import train_test_split\n",
        "from sklearn.tree import DecisionTreeClassifier\n",
        "from sklearn.linear_model import LogisticRegression\n",
        "from sklearn.ensemble import RandomForestClassifier\n",
        "from sklearn.dummy import DummyClassifier"
      ]
    },
    {
      "cell_type": "code",
      "execution_count": null,
      "metadata": {
        "id": "kYXpKozDitvo"
      },
      "outputs": [],
      "source": [
        "try:\n",
        "    data = pd.read_csv('/Users/arina200212yandex.ru/Desktop/users_behavior.csv')\n",
        "except:\n",
        "    data = pd.read_csv('/datasets/users_behavior.csv')"
      ]
    },
    {
      "cell_type": "code",
      "execution_count": null,
      "metadata": {
        "id": "MtH27eRQitvp",
        "outputId": "76ba6ec5-fa55-43b3-8098-94b003a55795"
      },
      "outputs": [
        {
          "data": {
            "text/html": [
              "<div>\n",
              "<style scoped>\n",
              "    .dataframe tbody tr th:only-of-type {\n",
              "        vertical-align: middle;\n",
              "    }\n",
              "\n",
              "    .dataframe tbody tr th {\n",
              "        vertical-align: top;\n",
              "    }\n",
              "\n",
              "    .dataframe thead th {\n",
              "        text-align: right;\n",
              "    }\n",
              "</style>\n",
              "<table border=\"1\" class=\"dataframe\">\n",
              "  <thead>\n",
              "    <tr style=\"text-align: right;\">\n",
              "      <th></th>\n",
              "      <th>calls</th>\n",
              "      <th>minutes</th>\n",
              "      <th>messages</th>\n",
              "      <th>mb_used</th>\n",
              "      <th>is_ultra</th>\n",
              "    </tr>\n",
              "  </thead>\n",
              "  <tbody>\n",
              "    <tr>\n",
              "      <th>0</th>\n",
              "      <td>40.0</td>\n",
              "      <td>311.90</td>\n",
              "      <td>83.0</td>\n",
              "      <td>19915.42</td>\n",
              "      <td>0</td>\n",
              "    </tr>\n",
              "    <tr>\n",
              "      <th>1</th>\n",
              "      <td>85.0</td>\n",
              "      <td>516.75</td>\n",
              "      <td>56.0</td>\n",
              "      <td>22696.96</td>\n",
              "      <td>0</td>\n",
              "    </tr>\n",
              "    <tr>\n",
              "      <th>2</th>\n",
              "      <td>77.0</td>\n",
              "      <td>467.66</td>\n",
              "      <td>86.0</td>\n",
              "      <td>21060.45</td>\n",
              "      <td>0</td>\n",
              "    </tr>\n",
              "    <tr>\n",
              "      <th>3</th>\n",
              "      <td>106.0</td>\n",
              "      <td>745.53</td>\n",
              "      <td>81.0</td>\n",
              "      <td>8437.39</td>\n",
              "      <td>1</td>\n",
              "    </tr>\n",
              "    <tr>\n",
              "      <th>4</th>\n",
              "      <td>66.0</td>\n",
              "      <td>418.74</td>\n",
              "      <td>1.0</td>\n",
              "      <td>14502.75</td>\n",
              "      <td>0</td>\n",
              "    </tr>\n",
              "    <tr>\n",
              "      <th>5</th>\n",
              "      <td>58.0</td>\n",
              "      <td>344.56</td>\n",
              "      <td>21.0</td>\n",
              "      <td>15823.37</td>\n",
              "      <td>0</td>\n",
              "    </tr>\n",
              "    <tr>\n",
              "      <th>6</th>\n",
              "      <td>57.0</td>\n",
              "      <td>431.64</td>\n",
              "      <td>20.0</td>\n",
              "      <td>3738.90</td>\n",
              "      <td>1</td>\n",
              "    </tr>\n",
              "    <tr>\n",
              "      <th>7</th>\n",
              "      <td>15.0</td>\n",
              "      <td>132.40</td>\n",
              "      <td>6.0</td>\n",
              "      <td>21911.60</td>\n",
              "      <td>0</td>\n",
              "    </tr>\n",
              "    <tr>\n",
              "      <th>8</th>\n",
              "      <td>7.0</td>\n",
              "      <td>43.39</td>\n",
              "      <td>3.0</td>\n",
              "      <td>2538.67</td>\n",
              "      <td>1</td>\n",
              "    </tr>\n",
              "    <tr>\n",
              "      <th>9</th>\n",
              "      <td>90.0</td>\n",
              "      <td>665.41</td>\n",
              "      <td>38.0</td>\n",
              "      <td>17358.61</td>\n",
              "      <td>0</td>\n",
              "    </tr>\n",
              "    <tr>\n",
              "      <th>10</th>\n",
              "      <td>82.0</td>\n",
              "      <td>560.51</td>\n",
              "      <td>20.0</td>\n",
              "      <td>9619.53</td>\n",
              "      <td>1</td>\n",
              "    </tr>\n",
              "    <tr>\n",
              "      <th>11</th>\n",
              "      <td>45.0</td>\n",
              "      <td>344.32</td>\n",
              "      <td>13.0</td>\n",
              "      <td>19898.81</td>\n",
              "      <td>0</td>\n",
              "    </tr>\n",
              "    <tr>\n",
              "      <th>12</th>\n",
              "      <td>51.0</td>\n",
              "      <td>437.13</td>\n",
              "      <td>61.0</td>\n",
              "      <td>21523.58</td>\n",
              "      <td>0</td>\n",
              "    </tr>\n",
              "    <tr>\n",
              "      <th>13</th>\n",
              "      <td>56.0</td>\n",
              "      <td>433.07</td>\n",
              "      <td>16.0</td>\n",
              "      <td>16702.36</td>\n",
              "      <td>0</td>\n",
              "    </tr>\n",
              "    <tr>\n",
              "      <th>14</th>\n",
              "      <td>108.0</td>\n",
              "      <td>587.90</td>\n",
              "      <td>0.0</td>\n",
              "      <td>14406.50</td>\n",
              "      <td>1</td>\n",
              "    </tr>\n",
              "  </tbody>\n",
              "</table>\n",
              "</div>"
            ],
            "text/plain": [
              "    calls  minutes  messages   mb_used  is_ultra\n",
              "0    40.0   311.90      83.0  19915.42         0\n",
              "1    85.0   516.75      56.0  22696.96         0\n",
              "2    77.0   467.66      86.0  21060.45         0\n",
              "3   106.0   745.53      81.0   8437.39         1\n",
              "4    66.0   418.74       1.0  14502.75         0\n",
              "5    58.0   344.56      21.0  15823.37         0\n",
              "6    57.0   431.64      20.0   3738.90         1\n",
              "7    15.0   132.40       6.0  21911.60         0\n",
              "8     7.0    43.39       3.0   2538.67         1\n",
              "9    90.0   665.41      38.0  17358.61         0\n",
              "10   82.0   560.51      20.0   9619.53         1\n",
              "11   45.0   344.32      13.0  19898.81         0\n",
              "12   51.0   437.13      61.0  21523.58         0\n",
              "13   56.0   433.07      16.0  16702.36         0\n",
              "14  108.0   587.90       0.0  14406.50         1"
            ]
          },
          "execution_count": 29,
          "metadata": {},
          "output_type": "execute_result"
        }
      ],
      "source": [
        "data.head(15)"
      ]
    },
    {
      "cell_type": "code",
      "execution_count": null,
      "metadata": {
        "id": "OQ72YKdPitvr",
        "outputId": "afc07668-de53-470d-f365-27ba24b1ec43"
      },
      "outputs": [
        {
          "name": "stdout",
          "output_type": "stream",
          "text": [
            "<class 'pandas.core.frame.DataFrame'>\n",
            "RangeIndex: 3214 entries, 0 to 3213\n",
            "Data columns (total 5 columns):\n",
            " #   Column    Non-Null Count  Dtype  \n",
            "---  ------    --------------  -----  \n",
            " 0   calls     3214 non-null   float64\n",
            " 1   minutes   3214 non-null   float64\n",
            " 2   messages  3214 non-null   float64\n",
            " 3   mb_used   3214 non-null   float64\n",
            " 4   is_ultra  3214 non-null   int64  \n",
            "dtypes: float64(4), int64(1)\n",
            "memory usage: 125.7 KB\n"
          ]
        }
      ],
      "source": [
        "data.info()"
      ]
    },
    {
      "cell_type": "code",
      "execution_count": null,
      "metadata": {
        "id": "uupXPoNYitvt",
        "outputId": "73b347b7-60a5-4eb1-e897-04f9390b65c8"
      },
      "outputs": [
        {
          "data": {
            "text/plain": [
              "calls       0\n",
              "minutes     0\n",
              "messages    0\n",
              "mb_used     0\n",
              "is_ultra    0\n",
              "dtype: int64"
            ]
          },
          "execution_count": 31,
          "metadata": {},
          "output_type": "execute_result"
        }
      ],
      "source": [
        "data.isna().sum()"
      ]
    },
    {
      "cell_type": "code",
      "execution_count": null,
      "metadata": {
        "id": "Lvpc7cShitvu",
        "outputId": "3c8a0281-7815-43f4-a35e-9101d57a339e"
      },
      "outputs": [
        {
          "data": {
            "text/plain": [
              "0"
            ]
          },
          "execution_count": 32,
          "metadata": {},
          "output_type": "execute_result"
        }
      ],
      "source": [
        "data.duplicated().sum()"
      ]
    },
    {
      "cell_type": "markdown",
      "metadata": {
        "id": "NkHp_pYlitvv"
      },
      "source": [
        "**Вывод**\n",
        "\n",
        "Предварительная обработка данных не требуется, поэтому можно продолжать работу с данными в исходном виде."
      ]
    },
    {
      "cell_type": "markdown",
      "metadata": {
        "id": "m_VA814gitvw"
      },
      "source": [
        "## Разбейте данные на выборки"
      ]
    },
    {
      "cell_type": "markdown",
      "metadata": {
        "id": "wF89OcHNitvw"
      },
      "source": [
        "Для продолжения работы необходимо разделить данные на следующие выборки:\n",
        "\n",
        "- Обучающая выборка;\n",
        "- Валидационная выборка;\n",
        "- Тестовая выборка.\n",
        "\n",
        "Для этого будут использоваться следующие переменные:\n",
        "\n",
        "- features_obuchenie, target_obuchenie - для хранения данных обучающей выборки;\n",
        "- features_valida, target_valida - для хранения данных валидационной выборки;\n",
        "- features_test, target_test - для хранения данных тестовой выборки."
      ]
    },
    {
      "cell_type": "code",
      "execution_count": null,
      "metadata": {
        "id": "YE9SnDZWitvx"
      },
      "outputs": [],
      "source": [
        "obuchenie, test = train_test_split(data, test_size=0.4, random_state=12345)\n",
        "features = test.drop('is_ultra', axis=1)\n",
        "target = test['is_ultra']"
      ]
    },
    {
      "cell_type": "code",
      "execution_count": null,
      "metadata": {
        "id": "QGx4_S7Qitvx",
        "outputId": "92cc4642-b642-49f2-9c0c-63ceab1d5032"
      },
      "outputs": [
        {
          "data": {
            "text/plain": [
              "(1928, 5)"
            ]
          },
          "execution_count": 34,
          "metadata": {},
          "output_type": "execute_result"
        }
      ],
      "source": [
        "obuchenie.shape"
      ]
    },
    {
      "cell_type": "code",
      "execution_count": null,
      "metadata": {
        "id": "CSrd1Cybitvx"
      },
      "outputs": [],
      "source": [
        "features_valida, features_test, target_valida, target_test = train_test_split(features, target, test_size=0.5, random_state=12345)\n",
        "features_obuchenie = obuchenie.drop('is_ultra', axis=1)\n",
        "target_obuchenie = obuchenie['is_ultra']"
      ]
    },
    {
      "cell_type": "code",
      "execution_count": null,
      "metadata": {
        "id": "QgCluQDPitvy",
        "outputId": "a3be75cc-421f-40dc-818d-6c2f5a693681"
      },
      "outputs": [
        {
          "data": {
            "text/plain": [
              "(643, 4)"
            ]
          },
          "execution_count": 36,
          "metadata": {},
          "output_type": "execute_result"
        }
      ],
      "source": [
        "features_test.shape"
      ]
    },
    {
      "cell_type": "code",
      "execution_count": null,
      "metadata": {
        "id": "5dScxrIkitvy",
        "outputId": "35fb8672-4b5d-4e3a-ddc1-23e96c076b02"
      },
      "outputs": [
        {
          "data": {
            "text/plain": [
              "(643, 4)"
            ]
          },
          "execution_count": 37,
          "metadata": {},
          "output_type": "execute_result"
        }
      ],
      "source": [
        "features_valida.shape"
      ]
    },
    {
      "cell_type": "markdown",
      "metadata": {
        "id": "u2vG6LYqitv0"
      },
      "source": [
        "## Исследуйте модели"
      ]
    },
    {
      "cell_type": "markdown",
      "metadata": {
        "id": "-U6uTLs2itv0"
      },
      "source": [
        "Рассмотрим модель \"Дерево решений\""
      ]
    },
    {
      "cell_type": "code",
      "execution_count": null,
      "metadata": {
        "id": "tlvSBAxIitv0",
        "outputId": "c2cab90b-abf1-43b3-d4e1-03387e5759b9"
      },
      "outputs": [
        {
          "name": "stdout",
          "output_type": "stream",
          "text": [
            "Глубина дерева: 9 Качество: 0.7869362363919129\n"
          ]
        }
      ],
      "source": [
        "best_accuracy = 0\n",
        "best_depth = 0\n",
        "for depth in range(1,15):\n",
        "    model = DecisionTreeClassifier(max_depth=depth, random_state=1234)\n",
        "    model.fit(features_obuchenie , target_obuchenie)\n",
        "    accuracy = model.score(features_valida, target_valida)\n",
        "    if accuracy > best_accuracy:\n",
        "        best_accuracy = accuracy\n",
        "        best_depth = depth\n",
        "print(\"Глубина дерева:\", best_depth, \"Качество:\", best_accuracy)"
      ]
    },
    {
      "cell_type": "markdown",
      "metadata": {
        "id": "2PbG-Us0itv1"
      },
      "source": [
        "Рассмотрим модель \"Случаный лес\""
      ]
    },
    {
      "cell_type": "code",
      "execution_count": null,
      "metadata": {
        "id": "Q_onSh80itv1",
        "outputId": "5d40e0af-58e9-4576-a44c-6511fabcd4af"
      },
      "outputs": [
        {
          "name": "stdout",
          "output_type": "stream",
          "text": [
            "Глубина дерева: 7 Количество деревьев: 35 Качество: 0.8009331259720062\n"
          ]
        }
      ],
      "source": [
        "best_accuracy = 0\n",
        "best_depth = 0\n",
        "for depth in range(1,10):\n",
        "    for est in range(5,50,5):\n",
        "        for sample in range(2,5):\n",
        "            model = RandomForestClassifier(max_depth=depth, n_estimators=est, min_samples_leaf=sample, random_state=1234)\n",
        "            model.fit(features_obuchenie , target_obuchenie)\n",
        "            accuracy = model.score(features_valida, target_valida)\n",
        "            if accuracy > best_accuracy:\n",
        "                best_accuracy = accuracy\n",
        "                best_depth = depth\n",
        "                best_est = est\n",
        "                best_sample = sample\n",
        "print(\"Глубина дерева:\", best_depth, \"Количество деревьев:\", best_est,\"Качество:\", best_accuracy)"
      ]
    },
    {
      "cell_type": "markdown",
      "metadata": {
        "id": "HwcdhOZ3itv3"
      },
      "source": [
        "Рассмотрим модель \"Логическая регрессия\""
      ]
    },
    {
      "cell_type": "code",
      "execution_count": null,
      "metadata": {
        "id": "-duej_Z8itv3",
        "outputId": "25babc66-f944-4e88-89bc-ccdddb9ff431"
      },
      "outputs": [
        {
          "name": "stdout",
          "output_type": "stream",
          "text": [
            "Качество: 0.7107309486780715\n"
          ]
        }
      ],
      "source": [
        "model = LogisticRegression()\n",
        "model.fit(features_obuchenie , target_obuchenie)\n",
        "accuracy = model.score(features_valida, target_valida)\n",
        "print(\"Качество:\", accuracy)"
      ]
    },
    {
      "cell_type": "markdown",
      "metadata": {
        "id": "tj22oDsDitv3"
      },
      "source": [
        "**Вывод**\n",
        "Следующие метрики качества демонстрируют, что результаты были достигнуты:\n",
        "\n",
        "- Качество модели \"Дерево решений\" (при гиперпараметре max_depth=9): 0.786;\n",
        "- Качество модели \"Случайный лес\" (при гиперпараметрах max_depth=7, max_samples_leaf=3 и n_estimators=35): 0.800;\n",
        "- Качество модели \"Логистическая регрессия\": 0.710.\n",
        "\n",
        "Исходя из этих метрик можно сделать вывод, что модель \"Случайный лес\" проявила себя лучше всего.\n"
      ]
    },
    {
      "cell_type": "markdown",
      "metadata": {
        "id": "Q-21_pWfitv5"
      },
      "source": [
        "## Проверьте модель на тестовой выборке"
      ]
    },
    {
      "cell_type": "markdown",
      "metadata": {
        "id": "Rx1Zqawtitv6"
      },
      "source": [
        "Поскольку модель \"Случайный лес\" дала лучшие результаты, мы будем проверять ее производительность на тестовой выборке."
      ]
    },
    {
      "cell_type": "code",
      "execution_count": null,
      "metadata": {
        "id": "QqZf3IL4itv6",
        "outputId": "64eda6d0-13fb-4a08-dd91-3cb2a04cb875"
      },
      "outputs": [
        {
          "name": "stdout",
          "output_type": "stream",
          "text": [
            "Качество: 0.7900466562986003\n"
          ]
        }
      ],
      "source": [
        "model = RandomForestClassifier(max_depth=7, n_estimators=35, min_samples_leaf=3, random_state=1234)\n",
        "model.fit(features_obuchenie , target_obuchenie)\n",
        "accuracy = model.score(features_test, target_test)\n",
        "print(\"Качество:\", accuracy)"
      ]
    },
    {
      "cell_type": "markdown",
      "metadata": {
        "id": "SlZ0YW2qitv7"
      },
      "source": [
        "**Вывод**\n",
        "\n",
        "Был достигнут хороший результат на тестовой выборке, где значение accuracy составило 0.79. Это было достигнуто с помощью модели Случайного леса, которая была обучена с использованием следующих гиперпараметров: max_depth=7, max_samples_leaf=45 и n_estimators=45.\n"
      ]
    },
    {
      "cell_type": "markdown",
      "metadata": {
        "id": "hVb6vrF5itv8"
      },
      "source": [
        "**ФИНАЛЬНЫЙ ВЫВОД**\n",
        "\n",
        "Проведено тестирование трех моделей: \"Деревья решений\", \"Случайный лес\" и \"Логистическая регрессия\". Результаты показали, что наилучшее качество достигнуто при использовании модели \"Случайный лес\" с параметрами max_depth=7, max_samples_leaf=45 и n_estimators=45."
      ]
    }
  ],
  "metadata": {
    "ExecuteTimeLog": [
      {
        "duration": 1471,
        "start_time": "2022-12-26T18:31:58.208Z"
      },
      {
        "duration": 31,
        "start_time": "2022-12-26T18:31:59.681Z"
      },
      {
        "duration": 19,
        "start_time": "2022-12-26T18:31:59.713Z"
      },
      {
        "duration": 7,
        "start_time": "2022-12-26T18:31:59.734Z"
      },
      {
        "duration": 9,
        "start_time": "2022-12-26T18:31:59.743Z"
      },
      {
        "duration": 8,
        "start_time": "2022-12-26T18:31:59.753Z"
      },
      {
        "duration": 9,
        "start_time": "2022-12-26T18:31:59.763Z"
      },
      {
        "duration": 126,
        "start_time": "2022-12-26T18:31:59.774Z"
      },
      {
        "duration": 15833,
        "start_time": "2022-12-26T18:31:59.902Z"
      },
      {
        "duration": 148,
        "start_time": "2022-12-26T18:32:15.737Z"
      },
      {
        "duration": 192,
        "start_time": "2022-12-26T18:32:15.887Z"
      },
      {
        "duration": 158,
        "start_time": "2022-12-26T18:32:16.081Z"
      },
      {
        "duration": 144,
        "start_time": "2022-12-26T18:32:16.241Z"
      },
      {
        "duration": 12,
        "start_time": "2022-12-26T18:34:09.956Z"
      },
      {
        "duration": 6,
        "start_time": "2022-12-26T18:34:17.540Z"
      },
      {
        "duration": 5,
        "start_time": "2022-12-26T18:34:24.101Z"
      },
      {
        "duration": 6,
        "start_time": "2022-12-26T18:34:41.204Z"
      },
      {
        "duration": 12,
        "start_time": "2022-12-26T18:39:40.888Z"
      },
      {
        "duration": 3,
        "start_time": "2022-12-26T18:39:48.103Z"
      },
      {
        "duration": 92,
        "start_time": "2022-12-26T18:40:11.102Z"
      },
      {
        "duration": 4,
        "start_time": "2022-12-26T18:40:19.828Z"
      },
      {
        "duration": 4,
        "start_time": "2022-12-26T18:40:32.136Z"
      }
    ],
    "colab": {
      "provenance": []
    },
    "kernelspec": {
      "display_name": "Python 3 (ipykernel)",
      "language": "python",
      "name": "python3"
    },
    "language_info": {
      "codemirror_mode": {
        "name": "ipython",
        "version": 3
      },
      "file_extension": ".py",
      "mimetype": "text/x-python",
      "name": "python",
      "nbconvert_exporter": "python",
      "pygments_lexer": "ipython3",
      "version": "3.9.7"
    },
    "toc": {
      "base_numbering": 1,
      "nav_menu": {},
      "number_sections": true,
      "sideBar": true,
      "skip_h1_title": true,
      "title_cell": "Table of Contents",
      "title_sidebar": "Contents",
      "toc_cell": false,
      "toc_position": {},
      "toc_section_display": true,
      "toc_window_display": false
    }
  },
  "nbformat": 4,
  "nbformat_minor": 0
}