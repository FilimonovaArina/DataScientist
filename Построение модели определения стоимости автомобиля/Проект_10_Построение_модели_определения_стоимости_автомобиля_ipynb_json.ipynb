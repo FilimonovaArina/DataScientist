{
  "cells": [
    {
      "cell_type": "markdown",
      "metadata": {
        "id": "PzpYHTNGC0Rk"
      },
      "source": [
        "# Определение стоимости автомобилей"
      ]
    },
    {
      "cell_type": "markdown",
      "metadata": {
        "id": "P-sfZaxBC0Rn"
      },
      "source": [
        "Необходимо разработать приложение для привлечения новых клиентов для сервиса по продаже автомобилей с пробегом. Оно должно позволять быстро узнать рыночную стоимость автомобиля на основе исторических данных о технических характеристиках, комплектациях и ценах автомобилей. \n",
        "\n",
        "Для этого  необходимо построить модель, которая обеспечивает высокое качество предсказания, быстродействие и краткое время обучения. Заказчику важен точный прогноз стоимости, быстрый расчёт этой стоимости при использовании приложения и быстрое обучение модели."
      ]
    },
    {
      "cell_type": "markdown",
      "metadata": {
        "id": "qIFf5fHFC0Ro"
      },
      "source": [
        "## Подготовка данных"
      ]
    },
    {
      "cell_type": "raw",
      "metadata": {
        "id": "_S7l7T6tC0Ro"
      },
      "source": [
        "!pip install lightgbm"
      ]
    },
    {
      "cell_type": "code",
      "execution_count": null,
      "metadata": {
        "id": "IeLAK0pAC0Rp"
      },
      "outputs": [],
      "source": [
        "import pandas as pd\n",
        "import numpy as np\n",
        "from sklearn.model_selection import train_test_split\n",
        "from sklearn.tree import DecisionTreeRegressor\n",
        "from sklearn.ensemble import RandomForestRegressor\n",
        "from sklearn.dummy import DummyRegressor\n",
        "from sklearn.metrics import mean_squared_error\n",
        "import lightgbm as lgb\n",
        "from sklearn.preprocessing import OrdinalEncoder"
      ]
    },
    {
      "cell_type": "code",
      "execution_count": null,
      "metadata": {
        "id": "oX9QDIcJC0Rq"
      },
      "outputs": [],
      "source": [
        "try:\n",
        "    data = pd.read_csv('/Users/pashc/Downloads/autos.csv')\n",
        "except:\n",
        "    data = pd.read_csv('/datasets/autos.csv')"
      ]
    },
    {
      "cell_type": "code",
      "execution_count": null,
      "metadata": {
        "scrolled": true,
        "id": "mkE8OVG_C0Rr",
        "outputId": "fbee6afd-dde0-45c5-a690-1cc5c9da055c"
      },
      "outputs": [
        {
          "name": "stdout",
          "output_type": "stream",
          "text": [
            "<class 'pandas.core.frame.DataFrame'>\n",
            "RangeIndex: 354369 entries, 0 to 354368\n",
            "Data columns (total 16 columns):\n",
            " #   Column             Non-Null Count   Dtype \n",
            "---  ------             --------------   ----- \n",
            " 0   DateCrawled        354369 non-null  object\n",
            " 1   Price              354369 non-null  int64 \n",
            " 2   VehicleType        316879 non-null  object\n",
            " 3   RegistrationYear   354369 non-null  int64 \n",
            " 4   Gearbox            334536 non-null  object\n",
            " 5   Power              354369 non-null  int64 \n",
            " 6   Model              334664 non-null  object\n",
            " 7   Kilometer          354369 non-null  int64 \n",
            " 8   RegistrationMonth  354369 non-null  int64 \n",
            " 9   FuelType           321474 non-null  object\n",
            " 10  Brand              354369 non-null  object\n",
            " 11  Repaired           283215 non-null  object\n",
            " 12  DateCreated        354369 non-null  object\n",
            " 13  NumberOfPictures   354369 non-null  int64 \n",
            " 14  PostalCode         354369 non-null  int64 \n",
            " 15  LastSeen           354369 non-null  object\n",
            "dtypes: int64(7), object(9)\n",
            "memory usage: 43.3+ MB\n"
          ]
        }
      ],
      "source": [
        "data.info()"
      ]
    },
    {
      "cell_type": "code",
      "execution_count": null,
      "metadata": {
        "scrolled": true,
        "id": "K_mfNYRnC0Rs",
        "outputId": "deac2351-bd75-4707-bf61-d388b1d159c8"
      },
      "outputs": [
        {
          "data": {
            "text/plain": [
              "DateCrawled              0\n",
              "Price                    0\n",
              "VehicleType          37490\n",
              "RegistrationYear         0\n",
              "Gearbox              19833\n",
              "Power                    0\n",
              "Model                19705\n",
              "Kilometer                0\n",
              "RegistrationMonth        0\n",
              "FuelType             32895\n",
              "Brand                    0\n",
              "Repaired             71154\n",
              "DateCreated              0\n",
              "NumberOfPictures         0\n",
              "PostalCode               0\n",
              "LastSeen                 0\n",
              "dtype: int64"
            ]
          },
          "execution_count": 4,
          "metadata": {},
          "output_type": "execute_result"
        }
      ],
      "source": [
        "data.isna().sum()"
      ]
    },
    {
      "cell_type": "markdown",
      "metadata": {
        "id": "SUw1Af5LC0Rs"
      },
      "source": [
        "В некоторых столбцах таблицы имеются пропущенные значения, которые не могут быть заменены на основании других столбцов. Если заменить их на значение, такое как \"неизвестно\", то это может привести к созданию выбросов. Однако, так как доля пропусков невелика по сравнению со всем объемом данных, можно удалить строки с пропущенными значениями."
      ]
    },
    {
      "cell_type": "code",
      "execution_count": null,
      "metadata": {
        "id": "zNflnyUEC0Rt"
      },
      "outputs": [],
      "source": [
        "data[\"VehicleType\"] = data[\"VehicleType\"].fillna(data[\"VehicleType\"].mode().values[0])\n",
        "data[\"Gearbox\"] = data[\"Gearbox\"].fillna(data[\"Gearbox\"].mode().values[0])\n",
        "data[\"Model\"] = data[\"Model\"].fillna(data[\"Model\"].mode().values[0])\n",
        "data[\"FuelType\"] = data[\"FuelType\"].fillna(data[\"FuelType\"].mode().values[0])\n",
        "data[\"Repaired\"] = data[\"Repaired\"].fillna(data[\"Repaired\"].mode().values[0])"
      ]
    },
    {
      "cell_type": "markdown",
      "metadata": {
        "id": "6liyuaJ_C0Rt"
      },
      "source": [
        "Переведем в нижний регестр название столбцов."
      ]
    },
    {
      "cell_type": "code",
      "execution_count": null,
      "metadata": {
        "id": "XpRVPDYaC0Ru"
      },
      "outputs": [],
      "source": [
        "data.columns = data.columns.str.lower()"
      ]
    },
    {
      "cell_type": "markdown",
      "metadata": {
        "id": "5N6Hv25PC0Ru"
      },
      "source": [
        "Посмотрим есть ли дубликаты, и в случае если таковые имеются удалим их."
      ]
    },
    {
      "cell_type": "code",
      "execution_count": null,
      "metadata": {
        "id": "YGkHWnVwC0Ru",
        "outputId": "ef5d7248-7afb-4b03-ea25-6d6fef173b0e"
      },
      "outputs": [
        {
          "data": {
            "text/plain": [
              "5"
            ]
          },
          "execution_count": 7,
          "metadata": {},
          "output_type": "execute_result"
        }
      ],
      "source": [
        "data.duplicated().sum()"
      ]
    },
    {
      "cell_type": "code",
      "execution_count": null,
      "metadata": {
        "id": "p5DWjhf7C0Ru"
      },
      "outputs": [],
      "source": [
        "data = data.drop_duplicates().reset_index(drop=True)"
      ]
    },
    {
      "cell_type": "markdown",
      "metadata": {
        "id": "gbNr5P-lC0Rv"
      },
      "source": [
        "Для упрощения работы с данными и исключения ненужной информации, мы удалим столбцы, которые не имеют важности для дальнейшего анализа."
      ]
    },
    {
      "cell_type": "code",
      "execution_count": null,
      "metadata": {
        "id": "WddK-nMPC0Rv"
      },
      "outputs": [],
      "source": [
        "data = data.drop([\"datecrawled\",\"datecreated\",\"lastseen\",\"numberofpictures\",\"postalcode\"],axis = 1)"
      ]
    },
    {
      "cell_type": "code",
      "execution_count": null,
      "metadata": {
        "scrolled": true,
        "id": "XTfV-hLdC0Rv",
        "outputId": "141b8aeb-baf3-4d20-e0c6-22a59faa7b64"
      },
      "outputs": [
        {
          "data": {
            "text/html": [
              "<div>\n",
              "<style scoped>\n",
              "    .dataframe tbody tr th:only-of-type {\n",
              "        vertical-align: middle;\n",
              "    }\n",
              "\n",
              "    .dataframe tbody tr th {\n",
              "        vertical-align: top;\n",
              "    }\n",
              "\n",
              "    .dataframe thead th {\n",
              "        text-align: right;\n",
              "    }\n",
              "</style>\n",
              "<table border=\"1\" class=\"dataframe\">\n",
              "  <thead>\n",
              "    <tr style=\"text-align: right;\">\n",
              "      <th></th>\n",
              "      <th>price</th>\n",
              "      <th>vehicletype</th>\n",
              "      <th>registrationyear</th>\n",
              "      <th>gearbox</th>\n",
              "      <th>power</th>\n",
              "      <th>model</th>\n",
              "      <th>kilometer</th>\n",
              "      <th>registrationmonth</th>\n",
              "      <th>fueltype</th>\n",
              "      <th>brand</th>\n",
              "      <th>repaired</th>\n",
              "    </tr>\n",
              "  </thead>\n",
              "  <tbody>\n",
              "    <tr>\n",
              "      <th>0</th>\n",
              "      <td>480</td>\n",
              "      <td>sedan</td>\n",
              "      <td>1993</td>\n",
              "      <td>manual</td>\n",
              "      <td>0</td>\n",
              "      <td>golf</td>\n",
              "      <td>150000</td>\n",
              "      <td>0</td>\n",
              "      <td>petrol</td>\n",
              "      <td>volkswagen</td>\n",
              "      <td>no</td>\n",
              "    </tr>\n",
              "    <tr>\n",
              "      <th>1</th>\n",
              "      <td>18300</td>\n",
              "      <td>coupe</td>\n",
              "      <td>2011</td>\n",
              "      <td>manual</td>\n",
              "      <td>190</td>\n",
              "      <td>golf</td>\n",
              "      <td>125000</td>\n",
              "      <td>5</td>\n",
              "      <td>gasoline</td>\n",
              "      <td>audi</td>\n",
              "      <td>yes</td>\n",
              "    </tr>\n",
              "    <tr>\n",
              "      <th>2</th>\n",
              "      <td>9800</td>\n",
              "      <td>suv</td>\n",
              "      <td>2004</td>\n",
              "      <td>auto</td>\n",
              "      <td>163</td>\n",
              "      <td>grand</td>\n",
              "      <td>125000</td>\n",
              "      <td>8</td>\n",
              "      <td>gasoline</td>\n",
              "      <td>jeep</td>\n",
              "      <td>no</td>\n",
              "    </tr>\n",
              "    <tr>\n",
              "      <th>3</th>\n",
              "      <td>1500</td>\n",
              "      <td>small</td>\n",
              "      <td>2001</td>\n",
              "      <td>manual</td>\n",
              "      <td>75</td>\n",
              "      <td>golf</td>\n",
              "      <td>150000</td>\n",
              "      <td>6</td>\n",
              "      <td>petrol</td>\n",
              "      <td>volkswagen</td>\n",
              "      <td>no</td>\n",
              "    </tr>\n",
              "    <tr>\n",
              "      <th>4</th>\n",
              "      <td>3600</td>\n",
              "      <td>small</td>\n",
              "      <td>2008</td>\n",
              "      <td>manual</td>\n",
              "      <td>69</td>\n",
              "      <td>fabia</td>\n",
              "      <td>90000</td>\n",
              "      <td>7</td>\n",
              "      <td>gasoline</td>\n",
              "      <td>skoda</td>\n",
              "      <td>no</td>\n",
              "    </tr>\n",
              "  </tbody>\n",
              "</table>\n",
              "</div>"
            ],
            "text/plain": [
              "   price vehicletype  registrationyear gearbox  power  model  kilometer  \\\n",
              "0    480       sedan              1993  manual      0   golf     150000   \n",
              "1  18300       coupe              2011  manual    190   golf     125000   \n",
              "2   9800         suv              2004    auto    163  grand     125000   \n",
              "3   1500       small              2001  manual     75   golf     150000   \n",
              "4   3600       small              2008  manual     69  fabia      90000   \n",
              "\n",
              "   registrationmonth  fueltype       brand repaired  \n",
              "0                  0    petrol  volkswagen       no  \n",
              "1                  5  gasoline        audi      yes  \n",
              "2                  8  gasoline        jeep       no  \n",
              "3                  6    petrol  volkswagen       no  \n",
              "4                  7  gasoline       skoda       no  "
            ]
          },
          "execution_count": 10,
          "metadata": {},
          "output_type": "execute_result"
        }
      ],
      "source": [
        "data.head()"
      ]
    },
    {
      "cell_type": "markdown",
      "metadata": {
        "id": "DVzIwwsZC0Rw"
      },
      "source": [
        "Проверим наличие аномалий."
      ]
    },
    {
      "cell_type": "code",
      "execution_count": null,
      "metadata": {
        "id": "4-yl7jIQC0Rw",
        "outputId": "5380adac-b736-46b9-fa4c-227bdf68ab51"
      },
      "outputs": [
        {
          "data": {
            "text/plain": [
              "array([  480, 18300,  9800, ..., 12395, 18429, 10985])"
            ]
          },
          "execution_count": 11,
          "metadata": {},
          "output_type": "execute_result"
        }
      ],
      "source": [
        "data.price.unique()"
      ]
    },
    {
      "cell_type": "code",
      "execution_count": null,
      "metadata": {
        "id": "kLL80hrMC0Rw",
        "outputId": "f46bfdeb-136d-48bf-9f39-56f127886512"
      },
      "outputs": [
        {
          "data": {
            "text/plain": [
              "array(['sedan', 'coupe', 'suv', 'small', 'convertible', 'bus', 'wagon',\n",
              "       'other'], dtype=object)"
            ]
          },
          "execution_count": 12,
          "metadata": {},
          "output_type": "execute_result"
        }
      ],
      "source": [
        "data.vehicletype.unique()"
      ]
    },
    {
      "cell_type": "code",
      "execution_count": null,
      "metadata": {
        "id": "x8UOZFTbC0Rx",
        "outputId": "a73fd093-47a8-4103-ff13-8f6d321d9e8f"
      },
      "outputs": [
        {
          "data": {
            "text/plain": [
              "array([1993, 2011, 2004, 2001, 2008, 1995, 1980, 2014, 1998, 2005, 1910,\n",
              "       2016, 2007, 2009, 2002, 2018, 1997, 1990, 2017, 1981, 2003, 1994,\n",
              "       1991, 1984, 2006, 1999, 2012, 2010, 2000, 1992, 2013, 1996, 1985,\n",
              "       1989, 2015, 1982, 1976, 1983, 1973, 1111, 1969, 1971, 1987, 1986,\n",
              "       1988, 1970, 1965, 1945, 1925, 1974, 1979, 1955, 1978, 1972, 1968,\n",
              "       1977, 1961, 1960, 1966, 1975, 1963, 1964, 5000, 1954, 1958, 1967,\n",
              "       1959, 9999, 1956, 3200, 1000, 1941, 8888, 1500, 2200, 4100, 1962,\n",
              "       1929, 1957, 1940, 3000, 2066, 1949, 2019, 1937, 1951, 1800, 1953,\n",
              "       1234, 8000, 5300, 9000, 2900, 6000, 5900, 5911, 1933, 1400, 1950,\n",
              "       4000, 1948, 1952, 1200, 8500, 1932, 1255, 3700, 3800, 4800, 1942,\n",
              "       7000, 1935, 1936, 6500, 1923, 2290, 2500, 1930, 1001, 9450, 1944,\n",
              "       1943, 1934, 1938, 1688, 2800, 1253, 1928, 1919, 5555, 5600, 1600,\n",
              "       2222, 1039, 9996, 1300, 8455, 1931, 1915, 4500, 1920, 1602, 7800,\n",
              "       9229, 1947, 1927, 7100, 8200, 1946, 7500, 3500])"
            ]
          },
          "execution_count": 13,
          "metadata": {},
          "output_type": "execute_result"
        }
      ],
      "source": [
        "data.registrationyear.unique()"
      ]
    },
    {
      "cell_type": "markdown",
      "metadata": {
        "id": "SIYNcCa0C0Ry"
      },
      "source": [
        "Были обнаружены аномалии в данных. Для исключения их влияния в анализе, мы исключим значения до 1900 года и после 2016 года из дальнейшей обработки."
      ]
    },
    {
      "cell_type": "code",
      "execution_count": null,
      "metadata": {
        "id": "7X81cfepC0Ry"
      },
      "outputs": [],
      "source": [
        "data = data.loc[(data['registrationyear'] <= 2016) & (data['registrationyear'] >= 1900)]"
      ]
    },
    {
      "cell_type": "code",
      "execution_count": null,
      "metadata": {
        "id": "z-ierKfRC0Rz",
        "outputId": "275e04b7-c4d5-4688-e877-9a69441ca6ec"
      },
      "outputs": [
        {
          "data": {
            "text/plain": [
              "array(['manual', 'auto'], dtype=object)"
            ]
          },
          "execution_count": 15,
          "metadata": {},
          "output_type": "execute_result"
        }
      ],
      "source": [
        "data.gearbox.unique()"
      ]
    },
    {
      "cell_type": "code",
      "execution_count": null,
      "metadata": {
        "id": "B6uzJj66C0Rz",
        "outputId": "52e8c38c-f6d1-433e-89bd-96f235685cc2"
      },
      "outputs": [
        {
          "data": {
            "text/plain": [
              "array([    0,   190,   163,    75,    69,   102,   109,    50,   125,\n",
              "         101,   105,   140,   115,   131,    60,   136,   160,   231,\n",
              "          90,   118,   193,    99,   113,   218,   122,   129,    70,\n",
              "         306,    95,    61,   177,    80,   170,    55,   143,    64,\n",
              "         286,   232,   150,   156,    82,   155,    54,   185,    87,\n",
              "         180,    86,    84,   224,   235,   200,   178,   265,    77,\n",
              "         110,   144,   120,   116,   184,   126,   204,    88,   194,\n",
              "         305,   197,   179,   250,    45,   313,    41,   165,    98,\n",
              "         130,   114,   211,    56,   201,   213,    58,   107,    83,\n",
              "         174,   100,   220,    85,    73,   192,    68,    66,   299,\n",
              "          74,    52,   147,    65,   310,    71,    97,   239,   203,\n",
              "           5,   300,   103,   258,   320,    63,    81,   148,    44,\n",
              "         145,   230,   280,   260,   104,   188,   333,   186,   117,\n",
              "         141,    59,   132,   234,   158,    39,    92,    51,   135,\n",
              "          53,   209,    43,   146,    67,   106,   166,   276,   344,\n",
              "          72,   249,   237,   245,   111,   326,   279,    23,   138,\n",
              "         175,    96,   226,    26,    37,   301,   334,   128,   133,\n",
              "         124,    33,   219,   241,   167,    94,   182,   196,   238,\n",
              "        1398,   228,   112,    48,   272,   139,  1799,    40,   240,\n",
              "          79,   256,   360,   243,   375,   252,   396,   340,   108,\n",
              "         121,   345,   187,   289,   222,   198,   284,   450,   233,\n",
              "         387,   152,   347,   172,    57,   137,   212,   476,   314,\n",
              "          30,     7,    47,   173,   290,   207,   205,   171,   750,\n",
              "          78,    91,    89,   349,   325,    76,   151,   350,   953,\n",
              "          93,   142,   500,   343,   199,   119,   164,    16,   264,\n",
              "         367,   208,   210,    46,   435,  1001,   225,   127,   176,\n",
              "         161,   603,   307,   354,    35,   206,   771,   355,   273,\n",
              "         223,   255,   123,   154,   149,  7515,  1400,   268,   620,\n",
              "         169,   400,   275,    34,     2,   242,  1779,   285,   162,\n",
              "         328,  1753,   329,   134,   420,   247,   168, 10317,   215,\n",
              "          18,   330,   283,    62,    10,   214,   183,   254,    15,\n",
              "         321,   322,   315,   952,   600,   181,   426,   599,   379,\n",
              "         999,    22,   157,    42,   195,   553,     4,   309,   507,\n",
              "         381,   271,   440,   189,   401,  1111,  2729,    21,   236,\n",
              "        1240,  1704,   521,     1,  1900,   270,    24,   159,   292,\n",
              "         808,   515,  1200,   303,    29,    38,  1993,    14,   216,\n",
              "         610,   504,    49,   267,   331,   363,   261,   385,  1011,\n",
              "         253,   696, 10520,   376,   227,   311,    27,   217,    20,\n",
              "        1999,    11,  1056,    25,   394,    12,   298,   296,  1659,\n",
              "         294,   551,  6920,   246,    17,  1625,   368,   390,   221,\n",
              "        1367,   259,   606,   327,  2017,  1597,   266,   374,   392,\n",
              "           9,   405,    13,   262,   601,   430,   295,     8,   411,\n",
              "         900,   541,  7512,   382, 10218,  7544,  1102,   287,    19,\n",
              "         751,   297,  1090,   457,   282,   602,   388,     6,  1000,\n",
              "        5411,   335,  1360,   202,  3750,   805,  1062,  1024, 11530,\n",
              "         364,  1796,   269,   460,  1002,   288,  1780, 12012, 17932,\n",
              "         316,  2005,  1800,  1399,   191,   278,  1300,   380,   257,\n",
              "         449,  1256,   153,  1653,   520,   560,   281, 12510,     3,\n",
              "        1500,   386,    32,  1202,  2016,  1436,  1405,   671,   274,\n",
              "        1288,  1055, 10912, 15016,  6226,  1115,   277,  1105,   341,\n",
              "        1223,  2340,  8404,  1968,   338,   445,  1920,   370,   517,\n",
              "        4400, 10710, 10522,  9010,   431,  1164, 11509,   371,  1501,\n",
              "         428, 11635,    36,   304,   348,  1703,  1910,  1995,   579,\n",
              "       10000,   580,   408,    31,  1005,   358,  1403,   489,  5575,\n",
              "       19211,   585,   960,   365,   353,   490,   352,  1801,   346,\n",
              "         550,  3199,   800,  7508,  1312,   357,  1937,   950,  4700,\n",
              "        1600,  3454, 19208,   251,   850,   337,   700,  8011,  2331,\n",
              "        2789,   487,   519,  2461,  6006,  3500,  5815,  6018,  1781,\n",
              "        1503,   612,  1596,   229,  1506,  5809, 15020,  5867,  2172,\n",
              "        1598, 17410,  1363,   584,  1054,   851,  1339,   318,   510,\n",
              "         525,  1700,    28,  1151,   685,  6011,   317,   703,  1771,\n",
              "       15001,   514,   362,   332,  5000,   324,  6045,   530,   425,\n",
              "         308,  6010,   475,   903,   640,  2000,   248,   651,  2799,\n",
              "       17011,   505,  1103,  1521,   351, 16051,   398,  9000,  1998,\n",
              "       10311,   409,  1230, 17019, 12684,  8259,  1895,   901,  1317,\n",
              "         871,   909,  2201,  1595,   776, 17700, 11011,  1199,   459,\n",
              "        1162,  1120, 15033,  1896,   339,   361,   574,  6512,   454,\n",
              "         650, 13616,   604,   607, 16312,  1082,   336, 20000,   416,\n",
              "         678,  6012,  1401,  1021,  1870, 13636,  1250,  9710,   323,\n",
              "        1158,  2009,   902,  6062,  1275,   572,   244,   399,  1016,\n",
              "         743,  1221,  2402, 16011,  1362,   544,   645,   907,   702,\n",
              "       12512,  1986,  1003,  1432,  9013,  9011,   442,  1017,  1394,\n",
              "       15017, 10910,  1992,   540,  2018, 11025,  1433,  1701,  2792,\n",
              "        1502,  1239,  1390, 14009,  1160,  1351, 11111,  1783,  9007,\n",
              "         923,  1149,   754,  1988,   402,  2004,  5420,  1793,  1324,\n",
              "         356,  7511,  1299,   293, 19312,  1079,  1689,   998,  1100,\n",
              "        9012,  1933,   508, 16311,   682,  1252,  1922,  7529,   732,\n",
              "        2389,  2200,  1707,  1416,  8500,  1012,   485, 10110,   421,\n",
              "        4507,  1631,  7518,   377,  1004,  2007,  2598,  1548,  1241])"
            ]
          },
          "execution_count": 16,
          "metadata": {},
          "output_type": "execute_result"
        }
      ],
      "source": [
        "data.power.unique()"
      ]
    },
    {
      "cell_type": "markdown",
      "metadata": {
        "id": "UmiBAoCyC0Rz"
      },
      "source": [
        "Была обнаружена аномалия в данных. Для дальнейшей обработки, мы не будем включать значения силы выше 700."
      ]
    },
    {
      "cell_type": "code",
      "execution_count": null,
      "metadata": {
        "id": "Oun0b9rWC0Rz"
      },
      "outputs": [],
      "source": [
        "data = data.loc[data['power'] <= 700]"
      ]
    },
    {
      "cell_type": "code",
      "execution_count": null,
      "metadata": {
        "id": "IJR5_-8iC0R0",
        "outputId": "6a09a73d-7cc0-49d9-c80c-aa64ff459401"
      },
      "outputs": [
        {
          "data": {
            "text/plain": [
              "array(['golf', 'grand', 'fabia', '3er', '2_reihe', 'other', 'c_max',\n",
              "       '3_reihe', 'passat', 'navara', 'ka', 'polo', 'twingo', 'a_klasse',\n",
              "       'scirocco', '5er', 'meriva', 'arosa', 'c4', 'civic', 'transporter',\n",
              "       'punto', 'e_klasse', 'clio', 'kadett', 'kangoo', 'corsa', 'one',\n",
              "       'fortwo', '1er', 'b_klasse', 'signum', 'astra', 'a8', 'jetta',\n",
              "       'fiesta', 'c_klasse', 'micra', 'vito', 'sprinter', '156', 'escort',\n",
              "       'forester', 'xc_reihe', 'scenic', 'a4', 'a1', 'insignia', 'combo',\n",
              "       'focus', 'tt', 'a6', 'jazz', 'omega', 'slk', '7er', '80', '147',\n",
              "       '100', 'z_reihe', 'sportage', 'sorento', 'v40', 'ibiza', 'mustang',\n",
              "       'eos', 'touran', 'getz', 'a3', 'almera', 'megane', 'lupo', 'r19',\n",
              "       'zafira', 'caddy', 'mondeo', 'cordoba', 'colt', 'impreza',\n",
              "       'vectra', 'berlingo', 'tiguan', 'i_reihe', 'espace', 'sharan',\n",
              "       '6_reihe', 'panda', 'up', 'seicento', 'ceed', '5_reihe', 'yeti',\n",
              "       'octavia', 'mii', 'rx_reihe', '6er', 'modus', 'fox', 'matiz',\n",
              "       'beetle', 'c1', 'rio', 'touareg', 'logan', 'spider', 'cuore',\n",
              "       's_max', 'a2', 'galaxy', 'c3', 'viano', 's_klasse', '1_reihe',\n",
              "       'avensis', 'roomster', 'sl', 'kaefer', 'santa', 'cooper', 'leon',\n",
              "       '4_reihe', 'a5', '500', 'laguna', 'ptcruiser', 'clk', 'primera',\n",
              "       'x_reihe', 'exeo', '159', 'transit', 'juke', 'qashqai', 'carisma',\n",
              "       'accord', 'corolla', 'lanos', 'phaeton', 'verso', 'swift', 'rav',\n",
              "       'picanto', 'boxster', 'kalos', 'superb', 'stilo', 'alhambra',\n",
              "       'mx_reihe', 'roadster', 'ypsilon', 'cayenne', 'galant', 'justy',\n",
              "       '90', 'sirion', 'crossfire', 'agila', 'duster', 'cr_reihe', 'v50',\n",
              "       'c_reihe', 'v_klasse', 'm_klasse', 'yaris', 'c5', 'aygo', 'cc',\n",
              "       'carnival', 'fusion', '911', 'bora', 'forfour', 'm_reihe', 'cl',\n",
              "       'tigra', '300c', 'spark', 'v70', 'kuga', 'x_type', 'ducato',\n",
              "       's_type', 'x_trail', 'toledo', 'altea', 'voyager', 'calibra',\n",
              "       'bravo', 'antara', 'tucson', 'citigo', 'jimny', 'wrangler',\n",
              "       'lybra', 'q7', 'lancer', 'captiva', 'c2', 'discovery',\n",
              "       'freelander', 'sandero', 'note', '900', 'cherokee', 'clubman',\n",
              "       'samara', 'defender', '601', 'cx_reihe', 'legacy', 'pajero',\n",
              "       'auris', 'niva', 's60', 'nubira', 'vivaro', 'g_klasse', 'lodgy',\n",
              "       '850', 'range_rover', 'q3', 'serie_2', 'glk', 'charade', 'croma',\n",
              "       'outlander', 'doblo', 'musa', 'move', '9000', 'v60', '145', 'aveo',\n",
              "       '200', 'b_max', 'range_rover_sport', 'terios', 'rangerover', 'q5',\n",
              "       'range_rover_evoque', 'materia', 'delta', 'gl', 'kalina', 'amarok',\n",
              "       'elefantino', 'i3', 'kappa', 'serie_3', 'serie_1'], dtype=object)"
            ]
          },
          "execution_count": 18,
          "metadata": {},
          "output_type": "execute_result"
        }
      ],
      "source": [
        "data.model.unique()"
      ]
    },
    {
      "cell_type": "code",
      "execution_count": null,
      "metadata": {
        "id": "XWYZnBd4C0R0",
        "outputId": "e91e241a-bdcf-407a-cfb5-62a5a8b59c9b"
      },
      "outputs": [
        {
          "data": {
            "text/plain": [
              "array([150000, 125000,  90000,  40000,  30000,  70000,   5000, 100000,\n",
              "        60000,  20000,  80000,  50000,  10000])"
            ]
          },
          "execution_count": 19,
          "metadata": {},
          "output_type": "execute_result"
        }
      ],
      "source": [
        "data.kilometer.unique()"
      ]
    },
    {
      "cell_type": "code",
      "execution_count": null,
      "metadata": {
        "id": "5N8XKH85C0R0",
        "outputId": "a595a2fc-02c6-4e84-fa37-b7937ab5aa82"
      },
      "outputs": [
        {
          "data": {
            "text/plain": [
              "array([ 0,  5,  8,  6,  7, 10, 12, 11,  2,  3,  1,  4,  9])"
            ]
          },
          "execution_count": 20,
          "metadata": {},
          "output_type": "execute_result"
        }
      ],
      "source": [
        "data.registrationmonth.unique()"
      ]
    },
    {
      "cell_type": "code",
      "execution_count": null,
      "metadata": {
        "id": "8c1hUnnGC0R1",
        "outputId": "7118a65a-5f11-44f5-e40f-d265a9f4b8f6"
      },
      "outputs": [
        {
          "data": {
            "text/plain": [
              "array(['petrol', 'gasoline', 'lpg', 'other', 'hybrid', 'cng', 'electric'],\n",
              "      dtype=object)"
            ]
          },
          "execution_count": 21,
          "metadata": {},
          "output_type": "execute_result"
        }
      ],
      "source": [
        "data.fueltype.unique()"
      ]
    },
    {
      "cell_type": "code",
      "execution_count": null,
      "metadata": {
        "id": "SNbZlSUJC0R1",
        "outputId": "ff81aeac-bc45-4ce0-ba73-0b2484898532"
      },
      "outputs": [
        {
          "data": {
            "text/plain": [
              "array(['volkswagen', 'audi', 'jeep', 'skoda', 'bmw', 'peugeot', 'ford',\n",
              "       'mazda', 'nissan', 'renault', 'mercedes_benz', 'opel', 'seat',\n",
              "       'citroen', 'honda', 'fiat', 'mini', 'smart', 'hyundai',\n",
              "       'sonstige_autos', 'alfa_romeo', 'subaru', 'volvo', 'mitsubishi',\n",
              "       'kia', 'suzuki', 'lancia', 'toyota', 'chevrolet', 'dacia',\n",
              "       'daihatsu', 'trabant', 'saab', 'chrysler', 'jaguar', 'daewoo',\n",
              "       'porsche', 'rover', 'land_rover', 'lada'], dtype=object)"
            ]
          },
          "execution_count": 22,
          "metadata": {},
          "output_type": "execute_result"
        }
      ],
      "source": [
        "data.brand.unique()"
      ]
    },
    {
      "cell_type": "code",
      "execution_count": null,
      "metadata": {
        "scrolled": true,
        "id": "iFH0QiBuC0R1",
        "outputId": "1b22bc47-92e1-4f58-b8fc-0a20f2bc1bd8"
      },
      "outputs": [
        {
          "data": {
            "text/plain": [
              "array(['no', 'yes'], dtype=object)"
            ]
          },
          "execution_count": 23,
          "metadata": {},
          "output_type": "execute_result"
        }
      ],
      "source": [
        "data.repaired.unique()"
      ]
    },
    {
      "cell_type": "code",
      "execution_count": null,
      "metadata": {
        "id": "pUSsehIzC0R2",
        "outputId": "535d1269-a318-4c71-8f77-7ce73aed2fa8"
      },
      "outputs": [
        {
          "data": {
            "text/plain": [
              "33246"
            ]
          },
          "execution_count": 24,
          "metadata": {},
          "output_type": "execute_result"
        }
      ],
      "source": [
        "data.duplicated().sum()"
      ]
    },
    {
      "cell_type": "markdown",
      "metadata": {
        "id": "pyWkYTHSC0R2"
      },
      "source": [
        "В первом разделе произведена обработка данных, которая включала удаление пропущенных значений и дубликатов. Также были убраны столбцы, которые не несут важной информации. Были проанализированы и обработаны аномалии в столбцах, содержащих год регистрации и лошадиные силы машин."
      ]
    },
    {
      "cell_type": "markdown",
      "metadata": {
        "id": "xgjeLO9QC0R2"
      },
      "source": [
        "## Обучение моделей"
      ]
    },
    {
      "cell_type": "code",
      "execution_count": null,
      "metadata": {
        "id": "RCl0mc5nC0R2"
      },
      "outputs": [],
      "source": [
        "features=data.drop(['price'],axis=1)\n",
        "target=data['price']"
      ]
    },
    {
      "cell_type": "code",
      "execution_count": null,
      "metadata": {
        "id": "X2Wj3dYnC0R2"
      },
      "outputs": [],
      "source": [
        "col=['vehicletype', 'gearbox','model',\n",
        "       'fueltype', 'brand', 'repaired']"
      ]
    },
    {
      "cell_type": "code",
      "execution_count": null,
      "metadata": {
        "id": "tUV9Ckz8C0SD",
        "outputId": "91892b73-b2ed-4ac3-8aea-3ea1148feaf1"
      },
      "outputs": [
        {
          "data": {
            "text/plain": [
              "((212310, 10), (70770, 10), (70770, 10))"
            ]
          },
          "execution_count": 27,
          "metadata": {},
          "output_type": "execute_result"
        }
      ],
      "source": [
        "\n",
        "features_train, features_valid_test, target_train, target_valid_test  = train_test_split(features,target, test_size=0.4, random_state=254)\n",
        "features_valid, features_test, target_valid, target_test = train_test_split(features_valid_test, target_valid_test, test_size=0.5, random_state=12345)\n",
        "\n",
        "features_train.shape, features_valid.shape, features_test.shape"
      ]
    },
    {
      "cell_type": "code",
      "execution_count": null,
      "metadata": {
        "id": "bqmCU_MhC0SD"
      },
      "outputs": [],
      "source": [
        "# Копируем данные для кодировки\n",
        "features_train_oe = features_train.copy()\n",
        "features_valid_oe = features_valid.copy()\n",
        "features_test_oe = features_test.copy()"
      ]
    },
    {
      "cell_type": "code",
      "execution_count": null,
      "metadata": {
        "scrolled": true,
        "id": "L4YzPCHnC0SE",
        "outputId": "b9e7eecf-f7e7-456d-cef3-3d9a85fe05b1"
      },
      "outputs": [
        {
          "data": {
            "text/html": [
              "<div>\n",
              "<style scoped>\n",
              "    .dataframe tbody tr th:only-of-type {\n",
              "        vertical-align: middle;\n",
              "    }\n",
              "\n",
              "    .dataframe tbody tr th {\n",
              "        vertical-align: top;\n",
              "    }\n",
              "\n",
              "    .dataframe thead th {\n",
              "        text-align: right;\n",
              "    }\n",
              "</style>\n",
              "<table border=\"1\" class=\"dataframe\">\n",
              "  <thead>\n",
              "    <tr style=\"text-align: right;\">\n",
              "      <th></th>\n",
              "      <th>vehicletype</th>\n",
              "      <th>registrationyear</th>\n",
              "      <th>gearbox</th>\n",
              "      <th>power</th>\n",
              "      <th>model</th>\n",
              "      <th>kilometer</th>\n",
              "      <th>registrationmonth</th>\n",
              "      <th>fueltype</th>\n",
              "      <th>brand</th>\n",
              "      <th>repaired</th>\n",
              "    </tr>\n",
              "  </thead>\n",
              "  <tbody>\n",
              "    <tr>\n",
              "      <th>92409</th>\n",
              "      <td>4.0</td>\n",
              "      <td>2004</td>\n",
              "      <td>0.0</td>\n",
              "      <td>218</td>\n",
              "      <td>240.0</td>\n",
              "      <td>150000</td>\n",
              "      <td>6</td>\n",
              "      <td>2.0</td>\n",
              "      <td>2.0</td>\n",
              "      <td>0.0</td>\n",
              "    </tr>\n",
              "    <tr>\n",
              "      <th>213880</th>\n",
              "      <td>1.0</td>\n",
              "      <td>2011</td>\n",
              "      <td>1.0</td>\n",
              "      <td>160</td>\n",
              "      <td>224.0</td>\n",
              "      <td>30000</td>\n",
              "      <td>4</td>\n",
              "      <td>6.0</td>\n",
              "      <td>1.0</td>\n",
              "      <td>0.0</td>\n",
              "    </tr>\n",
              "    <tr>\n",
              "      <th>125566</th>\n",
              "      <td>4.0</td>\n",
              "      <td>2015</td>\n",
              "      <td>0.0</td>\n",
              "      <td>170</td>\n",
              "      <td>124.0</td>\n",
              "      <td>20000</td>\n",
              "      <td>7</td>\n",
              "      <td>6.0</td>\n",
              "      <td>38.0</td>\n",
              "      <td>1.0</td>\n",
              "    </tr>\n",
              "    <tr>\n",
              "      <th>29005</th>\n",
              "      <td>0.0</td>\n",
              "      <td>2010</td>\n",
              "      <td>1.0</td>\n",
              "      <td>140</td>\n",
              "      <td>36.0</td>\n",
              "      <td>150000</td>\n",
              "      <td>4</td>\n",
              "      <td>2.0</td>\n",
              "      <td>30.0</td>\n",
              "      <td>0.0</td>\n",
              "    </tr>\n",
              "    <tr>\n",
              "      <th>249122</th>\n",
              "      <td>7.0</td>\n",
              "      <td>1997</td>\n",
              "      <td>1.0</td>\n",
              "      <td>0</td>\n",
              "      <td>42.0</td>\n",
              "      <td>150000</td>\n",
              "      <td>11</td>\n",
              "      <td>6.0</td>\n",
              "      <td>24.0</td>\n",
              "      <td>1.0</td>\n",
              "    </tr>\n",
              "  </tbody>\n",
              "</table>\n",
              "</div>"
            ],
            "text/plain": [
              "        vehicletype  registrationyear  gearbox  power  model  kilometer  \\\n",
              "92409           4.0              2004      0.0    218  240.0     150000   \n",
              "213880          1.0              2011      1.0    160  224.0      30000   \n",
              "125566          4.0              2015      0.0    170  124.0      20000   \n",
              "29005           0.0              2010      1.0    140   36.0     150000   \n",
              "249122          7.0              1997      1.0      0   42.0     150000   \n",
              "\n",
              "        registrationmonth  fueltype  brand  repaired  \n",
              "92409                   6       2.0    2.0       0.0  \n",
              "213880                  4       6.0    1.0       0.0  \n",
              "125566                  7       6.0   38.0       1.0  \n",
              "29005                   4       2.0   30.0       0.0  \n",
              "249122                 11       6.0   24.0       1.0  "
            ]
          },
          "execution_count": 29,
          "metadata": {},
          "output_type": "execute_result"
        }
      ],
      "source": [
        "encoder = OrdinalEncoder(handle_unknown='use_encoded_value', unknown_value=-1)\n",
        "encoder.fit(features_train[col])                                   \n",
        "features_train_oe[col] = encoder.transform(features_train_oe[col]) \n",
        "features_valid_oe[col] = encoder.transform(features_valid_oe[col]) \n",
        "features_test_oe[col] = encoder.transform(features_test_oe[col])  \n",
        "features_test_oe.head()                                            "
      ]
    },
    {
      "cell_type": "markdown",
      "metadata": {
        "id": "-PuftwwrC0SE"
      },
      "source": [
        "Обучим модель решающего дерева"
      ]
    },
    {
      "cell_type": "code",
      "execution_count": null,
      "metadata": {
        "scrolled": false,
        "id": "M6anngC3C0SE",
        "outputId": "b051cbca-b9bb-4953-b732-6e1a22e5ee84"
      },
      "outputs": [
        {
          "name": "stdout",
          "output_type": "stream",
          "text": [
            "Глубина: 3\n",
            "RMSE для решающего дерева: 3019.141268027153\n",
            "\n",
            "Глубина: 6\n",
            "RMSE для решающего дерева: 2434.841849746518\n",
            "\n",
            "Глубина: 9\n",
            "RMSE для решающего дерева: 2165.260230790978\n",
            "\n",
            "Глубина: 12\n",
            "RMSE для решающего дерева: 2071.0648975038393\n",
            "\n",
            "Глубина: 15\n",
            "RMSE для решающего дерева: 2084.724893486856\n",
            "\n",
            "Глубина: 18\n",
            "RMSE для решающего дерева: 2150.8700726285556\n",
            "\n"
          ]
        }
      ],
      "source": [
        "for depth in range(3, 20, 3):\n",
        "    model = DecisionTreeRegressor(random_state=12345, max_depth = depth)\n",
        "    model.fit(features_train_oe, target_train)\n",
        "    predictions = model.predict(features_valid_oe)\n",
        "    rmse = mean_squared_error(target_valid, predictions)**0.5\n",
        "    print('Глубина:', depth)\n",
        "    print('RMSE для решающего дерева:', rmse)\n",
        "    print('')"
      ]
    },
    {
      "cell_type": "markdown",
      "metadata": {
        "id": "bacn3EY1C0SF"
      },
      "source": [
        "В результате анализа была выбрана оптимальная глубина дерева в качестве гиперпараметра модели. Лучший результат метрики RMSE был достигнут при глубине равной 12 и составил 2071.0648975038393"
      ]
    },
    {
      "cell_type": "markdown",
      "metadata": {
        "id": "aeJNsbV8C0SF"
      },
      "source": [
        "Обучим модель случайного леса"
      ]
    },
    {
      "cell_type": "code",
      "execution_count": null,
      "metadata": {
        "id": "rGbM4uXLC0SF",
        "outputId": "2448f3f7-f4b5-4463-fb4f-dfe82d54d772"
      },
      "outputs": [
        {
          "name": "stdout",
          "output_type": "stream",
          "text": [
            "Количество деревьев: 5 Глубина 1\n",
            "RMSE для случайного леса: 3777.6283430007106\n",
            "\n",
            "Количество деревьев: 10 Глубина 1\n",
            "RMSE для случайного леса: 3777.625659426334\n",
            "\n",
            "Количество деревьев: 15 Глубина 1\n",
            "RMSE для случайного леса: 3777.617900078378\n",
            "\n",
            "Количество деревьев: 5 Глубина 2\n",
            "RMSE для случайного леса: 3240.4628020355567\n",
            "\n",
            "Количество деревьев: 10 Глубина 2\n",
            "RMSE для случайного леса: 3241.037047276033\n",
            "\n",
            "Количество деревьев: 15 Глубина 2\n",
            "RMSE для случайного леса: 3241.3335758122657\n",
            "\n",
            "Количество деревьев: 5 Глубина 3\n",
            "RMSE для случайного леса: 2925.8126065928964\n",
            "\n",
            "Количество деревьев: 10 Глубина 3\n",
            "RMSE для случайного леса: 2925.215041846241\n",
            "\n",
            "Количество деревьев: 15 Глубина 3\n",
            "RMSE для случайного леса: 2920.9731600106134\n",
            "\n",
            "Количество деревьев: 5 Глубина 4\n",
            "RMSE для случайного леса: 2637.155010942584\n",
            "\n",
            "Количество деревьев: 10 Глубина 4\n",
            "RMSE для случайного леса: 2634.662730710407\n",
            "\n",
            "Количество деревьев: 15 Глубина 4\n",
            "RMSE для случайного леса: 2630.1522326469635\n",
            "\n"
          ]
        }
      ],
      "source": [
        "for depth in range(1,5):\n",
        "    for est in range(5,20,5):\n",
        "        model = RandomForestRegressor(max_depth=depth, n_estimators=est, random_state=1234)\n",
        "        model.fit(features_train_oe, target_train)\n",
        "        predictions = model.predict(features_valid_oe)\n",
        "        rmse = mean_squared_error(target_valid, predictions)**0.5\n",
        "        print('Количество деревьев:', est, \"Глубина\",depth)\n",
        "        print('RMSE для случайного леса:', rmse)\n",
        "        print('')"
      ]
    },
    {
      "cell_type": "markdown",
      "metadata": {
        "id": "vLR1E_7zC0SF"
      },
      "source": [
        "При обучении модели были использованы гиперпараметры, среди которых оптимальными были глубина дерева и количество деревьев. Лучший результат метрики RSME был достигнут при глубине, равной 4, количестве деревьев, равном 15, и составил 2630.15223264696."
      ]
    },
    {
      "cell_type": "markdown",
      "metadata": {
        "id": "WWzcVZ35C0SG"
      },
      "source": [
        "Для использования модели LightGBM, необходимо перевести категориальные признаки в тип \"category\"."
      ]
    },
    {
      "cell_type": "markdown",
      "metadata": {
        "id": "WWfHYGriC0SG"
      },
      "source": [
        "Обучим модель LGBMRegressor"
      ]
    },
    {
      "cell_type": "code",
      "execution_count": null,
      "metadata": {
        "id": "35R9qBeKC0SG",
        "outputId": "22c035a4-e290-4a3a-88a2-58ddffa0db83"
      },
      "outputs": [
        {
          "name": "stdout",
          "output_type": "stream",
          "text": [
            "Количество деревьев: 100 25\n",
            "RMSE для случайного леса: 1880.196945697684\n",
            "\n",
            "Количество деревьев: 100 400\n",
            "RMSE для случайного леса: 1720.1503016139113\n",
            "\n",
            "Количество деревьев: 100 15\n",
            "RMSE для случайного леса: 1929.7644375587054\n",
            "\n",
            "Количество деревьев: 500 25\n",
            "RMSE для случайного леса: 1764.4245819772593\n",
            "\n",
            "Количество деревьев: 500 400\n",
            "RMSE для случайного леса: 1708.3691569638047\n",
            "\n",
            "Количество деревьев: 500 15\n",
            "RMSE для случайного леса: 1795.872183052806\n",
            "\n",
            "Количество деревьев: 1000 25\n",
            "RMSE для случайного леса: 1732.17974337289\n",
            "\n"
          ]
        }
      ],
      "source": [
        "for est in [100, 500, 1000]:\n",
        "    for num in [25, 400, 15]:\n",
        "        model = lgb.LGBMRegressor(n_estimators = est, num_leaves = num, random_state=12345)\n",
        "        model.fit(features_train_oe, target_train)\n",
        "        predictions= model.predict(features_valid_oe)\n",
        "        rmse = mean_squared_error(target_valid, predictions)**0.5\n",
        "        print('Количество деревьев:', est, num)\n",
        "        print('RMSE для случайного леса:', rmse)\n",
        "        print('')"
      ]
    },
    {
      "cell_type": "markdown",
      "metadata": {
        "id": "jxshIrH_C0SH"
      },
      "source": [
        "В результате обучения трех моделей - решающего дерева, случайного леса и LightGBM, лучшим результатом по метрике RMSE с показателем в 1708.3691569638047 показала себя модель LightGBM."
      ]
    },
    {
      "cell_type": "markdown",
      "metadata": {
        "id": "16OvzJr0C0SH"
      },
      "source": [
        "## Анализ моделей"
      ]
    },
    {
      "cell_type": "markdown",
      "metadata": {
        "id": "NcU9l_XAC0SH"
      },
      "source": [
        "Для каждой модели будет рассчитано время обучения и время предсказания на тренировочной выборке."
      ]
    },
    {
      "cell_type": "code",
      "execution_count": null,
      "metadata": {
        "id": "PIDFUQ-XC0SH"
      },
      "outputs": [],
      "source": [
        "%%time\n",
        "model1 = DecisionTreeRegressor(random_state=12345, max_depth=18)\n",
        "model1.fit(features_train_oe, target_train)\n"
      ]
    },
    {
      "cell_type": "code",
      "execution_count": null,
      "metadata": {
        "id": "gtnF4GeLC0SH"
      },
      "outputs": [],
      "source": [
        "%%time\n",
        "predictions = model1.predict(features_test_oe)\n",
        "rmse = mean_squared_error(target_test, predictions)**0.5\n",
        "print(rmse)"
      ]
    },
    {
      "cell_type": "code",
      "execution_count": null,
      "metadata": {
        "id": "aFhIyQmnC0SI"
      },
      "outputs": [],
      "source": [
        "%%time\n",
        "model2 = RandomForestRegressor(random_state=12345, max_depth=4, n_estimators=15)\n",
        "model2.fit(features_train_oe, target_train)"
      ]
    },
    {
      "cell_type": "code",
      "execution_count": null,
      "metadata": {
        "id": "rk6vQQEAC0SI"
      },
      "outputs": [],
      "source": [
        "%%time\n",
        "predictions = model2.predict(features_test)\n",
        "rmse = mean_squared_error(target_test_oe, predictions)**0.5\n",
        "print(rmse)"
      ]
    },
    {
      "cell_type": "code",
      "execution_count": null,
      "metadata": {
        "id": "0L-SNvrYC0SI"
      },
      "outputs": [],
      "source": [
        "%%time\n",
        "model3 = lgb.LGBMRegressor(random_state=12345,\n",
        "                          n_estimators=1000,\n",
        "                          num_leaves=400)\n",
        "model3.fit(features_train_oe, target_train)"
      ]
    },
    {
      "cell_type": "code",
      "execution_count": null,
      "metadata": {
        "id": "RSImedvAC0SJ"
      },
      "outputs": [],
      "source": [
        "%%time\n",
        "predictions = model3.predict(features_test)\n",
        "rmse = mean_squared_error(target_test_oe, predictions)**0.5\n",
        "print(rmse)"
      ]
    },
    {
      "cell_type": "markdown",
      "metadata": {
        "id": "PtJzujGnC0SJ"
      },
      "source": [
        "По результату метрики RMSE, лучший результат показала модель решающего дерева. На втором месте расположилась модель LGBMRegressor, а на третьем - модель RandomForestRegressor."
      ]
    },
    {
      "cell_type": "markdown",
      "metadata": {
        "id": "m2Py8vgmC0SJ"
      },
      "source": [
        "## Финальны вывод"
      ]
    },
    {
      "cell_type": "markdown",
      "metadata": {
        "id": "lUNSqFNMC0SK"
      },
      "source": [
        "В процессе работы была проведена подготовка данных, в рамках которой были обнаружены аномалии, дубликаты и пропущенные значения. Аномалии и ненужные столбцы были исключены из рассмотрения, а дубликаты и пропущенные значения были удалены.\n",
        "\n",
        "Были рассмотрены три модели - случайный лес, решающее дерево и LGBMRegressor, с подбором оптимальных параметров и оценкой качества моделей на метрике RMSE. Лучшей моделью с показателем RMSE 1708.3691569638047 является LGBMRegressor. \n",
        "\n",
        "При анализе времени обучения моделей на тренировочной выборке, модели расположились в следующем порядке: решающее дерево, LGBMRegressor, случайный лес.\n",
        "\n",
        "Для заказчика можно порекомендовать использование модели LGBMRegressor, которая обладает оптимальными характеристиками, как на метрике RMSE, так и по скорости обучения и предсказания."
      ]
    }
  ],
  "metadata": {
    "ExecuteTimeLog": [
      {
        "duration": 1209,
        "start_time": "2023-03-15T19:56:56.494Z"
      },
      {
        "duration": 2939,
        "start_time": "2023-03-15T19:57:01.162Z"
      },
      {
        "duration": 107,
        "start_time": "2023-03-15T19:57:19.875Z"
      },
      {
        "duration": 3,
        "start_time": "2023-03-15T19:57:30.102Z"
      },
      {
        "duration": 880,
        "start_time": "2023-03-15T19:57:30.107Z"
      },
      {
        "duration": 122,
        "start_time": "2023-03-15T19:57:30.989Z"
      },
      {
        "duration": 121,
        "start_time": "2023-03-15T19:57:31.114Z"
      },
      {
        "duration": 160,
        "start_time": "2023-03-15T19:57:31.236Z"
      },
      {
        "duration": 3,
        "start_time": "2023-03-15T19:57:31.398Z"
      },
      {
        "duration": 470,
        "start_time": "2023-03-15T19:57:31.402Z"
      },
      {
        "duration": 534,
        "start_time": "2023-03-15T19:57:31.873Z"
      },
      {
        "duration": 44,
        "start_time": "2023-03-15T19:57:32.410Z"
      },
      {
        "duration": 12,
        "start_time": "2023-03-15T19:57:32.455Z"
      },
      {
        "duration": 7,
        "start_time": "2023-03-15T19:57:32.469Z"
      },
      {
        "duration": 46,
        "start_time": "2023-03-15T19:57:32.477Z"
      },
      {
        "duration": 6,
        "start_time": "2023-03-15T19:57:32.525Z"
      },
      {
        "duration": 31,
        "start_time": "2023-03-15T19:57:32.533Z"
      },
      {
        "duration": 20,
        "start_time": "2023-03-15T19:57:32.566Z"
      },
      {
        "duration": 10,
        "start_time": "2023-03-15T19:57:32.621Z"
      },
      {
        "duration": 30,
        "start_time": "2023-03-15T19:57:32.633Z"
      },
      {
        "duration": 24,
        "start_time": "2023-03-15T19:57:32.665Z"
      },
      {
        "duration": 34,
        "start_time": "2023-03-15T19:57:32.690Z"
      },
      {
        "duration": 6,
        "start_time": "2023-03-15T19:57:32.725Z"
      },
      {
        "duration": 22,
        "start_time": "2023-03-15T19:57:32.732Z"
      },
      {
        "duration": 22,
        "start_time": "2023-03-15T19:57:32.755Z"
      },
      {
        "duration": 43,
        "start_time": "2023-03-15T19:57:32.779Z"
      },
      {
        "duration": 172,
        "start_time": "2023-03-15T19:57:32.825Z"
      },
      {
        "duration": 24,
        "start_time": "2023-03-15T19:57:32.998Z"
      },
      {
        "duration": 740,
        "start_time": "2023-03-15T19:57:33.023Z"
      },
      {
        "duration": 156,
        "start_time": "2023-03-15T19:57:33.765Z"
      },
      {
        "duration": 0,
        "start_time": "2023-03-15T19:57:33.924Z"
      },
      {
        "duration": 0,
        "start_time": "2023-03-15T19:57:33.925Z"
      },
      {
        "duration": 0,
        "start_time": "2023-03-15T19:57:33.926Z"
      },
      {
        "duration": 0,
        "start_time": "2023-03-15T19:57:33.928Z"
      },
      {
        "duration": 0,
        "start_time": "2023-03-15T19:57:33.929Z"
      },
      {
        "duration": 0,
        "start_time": "2023-03-15T19:57:33.930Z"
      },
      {
        "duration": 0,
        "start_time": "2023-03-15T19:57:34.060Z"
      },
      {
        "duration": 0,
        "start_time": "2023-03-15T19:57:34.062Z"
      },
      {
        "duration": 0,
        "start_time": "2023-03-15T19:57:34.064Z"
      },
      {
        "duration": 0,
        "start_time": "2023-03-15T19:57:34.121Z"
      },
      {
        "duration": 122,
        "start_time": "2023-03-15T19:58:29.118Z"
      },
      {
        "duration": 11,
        "start_time": "2023-03-15T19:58:33.940Z"
      },
      {
        "duration": 131,
        "start_time": "2023-03-15T19:59:11.822Z"
      },
      {
        "duration": 51,
        "start_time": "2023-03-15T20:00:53.198Z"
      },
      {
        "duration": 43,
        "start_time": "2023-03-15T20:00:58.610Z"
      },
      {
        "duration": 43,
        "start_time": "2023-03-15T20:01:40.973Z"
      },
      {
        "duration": 72,
        "start_time": "2023-03-15T20:02:41.915Z"
      },
      {
        "duration": 11,
        "start_time": "2023-03-15T20:02:44.765Z"
      },
      {
        "duration": 72,
        "start_time": "2023-03-15T20:03:03.203Z"
      },
      {
        "duration": 22,
        "start_time": "2023-03-15T20:03:07.746Z"
      },
      {
        "duration": 85,
        "start_time": "2023-03-15T20:03:31.671Z"
      },
      {
        "duration": 3717,
        "start_time": "2023-03-15T20:03:33.738Z"
      },
      {
        "duration": 2130,
        "start_time": "2023-03-17T13:43:59.235Z"
      },
      {
        "duration": 2849,
        "start_time": "2023-03-17T13:44:01.367Z"
      },
      {
        "duration": 147,
        "start_time": "2023-03-17T13:44:04.218Z"
      },
      {
        "duration": 139,
        "start_time": "2023-03-17T13:44:04.367Z"
      },
      {
        "duration": 225,
        "start_time": "2023-03-17T13:44:04.508Z"
      },
      {
        "duration": 3,
        "start_time": "2023-03-17T13:44:04.735Z"
      },
      {
        "duration": 478,
        "start_time": "2023-03-17T13:44:04.740Z"
      },
      {
        "duration": 572,
        "start_time": "2023-03-17T13:44:05.221Z"
      },
      {
        "duration": 49,
        "start_time": "2023-03-17T13:44:05.795Z"
      },
      {
        "duration": 34,
        "start_time": "2023-03-17T13:44:05.846Z"
      },
      {
        "duration": 6,
        "start_time": "2023-03-17T13:44:05.881Z"
      },
      {
        "duration": 36,
        "start_time": "2023-03-17T13:44:05.889Z"
      },
      {
        "duration": 6,
        "start_time": "2023-03-17T13:44:05.927Z"
      },
      {
        "duration": 35,
        "start_time": "2023-03-17T13:44:05.934Z"
      },
      {
        "duration": 22,
        "start_time": "2023-03-17T13:44:05.970Z"
      },
      {
        "duration": 13,
        "start_time": "2023-03-17T13:44:05.993Z"
      },
      {
        "duration": 107,
        "start_time": "2023-03-17T13:44:06.008Z"
      },
      {
        "duration": 30,
        "start_time": "2023-03-17T13:44:06.117Z"
      },
      {
        "duration": 13,
        "start_time": "2023-03-17T13:44:06.149Z"
      },
      {
        "duration": 10,
        "start_time": "2023-03-17T13:44:06.164Z"
      },
      {
        "duration": 23,
        "start_time": "2023-03-17T13:44:06.175Z"
      },
      {
        "duration": 47,
        "start_time": "2023-03-17T13:44:06.199Z"
      },
      {
        "duration": 19,
        "start_time": "2023-03-17T13:44:06.248Z"
      },
      {
        "duration": 170,
        "start_time": "2023-03-17T13:44:06.268Z"
      },
      {
        "duration": 15,
        "start_time": "2023-03-17T13:44:06.441Z"
      },
      {
        "duration": 3,
        "start_time": "2023-03-17T13:44:06.458Z"
      },
      {
        "duration": 543,
        "start_time": "2023-03-17T13:44:06.463Z"
      },
      {
        "duration": 12,
        "start_time": "2023-03-17T13:44:07.009Z"
      },
      {
        "duration": 1149,
        "start_time": "2023-03-17T15:37:15.181Z"
      },
      {
        "duration": 4,
        "start_time": "2023-03-17T15:37:19.717Z"
      },
      {
        "duration": 1013,
        "start_time": "2023-03-17T15:37:20.402Z"
      },
      {
        "duration": 122,
        "start_time": "2023-03-17T15:37:21.417Z"
      },
      {
        "duration": 120,
        "start_time": "2023-03-17T15:37:22.012Z"
      },
      {
        "duration": 163,
        "start_time": "2023-03-17T15:37:22.134Z"
      },
      {
        "duration": 3,
        "start_time": "2023-03-17T15:37:24.471Z"
      },
      {
        "duration": 406,
        "start_time": "2023-03-17T15:37:24.764Z"
      },
      {
        "duration": 576,
        "start_time": "2023-03-17T15:37:25.172Z"
      },
      {
        "duration": 50,
        "start_time": "2023-03-17T15:37:25.749Z"
      },
      {
        "duration": 15,
        "start_time": "2023-03-17T15:37:25.801Z"
      },
      {
        "duration": 6,
        "start_time": "2023-03-17T15:37:26.095Z"
      },
      {
        "duration": 21,
        "start_time": "2023-03-17T15:37:26.391Z"
      },
      {
        "duration": 8,
        "start_time": "2023-03-17T15:37:26.552Z"
      },
      {
        "duration": 32,
        "start_time": "2023-03-17T15:37:26.859Z"
      },
      {
        "duration": 21,
        "start_time": "2023-03-17T15:37:27.833Z"
      },
      {
        "duration": 17,
        "start_time": "2023-03-17T15:37:27.855Z"
      },
      {
        "duration": 31,
        "start_time": "2023-03-17T15:37:28.350Z"
      },
      {
        "duration": 23,
        "start_time": "2023-03-17T15:37:28.711Z"
      },
      {
        "duration": 6,
        "start_time": "2023-03-17T15:37:28.873Z"
      },
      {
        "duration": 6,
        "start_time": "2023-03-17T15:37:29.055Z"
      },
      {
        "duration": 21,
        "start_time": "2023-03-17T15:37:29.233Z"
      },
      {
        "duration": 23,
        "start_time": "2023-03-17T15:37:29.436Z"
      },
      {
        "duration": 18,
        "start_time": "2023-03-17T15:37:29.701Z"
      },
      {
        "duration": 148,
        "start_time": "2023-03-17T15:37:30.662Z"
      },
      {
        "duration": 15,
        "start_time": "2023-03-17T15:37:32.176Z"
      },
      {
        "duration": 2,
        "start_time": "2023-03-17T15:37:32.546Z"
      },
      {
        "duration": 603,
        "start_time": "2023-03-17T15:37:32.939Z"
      },
      {
        "duration": 14,
        "start_time": "2023-03-17T15:37:35.048Z"
      },
      {
        "duration": 157,
        "start_time": "2023-03-17T15:37:46.668Z"
      },
      {
        "duration": 119,
        "start_time": "2023-03-17T15:37:47.913Z"
      },
      {
        "duration": 10,
        "start_time": "2023-03-17T15:41:02.772Z"
      },
      {
        "duration": 4,
        "start_time": "2023-03-17T15:41:27.944Z"
      },
      {
        "duration": 11,
        "start_time": "2023-03-17T15:43:21.050Z"
      },
      {
        "duration": 1294,
        "start_time": "2023-03-17T15:43:56.510Z"
      },
      {
        "duration": 9,
        "start_time": "2023-03-17T15:44:35.101Z"
      },
      {
        "duration": 8,
        "start_time": "2023-03-17T15:44:47.080Z"
      },
      {
        "duration": 20,
        "start_time": "2023-03-17T15:45:03.363Z"
      },
      {
        "duration": 76,
        "start_time": "2023-03-17T15:45:07.764Z"
      },
      {
        "duration": 11,
        "start_time": "2023-03-17T15:46:38.933Z"
      },
      {
        "duration": 47,
        "start_time": "2023-03-17T15:50:15.464Z"
      },
      {
        "duration": 10,
        "start_time": "2023-03-17T15:50:18.064Z"
      },
      {
        "duration": 101,
        "start_time": "2023-03-17T15:50:20.607Z"
      },
      {
        "duration": 3812,
        "start_time": "2023-03-17T15:50:22.951Z"
      },
      {
        "duration": 13760,
        "start_time": "2023-03-17T15:50:49.878Z"
      },
      {
        "duration": 2033,
        "start_time": "2023-03-18T12:06:22.631Z"
      },
      {
        "duration": 908,
        "start_time": "2023-03-18T12:06:24.665Z"
      },
      {
        "duration": 106,
        "start_time": "2023-03-18T12:06:25.575Z"
      },
      {
        "duration": 107,
        "start_time": "2023-03-18T12:06:25.683Z"
      },
      {
        "duration": 150,
        "start_time": "2023-03-18T12:06:25.791Z"
      },
      {
        "duration": 3,
        "start_time": "2023-03-18T12:06:25.943Z"
      },
      {
        "duration": 415,
        "start_time": "2023-03-18T12:06:25.948Z"
      },
      {
        "duration": 463,
        "start_time": "2023-03-18T12:06:26.365Z"
      },
      {
        "duration": 41,
        "start_time": "2023-03-18T12:06:26.829Z"
      },
      {
        "duration": 18,
        "start_time": "2023-03-18T12:06:26.879Z"
      },
      {
        "duration": 6,
        "start_time": "2023-03-18T12:06:26.898Z"
      },
      {
        "duration": 26,
        "start_time": "2023-03-18T12:06:26.905Z"
      },
      {
        "duration": 5,
        "start_time": "2023-03-18T12:06:26.932Z"
      },
      {
        "duration": 41,
        "start_time": "2023-03-18T12:06:26.938Z"
      },
      {
        "duration": 20,
        "start_time": "2023-03-18T12:06:26.981Z"
      },
      {
        "duration": 6,
        "start_time": "2023-03-18T12:06:27.002Z"
      },
      {
        "duration": 31,
        "start_time": "2023-03-18T12:06:27.009Z"
      },
      {
        "duration": 78,
        "start_time": "2023-03-18T12:06:27.041Z"
      },
      {
        "duration": 5,
        "start_time": "2023-03-18T12:06:27.120Z"
      },
      {
        "duration": 5,
        "start_time": "2023-03-18T12:06:27.126Z"
      },
      {
        "duration": 20,
        "start_time": "2023-03-18T12:06:27.132Z"
      },
      {
        "duration": 43,
        "start_time": "2023-03-18T12:06:27.153Z"
      },
      {
        "duration": 17,
        "start_time": "2023-03-18T12:06:27.197Z"
      },
      {
        "duration": 153,
        "start_time": "2023-03-18T12:06:27.215Z"
      },
      {
        "duration": 20,
        "start_time": "2023-03-18T12:06:27.369Z"
      },
      {
        "duration": 2,
        "start_time": "2023-03-18T12:06:27.391Z"
      },
      {
        "duration": 559,
        "start_time": "2023-03-18T12:06:27.394Z"
      },
      {
        "duration": 10,
        "start_time": "2023-03-18T12:06:27.956Z"
      },
      {
        "duration": 19,
        "start_time": "2023-03-18T12:06:27.968Z"
      },
      {
        "duration": 937,
        "start_time": "2023-03-18T12:08:41.518Z"
      },
      {
        "duration": 11,
        "start_time": "2023-03-18T12:08:42.457Z"
      },
      {
        "duration": 11,
        "start_time": "2023-03-18T12:08:49.182Z"
      },
      {
        "duration": 1255,
        "start_time": "2023-03-18T12:39:36.690Z"
      },
      {
        "duration": 3113,
        "start_time": "2023-03-18T12:39:37.947Z"
      },
      {
        "duration": 129,
        "start_time": "2023-03-18T12:39:41.062Z"
      },
      {
        "duration": 125,
        "start_time": "2023-03-18T12:39:41.193Z"
      },
      {
        "duration": 183,
        "start_time": "2023-03-18T12:39:41.320Z"
      },
      {
        "duration": 3,
        "start_time": "2023-03-18T12:39:41.505Z"
      },
      {
        "duration": 444,
        "start_time": "2023-03-18T12:39:41.510Z"
      },
      {
        "duration": 531,
        "start_time": "2023-03-18T12:39:41.955Z"
      },
      {
        "duration": 45,
        "start_time": "2023-03-18T12:39:42.487Z"
      },
      {
        "duration": 17,
        "start_time": "2023-03-18T12:39:42.534Z"
      },
      {
        "duration": 6,
        "start_time": "2023-03-18T12:39:42.553Z"
      },
      {
        "duration": 37,
        "start_time": "2023-03-18T12:39:42.560Z"
      },
      {
        "duration": 7,
        "start_time": "2023-03-18T12:39:42.598Z"
      },
      {
        "duration": 35,
        "start_time": "2023-03-18T12:39:42.609Z"
      },
      {
        "duration": 45,
        "start_time": "2023-03-18T12:39:42.646Z"
      },
      {
        "duration": 67,
        "start_time": "2023-03-18T12:39:42.693Z"
      },
      {
        "duration": 47,
        "start_time": "2023-03-18T12:39:42.761Z"
      },
      {
        "duration": 24,
        "start_time": "2023-03-18T12:39:42.810Z"
      },
      {
        "duration": 5,
        "start_time": "2023-03-18T12:39:42.836Z"
      },
      {
        "duration": 6,
        "start_time": "2023-03-18T12:39:42.842Z"
      },
      {
        "duration": 47,
        "start_time": "2023-03-18T12:39:42.849Z"
      },
      {
        "duration": 26,
        "start_time": "2023-03-18T12:39:42.898Z"
      },
      {
        "duration": 20,
        "start_time": "2023-03-18T12:39:42.925Z"
      },
      {
        "duration": 176,
        "start_time": "2023-03-18T12:39:42.946Z"
      },
      {
        "duration": 15,
        "start_time": "2023-03-18T12:39:43.123Z"
      },
      {
        "duration": 8,
        "start_time": "2023-03-18T12:39:43.140Z"
      },
      {
        "duration": 90,
        "start_time": "2023-03-18T12:39:43.149Z"
      },
      {
        "duration": 512,
        "start_time": "2023-03-18T12:39:43.240Z"
      },
      {
        "duration": 17,
        "start_time": "2023-03-18T12:39:43.754Z"
      },
      {
        "duration": 140,
        "start_time": "2023-03-18T12:39:43.773Z"
      },
      {
        "duration": 0,
        "start_time": "2023-03-18T12:39:43.914Z"
      },
      {
        "duration": 0,
        "start_time": "2023-03-18T12:39:43.916Z"
      },
      {
        "duration": 0,
        "start_time": "2023-03-18T12:39:43.917Z"
      },
      {
        "duration": 0,
        "start_time": "2023-03-18T12:39:43.918Z"
      },
      {
        "duration": 0,
        "start_time": "2023-03-18T12:39:43.919Z"
      },
      {
        "duration": 0,
        "start_time": "2023-03-18T12:39:43.920Z"
      },
      {
        "duration": 0,
        "start_time": "2023-03-18T12:39:43.921Z"
      },
      {
        "duration": 0,
        "start_time": "2023-03-18T12:39:43.923Z"
      },
      {
        "duration": 0,
        "start_time": "2023-03-18T12:39:43.924Z"
      },
      {
        "duration": 0,
        "start_time": "2023-03-18T12:39:43.925Z"
      },
      {
        "duration": 0,
        "start_time": "2023-03-18T12:39:43.926Z"
      },
      {
        "duration": 510,
        "start_time": "2023-03-18T12:43:13.465Z"
      },
      {
        "duration": 12,
        "start_time": "2023-03-18T12:43:15.036Z"
      },
      {
        "duration": 535,
        "start_time": "2023-03-18T12:43:29.516Z"
      },
      {
        "duration": 13,
        "start_time": "2023-03-18T12:43:30.053Z"
      },
      {
        "duration": 19,
        "start_time": "2023-03-18T12:43:35.792Z"
      },
      {
        "duration": 2,
        "start_time": "2023-03-18T12:43:36.077Z"
      },
      {
        "duration": 79,
        "start_time": "2023-03-18T12:43:36.573Z"
      },
      {
        "duration": 488,
        "start_time": "2023-03-18T12:43:37.095Z"
      },
      {
        "duration": 13,
        "start_time": "2023-03-18T12:43:38.396Z"
      },
      {
        "duration": 444,
        "start_time": "2023-03-18T12:43:53.158Z"
      },
      {
        "duration": 10,
        "start_time": "2023-03-18T12:43:53.922Z"
      },
      {
        "duration": 425,
        "start_time": "2023-03-18T12:44:07.738Z"
      },
      {
        "duration": 10,
        "start_time": "2023-03-18T12:44:08.746Z"
      },
      {
        "duration": 533,
        "start_time": "2023-03-18T12:44:52.919Z"
      },
      {
        "duration": 13,
        "start_time": "2023-03-18T12:44:55.833Z"
      },
      {
        "duration": 18,
        "start_time": "2023-03-18T12:45:03.093Z"
      },
      {
        "duration": 59,
        "start_time": "2023-03-18T12:45:40.294Z"
      },
      {
        "duration": 3,
        "start_time": "2023-03-18T12:45:49.962Z"
      },
      {
        "duration": 841,
        "start_time": "2023-03-18T12:45:49.967Z"
      },
      {
        "duration": 137,
        "start_time": "2023-03-18T12:45:50.810Z"
      },
      {
        "duration": 140,
        "start_time": "2023-03-18T12:45:50.949Z"
      },
      {
        "duration": 189,
        "start_time": "2023-03-18T12:45:51.092Z"
      },
      {
        "duration": 5,
        "start_time": "2023-03-18T12:45:51.283Z"
      },
      {
        "duration": 424,
        "start_time": "2023-03-18T12:45:51.290Z"
      },
      {
        "duration": 522,
        "start_time": "2023-03-18T12:45:51.716Z"
      },
      {
        "duration": 52,
        "start_time": "2023-03-18T12:45:52.240Z"
      },
      {
        "duration": 11,
        "start_time": "2023-03-18T12:45:52.294Z"
      },
      {
        "duration": 15,
        "start_time": "2023-03-18T12:45:52.307Z"
      },
      {
        "duration": 24,
        "start_time": "2023-03-18T12:45:52.324Z"
      },
      {
        "duration": 11,
        "start_time": "2023-03-18T12:45:52.350Z"
      },
      {
        "duration": 47,
        "start_time": "2023-03-18T12:45:52.389Z"
      },
      {
        "duration": 54,
        "start_time": "2023-03-18T12:45:52.438Z"
      },
      {
        "duration": 11,
        "start_time": "2023-03-18T12:45:52.494Z"
      },
      {
        "duration": 46,
        "start_time": "2023-03-18T12:45:52.507Z"
      },
      {
        "duration": 42,
        "start_time": "2023-03-18T12:45:52.555Z"
      },
      {
        "duration": 6,
        "start_time": "2023-03-18T12:45:52.598Z"
      },
      {
        "duration": 6,
        "start_time": "2023-03-18T12:45:52.606Z"
      },
      {
        "duration": 29,
        "start_time": "2023-03-18T12:45:52.614Z"
      },
      {
        "duration": 57,
        "start_time": "2023-03-18T12:45:52.646Z"
      },
      {
        "duration": 34,
        "start_time": "2023-03-18T12:45:52.704Z"
      },
      {
        "duration": 203,
        "start_time": "2023-03-18T12:45:52.740Z"
      },
      {
        "duration": 18,
        "start_time": "2023-03-18T12:45:52.945Z"
      },
      {
        "duration": 3,
        "start_time": "2023-03-18T12:45:52.965Z"
      },
      {
        "duration": 77,
        "start_time": "2023-03-18T12:45:52.987Z"
      },
      {
        "duration": 494,
        "start_time": "2023-03-18T12:45:53.066Z"
      },
      {
        "duration": 86,
        "start_time": "2023-03-18T12:45:53.562Z"
      },
      {
        "duration": 19,
        "start_time": "2023-03-18T12:45:53.650Z"
      },
      {
        "duration": 0,
        "start_time": "2023-03-18T12:45:53.671Z"
      },
      {
        "duration": 0,
        "start_time": "2023-03-18T12:45:53.688Z"
      },
      {
        "duration": 0,
        "start_time": "2023-03-18T12:45:53.694Z"
      },
      {
        "duration": 0,
        "start_time": "2023-03-18T12:45:53.695Z"
      },
      {
        "duration": 0,
        "start_time": "2023-03-18T12:45:53.696Z"
      },
      {
        "duration": 0,
        "start_time": "2023-03-18T12:45:53.697Z"
      },
      {
        "duration": 0,
        "start_time": "2023-03-18T12:45:53.698Z"
      },
      {
        "duration": 0,
        "start_time": "2023-03-18T12:45:53.699Z"
      },
      {
        "duration": 0,
        "start_time": "2023-03-18T12:45:53.701Z"
      },
      {
        "duration": 21,
        "start_time": "2023-03-18T12:46:52.647Z"
      },
      {
        "duration": 11,
        "start_time": "2023-03-18T12:47:20.980Z"
      },
      {
        "duration": 111,
        "start_time": "2023-03-18T12:47:43.307Z"
      },
      {
        "duration": 479,
        "start_time": "2023-03-18T12:47:53.503Z"
      },
      {
        "duration": 18,
        "start_time": "2023-03-18T12:47:57.238Z"
      },
      {
        "duration": 487,
        "start_time": "2023-03-18T12:48:11.210Z"
      },
      {
        "duration": 23,
        "start_time": "2023-03-18T12:48:15.721Z"
      },
      {
        "duration": 445,
        "start_time": "2023-03-18T12:48:27.688Z"
      },
      {
        "duration": 451,
        "start_time": "2023-03-18T12:48:34.899Z"
      },
      {
        "duration": 4,
        "start_time": "2023-03-18T12:48:41.356Z"
      },
      {
        "duration": 9,
        "start_time": "2023-03-18T12:48:48.786Z"
      },
      {
        "duration": 414,
        "start_time": "2023-03-18T12:50:28.360Z"
      },
      {
        "duration": 664,
        "start_time": "2023-03-18T12:53:07.089Z"
      },
      {
        "duration": 22,
        "start_time": "2023-03-18T12:53:09.346Z"
      },
      {
        "duration": 12,
        "start_time": "2023-03-18T12:53:30.188Z"
      },
      {
        "duration": 4,
        "start_time": "2023-03-18T12:53:40.019Z"
      },
      {
        "duration": 785,
        "start_time": "2023-03-18T12:53:40.025Z"
      },
      {
        "duration": 140,
        "start_time": "2023-03-18T12:53:40.811Z"
      },
      {
        "duration": 136,
        "start_time": "2023-03-18T12:53:40.953Z"
      },
      {
        "duration": 179,
        "start_time": "2023-03-18T12:53:41.090Z"
      },
      {
        "duration": 3,
        "start_time": "2023-03-18T12:53:41.271Z"
      },
      {
        "duration": 397,
        "start_time": "2023-03-18T12:53:41.275Z"
      },
      {
        "duration": 504,
        "start_time": "2023-03-18T12:53:41.674Z"
      },
      {
        "duration": 47,
        "start_time": "2023-03-18T12:53:42.180Z"
      },
      {
        "duration": 11,
        "start_time": "2023-03-18T12:53:42.228Z"
      },
      {
        "duration": 15,
        "start_time": "2023-03-18T12:53:42.240Z"
      },
      {
        "duration": 38,
        "start_time": "2023-03-18T12:53:42.256Z"
      },
      {
        "duration": 9,
        "start_time": "2023-03-18T12:53:42.295Z"
      },
      {
        "duration": 34,
        "start_time": "2023-03-18T12:53:42.305Z"
      },
      {
        "duration": 21,
        "start_time": "2023-03-18T12:53:42.341Z"
      },
      {
        "duration": 27,
        "start_time": "2023-03-18T12:53:42.364Z"
      },
      {
        "duration": 30,
        "start_time": "2023-03-18T12:53:42.393Z"
      },
      {
        "duration": 25,
        "start_time": "2023-03-18T12:53:42.425Z"
      },
      {
        "duration": 6,
        "start_time": "2023-03-18T12:53:42.452Z"
      },
      {
        "duration": 33,
        "start_time": "2023-03-18T12:53:42.460Z"
      },
      {
        "duration": 25,
        "start_time": "2023-03-18T12:53:42.494Z"
      },
      {
        "duration": 24,
        "start_time": "2023-03-18T12:53:42.521Z"
      },
      {
        "duration": 19,
        "start_time": "2023-03-18T12:53:42.546Z"
      },
      {
        "duration": 156,
        "start_time": "2023-03-18T12:53:42.587Z"
      },
      {
        "duration": 17,
        "start_time": "2023-03-18T12:53:42.745Z"
      },
      {
        "duration": 3,
        "start_time": "2023-03-18T12:53:42.764Z"
      },
      {
        "duration": 87,
        "start_time": "2023-03-18T12:53:42.768Z"
      },
      {
        "duration": 607,
        "start_time": "2023-03-18T12:53:42.857Z"
      },
      {
        "duration": 11,
        "start_time": "2023-03-18T12:53:43.466Z"
      },
      {
        "duration": 58,
        "start_time": "2023-03-18T12:53:43.487Z"
      },
      {
        "duration": 18,
        "start_time": "2023-03-18T12:53:43.546Z"
      },
      {
        "duration": 0,
        "start_time": "2023-03-18T12:53:43.566Z"
      },
      {
        "duration": 0,
        "start_time": "2023-03-18T12:53:43.567Z"
      },
      {
        "duration": 0,
        "start_time": "2023-03-18T12:53:43.569Z"
      },
      {
        "duration": 0,
        "start_time": "2023-03-18T12:53:43.589Z"
      },
      {
        "duration": 0,
        "start_time": "2023-03-18T12:53:43.591Z"
      },
      {
        "duration": 0,
        "start_time": "2023-03-18T12:53:43.592Z"
      },
      {
        "duration": 0,
        "start_time": "2023-03-18T12:53:43.593Z"
      },
      {
        "duration": 0,
        "start_time": "2023-03-18T12:53:43.594Z"
      },
      {
        "duration": 0,
        "start_time": "2023-03-18T12:53:43.595Z"
      },
      {
        "duration": 606,
        "start_time": "2023-03-18T12:54:03.548Z"
      },
      {
        "duration": 12,
        "start_time": "2023-03-18T12:54:04.156Z"
      },
      {
        "duration": 466,
        "start_time": "2023-03-18T12:54:14.814Z"
      },
      {
        "duration": 12,
        "start_time": "2023-03-18T12:54:15.648Z"
      },
      {
        "duration": 130,
        "start_time": "2023-03-18T12:54:25.043Z"
      },
      {
        "duration": 123,
        "start_time": "2023-03-18T12:54:31.966Z"
      },
      {
        "duration": 602,
        "start_time": "2023-03-18T12:54:45.579Z"
      },
      {
        "duration": 13,
        "start_time": "2023-03-18T12:54:46.288Z"
      },
      {
        "duration": 4,
        "start_time": "2023-03-18T13:00:09.681Z"
      },
      {
        "duration": 872,
        "start_time": "2023-03-18T13:00:09.692Z"
      },
      {
        "duration": 138,
        "start_time": "2023-03-18T13:00:10.566Z"
      },
      {
        "duration": 148,
        "start_time": "2023-03-18T13:00:10.707Z"
      },
      {
        "duration": 210,
        "start_time": "2023-03-18T13:00:10.857Z"
      },
      {
        "duration": 4,
        "start_time": "2023-03-18T13:00:11.070Z"
      },
      {
        "duration": 451,
        "start_time": "2023-03-18T13:00:11.075Z"
      },
      {
        "duration": 806,
        "start_time": "2023-03-18T13:00:11.528Z"
      },
      {
        "duration": 42,
        "start_time": "2023-03-18T13:00:12.388Z"
      },
      {
        "duration": 64,
        "start_time": "2023-03-18T13:00:12.432Z"
      },
      {
        "duration": 10,
        "start_time": "2023-03-18T13:00:12.498Z"
      },
      {
        "duration": 87,
        "start_time": "2023-03-18T13:00:12.510Z"
      },
      {
        "duration": 9,
        "start_time": "2023-03-18T13:00:12.599Z"
      },
      {
        "duration": 88,
        "start_time": "2023-03-18T13:00:12.610Z"
      },
      {
        "duration": 90,
        "start_time": "2023-03-18T13:00:12.702Z"
      },
      {
        "duration": 11,
        "start_time": "2023-03-18T13:00:12.794Z"
      },
      {
        "duration": 93,
        "start_time": "2023-03-18T13:00:12.807Z"
      },
      {
        "duration": 25,
        "start_time": "2023-03-18T13:00:12.902Z"
      },
      {
        "duration": 5,
        "start_time": "2023-03-18T13:00:12.929Z"
      },
      {
        "duration": 7,
        "start_time": "2023-03-18T13:00:12.989Z"
      },
      {
        "duration": 90,
        "start_time": "2023-03-18T13:00:12.998Z"
      },
      {
        "duration": 38,
        "start_time": "2023-03-18T13:00:13.090Z"
      },
      {
        "duration": 85,
        "start_time": "2023-03-18T13:00:13.130Z"
      },
      {
        "duration": 393,
        "start_time": "2023-03-18T13:00:13.217Z"
      },
      {
        "duration": 16,
        "start_time": "2023-03-18T13:00:13.612Z"
      },
      {
        "duration": 59,
        "start_time": "2023-03-18T13:00:13.630Z"
      },
      {
        "duration": 3,
        "start_time": "2023-03-18T13:00:13.691Z"
      },
      {
        "duration": 789,
        "start_time": "2023-03-18T13:00:13.696Z"
      },
      {
        "duration": 13,
        "start_time": "2023-03-18T13:00:14.488Z"
      },
      {
        "duration": 59,
        "start_time": "2023-03-18T13:00:14.503Z"
      },
      {
        "duration": 37,
        "start_time": "2023-03-18T13:00:14.564Z"
      },
      {
        "duration": 0,
        "start_time": "2023-03-18T13:00:14.603Z"
      },
      {
        "duration": 0,
        "start_time": "2023-03-18T13:00:14.605Z"
      },
      {
        "duration": 0,
        "start_time": "2023-03-18T13:00:14.606Z"
      },
      {
        "duration": 0,
        "start_time": "2023-03-18T13:00:14.607Z"
      },
      {
        "duration": 0,
        "start_time": "2023-03-18T13:00:14.609Z"
      },
      {
        "duration": 0,
        "start_time": "2023-03-18T13:00:14.610Z"
      },
      {
        "duration": 0,
        "start_time": "2023-03-18T13:00:14.611Z"
      },
      {
        "duration": 0,
        "start_time": "2023-03-18T13:00:14.613Z"
      },
      {
        "duration": 0,
        "start_time": "2023-03-18T13:00:14.614Z"
      },
      {
        "duration": 13,
        "start_time": "2023-03-18T13:00:19.314Z"
      },
      {
        "duration": 728,
        "start_time": "2023-03-18T13:00:46.848Z"
      },
      {
        "duration": 97,
        "start_time": "2023-03-18T13:01:04.353Z"
      },
      {
        "duration": 87,
        "start_time": "2023-03-18T13:01:20.454Z"
      },
      {
        "duration": 14,
        "start_time": "2023-03-18T13:01:36.288Z"
      },
      {
        "duration": 13,
        "start_time": "2023-03-18T13:01:38.986Z"
      },
      {
        "duration": 5,
        "start_time": "2023-03-18T13:01:45.604Z"
      },
      {
        "duration": 834,
        "start_time": "2023-03-18T13:01:45.612Z"
      },
      {
        "duration": 143,
        "start_time": "2023-03-18T13:01:46.448Z"
      },
      {
        "duration": 138,
        "start_time": "2023-03-18T13:01:46.593Z"
      },
      {
        "duration": 186,
        "start_time": "2023-03-18T13:01:46.734Z"
      },
      {
        "duration": 3,
        "start_time": "2023-03-18T13:01:46.922Z"
      },
      {
        "duration": 434,
        "start_time": "2023-03-18T13:01:46.927Z"
      },
      {
        "duration": 727,
        "start_time": "2023-03-18T13:01:47.363Z"
      },
      {
        "duration": 108,
        "start_time": "2023-03-18T13:01:48.093Z"
      },
      {
        "duration": 16,
        "start_time": "2023-03-18T13:01:48.204Z"
      },
      {
        "duration": 6,
        "start_time": "2023-03-18T13:01:48.222Z"
      },
      {
        "duration": 69,
        "start_time": "2023-03-18T13:01:48.230Z"
      },
      {
        "duration": 9,
        "start_time": "2023-03-18T13:01:48.301Z"
      },
      {
        "duration": 83,
        "start_time": "2023-03-18T13:01:48.314Z"
      },
      {
        "duration": 22,
        "start_time": "2023-03-18T13:01:48.399Z"
      },
      {
        "duration": 66,
        "start_time": "2023-03-18T13:01:48.423Z"
      },
      {
        "duration": 34,
        "start_time": "2023-03-18T13:01:48.491Z"
      },
      {
        "duration": 76,
        "start_time": "2023-03-18T13:01:48.527Z"
      },
      {
        "duration": 6,
        "start_time": "2023-03-18T13:01:48.605Z"
      },
      {
        "duration": 5,
        "start_time": "2023-03-18T13:01:48.613Z"
      },
      {
        "duration": 89,
        "start_time": "2023-03-18T13:01:48.620Z"
      },
      {
        "duration": 88,
        "start_time": "2023-03-18T13:01:48.712Z"
      },
      {
        "duration": 32,
        "start_time": "2023-03-18T13:01:48.802Z"
      },
      {
        "duration": 400,
        "start_time": "2023-03-18T13:01:48.890Z"
      },
      {
        "duration": 20,
        "start_time": "2023-03-18T13:01:49.291Z"
      },
      {
        "duration": 4,
        "start_time": "2023-03-18T13:01:49.312Z"
      },
      {
        "duration": 71,
        "start_time": "2023-03-18T13:01:49.317Z"
      },
      {
        "duration": 1503,
        "start_time": "2023-03-18T13:01:49.391Z"
      },
      {
        "duration": 12,
        "start_time": "2023-03-18T13:01:50.896Z"
      },
      {
        "duration": 122,
        "start_time": "2023-03-18T13:01:50.911Z"
      },
      {
        "duration": 69,
        "start_time": "2023-03-18T13:01:51.035Z"
      },
      {
        "duration": 0,
        "start_time": "2023-03-18T13:01:51.106Z"
      },
      {
        "duration": 0,
        "start_time": "2023-03-18T13:01:51.108Z"
      },
      {
        "duration": 0,
        "start_time": "2023-03-18T13:01:51.110Z"
      },
      {
        "duration": 0,
        "start_time": "2023-03-18T13:01:51.111Z"
      },
      {
        "duration": 0,
        "start_time": "2023-03-18T13:01:51.113Z"
      },
      {
        "duration": 0,
        "start_time": "2023-03-18T13:01:51.114Z"
      },
      {
        "duration": 0,
        "start_time": "2023-03-18T13:01:51.125Z"
      },
      {
        "duration": 0,
        "start_time": "2023-03-18T13:01:51.127Z"
      },
      {
        "duration": 0,
        "start_time": "2023-03-18T13:01:51.129Z"
      },
      {
        "duration": 646,
        "start_time": "2023-03-18T13:02:08.310Z"
      },
      {
        "duration": 14,
        "start_time": "2023-03-18T13:02:10.159Z"
      },
      {
        "duration": 50,
        "start_time": "2023-03-18T13:02:19.458Z"
      },
      {
        "duration": 17,
        "start_time": "2023-03-18T13:02:24.157Z"
      },
      {
        "duration": 21,
        "start_time": "2023-03-18T13:02:51.348Z"
      },
      {
        "duration": 4,
        "start_time": "2023-03-18T13:03:19.481Z"
      },
      {
        "duration": 818,
        "start_time": "2023-03-18T13:03:19.487Z"
      },
      {
        "duration": 138,
        "start_time": "2023-03-18T13:03:20.307Z"
      },
      {
        "duration": 146,
        "start_time": "2023-03-18T13:03:20.447Z"
      },
      {
        "duration": 191,
        "start_time": "2023-03-18T13:03:20.595Z"
      },
      {
        "duration": 4,
        "start_time": "2023-03-18T13:03:20.788Z"
      },
      {
        "duration": 413,
        "start_time": "2023-03-18T13:03:20.794Z"
      },
      {
        "duration": 526,
        "start_time": "2023-03-18T13:03:21.209Z"
      },
      {
        "duration": 57,
        "start_time": "2023-03-18T13:03:21.739Z"
      },
      {
        "duration": 15,
        "start_time": "2023-03-18T13:03:21.798Z"
      },
      {
        "duration": 13,
        "start_time": "2023-03-18T13:03:21.815Z"
      },
      {
        "duration": 26,
        "start_time": "2023-03-18T13:03:21.830Z"
      },
      {
        "duration": 9,
        "start_time": "2023-03-18T13:03:21.858Z"
      },
      {
        "duration": 29,
        "start_time": "2023-03-18T13:03:21.889Z"
      },
      {
        "duration": 20,
        "start_time": "2023-03-18T13:03:21.920Z"
      },
      {
        "duration": 42,
        "start_time": "2023-03-18T13:03:21.941Z"
      },
      {
        "duration": 29,
        "start_time": "2023-03-18T13:03:21.985Z"
      },
      {
        "duration": 25,
        "start_time": "2023-03-18T13:03:22.016Z"
      },
      {
        "duration": 6,
        "start_time": "2023-03-18T13:03:22.042Z"
      },
      {
        "duration": 44,
        "start_time": "2023-03-18T13:03:22.049Z"
      },
      {
        "duration": 22,
        "start_time": "2023-03-18T13:03:22.095Z"
      },
      {
        "duration": 93,
        "start_time": "2023-03-18T13:03:22.119Z"
      },
      {
        "duration": 76,
        "start_time": "2023-03-18T13:03:22.214Z"
      },
      {
        "duration": 313,
        "start_time": "2023-03-18T13:03:22.294Z"
      },
      {
        "duration": 18,
        "start_time": "2023-03-18T13:03:22.609Z"
      },
      {
        "duration": 3,
        "start_time": "2023-03-18T13:03:22.628Z"
      },
      {
        "duration": 265,
        "start_time": "2023-03-18T13:03:22.633Z"
      },
      {
        "duration": 1173,
        "start_time": "2023-03-18T13:03:22.900Z"
      },
      {
        "duration": 68,
        "start_time": "2023-03-18T13:03:24.075Z"
      },
      {
        "duration": 18,
        "start_time": "2023-03-18T13:03:24.145Z"
      },
      {
        "duration": 0,
        "start_time": "2023-03-18T13:03:24.165Z"
      },
      {
        "duration": 0,
        "start_time": "2023-03-18T13:03:24.166Z"
      },
      {
        "duration": 0,
        "start_time": "2023-03-18T13:03:24.167Z"
      },
      {
        "duration": 0,
        "start_time": "2023-03-18T13:03:24.188Z"
      },
      {
        "duration": 0,
        "start_time": "2023-03-18T13:03:24.189Z"
      },
      {
        "duration": 0,
        "start_time": "2023-03-18T13:03:24.190Z"
      },
      {
        "duration": 0,
        "start_time": "2023-03-18T13:03:24.191Z"
      },
      {
        "duration": 0,
        "start_time": "2023-03-18T13:03:24.193Z"
      },
      {
        "duration": 0,
        "start_time": "2023-03-18T13:03:24.194Z"
      },
      {
        "duration": 11,
        "start_time": "2023-03-18T13:06:16.655Z"
      },
      {
        "duration": 838,
        "start_time": "2023-03-18T13:06:55.942Z"
      },
      {
        "duration": 216,
        "start_time": "2023-03-18T13:07:10.591Z"
      },
      {
        "duration": 102,
        "start_time": "2023-03-18T13:07:12.639Z"
      },
      {
        "duration": 18,
        "start_time": "2023-03-18T13:07:14.539Z"
      },
      {
        "duration": 556,
        "start_time": "2023-03-18T13:07:41.336Z"
      },
      {
        "duration": 20,
        "start_time": "2023-03-18T13:07:41.894Z"
      },
      {
        "duration": 62,
        "start_time": "2023-03-18T13:07:51.992Z"
      },
      {
        "duration": 16,
        "start_time": "2023-03-18T13:07:53.349Z"
      },
      {
        "duration": 444,
        "start_time": "2023-03-18T13:08:44.847Z"
      },
      {
        "duration": 20,
        "start_time": "2023-03-18T13:08:45.398Z"
      },
      {
        "duration": 460,
        "start_time": "2023-03-18T13:08:50.222Z"
      },
      {
        "duration": 25,
        "start_time": "2023-03-18T13:08:50.766Z"
      },
      {
        "duration": 16,
        "start_time": "2023-03-18T13:08:58.208Z"
      },
      {
        "duration": 11,
        "start_time": "2023-03-18T13:09:13.982Z"
      },
      {
        "duration": 111,
        "start_time": "2023-03-18T13:09:26.813Z"
      },
      {
        "duration": 590,
        "start_time": "2023-03-18T13:09:34.512Z"
      },
      {
        "duration": 11,
        "start_time": "2023-03-18T13:09:35.104Z"
      },
      {
        "duration": 4,
        "start_time": "2023-03-18T13:10:02.430Z"
      },
      {
        "duration": 786,
        "start_time": "2023-03-18T13:10:02.436Z"
      },
      {
        "duration": 139,
        "start_time": "2023-03-18T13:10:03.224Z"
      },
      {
        "duration": 155,
        "start_time": "2023-03-18T13:10:03.364Z"
      },
      {
        "duration": 193,
        "start_time": "2023-03-18T13:10:03.521Z"
      },
      {
        "duration": 4,
        "start_time": "2023-03-18T13:10:03.716Z"
      },
      {
        "duration": 426,
        "start_time": "2023-03-18T13:10:03.722Z"
      },
      {
        "duration": 858,
        "start_time": "2023-03-18T13:10:04.150Z"
      },
      {
        "duration": 95,
        "start_time": "2023-03-18T13:10:05.010Z"
      },
      {
        "duration": 11,
        "start_time": "2023-03-18T13:10:05.107Z"
      },
      {
        "duration": 11,
        "start_time": "2023-03-18T13:10:05.120Z"
      },
      {
        "duration": 81,
        "start_time": "2023-03-18T13:10:05.133Z"
      },
      {
        "duration": 12,
        "start_time": "2023-03-18T13:10:05.218Z"
      },
      {
        "duration": 80,
        "start_time": "2023-03-18T13:10:05.232Z"
      },
      {
        "duration": 21,
        "start_time": "2023-03-18T13:10:05.314Z"
      },
      {
        "duration": 8,
        "start_time": "2023-03-18T13:10:05.389Z"
      },
      {
        "duration": 30,
        "start_time": "2023-03-18T13:10:05.398Z"
      },
      {
        "duration": 86,
        "start_time": "2023-03-18T13:10:05.430Z"
      },
      {
        "duration": 6,
        "start_time": "2023-03-18T13:10:05.518Z"
      },
      {
        "duration": 6,
        "start_time": "2023-03-18T13:10:05.526Z"
      },
      {
        "duration": 73,
        "start_time": "2023-03-18T13:10:05.534Z"
      },
      {
        "duration": 82,
        "start_time": "2023-03-18T13:10:05.609Z"
      },
      {
        "duration": 19,
        "start_time": "2023-03-18T13:10:05.693Z"
      },
      {
        "duration": 301,
        "start_time": "2023-03-18T13:10:05.714Z"
      },
      {
        "duration": 16,
        "start_time": "2023-03-18T13:10:06.017Z"
      },
      {
        "duration": 3,
        "start_time": "2023-03-18T13:10:06.089Z"
      },
      {
        "duration": 133,
        "start_time": "2023-03-18T13:10:06.094Z"
      },
      {
        "duration": 652,
        "start_time": "2023-03-18T13:10:06.229Z"
      },
      {
        "duration": 243,
        "start_time": "2023-03-18T13:10:06.883Z"
      },
      {
        "duration": 169,
        "start_time": "2023-03-18T13:10:07.128Z"
      },
      {
        "duration": 16,
        "start_time": "2023-03-18T13:10:07.299Z"
      },
      {
        "duration": 0,
        "start_time": "2023-03-18T13:10:07.317Z"
      },
      {
        "duration": 0,
        "start_time": "2023-03-18T13:10:07.318Z"
      },
      {
        "duration": 0,
        "start_time": "2023-03-18T13:10:07.320Z"
      },
      {
        "duration": 0,
        "start_time": "2023-03-18T13:10:07.321Z"
      },
      {
        "duration": 0,
        "start_time": "2023-03-18T13:10:07.322Z"
      },
      {
        "duration": 0,
        "start_time": "2023-03-18T13:10:07.323Z"
      },
      {
        "duration": 0,
        "start_time": "2023-03-18T13:10:07.324Z"
      },
      {
        "duration": 0,
        "start_time": "2023-03-18T13:10:07.325Z"
      },
      {
        "duration": 0,
        "start_time": "2023-03-18T13:10:07.326Z"
      },
      {
        "duration": 142,
        "start_time": "2023-03-18T13:10:25.405Z"
      },
      {
        "duration": 55,
        "start_time": "2023-03-18T13:10:27.906Z"
      },
      {
        "duration": 19,
        "start_time": "2023-03-18T13:10:48.642Z"
      },
      {
        "duration": 17,
        "start_time": "2023-03-18T13:11:00.459Z"
      },
      {
        "duration": 149,
        "start_time": "2023-03-18T13:11:02.951Z"
      },
      {
        "duration": 16,
        "start_time": "2023-03-18T13:11:03.579Z"
      },
      {
        "duration": 4,
        "start_time": "2023-03-18T13:11:23.284Z"
      },
      {
        "duration": 786,
        "start_time": "2023-03-18T13:11:23.290Z"
      },
      {
        "duration": 145,
        "start_time": "2023-03-18T13:11:24.078Z"
      },
      {
        "duration": 139,
        "start_time": "2023-03-18T13:11:24.225Z"
      },
      {
        "duration": 208,
        "start_time": "2023-03-18T13:11:24.366Z"
      },
      {
        "duration": 3,
        "start_time": "2023-03-18T13:11:24.576Z"
      },
      {
        "duration": 432,
        "start_time": "2023-03-18T13:11:24.581Z"
      },
      {
        "duration": 540,
        "start_time": "2023-03-18T13:11:25.015Z"
      },
      {
        "duration": 48,
        "start_time": "2023-03-18T13:11:25.558Z"
      },
      {
        "duration": 11,
        "start_time": "2023-03-18T13:11:25.608Z"
      },
      {
        "duration": 8,
        "start_time": "2023-03-18T13:11:25.620Z"
      },
      {
        "duration": 35,
        "start_time": "2023-03-18T13:11:25.630Z"
      },
      {
        "duration": 8,
        "start_time": "2023-03-18T13:11:25.689Z"
      },
      {
        "duration": 45,
        "start_time": "2023-03-18T13:11:25.701Z"
      },
      {
        "duration": 20,
        "start_time": "2023-03-18T13:11:25.748Z"
      },
      {
        "duration": 23,
        "start_time": "2023-03-18T13:11:25.770Z"
      },
      {
        "duration": 33,
        "start_time": "2023-03-18T13:11:25.794Z"
      },
      {
        "duration": 24,
        "start_time": "2023-03-18T13:11:25.829Z"
      },
      {
        "duration": 5,
        "start_time": "2023-03-18T13:11:25.855Z"
      },
      {
        "duration": 7,
        "start_time": "2023-03-18T13:11:25.889Z"
      },
      {
        "duration": 27,
        "start_time": "2023-03-18T13:11:25.897Z"
      },
      {
        "duration": 23,
        "start_time": "2023-03-18T13:11:25.926Z"
      },
      {
        "duration": 39,
        "start_time": "2023-03-18T13:11:25.951Z"
      },
      {
        "duration": 160,
        "start_time": "2023-03-18T13:11:25.992Z"
      },
      {
        "duration": 19,
        "start_time": "2023-03-18T13:11:29.158Z"
      },
      {
        "duration": 3,
        "start_time": "2023-03-18T13:11:29.850Z"
      },
      {
        "duration": 79,
        "start_time": "2023-03-18T13:11:30.445Z"
      },
      {
        "duration": 618,
        "start_time": "2023-03-18T13:11:31.407Z"
      },
      {
        "duration": 21,
        "start_time": "2023-03-18T13:11:33.933Z"
      },
      {
        "duration": 204,
        "start_time": "2023-03-18T13:11:40.112Z"
      },
      {
        "duration": 18,
        "start_time": "2023-03-18T13:11:41.630Z"
      },
      {
        "duration": 163,
        "start_time": "2023-03-18T13:11:42.483Z"
      },
      {
        "duration": 196,
        "start_time": "2023-03-18T13:12:28.699Z"
      },
      {
        "duration": 18,
        "start_time": "2023-03-18T13:12:30.014Z"
      },
      {
        "duration": 3,
        "start_time": "2023-03-18T13:12:36.160Z"
      },
      {
        "duration": 871,
        "start_time": "2023-03-18T13:12:36.165Z"
      },
      {
        "duration": 194,
        "start_time": "2023-03-18T13:12:37.037Z"
      },
      {
        "duration": 156,
        "start_time": "2023-03-18T13:12:37.234Z"
      },
      {
        "duration": 185,
        "start_time": "2023-03-18T13:12:37.392Z"
      },
      {
        "duration": 3,
        "start_time": "2023-03-18T13:12:37.579Z"
      },
      {
        "duration": 456,
        "start_time": "2023-03-18T13:12:37.590Z"
      },
      {
        "duration": 575,
        "start_time": "2023-03-18T13:12:38.048Z"
      },
      {
        "duration": 46,
        "start_time": "2023-03-18T13:12:38.626Z"
      },
      {
        "duration": 32,
        "start_time": "2023-03-18T13:12:38.674Z"
      },
      {
        "duration": 16,
        "start_time": "2023-03-18T13:12:38.708Z"
      },
      {
        "duration": 24,
        "start_time": "2023-03-18T13:12:38.726Z"
      },
      {
        "duration": 7,
        "start_time": "2023-03-18T13:12:38.752Z"
      },
      {
        "duration": 44,
        "start_time": "2023-03-18T13:12:38.761Z"
      },
      {
        "duration": 21,
        "start_time": "2023-03-18T13:12:38.807Z"
      },
      {
        "duration": 7,
        "start_time": "2023-03-18T13:12:38.830Z"
      },
      {
        "duration": 59,
        "start_time": "2023-03-18T13:12:38.839Z"
      },
      {
        "duration": 25,
        "start_time": "2023-03-18T13:12:38.899Z"
      },
      {
        "duration": 5,
        "start_time": "2023-03-18T13:12:38.926Z"
      },
      {
        "duration": 7,
        "start_time": "2023-03-18T13:12:38.933Z"
      },
      {
        "duration": 48,
        "start_time": "2023-03-18T13:12:38.941Z"
      },
      {
        "duration": 25,
        "start_time": "2023-03-18T13:12:38.991Z"
      },
      {
        "duration": 18,
        "start_time": "2023-03-18T13:12:39.018Z"
      },
      {
        "duration": 179,
        "start_time": "2023-03-18T13:12:39.039Z"
      },
      {
        "duration": 20,
        "start_time": "2023-03-18T13:12:39.220Z"
      },
      {
        "duration": 22,
        "start_time": "2023-03-18T13:12:39.241Z"
      },
      {
        "duration": 82,
        "start_time": "2023-03-18T13:12:39.265Z"
      },
      {
        "duration": 631,
        "start_time": "2023-03-18T13:12:39.349Z"
      },
      {
        "duration": 23,
        "start_time": "2023-03-18T13:12:39.982Z"
      },
      {
        "duration": 50,
        "start_time": "2023-03-18T13:12:40.007Z"
      },
      {
        "duration": 20,
        "start_time": "2023-03-18T13:12:47.008Z"
      },
      {
        "duration": 115,
        "start_time": "2023-03-18T13:12:50.791Z"
      },
      {
        "duration": 4300,
        "start_time": "2023-03-18T13:12:53.299Z"
      },
      {
        "duration": 4067,
        "start_time": "2023-03-19T12:00:34.562Z"
      },
      {
        "duration": 3000,
        "start_time": "2023-03-19T12:00:38.631Z"
      },
      {
        "duration": 111,
        "start_time": "2023-03-19T12:00:41.632Z"
      },
      {
        "duration": 124,
        "start_time": "2023-03-19T12:00:41.745Z"
      },
      {
        "duration": 175,
        "start_time": "2023-03-19T12:00:41.871Z"
      },
      {
        "duration": 3,
        "start_time": "2023-03-19T12:00:42.048Z"
      },
      {
        "duration": 497,
        "start_time": "2023-03-19T12:00:42.052Z"
      },
      {
        "duration": 594,
        "start_time": "2023-03-19T12:00:42.551Z"
      },
      {
        "duration": 53,
        "start_time": "2023-03-19T12:00:43.147Z"
      },
      {
        "duration": 14,
        "start_time": "2023-03-19T12:00:43.203Z"
      },
      {
        "duration": 9,
        "start_time": "2023-03-19T12:00:43.219Z"
      },
      {
        "duration": 49,
        "start_time": "2023-03-19T12:00:43.230Z"
      },
      {
        "duration": 6,
        "start_time": "2023-03-19T12:00:43.282Z"
      },
      {
        "duration": 45,
        "start_time": "2023-03-19T12:00:43.290Z"
      },
      {
        "duration": 27,
        "start_time": "2023-03-19T12:00:43.336Z"
      },
      {
        "duration": 7,
        "start_time": "2023-03-19T12:00:43.365Z"
      },
      {
        "duration": 57,
        "start_time": "2023-03-19T12:00:43.375Z"
      },
      {
        "duration": 35,
        "start_time": "2023-03-19T12:00:43.434Z"
      },
      {
        "duration": 6,
        "start_time": "2023-03-19T12:00:43.471Z"
      },
      {
        "duration": 21,
        "start_time": "2023-03-19T12:00:43.479Z"
      },
      {
        "duration": 28,
        "start_time": "2023-03-19T12:00:43.502Z"
      },
      {
        "duration": 29,
        "start_time": "2023-03-19T12:00:43.532Z"
      },
      {
        "duration": 21,
        "start_time": "2023-03-19T12:00:43.563Z"
      },
      {
        "duration": 176,
        "start_time": "2023-03-19T12:00:43.586Z"
      },
      {
        "duration": 19,
        "start_time": "2023-03-19T12:00:43.764Z"
      },
      {
        "duration": 3,
        "start_time": "2023-03-19T12:00:43.784Z"
      },
      {
        "duration": 194,
        "start_time": "2023-03-19T12:00:43.789Z"
      },
      {
        "duration": 491,
        "start_time": "2023-03-19T12:00:43.988Z"
      },
      {
        "duration": 123,
        "start_time": "2023-03-19T12:01:39.482Z"
      },
      {
        "duration": 1090,
        "start_time": "2023-03-19T12:01:40.315Z"
      },
      {
        "duration": 2194,
        "start_time": "2023-03-19T12:05:48.828Z"
      },
      {
        "duration": 875,
        "start_time": "2023-03-19T12:05:51.025Z"
      },
      {
        "duration": 117,
        "start_time": "2023-03-19T12:05:51.901Z"
      },
      {
        "duration": 132,
        "start_time": "2023-03-19T12:05:52.020Z"
      },
      {
        "duration": 220,
        "start_time": "2023-03-19T12:05:52.154Z"
      },
      {
        "duration": 4,
        "start_time": "2023-03-19T12:05:52.376Z"
      },
      {
        "duration": 488,
        "start_time": "2023-03-19T12:05:52.382Z"
      },
      {
        "duration": 578,
        "start_time": "2023-03-19T12:05:52.872Z"
      },
      {
        "duration": 50,
        "start_time": "2023-03-19T12:05:53.452Z"
      },
      {
        "duration": 16,
        "start_time": "2023-03-19T12:05:53.505Z"
      },
      {
        "duration": 9,
        "start_time": "2023-03-19T12:05:53.522Z"
      },
      {
        "duration": 50,
        "start_time": "2023-03-19T12:05:53.533Z"
      },
      {
        "duration": 8,
        "start_time": "2023-03-19T12:05:53.585Z"
      },
      {
        "duration": 37,
        "start_time": "2023-03-19T12:05:53.595Z"
      },
      {
        "duration": 55,
        "start_time": "2023-03-19T12:05:53.634Z"
      },
      {
        "duration": 10,
        "start_time": "2023-03-19T12:05:53.691Z"
      },
      {
        "duration": 121,
        "start_time": "2023-03-19T12:05:53.703Z"
      },
      {
        "duration": 40,
        "start_time": "2023-03-19T12:05:53.826Z"
      },
      {
        "duration": 6,
        "start_time": "2023-03-19T12:05:53.867Z"
      },
      {
        "duration": 24,
        "start_time": "2023-03-19T12:05:53.875Z"
      },
      {
        "duration": 31,
        "start_time": "2023-03-19T12:05:53.902Z"
      },
      {
        "duration": 39,
        "start_time": "2023-03-19T12:05:53.935Z"
      },
      {
        "duration": 24,
        "start_time": "2023-03-19T12:05:53.976Z"
      },
      {
        "duration": 222,
        "start_time": "2023-03-19T12:05:54.003Z"
      },
      {
        "duration": 18,
        "start_time": "2023-03-19T12:05:54.227Z"
      },
      {
        "duration": 15,
        "start_time": "2023-03-19T12:05:54.247Z"
      },
      {
        "duration": 128,
        "start_time": "2023-03-19T12:05:54.264Z"
      },
      {
        "duration": 32,
        "start_time": "2023-03-19T12:05:54.395Z"
      },
      {
        "duration": 1039,
        "start_time": "2023-03-19T12:05:54.429Z"
      },
      {
        "duration": 2940,
        "start_time": "2023-03-19T12:06:02.004Z"
      },
      {
        "duration": 118,
        "start_time": "2023-03-19T12:06:29.483Z"
      },
      {
        "duration": 12896,
        "start_time": "2023-03-19T12:06:44.166Z"
      },
      {
        "duration": 2240,
        "start_time": "2023-03-19T12:09:26.477Z"
      },
      {
        "duration": 869,
        "start_time": "2023-03-19T12:09:28.719Z"
      },
      {
        "duration": 119,
        "start_time": "2023-03-19T12:09:29.590Z"
      },
      {
        "duration": 108,
        "start_time": "2023-03-19T12:09:29.711Z"
      },
      {
        "duration": 183,
        "start_time": "2023-03-19T12:09:29.820Z"
      },
      {
        "duration": 3,
        "start_time": "2023-03-19T12:09:30.005Z"
      },
      {
        "duration": 486,
        "start_time": "2023-03-19T12:09:30.009Z"
      },
      {
        "duration": 609,
        "start_time": "2023-03-19T12:09:30.497Z"
      },
      {
        "duration": 64,
        "start_time": "2023-03-19T12:09:31.109Z"
      },
      {
        "duration": 61,
        "start_time": "2023-03-19T12:09:31.177Z"
      },
      {
        "duration": 37,
        "start_time": "2023-03-19T12:09:31.240Z"
      },
      {
        "duration": 60,
        "start_time": "2023-03-19T12:09:31.279Z"
      },
      {
        "duration": 37,
        "start_time": "2023-03-19T12:09:31.342Z"
      },
      {
        "duration": 68,
        "start_time": "2023-03-19T12:09:31.381Z"
      },
      {
        "duration": 41,
        "start_time": "2023-03-19T12:09:31.451Z"
      },
      {
        "duration": 21,
        "start_time": "2023-03-19T12:09:31.494Z"
      },
      {
        "duration": 76,
        "start_time": "2023-03-19T12:09:31.517Z"
      },
      {
        "duration": 107,
        "start_time": "2023-03-19T12:09:31.596Z"
      },
      {
        "duration": 6,
        "start_time": "2023-03-19T12:09:31.705Z"
      },
      {
        "duration": 14,
        "start_time": "2023-03-19T12:09:31.713Z"
      },
      {
        "duration": 45,
        "start_time": "2023-03-19T12:09:31.729Z"
      },
      {
        "duration": 54,
        "start_time": "2023-03-19T12:09:31.776Z"
      },
      {
        "duration": 43,
        "start_time": "2023-03-19T12:09:31.833Z"
      },
      {
        "duration": 177,
        "start_time": "2023-03-19T12:09:31.878Z"
      },
      {
        "duration": 20,
        "start_time": "2023-03-19T12:09:32.056Z"
      },
      {
        "duration": 3,
        "start_time": "2023-03-19T12:09:32.078Z"
      },
      {
        "duration": 155,
        "start_time": "2023-03-19T12:09:32.083Z"
      },
      {
        "duration": 41,
        "start_time": "2023-03-19T12:09:32.242Z"
      },
      {
        "duration": 1146,
        "start_time": "2023-03-19T12:09:32.285Z"
      },
      {
        "duration": 3501,
        "start_time": "2023-03-19T12:09:33.433Z"
      },
      {
        "duration": 12342,
        "start_time": "2023-03-19T12:09:36.936Z"
      }
    ],
    "kernelspec": {
      "display_name": "Python 3 (ipykernel)",
      "language": "python",
      "name": "python3"
    },
    "language_info": {
      "codemirror_mode": {
        "name": "ipython",
        "version": 3
      },
      "file_extension": ".py",
      "mimetype": "text/x-python",
      "name": "python",
      "nbconvert_exporter": "python",
      "pygments_lexer": "ipython3",
      "version": "3.9.7"
    },
    "toc": {
      "base_numbering": 1,
      "nav_menu": {},
      "number_sections": true,
      "sideBar": true,
      "skip_h1_title": true,
      "title_cell": "Table of Contents",
      "title_sidebar": "Contents",
      "toc_cell": false,
      "toc_position": {
        "height": "calc(100% - 180px)",
        "left": "10px",
        "top": "150px",
        "width": "270.195px"
      },
      "toc_section_display": true,
      "toc_window_display": true
    },
    "colab": {
      "provenance": []
    }
  },
  "nbformat": 4,
  "nbformat_minor": 0
}