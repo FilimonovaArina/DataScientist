{
  "cells": [
    {
      "cell_type": "markdown",
      "id": "5ed5ead5",
      "metadata": {
        "deletable": false,
        "editable": false,
        "id": "5ed5ead5"
      },
      "source": [
        "# Исследование надежности заемщиков\n"
      ]
    },
    {
      "cell_type": "markdown",
      "source": [
        "Для оценки надежности заемщиков были выполнены несколько этапов исследования: изучение данных, подготовка информации для анализа, категоризация данных и определение зависимости между семейным положением, количеством детей и выплатами кредитов."
      ],
      "metadata": {
        "id": "LVOaImnIHX-2"
      },
      "id": "LVOaImnIHX-2"
    },
    {
      "cell_type": "markdown",
      "id": "ccba14e3",
      "metadata": {
        "deletable": false,
        "editable": false,
        "id": "ccba14e3"
      },
      "source": [
        "## Изучение данных"
      ]
    },
    {
      "cell_type": "code",
      "execution_count": null,
      "id": "8ec050cf",
      "metadata": {
        "deletable": false,
        "id": "8ec050cf"
      },
      "outputs": [],
      "source": [
        "import pandas as pd\n",
        "\n",
        "try:\n",
        "    data = pd.read_csv('/datasets/data.csv')\n",
        "except:\n",
        "    data = pd.read_csv('/Users/arina200212yandex.ru/Desktop/data.csv')"
      ]
    },
    {
      "cell_type": "code",
      "execution_count": null,
      "id": "c29bc64a",
      "metadata": {
        "deletable": false,
        "id": "c29bc64a",
        "outputId": "1a8f3ef2-d323-4ec2-ddf7-89670b5944c4"
      },
      "outputs": [
        {
          "data": {
            "text/html": [
              "<div>\n",
              "<style scoped>\n",
              "    .dataframe tbody tr th:only-of-type {\n",
              "        vertical-align: middle;\n",
              "    }\n",
              "\n",
              "    .dataframe tbody tr th {\n",
              "        vertical-align: top;\n",
              "    }\n",
              "\n",
              "    .dataframe thead th {\n",
              "        text-align: right;\n",
              "    }\n",
              "</style>\n",
              "<table border=\"1\" class=\"dataframe\">\n",
              "  <thead>\n",
              "    <tr style=\"text-align: right;\">\n",
              "      <th></th>\n",
              "      <th>children</th>\n",
              "      <th>days_employed</th>\n",
              "      <th>dob_years</th>\n",
              "      <th>education</th>\n",
              "      <th>education_id</th>\n",
              "      <th>family_status</th>\n",
              "      <th>family_status_id</th>\n",
              "      <th>gender</th>\n",
              "      <th>income_type</th>\n",
              "      <th>debt</th>\n",
              "      <th>total_income</th>\n",
              "      <th>purpose</th>\n",
              "    </tr>\n",
              "  </thead>\n",
              "  <tbody>\n",
              "    <tr>\n",
              "      <th>0</th>\n",
              "      <td>1</td>\n",
              "      <td>-8437.673028</td>\n",
              "      <td>42</td>\n",
              "      <td>высшее</td>\n",
              "      <td>0</td>\n",
              "      <td>женат / замужем</td>\n",
              "      <td>0</td>\n",
              "      <td>F</td>\n",
              "      <td>сотрудник</td>\n",
              "      <td>0</td>\n",
              "      <td>253875.639453</td>\n",
              "      <td>покупка жилья</td>\n",
              "    </tr>\n",
              "    <tr>\n",
              "      <th>1</th>\n",
              "      <td>1</td>\n",
              "      <td>-4024.803754</td>\n",
              "      <td>36</td>\n",
              "      <td>среднее</td>\n",
              "      <td>1</td>\n",
              "      <td>женат / замужем</td>\n",
              "      <td>0</td>\n",
              "      <td>F</td>\n",
              "      <td>сотрудник</td>\n",
              "      <td>0</td>\n",
              "      <td>112080.014102</td>\n",
              "      <td>приобретение автомобиля</td>\n",
              "    </tr>\n",
              "    <tr>\n",
              "      <th>2</th>\n",
              "      <td>0</td>\n",
              "      <td>-5623.422610</td>\n",
              "      <td>33</td>\n",
              "      <td>Среднее</td>\n",
              "      <td>1</td>\n",
              "      <td>женат / замужем</td>\n",
              "      <td>0</td>\n",
              "      <td>M</td>\n",
              "      <td>сотрудник</td>\n",
              "      <td>0</td>\n",
              "      <td>145885.952297</td>\n",
              "      <td>покупка жилья</td>\n",
              "    </tr>\n",
              "    <tr>\n",
              "      <th>3</th>\n",
              "      <td>3</td>\n",
              "      <td>-4124.747207</td>\n",
              "      <td>32</td>\n",
              "      <td>среднее</td>\n",
              "      <td>1</td>\n",
              "      <td>женат / замужем</td>\n",
              "      <td>0</td>\n",
              "      <td>M</td>\n",
              "      <td>сотрудник</td>\n",
              "      <td>0</td>\n",
              "      <td>267628.550329</td>\n",
              "      <td>дополнительное образование</td>\n",
              "    </tr>\n",
              "    <tr>\n",
              "      <th>4</th>\n",
              "      <td>0</td>\n",
              "      <td>340266.072047</td>\n",
              "      <td>53</td>\n",
              "      <td>среднее</td>\n",
              "      <td>1</td>\n",
              "      <td>гражданский брак</td>\n",
              "      <td>1</td>\n",
              "      <td>F</td>\n",
              "      <td>пенсионер</td>\n",
              "      <td>0</td>\n",
              "      <td>158616.077870</td>\n",
              "      <td>сыграть свадьбу</td>\n",
              "    </tr>\n",
              "    <tr>\n",
              "      <th>5</th>\n",
              "      <td>0</td>\n",
              "      <td>-926.185831</td>\n",
              "      <td>27</td>\n",
              "      <td>высшее</td>\n",
              "      <td>0</td>\n",
              "      <td>гражданский брак</td>\n",
              "      <td>1</td>\n",
              "      <td>M</td>\n",
              "      <td>компаньон</td>\n",
              "      <td>0</td>\n",
              "      <td>255763.565419</td>\n",
              "      <td>покупка жилья</td>\n",
              "    </tr>\n",
              "    <tr>\n",
              "      <th>6</th>\n",
              "      <td>0</td>\n",
              "      <td>-2879.202052</td>\n",
              "      <td>43</td>\n",
              "      <td>высшее</td>\n",
              "      <td>0</td>\n",
              "      <td>женат / замужем</td>\n",
              "      <td>0</td>\n",
              "      <td>F</td>\n",
              "      <td>компаньон</td>\n",
              "      <td>0</td>\n",
              "      <td>240525.971920</td>\n",
              "      <td>операции с жильем</td>\n",
              "    </tr>\n",
              "    <tr>\n",
              "      <th>7</th>\n",
              "      <td>0</td>\n",
              "      <td>-152.779569</td>\n",
              "      <td>50</td>\n",
              "      <td>СРЕДНЕЕ</td>\n",
              "      <td>1</td>\n",
              "      <td>женат / замужем</td>\n",
              "      <td>0</td>\n",
              "      <td>M</td>\n",
              "      <td>сотрудник</td>\n",
              "      <td>0</td>\n",
              "      <td>135823.934197</td>\n",
              "      <td>образование</td>\n",
              "    </tr>\n",
              "    <tr>\n",
              "      <th>8</th>\n",
              "      <td>2</td>\n",
              "      <td>-6929.865299</td>\n",
              "      <td>35</td>\n",
              "      <td>ВЫСШЕЕ</td>\n",
              "      <td>0</td>\n",
              "      <td>гражданский брак</td>\n",
              "      <td>1</td>\n",
              "      <td>F</td>\n",
              "      <td>сотрудник</td>\n",
              "      <td>0</td>\n",
              "      <td>95856.832424</td>\n",
              "      <td>на проведение свадьбы</td>\n",
              "    </tr>\n",
              "    <tr>\n",
              "      <th>9</th>\n",
              "      <td>0</td>\n",
              "      <td>-2188.756445</td>\n",
              "      <td>41</td>\n",
              "      <td>среднее</td>\n",
              "      <td>1</td>\n",
              "      <td>женат / замужем</td>\n",
              "      <td>0</td>\n",
              "      <td>M</td>\n",
              "      <td>сотрудник</td>\n",
              "      <td>0</td>\n",
              "      <td>144425.938277</td>\n",
              "      <td>покупка жилья для семьи</td>\n",
              "    </tr>\n",
              "    <tr>\n",
              "      <th>10</th>\n",
              "      <td>2</td>\n",
              "      <td>-4171.483647</td>\n",
              "      <td>36</td>\n",
              "      <td>высшее</td>\n",
              "      <td>0</td>\n",
              "      <td>женат / замужем</td>\n",
              "      <td>0</td>\n",
              "      <td>M</td>\n",
              "      <td>компаньон</td>\n",
              "      <td>0</td>\n",
              "      <td>113943.491460</td>\n",
              "      <td>покупка недвижимости</td>\n",
              "    </tr>\n",
              "    <tr>\n",
              "      <th>11</th>\n",
              "      <td>0</td>\n",
              "      <td>-792.701887</td>\n",
              "      <td>40</td>\n",
              "      <td>среднее</td>\n",
              "      <td>1</td>\n",
              "      <td>женат / замужем</td>\n",
              "      <td>0</td>\n",
              "      <td>F</td>\n",
              "      <td>сотрудник</td>\n",
              "      <td>0</td>\n",
              "      <td>77069.234271</td>\n",
              "      <td>покупка коммерческой недвижимости</td>\n",
              "    </tr>\n",
              "    <tr>\n",
              "      <th>12</th>\n",
              "      <td>0</td>\n",
              "      <td>NaN</td>\n",
              "      <td>65</td>\n",
              "      <td>среднее</td>\n",
              "      <td>1</td>\n",
              "      <td>гражданский брак</td>\n",
              "      <td>1</td>\n",
              "      <td>M</td>\n",
              "      <td>пенсионер</td>\n",
              "      <td>0</td>\n",
              "      <td>NaN</td>\n",
              "      <td>сыграть свадьбу</td>\n",
              "    </tr>\n",
              "    <tr>\n",
              "      <th>13</th>\n",
              "      <td>0</td>\n",
              "      <td>-1846.641941</td>\n",
              "      <td>54</td>\n",
              "      <td>неоконченное высшее</td>\n",
              "      <td>2</td>\n",
              "      <td>женат / замужем</td>\n",
              "      <td>0</td>\n",
              "      <td>F</td>\n",
              "      <td>сотрудник</td>\n",
              "      <td>0</td>\n",
              "      <td>130458.228857</td>\n",
              "      <td>приобретение автомобиля</td>\n",
              "    </tr>\n",
              "    <tr>\n",
              "      <th>14</th>\n",
              "      <td>0</td>\n",
              "      <td>-1844.956182</td>\n",
              "      <td>56</td>\n",
              "      <td>высшее</td>\n",
              "      <td>0</td>\n",
              "      <td>гражданский брак</td>\n",
              "      <td>1</td>\n",
              "      <td>F</td>\n",
              "      <td>компаньон</td>\n",
              "      <td>1</td>\n",
              "      <td>165127.911772</td>\n",
              "      <td>покупка жилой недвижимости</td>\n",
              "    </tr>\n",
              "    <tr>\n",
              "      <th>15</th>\n",
              "      <td>1</td>\n",
              "      <td>-972.364419</td>\n",
              "      <td>26</td>\n",
              "      <td>среднее</td>\n",
              "      <td>1</td>\n",
              "      <td>женат / замужем</td>\n",
              "      <td>0</td>\n",
              "      <td>F</td>\n",
              "      <td>сотрудник</td>\n",
              "      <td>0</td>\n",
              "      <td>116820.904450</td>\n",
              "      <td>строительство собственной недвижимости</td>\n",
              "    </tr>\n",
              "    <tr>\n",
              "      <th>16</th>\n",
              "      <td>0</td>\n",
              "      <td>-1719.934226</td>\n",
              "      <td>35</td>\n",
              "      <td>среднее</td>\n",
              "      <td>1</td>\n",
              "      <td>женат / замужем</td>\n",
              "      <td>0</td>\n",
              "      <td>F</td>\n",
              "      <td>сотрудник</td>\n",
              "      <td>0</td>\n",
              "      <td>289202.704229</td>\n",
              "      <td>недвижимость</td>\n",
              "    </tr>\n",
              "    <tr>\n",
              "      <th>17</th>\n",
              "      <td>0</td>\n",
              "      <td>-2369.999720</td>\n",
              "      <td>33</td>\n",
              "      <td>высшее</td>\n",
              "      <td>0</td>\n",
              "      <td>гражданский брак</td>\n",
              "      <td>1</td>\n",
              "      <td>M</td>\n",
              "      <td>сотрудник</td>\n",
              "      <td>0</td>\n",
              "      <td>90410.586745</td>\n",
              "      <td>строительство недвижимости</td>\n",
              "    </tr>\n",
              "    <tr>\n",
              "      <th>18</th>\n",
              "      <td>0</td>\n",
              "      <td>400281.136913</td>\n",
              "      <td>53</td>\n",
              "      <td>среднее</td>\n",
              "      <td>1</td>\n",
              "      <td>вдовец / вдова</td>\n",
              "      <td>2</td>\n",
              "      <td>F</td>\n",
              "      <td>пенсионер</td>\n",
              "      <td>0</td>\n",
              "      <td>56823.777243</td>\n",
              "      <td>на покупку подержанного автомобиля</td>\n",
              "    </tr>\n",
              "    <tr>\n",
              "      <th>19</th>\n",
              "      <td>0</td>\n",
              "      <td>-10038.818549</td>\n",
              "      <td>48</td>\n",
              "      <td>СРЕДНЕЕ</td>\n",
              "      <td>1</td>\n",
              "      <td>в разводе</td>\n",
              "      <td>3</td>\n",
              "      <td>F</td>\n",
              "      <td>сотрудник</td>\n",
              "      <td>0</td>\n",
              "      <td>242831.107982</td>\n",
              "      <td>на покупку своего автомобиля</td>\n",
              "    </tr>\n",
              "  </tbody>\n",
              "</table>\n",
              "</div>"
            ],
            "text/plain": [
              "    children  days_employed  dob_years            education  education_id  \\\n",
              "0          1   -8437.673028         42               высшее             0   \n",
              "1          1   -4024.803754         36              среднее             1   \n",
              "2          0   -5623.422610         33              Среднее             1   \n",
              "3          3   -4124.747207         32              среднее             1   \n",
              "4          0  340266.072047         53              среднее             1   \n",
              "5          0    -926.185831         27               высшее             0   \n",
              "6          0   -2879.202052         43               высшее             0   \n",
              "7          0    -152.779569         50              СРЕДНЕЕ             1   \n",
              "8          2   -6929.865299         35               ВЫСШЕЕ             0   \n",
              "9          0   -2188.756445         41              среднее             1   \n",
              "10         2   -4171.483647         36               высшее             0   \n",
              "11         0    -792.701887         40              среднее             1   \n",
              "12         0            NaN         65              среднее             1   \n",
              "13         0   -1846.641941         54  неоконченное высшее             2   \n",
              "14         0   -1844.956182         56               высшее             0   \n",
              "15         1    -972.364419         26              среднее             1   \n",
              "16         0   -1719.934226         35              среднее             1   \n",
              "17         0   -2369.999720         33               высшее             0   \n",
              "18         0  400281.136913         53              среднее             1   \n",
              "19         0  -10038.818549         48              СРЕДНЕЕ             1   \n",
              "\n",
              "       family_status  family_status_id gender income_type  debt  \\\n",
              "0    женат / замужем                 0      F   сотрудник     0   \n",
              "1    женат / замужем                 0      F   сотрудник     0   \n",
              "2    женат / замужем                 0      M   сотрудник     0   \n",
              "3    женат / замужем                 0      M   сотрудник     0   \n",
              "4   гражданский брак                 1      F   пенсионер     0   \n",
              "5   гражданский брак                 1      M   компаньон     0   \n",
              "6    женат / замужем                 0      F   компаньон     0   \n",
              "7    женат / замужем                 0      M   сотрудник     0   \n",
              "8   гражданский брак                 1      F   сотрудник     0   \n",
              "9    женат / замужем                 0      M   сотрудник     0   \n",
              "10   женат / замужем                 0      M   компаньон     0   \n",
              "11   женат / замужем                 0      F   сотрудник     0   \n",
              "12  гражданский брак                 1      M   пенсионер     0   \n",
              "13   женат / замужем                 0      F   сотрудник     0   \n",
              "14  гражданский брак                 1      F   компаньон     1   \n",
              "15   женат / замужем                 0      F   сотрудник     0   \n",
              "16   женат / замужем                 0      F   сотрудник     0   \n",
              "17  гражданский брак                 1      M   сотрудник     0   \n",
              "18    вдовец / вдова                 2      F   пенсионер     0   \n",
              "19         в разводе                 3      F   сотрудник     0   \n",
              "\n",
              "     total_income                                 purpose  \n",
              "0   253875.639453                           покупка жилья  \n",
              "1   112080.014102                 приобретение автомобиля  \n",
              "2   145885.952297                           покупка жилья  \n",
              "3   267628.550329              дополнительное образование  \n",
              "4   158616.077870                         сыграть свадьбу  \n",
              "5   255763.565419                           покупка жилья  \n",
              "6   240525.971920                       операции с жильем  \n",
              "7   135823.934197                             образование  \n",
              "8    95856.832424                   на проведение свадьбы  \n",
              "9   144425.938277                 покупка жилья для семьи  \n",
              "10  113943.491460                    покупка недвижимости  \n",
              "11   77069.234271       покупка коммерческой недвижимости  \n",
              "12            NaN                         сыграть свадьбу  \n",
              "13  130458.228857                 приобретение автомобиля  \n",
              "14  165127.911772              покупка жилой недвижимости  \n",
              "15  116820.904450  строительство собственной недвижимости  \n",
              "16  289202.704229                            недвижимость  \n",
              "17   90410.586745              строительство недвижимости  \n",
              "18   56823.777243      на покупку подержанного автомобиля  \n",
              "19  242831.107982            на покупку своего автомобиля  "
            ]
          },
          "execution_count": 2,
          "metadata": {},
          "output_type": "execute_result"
        }
      ],
      "source": [
        "data.head(20)"
      ]
    },
    {
      "cell_type": "code",
      "execution_count": null,
      "id": "e6a2a016",
      "metadata": {
        "deletable": false,
        "id": "e6a2a016",
        "outputId": "15376089-8dad-46c9-b520-c05248d43158"
      },
      "outputs": [
        {
          "name": "stdout",
          "output_type": "stream",
          "text": [
            "<class 'pandas.core.frame.DataFrame'>\n",
            "RangeIndex: 21525 entries, 0 to 21524\n",
            "Data columns (total 12 columns):\n",
            " #   Column            Non-Null Count  Dtype  \n",
            "---  ------            --------------  -----  \n",
            " 0   children          21525 non-null  int64  \n",
            " 1   days_employed     19351 non-null  float64\n",
            " 2   dob_years         21525 non-null  int64  \n",
            " 3   education         21525 non-null  object \n",
            " 4   education_id      21525 non-null  int64  \n",
            " 5   family_status     21525 non-null  object \n",
            " 6   family_status_id  21525 non-null  int64  \n",
            " 7   gender            21525 non-null  object \n",
            " 8   income_type       21525 non-null  object \n",
            " 9   debt              21525 non-null  int64  \n",
            " 10  total_income      19351 non-null  float64\n",
            " 11  purpose           21525 non-null  object \n",
            "dtypes: float64(2), int64(5), object(5)\n",
            "memory usage: 2.0+ MB\n"
          ]
        }
      ],
      "source": [
        "data.info()"
      ]
    },
    {
      "cell_type": "markdown",
      "id": "924e18db",
      "metadata": {
        "deletable": false,
        "editable": false,
        "id": "924e18db"
      },
      "source": [
        "## Предобработка данных"
      ]
    },
    {
      "cell_type": "markdown",
      "id": "d3bd6e31",
      "metadata": {
        "deletable": false,
        "editable": false,
        "id": "d3bd6e31"
      },
      "source": [
        "### Удаление пропусков"
      ]
    },
    {
      "cell_type": "code",
      "execution_count": null,
      "id": "b7c70831",
      "metadata": {
        "colab": {
          "base_uri": "https://localhost:8080/",
          "height": 169
        },
        "deletable": false,
        "id": "b7c70831",
        "outputId": "019d77e0-d2f7-4925-d0a4-08afbb795271"
      },
      "outputs": [
        {
          "data": {
            "text/plain": [
              "children               0\n",
              "days_employed       2174\n",
              "dob_years              0\n",
              "education              0\n",
              "education_id           0\n",
              "family_status          0\n",
              "family_status_id       0\n",
              "gender                 0\n",
              "income_type            0\n",
              "debt                   0\n",
              "total_income        2174\n",
              "purpose                0\n",
              "dtype: int64"
            ]
          },
          "execution_count": 4,
          "metadata": {},
          "output_type": "execute_result"
        }
      ],
      "source": [
        "data.isna().sum()"
      ]
    },
    {
      "cell_type": "code",
      "execution_count": null,
      "id": "a88bd468",
      "metadata": {
        "deletable": false,
        "id": "a88bd468"
      },
      "outputs": [],
      "source": [
        "for t in data['income_type'].unique():\n",
        "    data.loc[(data['income_type'] == t) & (data['total_income'].isna()), 'total_income'] = \\\n",
        "    data.loc[(data['income_type'] == t), 'total_income'].median()"
      ]
    },
    {
      "cell_type": "markdown",
      "id": "e024cf5e",
      "metadata": {
        "deletable": false,
        "editable": false,
        "id": "e024cf5e"
      },
      "source": [
        "### Обработка аномальных значений"
      ]
    },
    {
      "cell_type": "code",
      "execution_count": null,
      "id": "66ae6e54",
      "metadata": {
        "deletable": false,
        "id": "66ae6e54"
      },
      "outputs": [],
      "source": [
        "data['days_employed'] = data['days_employed'].abs()"
      ]
    },
    {
      "cell_type": "code",
      "execution_count": null,
      "id": "6c1e7f49",
      "metadata": {
        "deletable": false,
        "id": "6c1e7f49",
        "outputId": "73f62dfd-78fb-4cd4-a7fb-3af63cb37780"
      },
      "outputs": [
        {
          "data": {
            "text/plain": [
              "income_type\n",
              "безработный        366413.652744\n",
              "в декрете            3296.759962\n",
              "госслужащий          2689.368353\n",
              "компаньон            1547.382223\n",
              "пенсионер          365213.306266\n",
              "предприниматель       520.848083\n",
              "сотрудник            1574.202821\n",
              "студент               578.751554\n",
              "Name: days_employed, dtype: float64"
            ]
          },
          "execution_count": 7,
          "metadata": {},
          "output_type": "execute_result"
        }
      ],
      "source": [
        "data.groupby('income_type')['days_employed'].agg('median')"
      ]
    },
    {
      "cell_type": "code",
      "execution_count": null,
      "id": "4f9b0d94",
      "metadata": {
        "deletable": false,
        "id": "4f9b0d94",
        "outputId": "fe116b74-cf5b-43a5-f77f-16a5e037b2df"
      },
      "outputs": [
        {
          "data": {
            "text/plain": [
              "array([ 1,  0,  3,  2, -1,  4, 20,  5])"
            ]
          },
          "execution_count": 8,
          "metadata": {},
          "output_type": "execute_result"
        }
      ],
      "source": [
        "data['children'].unique()"
      ]
    },
    {
      "cell_type": "code",
      "execution_count": null,
      "id": "1a58104f",
      "metadata": {
        "deletable": false,
        "id": "1a58104f"
      },
      "outputs": [],
      "source": [
        "data = data[(data['children'] != -1) & (data['children'] != 20)]"
      ]
    },
    {
      "cell_type": "code",
      "execution_count": null,
      "id": "4c8266e0",
      "metadata": {
        "deletable": false,
        "id": "4c8266e0",
        "outputId": "79ef19ba-5c0e-4c98-8b9d-b782de76c379"
      },
      "outputs": [
        {
          "data": {
            "text/plain": [
              "array([1, 0, 3, 2, 4, 5])"
            ]
          },
          "execution_count": 10,
          "metadata": {},
          "output_type": "execute_result"
        }
      ],
      "source": [
        "data['children'].unique()"
      ]
    },
    {
      "cell_type": "markdown",
      "id": "6d204f15",
      "metadata": {
        "deletable": false,
        "editable": false,
        "id": "6d204f15"
      },
      "source": [
        "### Удаление пропусков (продолжение)"
      ]
    },
    {
      "cell_type": "code",
      "execution_count": null,
      "id": "c22f895a",
      "metadata": {
        "deletable": false,
        "id": "c22f895a"
      },
      "outputs": [],
      "source": [
        "for t in data['income_type'].unique():\n",
        "    data.loc[(data['income_type'] == t) & (data['days_employed'].isna()), 'days_employed'] = \\\n",
        "    data.loc[(data['income_type'] == t), 'days_employed'].median()"
      ]
    },
    {
      "cell_type": "code",
      "execution_count": null,
      "id": "35946310",
      "metadata": {
        "deletable": false,
        "id": "35946310",
        "outputId": "026d670b-1d22-48f0-c57a-4bdc9ccaf680"
      },
      "outputs": [
        {
          "data": {
            "text/plain": [
              "children            0\n",
              "days_employed       0\n",
              "dob_years           0\n",
              "education           0\n",
              "education_id        0\n",
              "family_status       0\n",
              "family_status_id    0\n",
              "gender              0\n",
              "income_type         0\n",
              "debt                0\n",
              "total_income        0\n",
              "purpose             0\n",
              "dtype: int64"
            ]
          },
          "execution_count": 12,
          "metadata": {},
          "output_type": "execute_result"
        }
      ],
      "source": [
        "data.isna().sum()"
      ]
    },
    {
      "cell_type": "markdown",
      "id": "81f9272f",
      "metadata": {
        "deletable": false,
        "editable": false,
        "id": "81f9272f"
      },
      "source": [
        "### Изменение типов данных"
      ]
    },
    {
      "cell_type": "code",
      "execution_count": null,
      "id": "0d6a5dfc",
      "metadata": {
        "deletable": false,
        "id": "0d6a5dfc"
      },
      "outputs": [],
      "source": [
        "data['total_income'] = data['total_income'].astype(int)"
      ]
    },
    {
      "cell_type": "markdown",
      "id": "5eb952ad",
      "metadata": {
        "deletable": false,
        "editable": false,
        "id": "5eb952ad"
      },
      "source": [
        "### Обработка дубликатов"
      ]
    },
    {
      "cell_type": "code",
      "execution_count": null,
      "id": "20ecf43e",
      "metadata": {
        "deletable": false,
        "id": "20ecf43e"
      },
      "outputs": [],
      "source": [
        "data['education'] = data['education'].str.lower()"
      ]
    },
    {
      "cell_type": "code",
      "execution_count": null,
      "id": "c3a33240",
      "metadata": {
        "deletable": false,
        "id": "c3a33240",
        "outputId": "82b287a2-1038-4817-d899-ba2c3dc1f513"
      },
      "outputs": [
        {
          "data": {
            "text/plain": [
              "71"
            ]
          },
          "execution_count": 15,
          "metadata": {},
          "output_type": "execute_result"
        }
      ],
      "source": [
        "data.duplicated().sum()"
      ]
    },
    {
      "cell_type": "code",
      "execution_count": null,
      "id": "a18f3e52",
      "metadata": {
        "deletable": false,
        "id": "a18f3e52"
      },
      "outputs": [],
      "source": [
        "data = data.drop_duplicates()"
      ]
    },
    {
      "cell_type": "markdown",
      "id": "12a78fcd",
      "metadata": {
        "deletable": false,
        "editable": false,
        "id": "12a78fcd"
      },
      "source": [
        "### Категоризация данных"
      ]
    },
    {
      "cell_type": "markdown",
      "id": "80a62d05",
      "metadata": {
        "deletable": false,
        "editable": false,
        "id": "80a62d05"
      },
      "source": [
        "\n",
        "\n",
        "- 0–30000 — `'E'`;\n",
        "- 30001–50000 — `'D'`;\n",
        "- 50001–200000 — `'C'`;\n",
        "- 200001–1000000 — `'B'`;\n",
        "- 1000001 и выше — `'A'`.\n",
        "\n",
        "\n"
      ]
    },
    {
      "cell_type": "code",
      "execution_count": null,
      "id": "aa54b79d",
      "metadata": {
        "deletable": false,
        "id": "aa54b79d"
      },
      "outputs": [],
      "source": [
        "def categorize_income(income):\n",
        "    try:\n",
        "        if 0 <= income <= 30000:\n",
        "            return 'E'\n",
        "        elif 30001 <= income <= 50000:\n",
        "            return 'D'\n",
        "        elif 50001 <= income <= 200000:\n",
        "            return 'C'\n",
        "        elif 200001 <= income <= 1000000:\n",
        "            return 'B'\n",
        "        elif income >= 1000001:\n",
        "            return 'A'\n",
        "    except:\n",
        "        pass"
      ]
    },
    {
      "cell_type": "code",
      "execution_count": null,
      "id": "ec8b2d67",
      "metadata": {
        "deletable": false,
        "id": "ec8b2d67"
      },
      "outputs": [],
      "source": [
        "data['total_income_category'] = data['total_income'].apply(categorize_income)"
      ]
    },
    {
      "cell_type": "code",
      "execution_count": null,
      "id": "23913815",
      "metadata": {
        "deletable": false,
        "id": "23913815",
        "outputId": "041cf97f-172c-47ca-f468-aebd016de513"
      },
      "outputs": [
        {
          "data": {
            "text/plain": [
              "array(['покупка жилья', 'приобретение автомобиля',\n",
              "       'дополнительное образование', 'сыграть свадьбу',\n",
              "       'операции с жильем', 'образование', 'на проведение свадьбы',\n",
              "       'покупка жилья для семьи', 'покупка недвижимости',\n",
              "       'покупка коммерческой недвижимости', 'покупка жилой недвижимости',\n",
              "       'строительство собственной недвижимости', 'недвижимость',\n",
              "       'строительство недвижимости', 'на покупку подержанного автомобиля',\n",
              "       'на покупку своего автомобиля',\n",
              "       'операции с коммерческой недвижимостью',\n",
              "       'строительство жилой недвижимости', 'жилье',\n",
              "       'операции со своей недвижимостью', 'автомобили',\n",
              "       'заняться образованием', 'сделка с подержанным автомобилем',\n",
              "       'получение образования', 'автомобиль', 'свадьба',\n",
              "       'получение дополнительного образования', 'покупка своего жилья',\n",
              "       'операции с недвижимостью', 'получение высшего образования',\n",
              "       'свой автомобиль', 'сделка с автомобилем',\n",
              "       'профильное образование', 'высшее образование',\n",
              "       'покупка жилья для сдачи', 'на покупку автомобиля', 'ремонт жилью',\n",
              "       'заняться высшим образованием'], dtype=object)"
            ]
          },
          "execution_count": 19,
          "metadata": {},
          "output_type": "execute_result"
        }
      ],
      "source": [
        "data['purpose'].unique()"
      ]
    },
    {
      "cell_type": "code",
      "execution_count": null,
      "id": "b49fb532",
      "metadata": {
        "deletable": false,
        "id": "b49fb532"
      },
      "outputs": [],
      "source": [
        "def categorize_purpose(row):\n",
        "    try:\n",
        "        if 'автом' in row:\n",
        "            return 'операции с автомобилем'\n",
        "        elif 'жил' in row or 'недвиж' in row:\n",
        "            return 'операции с недвижимостью'\n",
        "        elif 'свад' in row:\n",
        "            return 'проведение свадьбы'\n",
        "        elif 'образов' in row:\n",
        "            return 'получение образования'\n",
        "    except:\n",
        "        return 'нет категории'"
      ]
    },
    {
      "cell_type": "code",
      "execution_count": null,
      "id": "4692df4c",
      "metadata": {
        "deletable": false,
        "id": "4692df4c"
      },
      "outputs": [],
      "source": [
        "data['purpose_category'] = data['purpose'].apply(categorize_purpose)"
      ]
    },
    {
      "cell_type": "markdown",
      "id": "d0c80387",
      "metadata": {
        "deletable": false,
        "editable": false,
        "id": "d0c80387"
      },
      "source": [
        "### Шаг 3. Исследуйте данные и ответьте на вопросы"
      ]
    },
    {
      "cell_type": "markdown",
      "id": "86f2e0e3",
      "metadata": {
        "deletable": false,
        "editable": false,
        "id": "86f2e0e3"
      },
      "source": [
        "#### 3.1 Есть ли зависимость между количеством детей и возвратом кредита в срок?"
      ]
    },
    {
      "cell_type": "code",
      "execution_count": null,
      "id": "07af2fa4",
      "metadata": {
        "id": "07af2fa4",
        "outputId": "fcb66abe-b5e2-4639-e03b-45c1a7a1350f"
      },
      "outputs": [
        {
          "data": {
            "text/html": [
              "<div>\n",
              "<style scoped>\n",
              "    .dataframe tbody tr th:only-of-type {\n",
              "        vertical-align: middle;\n",
              "    }\n",
              "\n",
              "    .dataframe tbody tr th {\n",
              "        vertical-align: top;\n",
              "    }\n",
              "\n",
              "    .dataframe thead th {\n",
              "        text-align: right;\n",
              "    }\n",
              "</style>\n",
              "<table border=\"1\" class=\"dataframe\">\n",
              "  <thead>\n",
              "    <tr style=\"text-align: right;\">\n",
              "      <th></th>\n",
              "      <th>children</th>\n",
              "      <th>days_employed</th>\n",
              "      <th>dob_years</th>\n",
              "      <th>education</th>\n",
              "      <th>education_id</th>\n",
              "      <th>family_status</th>\n",
              "      <th>family_status_id</th>\n",
              "      <th>gender</th>\n",
              "      <th>income_type</th>\n",
              "      <th>debt</th>\n",
              "      <th>total_income</th>\n",
              "      <th>purpose</th>\n",
              "      <th>total_income_category</th>\n",
              "      <th>purpose_category</th>\n",
              "    </tr>\n",
              "  </thead>\n",
              "  <tbody>\n",
              "    <tr>\n",
              "      <th>0</th>\n",
              "      <td>1</td>\n",
              "      <td>8437.673028</td>\n",
              "      <td>42</td>\n",
              "      <td>высшее</td>\n",
              "      <td>0</td>\n",
              "      <td>женат / замужем</td>\n",
              "      <td>0</td>\n",
              "      <td>F</td>\n",
              "      <td>сотрудник</td>\n",
              "      <td>0</td>\n",
              "      <td>253875</td>\n",
              "      <td>покупка жилья</td>\n",
              "      <td>B</td>\n",
              "      <td>операции с недвижимостью</td>\n",
              "    </tr>\n",
              "    <tr>\n",
              "      <th>1</th>\n",
              "      <td>1</td>\n",
              "      <td>4024.803754</td>\n",
              "      <td>36</td>\n",
              "      <td>среднее</td>\n",
              "      <td>1</td>\n",
              "      <td>женат / замужем</td>\n",
              "      <td>0</td>\n",
              "      <td>F</td>\n",
              "      <td>сотрудник</td>\n",
              "      <td>0</td>\n",
              "      <td>112080</td>\n",
              "      <td>приобретение автомобиля</td>\n",
              "      <td>C</td>\n",
              "      <td>операции с автомобилем</td>\n",
              "    </tr>\n",
              "    <tr>\n",
              "      <th>2</th>\n",
              "      <td>0</td>\n",
              "      <td>5623.422610</td>\n",
              "      <td>33</td>\n",
              "      <td>среднее</td>\n",
              "      <td>1</td>\n",
              "      <td>женат / замужем</td>\n",
              "      <td>0</td>\n",
              "      <td>M</td>\n",
              "      <td>сотрудник</td>\n",
              "      <td>0</td>\n",
              "      <td>145885</td>\n",
              "      <td>покупка жилья</td>\n",
              "      <td>C</td>\n",
              "      <td>операции с недвижимостью</td>\n",
              "    </tr>\n",
              "    <tr>\n",
              "      <th>3</th>\n",
              "      <td>3</td>\n",
              "      <td>4124.747207</td>\n",
              "      <td>32</td>\n",
              "      <td>среднее</td>\n",
              "      <td>1</td>\n",
              "      <td>женат / замужем</td>\n",
              "      <td>0</td>\n",
              "      <td>M</td>\n",
              "      <td>сотрудник</td>\n",
              "      <td>0</td>\n",
              "      <td>267628</td>\n",
              "      <td>дополнительное образование</td>\n",
              "      <td>B</td>\n",
              "      <td>получение образования</td>\n",
              "    </tr>\n",
              "    <tr>\n",
              "      <th>4</th>\n",
              "      <td>0</td>\n",
              "      <td>340266.072047</td>\n",
              "      <td>53</td>\n",
              "      <td>среднее</td>\n",
              "      <td>1</td>\n",
              "      <td>гражданский брак</td>\n",
              "      <td>1</td>\n",
              "      <td>F</td>\n",
              "      <td>пенсионер</td>\n",
              "      <td>0</td>\n",
              "      <td>158616</td>\n",
              "      <td>сыграть свадьбу</td>\n",
              "      <td>C</td>\n",
              "      <td>проведение свадьбы</td>\n",
              "    </tr>\n",
              "    <tr>\n",
              "      <th>...</th>\n",
              "      <td>...</td>\n",
              "      <td>...</td>\n",
              "      <td>...</td>\n",
              "      <td>...</td>\n",
              "      <td>...</td>\n",
              "      <td>...</td>\n",
              "      <td>...</td>\n",
              "      <td>...</td>\n",
              "      <td>...</td>\n",
              "      <td>...</td>\n",
              "      <td>...</td>\n",
              "      <td>...</td>\n",
              "      <td>...</td>\n",
              "      <td>...</td>\n",
              "    </tr>\n",
              "    <tr>\n",
              "      <th>21520</th>\n",
              "      <td>1</td>\n",
              "      <td>4529.316663</td>\n",
              "      <td>43</td>\n",
              "      <td>среднее</td>\n",
              "      <td>1</td>\n",
              "      <td>гражданский брак</td>\n",
              "      <td>1</td>\n",
              "      <td>F</td>\n",
              "      <td>компаньон</td>\n",
              "      <td>0</td>\n",
              "      <td>224791</td>\n",
              "      <td>операции с жильем</td>\n",
              "      <td>B</td>\n",
              "      <td>операции с недвижимостью</td>\n",
              "    </tr>\n",
              "    <tr>\n",
              "      <th>21521</th>\n",
              "      <td>0</td>\n",
              "      <td>343937.404131</td>\n",
              "      <td>67</td>\n",
              "      <td>среднее</td>\n",
              "      <td>1</td>\n",
              "      <td>женат / замужем</td>\n",
              "      <td>0</td>\n",
              "      <td>F</td>\n",
              "      <td>пенсионер</td>\n",
              "      <td>0</td>\n",
              "      <td>155999</td>\n",
              "      <td>сделка с автомобилем</td>\n",
              "      <td>C</td>\n",
              "      <td>операции с автомобилем</td>\n",
              "    </tr>\n",
              "    <tr>\n",
              "      <th>21522</th>\n",
              "      <td>1</td>\n",
              "      <td>2113.346888</td>\n",
              "      <td>38</td>\n",
              "      <td>среднее</td>\n",
              "      <td>1</td>\n",
              "      <td>гражданский брак</td>\n",
              "      <td>1</td>\n",
              "      <td>M</td>\n",
              "      <td>сотрудник</td>\n",
              "      <td>1</td>\n",
              "      <td>89672</td>\n",
              "      <td>недвижимость</td>\n",
              "      <td>C</td>\n",
              "      <td>операции с недвижимостью</td>\n",
              "    </tr>\n",
              "    <tr>\n",
              "      <th>21523</th>\n",
              "      <td>3</td>\n",
              "      <td>3112.481705</td>\n",
              "      <td>38</td>\n",
              "      <td>среднее</td>\n",
              "      <td>1</td>\n",
              "      <td>женат / замужем</td>\n",
              "      <td>0</td>\n",
              "      <td>M</td>\n",
              "      <td>сотрудник</td>\n",
              "      <td>1</td>\n",
              "      <td>244093</td>\n",
              "      <td>на покупку своего автомобиля</td>\n",
              "      <td>B</td>\n",
              "      <td>операции с автомобилем</td>\n",
              "    </tr>\n",
              "    <tr>\n",
              "      <th>21524</th>\n",
              "      <td>2</td>\n",
              "      <td>1984.507589</td>\n",
              "      <td>40</td>\n",
              "      <td>среднее</td>\n",
              "      <td>1</td>\n",
              "      <td>женат / замужем</td>\n",
              "      <td>0</td>\n",
              "      <td>F</td>\n",
              "      <td>сотрудник</td>\n",
              "      <td>0</td>\n",
              "      <td>82047</td>\n",
              "      <td>на покупку автомобиля</td>\n",
              "      <td>C</td>\n",
              "      <td>операции с автомобилем</td>\n",
              "    </tr>\n",
              "  </tbody>\n",
              "</table>\n",
              "<p>21331 rows × 14 columns</p>\n",
              "</div>"
            ],
            "text/plain": [
              "       children  days_employed  dob_years education  education_id  \\\n",
              "0             1    8437.673028         42    высшее             0   \n",
              "1             1    4024.803754         36   среднее             1   \n",
              "2             0    5623.422610         33   среднее             1   \n",
              "3             3    4124.747207         32   среднее             1   \n",
              "4             0  340266.072047         53   среднее             1   \n",
              "...         ...            ...        ...       ...           ...   \n",
              "21520         1    4529.316663         43   среднее             1   \n",
              "21521         0  343937.404131         67   среднее             1   \n",
              "21522         1    2113.346888         38   среднее             1   \n",
              "21523         3    3112.481705         38   среднее             1   \n",
              "21524         2    1984.507589         40   среднее             1   \n",
              "\n",
              "          family_status  family_status_id gender income_type  debt  \\\n",
              "0       женат / замужем                 0      F   сотрудник     0   \n",
              "1       женат / замужем                 0      F   сотрудник     0   \n",
              "2       женат / замужем                 0      M   сотрудник     0   \n",
              "3       женат / замужем                 0      M   сотрудник     0   \n",
              "4      гражданский брак                 1      F   пенсионер     0   \n",
              "...                 ...               ...    ...         ...   ...   \n",
              "21520  гражданский брак                 1      F   компаньон     0   \n",
              "21521   женат / замужем                 0      F   пенсионер     0   \n",
              "21522  гражданский брак                 1      M   сотрудник     1   \n",
              "21523   женат / замужем                 0      M   сотрудник     1   \n",
              "21524   женат / замужем                 0      F   сотрудник     0   \n",
              "\n",
              "       total_income                       purpose total_income_category  \\\n",
              "0            253875                 покупка жилья                     B   \n",
              "1            112080       приобретение автомобиля                     C   \n",
              "2            145885                 покупка жилья                     C   \n",
              "3            267628    дополнительное образование                     B   \n",
              "4            158616               сыграть свадьбу                     C   \n",
              "...             ...                           ...                   ...   \n",
              "21520        224791             операции с жильем                     B   \n",
              "21521        155999          сделка с автомобилем                     C   \n",
              "21522         89672                  недвижимость                     C   \n",
              "21523        244093  на покупку своего автомобиля                     B   \n",
              "21524         82047         на покупку автомобиля                     C   \n",
              "\n",
              "               purpose_category  \n",
              "0      операции с недвижимостью  \n",
              "1        операции с автомобилем  \n",
              "2      операции с недвижимостью  \n",
              "3         получение образования  \n",
              "4            проведение свадьбы  \n",
              "...                         ...  \n",
              "21520  операции с недвижимостью  \n",
              "21521    операции с автомобилем  \n",
              "21522  операции с недвижимостью  \n",
              "21523    операции с автомобилем  \n",
              "21524    операции с автомобилем  \n",
              "\n",
              "[21331 rows x 14 columns]"
            ]
          },
          "execution_count": 22,
          "metadata": {},
          "output_type": "execute_result"
        }
      ],
      "source": [
        "data"
      ]
    },
    {
      "cell_type": "code",
      "execution_count": null,
      "id": "db162356",
      "metadata": {
        "deletable": false,
        "id": "db162356",
        "outputId": "d71b144f-41cb-4f18-8d5e-b9e2ccf94b29"
      },
      "outputs": [
        {
          "data": {
            "text/html": [
              "<div>\n",
              "<style scoped>\n",
              "    .dataframe tbody tr th:only-of-type {\n",
              "        vertical-align: middle;\n",
              "    }\n",
              "\n",
              "    .dataframe tbody tr th {\n",
              "        vertical-align: top;\n",
              "    }\n",
              "\n",
              "    .dataframe thead th {\n",
              "        text-align: right;\n",
              "    }\n",
              "</style>\n",
              "<table border=\"1\" class=\"dataframe\">\n",
              "  <thead>\n",
              "    <tr style=\"text-align: right;\">\n",
              "      <th>children</th>\n",
              "      <th>0</th>\n",
              "      <th>1</th>\n",
              "      <th>2</th>\n",
              "      <th>3</th>\n",
              "      <th>4</th>\n",
              "      <th>5</th>\n",
              "    </tr>\n",
              "  </thead>\n",
              "  <tbody>\n",
              "    <tr>\n",
              "      <th>debt</th>\n",
              "      <td>0.075438</td>\n",
              "      <td>0.092346</td>\n",
              "      <td>0.094542</td>\n",
              "      <td>0.081818</td>\n",
              "      <td>0.097561</td>\n",
              "      <td>0.0</td>\n",
              "    </tr>\n",
              "  </tbody>\n",
              "</table>\n",
              "</div>"
            ],
            "text/plain": [
              "children         0         1         2         3         4    5\n",
              "debt      0.075438  0.092346  0.094542  0.081818  0.097561  0.0"
            ]
          },
          "execution_count": 23,
          "metadata": {},
          "output_type": "execute_result"
        }
      ],
      "source": [
        "zavisimosti_dety_kredit = data.pivot_table(columns='children',values='debt')\n",
        "zavisimosti_dety_kredit"
      ]
    },
    {
      "cell_type": "markdown",
      "id": "f546ab75",
      "metadata": {
        "deletable": false,
        "id": "f546ab75"
      },
      "source": [
        "**Вывод:** В выборке обнаружено небольшое количество заемщиков с пятерым детьми, поэтому этот набор данных не может быть использован для установления связи между количеством детей и выплатами кредита в срок. Исходя из полученных результатов, заемщики без детей имеют наименьший процент просрочек. Заемщики с одним, двумя или четырьмя детьми находятся примерно на одинаковом уровне по отношению к погашению кредита в срок."
      ]
    },
    {
      "cell_type": "markdown",
      "id": "2f1c6789",
      "metadata": {
        "deletable": false,
        "editable": false,
        "id": "2f1c6789"
      },
      "source": [
        "#### 3.2 Есть ли зависимость между семейным положением и возвратом кредита в срок?"
      ]
    },
    {
      "cell_type": "code",
      "execution_count": null,
      "id": "49dd798a",
      "metadata": {
        "deletable": false,
        "id": "49dd798a",
        "outputId": "3b0358d9-2341-49a1-edd8-e9034d23a374"
      },
      "outputs": [
        {
          "data": {
            "text/html": [
              "<div>\n",
              "<style scoped>\n",
              "    .dataframe tbody tr th:only-of-type {\n",
              "        vertical-align: middle;\n",
              "    }\n",
              "\n",
              "    .dataframe tbody tr th {\n",
              "        vertical-align: top;\n",
              "    }\n",
              "\n",
              "    .dataframe thead th {\n",
              "        text-align: right;\n",
              "    }\n",
              "</style>\n",
              "<table border=\"1\" class=\"dataframe\">\n",
              "  <thead>\n",
              "    <tr style=\"text-align: right;\">\n",
              "      <th>family_status</th>\n",
              "      <th>Не женат / не замужем</th>\n",
              "      <th>в разводе</th>\n",
              "      <th>вдовец / вдова</th>\n",
              "      <th>гражданский брак</th>\n",
              "      <th>женат / замужем</th>\n",
              "    </tr>\n",
              "  </thead>\n",
              "  <tbody>\n",
              "    <tr>\n",
              "      <th>debt</th>\n",
              "      <td>0.097639</td>\n",
              "      <td>0.070648</td>\n",
              "      <td>0.066246</td>\n",
              "      <td>0.09313</td>\n",
              "      <td>0.075606</td>\n",
              "    </tr>\n",
              "  </tbody>\n",
              "</table>\n",
              "</div>"
            ],
            "text/plain": [
              "family_status  Не женат / не замужем  в разводе  вдовец / вдова  \\\n",
              "debt                        0.097639   0.070648        0.066246   \n",
              "\n",
              "family_status  гражданский брак  женат / замужем  \n",
              "debt                    0.09313         0.075606  "
            ]
          },
          "execution_count": 24,
          "metadata": {},
          "output_type": "execute_result"
        }
      ],
      "source": [
        "zavisimosti_semiy_kredit = data.pivot_table(columns='family_status',values='debt')\n",
        "zavisimosti_semiy_kredit"
      ]
    },
    {
      "cell_type": "markdown",
      "id": "8a1400c2",
      "metadata": {
        "deletable": false,
        "id": "8a1400c2"
      },
      "source": [
        "**Вывод:** Замужние/женатые, а также в разводе находящиеся заемщики имеют примерно одинаковый процент просрочки и расположены близко друг к другу. Самый низкий процент просрочки отмечается у заемщиков, которые потеряли своего партнера (вдовы/вдовцы). В то же время, заемщики, не состоящие в официальном браке, показывают наибольший процент просроченных платежей."
      ]
    },
    {
      "cell_type": "markdown",
      "id": "b3fbaeae",
      "metadata": {
        "deletable": false,
        "editable": false,
        "id": "b3fbaeae"
      },
      "source": [
        "#### 3.3 Есть ли зависимость между уровнем дохода и возвратом кредита в срок?"
      ]
    },
    {
      "cell_type": "code",
      "execution_count": null,
      "id": "addc3917",
      "metadata": {
        "deletable": false,
        "id": "addc3917",
        "outputId": "b52eac7e-de06-4699-bcce-d5556806f1bb"
      },
      "outputs": [
        {
          "data": {
            "text/html": [
              "<div>\n",
              "<style scoped>\n",
              "    .dataframe tbody tr th:only-of-type {\n",
              "        vertical-align: middle;\n",
              "    }\n",
              "\n",
              "    .dataframe tbody tr th {\n",
              "        vertical-align: top;\n",
              "    }\n",
              "\n",
              "    .dataframe thead th {\n",
              "        text-align: right;\n",
              "    }\n",
              "</style>\n",
              "<table border=\"1\" class=\"dataframe\">\n",
              "  <thead>\n",
              "    <tr style=\"text-align: right;\">\n",
              "      <th>total_income_category</th>\n",
              "      <th>A</th>\n",
              "      <th>B</th>\n",
              "      <th>C</th>\n",
              "      <th>D</th>\n",
              "      <th>E</th>\n",
              "    </tr>\n",
              "  </thead>\n",
              "  <tbody>\n",
              "    <tr>\n",
              "      <th>debt</th>\n",
              "      <td>0.08</td>\n",
              "      <td>0.070602</td>\n",
              "      <td>0.084982</td>\n",
              "      <td>0.060172</td>\n",
              "      <td>0.090909</td>\n",
              "    </tr>\n",
              "  </tbody>\n",
              "</table>\n",
              "</div>"
            ],
            "text/plain": [
              "total_income_category     A         B         C         D         E\n",
              "debt                   0.08  0.070602  0.084982  0.060172  0.090909"
            ]
          },
          "execution_count": 25,
          "metadata": {},
          "output_type": "execute_result"
        }
      ],
      "source": [
        "zavisimosti_doxod_kredit = data.pivot_table(columns='total_income_category',values='debt')\n",
        "zavisimosti_doxod_kredit"
      ]
    },
    {
      "cell_type": "markdown",
      "id": "4a9a47c7",
      "metadata": {
        "deletable": false,
        "id": "4a9a47c7"
      },
      "source": [
        "**Вывод:** Минимальное количество должников отмечено в категории D (30001-50000), затем следует категория В (200001-1000000), где количество должников также невысоко. Категории А (1000001 и выше) и С (50001-200000) имеют практически одинаковое количество должников. Больше всего должников отмечается в категории Е (0-30000), где заемщики получают наименьшую зарплату."
      ]
    },
    {
      "cell_type": "markdown",
      "id": "635c63e8",
      "metadata": {
        "deletable": false,
        "editable": false,
        "id": "635c63e8"
      },
      "source": [
        "#### 3.4 Как разные цели кредита влияют на его возврат в срок?"
      ]
    },
    {
      "cell_type": "code",
      "execution_count": null,
      "id": "dbd7df3c",
      "metadata": {
        "deletable": false,
        "id": "dbd7df3c",
        "outputId": "ac06c97a-47ce-4d9c-a78a-4a80e9d9049e"
      },
      "outputs": [
        {
          "data": {
            "text/html": [
              "<div>\n",
              "<style scoped>\n",
              "    .dataframe tbody tr th:only-of-type {\n",
              "        vertical-align: middle;\n",
              "    }\n",
              "\n",
              "    .dataframe tbody tr th {\n",
              "        vertical-align: top;\n",
              "    }\n",
              "\n",
              "    .dataframe thead th {\n",
              "        text-align: right;\n",
              "    }\n",
              "</style>\n",
              "<table border=\"1\" class=\"dataframe\">\n",
              "  <thead>\n",
              "    <tr style=\"text-align: right;\">\n",
              "      <th>purpose_category</th>\n",
              "      <th>операции с автомобилем</th>\n",
              "      <th>операции с недвижимостью</th>\n",
              "      <th>получение образования</th>\n",
              "      <th>проведение свадьбы</th>\n",
              "    </tr>\n",
              "  </thead>\n",
              "  <tbody>\n",
              "    <tr>\n",
              "      <th>debt</th>\n",
              "      <td>0.09348</td>\n",
              "      <td>0.072551</td>\n",
              "      <td>0.092528</td>\n",
              "      <td>0.079118</td>\n",
              "    </tr>\n",
              "  </tbody>\n",
              "</table>\n",
              "</div>"
            ],
            "text/plain": [
              "purpose_category  операции с автомобилем  операции с недвижимостью  \\\n",
              "debt                             0.09348                  0.072551   \n",
              "\n",
              "purpose_category  получение образования  проведение свадьбы  \n",
              "debt                           0.092528            0.079118  "
            ]
          },
          "execution_count": 26,
          "metadata": {},
          "output_type": "execute_result"
        }
      ],
      "source": [
        "zavisimosti_goal_kredit = data.pivot_table(columns='purpose_category',values='debt')\n",
        "\n",
        "zavisimosti_goal_kredit"
      ]
    },
    {
      "cell_type": "markdown",
      "id": "f46db346",
      "metadata": {
        "deletable": false,
        "id": "f46db346"
      },
      "source": [
        "**Вывод:** Самый низкий процент просрочки отмечается у заемщиков, которые берут кредит на операции с недвижимостью. Затем идут заемщики, которые берут кредит на проведение свадьбы. Люди, которые берут кредит на операции с автомобилем и получение образования, имеют самый высокий процент просрочки."
      ]
    },
    {
      "cell_type": "markdown",
      "id": "9bd80e46",
      "metadata": {
        "deletable": false,
        "editable": false,
        "id": "9bd80e46"
      },
      "source": [
        "#### 3.5 Приведите возможные причины появления пропусков в исходных данных."
      ]
    },
    {
      "cell_type": "markdown",
      "id": "e4f99d92",
      "metadata": {
        "deletable": false,
        "id": "e4f99d92"
      },
      "source": [
        "*Ответ:* неправильное заполнение форм, техническая ошибка при выгрузке."
      ]
    },
    {
      "cell_type": "code",
      "execution_count": null,
      "id": "a2f06ec2",
      "metadata": {
        "id": "a2f06ec2",
        "outputId": "9f3b5fd2-9b90-4de4-93da-d5c3c4650626"
      },
      "outputs": [
        {
          "data": {
            "text/html": [
              "<div>\n",
              "<style scoped>\n",
              "    .dataframe tbody tr th:only-of-type {\n",
              "        vertical-align: middle;\n",
              "    }\n",
              "\n",
              "    .dataframe tbody tr th {\n",
              "        vertical-align: top;\n",
              "    }\n",
              "\n",
              "    .dataframe thead th {\n",
              "        text-align: right;\n",
              "    }\n",
              "</style>\n",
              "<table border=\"1\" class=\"dataframe\">\n",
              "  <thead>\n",
              "    <tr style=\"text-align: right;\">\n",
              "      <th></th>\n",
              "      <th>children</th>\n",
              "      <th>days_employed</th>\n",
              "      <th>dob_years</th>\n",
              "      <th>education</th>\n",
              "      <th>education_id</th>\n",
              "      <th>family_status</th>\n",
              "      <th>family_status_id</th>\n",
              "      <th>gender</th>\n",
              "      <th>income_type</th>\n",
              "      <th>debt</th>\n",
              "      <th>total_income</th>\n",
              "      <th>purpose</th>\n",
              "      <th>total_income_category</th>\n",
              "      <th>purpose_category</th>\n",
              "    </tr>\n",
              "  </thead>\n",
              "  <tbody>\n",
              "  </tbody>\n",
              "</table>\n",
              "</div>"
            ],
            "text/plain": [
              "Empty DataFrame\n",
              "Columns: [children, days_employed, dob_years, education, education_id, family_status, family_status_id, gender, income_type, debt, total_income, purpose, total_income_category, purpose_category]\n",
              "Index: []"
            ]
          },
          "execution_count": 27,
          "metadata": {},
          "output_type": "execute_result"
        }
      ],
      "source": [
        "propyski = data.loc[(data['days_employed'].isna() & data['total_income'].isna())]\n",
        "propyski.head(5)                     "
      ]
    },
    {
      "cell_type": "markdown",
      "id": "7c7addf7",
      "metadata": {
        "id": "7c7addf7"
      },
      "source": [
        "Анализ пропущенных значений показал, что они находятся в двух столбцах и в одинаковых строках. Это говорит о том, что пропуски не являются случайными, а имеется зависимость между столбцами days_employed и total_income. Вероятно, это связано с ошибками при заполнении анкеты."
      ]
    },
    {
      "cell_type": "markdown",
      "id": "ac72dfea",
      "metadata": {
        "deletable": false,
        "editable": false,
        "id": "ac72dfea"
      },
      "source": [
        "#### 3.6 Объясните, почему заполнить пропуски медианным значением — лучшее решение для количественных переменных."
      ]
    },
    {
      "cell_type": "markdown",
      "id": "bde0c4b6",
      "metadata": {
        "deletable": false,
        "id": "bde0c4b6"
      },
      "source": [
        "*Ответ:*  Заполнение пропущенных значений медианным значением является предпочтительным, так как медиана не зависит от выбросов в выборке, и таким образом ближе к истинному среднему значению."
      ]
    },
    {
      "cell_type": "markdown",
      "id": "07200d11",
      "metadata": {
        "deletable": false,
        "editable": false,
        "id": "07200d11"
      },
      "source": [
        "### Шаг 4: Общий вывод."
      ]
    },
    {
      "cell_type": "markdown",
      "id": "821a00ad",
      "metadata": {
        "deletable": false,
        "id": "821a00ad"
      },
      "source": [
        "Заказчику рекомендуется обратить внимание на следующие группы клиентов: \n",
        "\n",
        "- Заемщики с четырьмя детьми.\n",
        "- Заемщики, не состоящие в официальном браке.\n",
        "- Заемщики с доходом ниже 30000.\n",
        "- Заемщики, берущие кредиты на автомобили.\n",
        "\n",
        "В проведенном исследовании была исследована зависимость между такими факторами, как наличие детей, семейное положение, уровень дохода и цель взятия кредита, и своевременностью выплаты кредитной задолжности. Наличие детей оказалось одним из факторов, но не имеется достаточно данных для заемщиков с 4 или 5 детьми, чтобы утверждать это с уверенностью."
      ]
    },
    {
      "cell_type": "code",
      "execution_count": null,
      "id": "67a1c45e",
      "metadata": {
        "id": "67a1c45e",
        "outputId": "2d5bc558-73be-492e-c9c5-79a6af14acf8"
      },
      "outputs": [
        {
          "data": {
            "text/html": [
              "<div>\n",
              "<style scoped>\n",
              "    .dataframe tbody tr th:only-of-type {\n",
              "        vertical-align: middle;\n",
              "    }\n",
              "\n",
              "    .dataframe tbody tr th {\n",
              "        vertical-align: top;\n",
              "    }\n",
              "\n",
              "    .dataframe thead th {\n",
              "        text-align: right;\n",
              "    }\n",
              "</style>\n",
              "<table border=\"1\" class=\"dataframe\">\n",
              "  <thead>\n",
              "    <tr style=\"text-align: right;\">\n",
              "      <th>children</th>\n",
              "      <th>0</th>\n",
              "      <th>1</th>\n",
              "      <th>2</th>\n",
              "      <th>3</th>\n",
              "      <th>4</th>\n",
              "      <th>5</th>\n",
              "    </tr>\n",
              "  </thead>\n",
              "  <tbody>\n",
              "    <tr>\n",
              "      <th>debt</th>\n",
              "      <td>0.075438</td>\n",
              "      <td>0.092346</td>\n",
              "      <td>0.094542</td>\n",
              "      <td>0.081818</td>\n",
              "      <td>0.097561</td>\n",
              "      <td>0.0</td>\n",
              "    </tr>\n",
              "  </tbody>\n",
              "</table>\n",
              "</div>"
            ],
            "text/plain": [
              "children         0         1         2         3         4    5\n",
              "debt      0.075438  0.092346  0.094542  0.081818  0.097561  0.0"
            ]
          },
          "execution_count": 28,
          "metadata": {},
          "output_type": "execute_result"
        }
      ],
      "source": [
        "zavisimosti_dety_kredit"
      ]
    },
    {
      "cell_type": "markdown",
      "id": "66af47d0",
      "metadata": {
        "id": "66af47d0"
      },
      "source": [
        "Проведенный анализ позволяет говорить о зависимости между заемщиками, имеющими детей и теми, кто не имеет. Так, у заемщиков, не имеющих детей, наблюдается самый низкий процент просрочки в размере 7,5%, в то время как у заемщиков с 4 детьми данный показатель составляет 9,7%. \n",
        "\n",
        "Следующей рассмотренной категорией являлось \"Семейное положение\". Исследование подтверждает гипотезу о влиянии данного фактора на своевременность выплаты кредита."
      ]
    },
    {
      "cell_type": "code",
      "execution_count": null,
      "id": "12dddb63",
      "metadata": {
        "id": "12dddb63",
        "outputId": "f3304bf1-630c-4971-c21c-6436032bb419"
      },
      "outputs": [
        {
          "data": {
            "text/html": [
              "<div>\n",
              "<style scoped>\n",
              "    .dataframe tbody tr th:only-of-type {\n",
              "        vertical-align: middle;\n",
              "    }\n",
              "\n",
              "    .dataframe tbody tr th {\n",
              "        vertical-align: top;\n",
              "    }\n",
              "\n",
              "    .dataframe thead th {\n",
              "        text-align: right;\n",
              "    }\n",
              "</style>\n",
              "<table border=\"1\" class=\"dataframe\">\n",
              "  <thead>\n",
              "    <tr style=\"text-align: right;\">\n",
              "      <th>family_status</th>\n",
              "      <th>Не женат / не замужем</th>\n",
              "      <th>в разводе</th>\n",
              "      <th>вдовец / вдова</th>\n",
              "      <th>гражданский брак</th>\n",
              "      <th>женат / замужем</th>\n",
              "    </tr>\n",
              "  </thead>\n",
              "  <tbody>\n",
              "    <tr>\n",
              "      <th>debt</th>\n",
              "      <td>0.097639</td>\n",
              "      <td>0.070648</td>\n",
              "      <td>0.066246</td>\n",
              "      <td>0.09313</td>\n",
              "      <td>0.075606</td>\n",
              "    </tr>\n",
              "  </tbody>\n",
              "</table>\n",
              "</div>"
            ],
            "text/plain": [
              "family_status  Не женат / не замужем  в разводе  вдовец / вдова  \\\n",
              "debt                        0.097639   0.070648        0.066246   \n",
              "\n",
              "family_status  гражданский брак  женат / замужем  \n",
              "debt                    0.09313         0.075606  "
            ]
          },
          "execution_count": 29,
          "metadata": {},
          "output_type": "execute_result"
        }
      ],
      "source": [
        "zavisimosti_semiy_kredit"
      ]
    },
    {
      "cell_type": "markdown",
      "id": "e545687d",
      "metadata": {
        "id": "e545687d"
      },
      "source": [
        "Исходя из проведенного анализа, можно говорить о зависимости между выплатой кредита в срок и семейным положением. У заемщиков, потерявших своего партнера в результате происшествия, наблюдается самый низкий процент просрочки кредита - 6,6%, в то время как у заемщиков, не состоящих в браке, данный показатель составляет 9,7%.\n",
        "\n",
        "Третьей рассмотренной категорией является \"Уровень дохода\". Однако данная гипотеза не имеет подтверждения на 100%, так как в выборке относительно мало данных по категориям А, Е и D."
      ]
    },
    {
      "cell_type": "code",
      "execution_count": null,
      "id": "282e26b5",
      "metadata": {
        "id": "282e26b5",
        "outputId": "bf31f49c-1abf-4eb3-bb19-b9acf9b4cc30"
      },
      "outputs": [
        {
          "data": {
            "text/html": [
              "<div>\n",
              "<style scoped>\n",
              "    .dataframe tbody tr th:only-of-type {\n",
              "        vertical-align: middle;\n",
              "    }\n",
              "\n",
              "    .dataframe tbody tr th {\n",
              "        vertical-align: top;\n",
              "    }\n",
              "\n",
              "    .dataframe thead th {\n",
              "        text-align: right;\n",
              "    }\n",
              "</style>\n",
              "<table border=\"1\" class=\"dataframe\">\n",
              "  <thead>\n",
              "    <tr style=\"text-align: right;\">\n",
              "      <th>total_income_category</th>\n",
              "      <th>A</th>\n",
              "      <th>B</th>\n",
              "      <th>C</th>\n",
              "      <th>D</th>\n",
              "      <th>E</th>\n",
              "    </tr>\n",
              "  </thead>\n",
              "  <tbody>\n",
              "    <tr>\n",
              "      <th>debt</th>\n",
              "      <td>0.08</td>\n",
              "      <td>0.070602</td>\n",
              "      <td>0.084982</td>\n",
              "      <td>0.060172</td>\n",
              "      <td>0.090909</td>\n",
              "    </tr>\n",
              "  </tbody>\n",
              "</table>\n",
              "</div>"
            ],
            "text/plain": [
              "total_income_category     A         B         C         D         E\n",
              "debt                   0.08  0.070602  0.084982  0.060172  0.090909"
            ]
          },
          "execution_count": 30,
          "metadata": {},
          "output_type": "execute_result"
        }
      ],
      "source": [
        "zavisimosti_doxod_kredit"
      ]
    },
    {
      "cell_type": "markdown",
      "id": "4a61f462",
      "metadata": {
        "id": "4a61f462"
      },
      "source": [
        "На основании проведенного анализа нельзя с большой точностью говорить о зависимости между выплатой кредита в срок и уровнем дохода. Среди заемщиков с доходом до 30 000 наблюдается самый высокий процент просрочки - 9%, а у заемщиков с доходом от 30 000 до 50 000 - самый низкий показатель в 6%.\n",
        "\n",
        "Четвертой рассмотренной категорией является \"Цель взятия кредита\". Данная гипотеза имеет полное подтверждение на основе проведенного исследования."
      ]
    },
    {
      "cell_type": "code",
      "execution_count": null,
      "id": "3412b79f",
      "metadata": {
        "id": "3412b79f",
        "outputId": "5d2b448b-76e9-4958-a407-0d336fa40102"
      },
      "outputs": [
        {
          "data": {
            "text/html": [
              "<div>\n",
              "<style scoped>\n",
              "    .dataframe tbody tr th:only-of-type {\n",
              "        vertical-align: middle;\n",
              "    }\n",
              "\n",
              "    .dataframe tbody tr th {\n",
              "        vertical-align: top;\n",
              "    }\n",
              "\n",
              "    .dataframe thead th {\n",
              "        text-align: right;\n",
              "    }\n",
              "</style>\n",
              "<table border=\"1\" class=\"dataframe\">\n",
              "  <thead>\n",
              "    <tr style=\"text-align: right;\">\n",
              "      <th>purpose_category</th>\n",
              "      <th>операции с автомобилем</th>\n",
              "      <th>операции с недвижимостью</th>\n",
              "      <th>получение образования</th>\n",
              "      <th>проведение свадьбы</th>\n",
              "    </tr>\n",
              "  </thead>\n",
              "  <tbody>\n",
              "    <tr>\n",
              "      <th>debt</th>\n",
              "      <td>0.09348</td>\n",
              "      <td>0.072551</td>\n",
              "      <td>0.092528</td>\n",
              "      <td>0.079118</td>\n",
              "    </tr>\n",
              "  </tbody>\n",
              "</table>\n",
              "</div>"
            ],
            "text/plain": [
              "purpose_category  операции с автомобилем  операции с недвижимостью  \\\n",
              "debt                             0.09348                  0.072551   \n",
              "\n",
              "purpose_category  получение образования  проведение свадьбы  \n",
              "debt                           0.092528            0.079118  "
            ]
          },
          "execution_count": 31,
          "metadata": {},
          "output_type": "execute_result"
        }
      ],
      "source": [
        "zavisimosti_goal_kredit"
      ]
    },
    {
      "cell_type": "markdown",
      "id": "e90e5ede",
      "metadata": {
        "id": "e90e5ede"
      },
      "source": [
        "Проведенный анализ показал, что существует зависимость между погашением кредита вовремя и целью взятия кредита. Наблюдается самый высокий процент просроченных кредитов (9,3%) у заемщиков, которые взяли кредит на автомобиль, немного ниже – у тех, кто взял кредит на образование. В свою очередь, у заемщиков, взявших кредит на недвижимость, самый низкий уровень просрочки (7,2%).\n",
        "\n",
        "В свете этих результатов заказчику стоит обратить особое внимание на семейное положение и цель взятия кредита. Также важно обратить внимание на заемщиков, берущих кредит на приобретение автомобиля, поскольку они обладают самым высоким уровнем просрочки в платежах по кредиту."
      ]
    }
  ],
  "metadata": {
    "ExecuteTimeLog": [
      {
        "duration": 46,
        "start_time": "2022-11-01T18:35:27.974Z"
      },
      {
        "duration": 452,
        "start_time": "2022-11-01T18:35:33.548Z"
      },
      {
        "duration": 25,
        "start_time": "2022-11-01T18:35:38.228Z"
      },
      {
        "duration": 14,
        "start_time": "2022-11-01T18:35:38.592Z"
      },
      {
        "duration": 13,
        "start_time": "2022-11-01T18:35:39.246Z"
      },
      {
        "duration": 30,
        "start_time": "2022-11-01T18:35:39.540Z"
      },
      {
        "duration": 4,
        "start_time": "2022-11-01T18:35:39.967Z"
      },
      {
        "duration": 8,
        "start_time": "2022-11-01T18:35:40.259Z"
      },
      {
        "duration": 5,
        "start_time": "2022-11-01T18:35:40.688Z"
      },
      {
        "duration": 9,
        "start_time": "2022-11-01T18:35:40.981Z"
      },
      {
        "duration": 5,
        "start_time": "2022-11-01T18:35:41.300Z"
      },
      {
        "duration": 48,
        "start_time": "2022-11-01T18:35:41.741Z"
      },
      {
        "duration": 10,
        "start_time": "2022-11-01T18:35:42.030Z"
      },
      {
        "duration": 4,
        "start_time": "2022-11-01T18:35:42.488Z"
      },
      {
        "duration": 17,
        "start_time": "2022-11-01T18:35:42.956Z"
      },
      {
        "duration": 20,
        "start_time": "2022-11-01T18:35:43.273Z"
      },
      {
        "duration": 17,
        "start_time": "2022-11-01T18:35:43.414Z"
      },
      {
        "duration": 3,
        "start_time": "2022-11-01T18:35:43.866Z"
      },
      {
        "duration": 15,
        "start_time": "2022-11-01T18:35:44.036Z"
      },
      {
        "duration": 8,
        "start_time": "2022-11-01T18:35:44.349Z"
      },
      {
        "duration": 4,
        "start_time": "2022-11-01T18:35:45.148Z"
      },
      {
        "duration": 9,
        "start_time": "2022-11-01T18:35:45.437Z"
      },
      {
        "duration": 18,
        "start_time": "2022-11-01T18:35:53.211Z"
      },
      {
        "duration": 26,
        "start_time": "2022-11-01T18:36:07.674Z"
      },
      {
        "duration": 45,
        "start_time": "2022-11-01T18:36:30.373Z"
      },
      {
        "duration": 10,
        "start_time": "2022-11-01T18:36:41.927Z"
      },
      {
        "duration": 9,
        "start_time": "2022-11-01T18:36:50.942Z"
      },
      {
        "duration": 8,
        "start_time": "2022-11-01T18:40:23.873Z"
      },
      {
        "duration": 8,
        "start_time": "2022-11-01T18:40:29.469Z"
      },
      {
        "duration": 9,
        "start_time": "2022-11-01T18:41:48.070Z"
      },
      {
        "duration": 16,
        "start_time": "2022-11-01T18:42:05.851Z"
      },
      {
        "duration": 17,
        "start_time": "2022-11-01T18:42:12.208Z"
      },
      {
        "duration": 15,
        "start_time": "2022-11-01T18:42:49.886Z"
      },
      {
        "duration": 23,
        "start_time": "2022-11-01T18:48:59.898Z"
      },
      {
        "duration": 20,
        "start_time": "2022-11-01T18:53:26.966Z"
      },
      {
        "duration": 53,
        "start_time": "2022-11-01T18:53:34.396Z"
      },
      {
        "duration": 16,
        "start_time": "2022-11-01T18:55:27.107Z"
      },
      {
        "duration": 18,
        "start_time": "2022-11-01T19:06:41.324Z"
      },
      {
        "duration": 16,
        "start_time": "2022-11-01T19:06:51.058Z"
      },
      {
        "duration": 42,
        "start_time": "2022-11-01T19:08:13.993Z"
      },
      {
        "duration": 58,
        "start_time": "2022-11-01T19:09:11.769Z"
      },
      {
        "duration": 53,
        "start_time": "2022-11-01T19:09:33.391Z"
      },
      {
        "duration": 707,
        "start_time": "2022-11-01T19:09:57.393Z"
      },
      {
        "duration": 51,
        "start_time": "2022-11-01T19:10:13.642Z"
      },
      {
        "duration": 56,
        "start_time": "2022-11-01T19:19:38.230Z"
      },
      {
        "duration": 53,
        "start_time": "2022-11-01T19:19:49.176Z"
      },
      {
        "duration": 53,
        "start_time": "2022-11-01T19:22:04.307Z"
      },
      {
        "duration": 57,
        "start_time": "2022-11-01T19:22:28.015Z"
      },
      {
        "duration": 54,
        "start_time": "2022-11-01T19:22:34.977Z"
      },
      {
        "duration": 55,
        "start_time": "2022-11-01T19:24:07.175Z"
      },
      {
        "duration": 18,
        "start_time": "2022-11-01T19:27:05.650Z"
      },
      {
        "duration": 463,
        "start_time": "2022-11-01T20:17:19.503Z"
      },
      {
        "duration": 19,
        "start_time": "2022-11-01T20:17:19.968Z"
      },
      {
        "duration": 13,
        "start_time": "2022-11-01T20:17:19.988Z"
      },
      {
        "duration": 19,
        "start_time": "2022-11-01T20:17:20.003Z"
      },
      {
        "duration": 35,
        "start_time": "2022-11-01T20:17:20.024Z"
      },
      {
        "duration": 3,
        "start_time": "2022-11-01T20:17:20.060Z"
      },
      {
        "duration": 16,
        "start_time": "2022-11-01T20:17:20.065Z"
      },
      {
        "duration": 6,
        "start_time": "2022-11-01T20:17:20.083Z"
      },
      {
        "duration": 11,
        "start_time": "2022-11-01T20:17:20.091Z"
      },
      {
        "duration": 7,
        "start_time": "2022-11-01T20:17:20.104Z"
      },
      {
        "duration": 39,
        "start_time": "2022-11-01T20:17:20.112Z"
      },
      {
        "duration": 9,
        "start_time": "2022-11-01T20:17:20.153Z"
      },
      {
        "duration": 31,
        "start_time": "2022-11-01T20:17:20.163Z"
      },
      {
        "duration": 23,
        "start_time": "2022-11-01T20:17:20.197Z"
      },
      {
        "duration": 43,
        "start_time": "2022-11-01T20:17:20.222Z"
      },
      {
        "duration": 15,
        "start_time": "2022-11-01T20:17:20.267Z"
      },
      {
        "duration": 5,
        "start_time": "2022-11-01T20:17:20.284Z"
      },
      {
        "duration": 34,
        "start_time": "2022-11-01T20:17:20.290Z"
      },
      {
        "duration": 15,
        "start_time": "2022-11-01T20:17:20.326Z"
      },
      {
        "duration": 13,
        "start_time": "2022-11-01T20:17:20.343Z"
      },
      {
        "duration": 19,
        "start_time": "2022-11-01T20:17:20.357Z"
      },
      {
        "duration": 30,
        "start_time": "2022-11-01T20:17:20.377Z"
      },
      {
        "duration": 39,
        "start_time": "2022-11-01T20:17:20.409Z"
      },
      {
        "duration": 15,
        "start_time": "2022-11-01T20:17:20.450Z"
      },
      {
        "duration": 16,
        "start_time": "2022-11-01T20:17:20.466Z"
      },
      {
        "duration": 14,
        "start_time": "2022-11-01T20:17:20.483Z"
      },
      {
        "duration": 63,
        "start_time": "2022-11-02T18:19:01.863Z"
      },
      {
        "duration": 67,
        "start_time": "2022-11-02T18:45:11.524Z"
      },
      {
        "duration": 14,
        "start_time": "2022-11-02T18:45:11.799Z"
      },
      {
        "duration": 14,
        "start_time": "2022-11-02T18:45:12.082Z"
      },
      {
        "duration": 8,
        "start_time": "2022-11-02T18:45:12.622Z"
      },
      {
        "duration": 29,
        "start_time": "2022-11-02T18:45:12.898Z"
      },
      {
        "duration": 3,
        "start_time": "2022-11-02T18:45:13.301Z"
      },
      {
        "duration": 8,
        "start_time": "2022-11-02T18:45:13.598Z"
      },
      {
        "duration": 5,
        "start_time": "2022-11-02T18:45:14.048Z"
      },
      {
        "duration": 6,
        "start_time": "2022-11-02T18:45:14.352Z"
      },
      {
        "duration": 5,
        "start_time": "2022-11-02T18:45:14.644Z"
      },
      {
        "duration": 31,
        "start_time": "2022-11-02T18:45:15.065Z"
      },
      {
        "duration": 10,
        "start_time": "2022-11-02T18:45:15.368Z"
      },
      {
        "duration": 5,
        "start_time": "2022-11-02T18:45:15.821Z"
      },
      {
        "duration": 15,
        "start_time": "2022-11-02T18:45:16.260Z"
      },
      {
        "duration": 18,
        "start_time": "2022-11-02T18:45:16.572Z"
      },
      {
        "duration": 17,
        "start_time": "2022-11-02T18:45:16.722Z"
      },
      {
        "duration": 4,
        "start_time": "2022-11-02T18:45:17.170Z"
      },
      {
        "duration": 14,
        "start_time": "2022-11-02T18:45:17.317Z"
      },
      {
        "duration": 6,
        "start_time": "2022-11-02T18:45:17.638Z"
      },
      {
        "duration": 5,
        "start_time": "2022-11-02T18:45:17.921Z"
      },
      {
        "duration": 8,
        "start_time": "2022-11-02T18:45:18.078Z"
      },
      {
        "duration": 19,
        "start_time": "2022-11-02T18:45:18.698Z"
      },
      {
        "duration": 17,
        "start_time": "2022-11-02T18:45:18.860Z"
      },
      {
        "duration": 15,
        "start_time": "2022-11-02T18:45:19.472Z"
      },
      {
        "duration": 15,
        "start_time": "2022-11-02T18:45:20.097Z"
      },
      {
        "duration": 15,
        "start_time": "2022-11-02T18:45:20.712Z"
      },
      {
        "duration": 73,
        "start_time": "2022-11-02T18:45:21.653Z"
      },
      {
        "duration": 9,
        "start_time": "2022-11-02T18:45:58.306Z"
      },
      {
        "duration": 66,
        "start_time": "2022-11-02T18:46:20.939Z"
      },
      {
        "duration": 13,
        "start_time": "2022-11-02T18:46:25.220Z"
      },
      {
        "duration": 8,
        "start_time": "2022-11-02T18:47:04.543Z"
      },
      {
        "duration": 8,
        "start_time": "2022-11-02T18:47:53.654Z"
      },
      {
        "duration": 10,
        "start_time": "2022-11-02T18:48:35.317Z"
      },
      {
        "duration": 7,
        "start_time": "2022-11-02T18:49:16.977Z"
      }
    ],
    "colab": {
      "provenance": []
    },
    "kernelspec": {
      "display_name": "Python 3 (ipykernel)",
      "language": "python",
      "name": "python3"
    },
    "language_info": {
      "codemirror_mode": {
        "name": "ipython",
        "version": 3
      },
      "file_extension": ".py",
      "mimetype": "text/x-python",
      "name": "python",
      "nbconvert_exporter": "python",
      "pygments_lexer": "ipython3",
      "version": "3.9.7"
    },
    "toc": {
      "base_numbering": 1,
      "nav_menu": {},
      "number_sections": true,
      "sideBar": true,
      "skip_h1_title": true,
      "title_cell": "Table of Contents",
      "title_sidebar": "Contents",
      "toc_cell": false,
      "toc_position": {
        "height": "calc(100% - 180px)",
        "left": "10px",
        "top": "150px",
        "width": "165px"
      },
      "toc_section_display": true,
      "toc_window_display": true
    }
  },
  "nbformat": 4,
  "nbformat_minor": 5
}