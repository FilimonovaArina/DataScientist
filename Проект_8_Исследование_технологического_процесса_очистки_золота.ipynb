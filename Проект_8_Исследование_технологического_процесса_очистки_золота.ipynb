{
  "cells": [
    {
      "cell_type": "markdown",
      "metadata": {
        "id": "-yLn-1xtCGQi"
      },
      "source": [
        "# Восстановление золота из руды"
      ]
    },
    {
      "cell_type": "markdown",
      "metadata": {
        "id": "SYVTmUSXCGQl"
      },
      "source": [
        "Подготовьте прототип модели машинного обучения для компании. Компания разрабатывает решения для эффективной работы промышленных предприятий.\n",
        "\n",
        "Модель должна предсказать коэффициент восстановления золота из золотосодержащей руды. Используйте данные с параметрами добычи и очистки. \n",
        "\n",
        "Модель поможет оптимизировать производство, чтобы не запускать предприятие с убыточными характеристиками."
      ]
    },
    {
      "cell_type": "markdown",
      "metadata": {
        "id": "jvQDLF9eCGQl"
      },
      "source": [
        "## Подготовка данных"
      ]
    },
    {
      "cell_type": "code",
      "execution_count": null,
      "metadata": {
        "id": "yW1XUUF-CGQm"
      },
      "outputs": [],
      "source": [
        "import pandas as pd\n",
        "from sklearn.metrics import mean_absolute_error\n",
        "import matplotlib.pyplot as plt\n",
        "import numpy as np\n",
        "from sklearn.model_selection import cross_val_score,KFold\n",
        "from sklearn.tree import DecisionTreeRegressor\n",
        "from sklearn.ensemble import RandomForestRegressor\n",
        "from sklearn.metrics import fbeta_score, make_scorer\n",
        "from sklearn.model_selection import cross_val_score\n",
        "import warnings\n",
        "from sklearn.linear_model import LinearRegression\n",
        "import seaborn as sns\n",
        "from sklearn.dummy import DummyRegressor"
      ]
    },
    {
      "cell_type": "code",
      "execution_count": null,
      "metadata": {
        "id": "JrCNj1OhCGQn"
      },
      "outputs": [],
      "source": [
        "try:\n",
        "    data = pd.read_csv('/Users/arina200212yandex.ru/Desktop/gold_recovery_full_new.csv')\n",
        "    test_data = pd.read_csv('/Users/arina200212yandex.ru/Desktop/gold_recovery_test_new.csv')\n",
        "    train_data = pd.read_csv('/Users/arina200212yandex.ru/Desktop/gold_recovery_train_new.csv')\n",
        "    \n",
        "except:\n",
        "    data = pd.read_csv('/datasets/gold_recovery_full_new.csv')\n",
        "    test_data = pd.read_csv('/datasets/gold_recovery_test_new.csv')\n",
        "    train_data = pd.read_csv('/datasets/gold_recovery_train_new.csv')"
      ]
    },
    {
      "cell_type": "code",
      "execution_count": null,
      "metadata": {
        "scrolled": true,
        "id": "I52eWMNlCGQo",
        "outputId": "f1783674-f330-4b08-e507-3f4c0bcc55fc"
      },
      "outputs": [
        {
          "data": {
            "text/html": [
              "<div>\n",
              "<style scoped>\n",
              "    .dataframe tbody tr th:only-of-type {\n",
              "        vertical-align: middle;\n",
              "    }\n",
              "\n",
              "    .dataframe tbody tr th {\n",
              "        vertical-align: top;\n",
              "    }\n",
              "\n",
              "    .dataframe thead th {\n",
              "        text-align: right;\n",
              "    }\n",
              "</style>\n",
              "<table border=\"1\" class=\"dataframe\">\n",
              "  <thead>\n",
              "    <tr style=\"text-align: right;\">\n",
              "      <th></th>\n",
              "      <th>date</th>\n",
              "      <th>final.output.concentrate_ag</th>\n",
              "      <th>final.output.concentrate_pb</th>\n",
              "      <th>final.output.concentrate_sol</th>\n",
              "      <th>final.output.concentrate_au</th>\n",
              "      <th>final.output.recovery</th>\n",
              "      <th>final.output.tail_ag</th>\n",
              "      <th>final.output.tail_pb</th>\n",
              "      <th>final.output.tail_sol</th>\n",
              "      <th>final.output.tail_au</th>\n",
              "      <th>...</th>\n",
              "      <th>secondary_cleaner.state.floatbank4_a_air</th>\n",
              "      <th>secondary_cleaner.state.floatbank4_a_level</th>\n",
              "      <th>secondary_cleaner.state.floatbank4_b_air</th>\n",
              "      <th>secondary_cleaner.state.floatbank4_b_level</th>\n",
              "      <th>secondary_cleaner.state.floatbank5_a_air</th>\n",
              "      <th>secondary_cleaner.state.floatbank5_a_level</th>\n",
              "      <th>secondary_cleaner.state.floatbank5_b_air</th>\n",
              "      <th>secondary_cleaner.state.floatbank5_b_level</th>\n",
              "      <th>secondary_cleaner.state.floatbank6_a_air</th>\n",
              "      <th>secondary_cleaner.state.floatbank6_a_level</th>\n",
              "    </tr>\n",
              "  </thead>\n",
              "  <tbody>\n",
              "    <tr>\n",
              "      <th>0</th>\n",
              "      <td>2016-01-15 00:00:00</td>\n",
              "      <td>6.055403</td>\n",
              "      <td>9.889648</td>\n",
              "      <td>5.507324</td>\n",
              "      <td>42.192020</td>\n",
              "      <td>70.541216</td>\n",
              "      <td>10.411962</td>\n",
              "      <td>0.895447</td>\n",
              "      <td>16.904297</td>\n",
              "      <td>2.143149</td>\n",
              "      <td>...</td>\n",
              "      <td>14.016835</td>\n",
              "      <td>-502.488007</td>\n",
              "      <td>12.099931</td>\n",
              "      <td>-504.715942</td>\n",
              "      <td>9.925633</td>\n",
              "      <td>-498.310211</td>\n",
              "      <td>8.079666</td>\n",
              "      <td>-500.470978</td>\n",
              "      <td>14.151341</td>\n",
              "      <td>-605.841980</td>\n",
              "    </tr>\n",
              "    <tr>\n",
              "      <th>1</th>\n",
              "      <td>2016-01-15 01:00:00</td>\n",
              "      <td>6.029369</td>\n",
              "      <td>9.968944</td>\n",
              "      <td>5.257781</td>\n",
              "      <td>42.701629</td>\n",
              "      <td>69.266198</td>\n",
              "      <td>10.462676</td>\n",
              "      <td>0.927452</td>\n",
              "      <td>16.634514</td>\n",
              "      <td>2.224930</td>\n",
              "      <td>...</td>\n",
              "      <td>13.992281</td>\n",
              "      <td>-505.503262</td>\n",
              "      <td>11.950531</td>\n",
              "      <td>-501.331529</td>\n",
              "      <td>10.039245</td>\n",
              "      <td>-500.169983</td>\n",
              "      <td>7.984757</td>\n",
              "      <td>-500.582168</td>\n",
              "      <td>13.998353</td>\n",
              "      <td>-599.787184</td>\n",
              "    </tr>\n",
              "    <tr>\n",
              "      <th>2</th>\n",
              "      <td>2016-01-15 02:00:00</td>\n",
              "      <td>6.055926</td>\n",
              "      <td>10.213995</td>\n",
              "      <td>5.383759</td>\n",
              "      <td>42.657501</td>\n",
              "      <td>68.116445</td>\n",
              "      <td>10.507046</td>\n",
              "      <td>0.953716</td>\n",
              "      <td>16.208849</td>\n",
              "      <td>2.257889</td>\n",
              "      <td>...</td>\n",
              "      <td>14.015015</td>\n",
              "      <td>-502.520901</td>\n",
              "      <td>11.912783</td>\n",
              "      <td>-501.133383</td>\n",
              "      <td>10.070913</td>\n",
              "      <td>-500.129135</td>\n",
              "      <td>8.013877</td>\n",
              "      <td>-500.517572</td>\n",
              "      <td>14.028663</td>\n",
              "      <td>-601.427363</td>\n",
              "    </tr>\n",
              "    <tr>\n",
              "      <th>3</th>\n",
              "      <td>2016-01-15 03:00:00</td>\n",
              "      <td>6.047977</td>\n",
              "      <td>9.977019</td>\n",
              "      <td>4.858634</td>\n",
              "      <td>42.689819</td>\n",
              "      <td>68.347543</td>\n",
              "      <td>10.422762</td>\n",
              "      <td>0.883763</td>\n",
              "      <td>16.532835</td>\n",
              "      <td>2.146849</td>\n",
              "      <td>...</td>\n",
              "      <td>14.036510</td>\n",
              "      <td>-500.857308</td>\n",
              "      <td>11.999550</td>\n",
              "      <td>-501.193686</td>\n",
              "      <td>9.970366</td>\n",
              "      <td>-499.201640</td>\n",
              "      <td>7.977324</td>\n",
              "      <td>-500.255908</td>\n",
              "      <td>14.005551</td>\n",
              "      <td>-599.996129</td>\n",
              "    </tr>\n",
              "    <tr>\n",
              "      <th>4</th>\n",
              "      <td>2016-01-15 04:00:00</td>\n",
              "      <td>6.148599</td>\n",
              "      <td>10.142511</td>\n",
              "      <td>4.939416</td>\n",
              "      <td>42.774141</td>\n",
              "      <td>66.927016</td>\n",
              "      <td>10.360302</td>\n",
              "      <td>0.792826</td>\n",
              "      <td>16.525686</td>\n",
              "      <td>2.055292</td>\n",
              "      <td>...</td>\n",
              "      <td>14.027298</td>\n",
              "      <td>-499.838632</td>\n",
              "      <td>11.953070</td>\n",
              "      <td>-501.053894</td>\n",
              "      <td>9.925709</td>\n",
              "      <td>-501.686727</td>\n",
              "      <td>7.894242</td>\n",
              "      <td>-500.356035</td>\n",
              "      <td>13.996647</td>\n",
              "      <td>-601.496691</td>\n",
              "    </tr>\n",
              "  </tbody>\n",
              "</table>\n",
              "<p>5 rows × 87 columns</p>\n",
              "</div>"
            ],
            "text/plain": [
              "                  date  final.output.concentrate_ag  \\\n",
              "0  2016-01-15 00:00:00                     6.055403   \n",
              "1  2016-01-15 01:00:00                     6.029369   \n",
              "2  2016-01-15 02:00:00                     6.055926   \n",
              "3  2016-01-15 03:00:00                     6.047977   \n",
              "4  2016-01-15 04:00:00                     6.148599   \n",
              "\n",
              "   final.output.concentrate_pb  final.output.concentrate_sol  \\\n",
              "0                     9.889648                      5.507324   \n",
              "1                     9.968944                      5.257781   \n",
              "2                    10.213995                      5.383759   \n",
              "3                     9.977019                      4.858634   \n",
              "4                    10.142511                      4.939416   \n",
              "\n",
              "   final.output.concentrate_au  final.output.recovery  final.output.tail_ag  \\\n",
              "0                    42.192020              70.541216             10.411962   \n",
              "1                    42.701629              69.266198             10.462676   \n",
              "2                    42.657501              68.116445             10.507046   \n",
              "3                    42.689819              68.347543             10.422762   \n",
              "4                    42.774141              66.927016             10.360302   \n",
              "\n",
              "   final.output.tail_pb  final.output.tail_sol  final.output.tail_au  ...  \\\n",
              "0              0.895447              16.904297              2.143149  ...   \n",
              "1              0.927452              16.634514              2.224930  ...   \n",
              "2              0.953716              16.208849              2.257889  ...   \n",
              "3              0.883763              16.532835              2.146849  ...   \n",
              "4              0.792826              16.525686              2.055292  ...   \n",
              "\n",
              "   secondary_cleaner.state.floatbank4_a_air  \\\n",
              "0                                 14.016835   \n",
              "1                                 13.992281   \n",
              "2                                 14.015015   \n",
              "3                                 14.036510   \n",
              "4                                 14.027298   \n",
              "\n",
              "   secondary_cleaner.state.floatbank4_a_level  \\\n",
              "0                                 -502.488007   \n",
              "1                                 -505.503262   \n",
              "2                                 -502.520901   \n",
              "3                                 -500.857308   \n",
              "4                                 -499.838632   \n",
              "\n",
              "   secondary_cleaner.state.floatbank4_b_air  \\\n",
              "0                                 12.099931   \n",
              "1                                 11.950531   \n",
              "2                                 11.912783   \n",
              "3                                 11.999550   \n",
              "4                                 11.953070   \n",
              "\n",
              "   secondary_cleaner.state.floatbank4_b_level  \\\n",
              "0                                 -504.715942   \n",
              "1                                 -501.331529   \n",
              "2                                 -501.133383   \n",
              "3                                 -501.193686   \n",
              "4                                 -501.053894   \n",
              "\n",
              "   secondary_cleaner.state.floatbank5_a_air  \\\n",
              "0                                  9.925633   \n",
              "1                                 10.039245   \n",
              "2                                 10.070913   \n",
              "3                                  9.970366   \n",
              "4                                  9.925709   \n",
              "\n",
              "   secondary_cleaner.state.floatbank5_a_level  \\\n",
              "0                                 -498.310211   \n",
              "1                                 -500.169983   \n",
              "2                                 -500.129135   \n",
              "3                                 -499.201640   \n",
              "4                                 -501.686727   \n",
              "\n",
              "   secondary_cleaner.state.floatbank5_b_air  \\\n",
              "0                                  8.079666   \n",
              "1                                  7.984757   \n",
              "2                                  8.013877   \n",
              "3                                  7.977324   \n",
              "4                                  7.894242   \n",
              "\n",
              "   secondary_cleaner.state.floatbank5_b_level  \\\n",
              "0                                 -500.470978   \n",
              "1                                 -500.582168   \n",
              "2                                 -500.517572   \n",
              "3                                 -500.255908   \n",
              "4                                 -500.356035   \n",
              "\n",
              "   secondary_cleaner.state.floatbank6_a_air  \\\n",
              "0                                 14.151341   \n",
              "1                                 13.998353   \n",
              "2                                 14.028663   \n",
              "3                                 14.005551   \n",
              "4                                 13.996647   \n",
              "\n",
              "   secondary_cleaner.state.floatbank6_a_level  \n",
              "0                                 -605.841980  \n",
              "1                                 -599.787184  \n",
              "2                                 -601.427363  \n",
              "3                                 -599.996129  \n",
              "4                                 -601.496691  \n",
              "\n",
              "[5 rows x 87 columns]"
            ]
          },
          "execution_count": 16,
          "metadata": {},
          "output_type": "execute_result"
        }
      ],
      "source": [
        "data.head()"
      ]
    },
    {
      "cell_type": "code",
      "execution_count": null,
      "metadata": {
        "id": "acYkxxK5CGQp",
        "outputId": "6005752e-7f6c-421a-c2a0-3c3aba2ffec4"
      },
      "outputs": [
        {
          "data": {
            "text/html": [
              "<div>\n",
              "<style scoped>\n",
              "    .dataframe tbody tr th:only-of-type {\n",
              "        vertical-align: middle;\n",
              "    }\n",
              "\n",
              "    .dataframe tbody tr th {\n",
              "        vertical-align: top;\n",
              "    }\n",
              "\n",
              "    .dataframe thead th {\n",
              "        text-align: right;\n",
              "    }\n",
              "</style>\n",
              "<table border=\"1\" class=\"dataframe\">\n",
              "  <thead>\n",
              "    <tr style=\"text-align: right;\">\n",
              "      <th></th>\n",
              "      <th>date</th>\n",
              "      <th>primary_cleaner.input.sulfate</th>\n",
              "      <th>primary_cleaner.input.depressant</th>\n",
              "      <th>primary_cleaner.input.feed_size</th>\n",
              "      <th>primary_cleaner.input.xanthate</th>\n",
              "      <th>primary_cleaner.state.floatbank8_a_air</th>\n",
              "      <th>primary_cleaner.state.floatbank8_a_level</th>\n",
              "      <th>primary_cleaner.state.floatbank8_b_air</th>\n",
              "      <th>primary_cleaner.state.floatbank8_b_level</th>\n",
              "      <th>primary_cleaner.state.floatbank8_c_air</th>\n",
              "      <th>...</th>\n",
              "      <th>secondary_cleaner.state.floatbank4_a_air</th>\n",
              "      <th>secondary_cleaner.state.floatbank4_a_level</th>\n",
              "      <th>secondary_cleaner.state.floatbank4_b_air</th>\n",
              "      <th>secondary_cleaner.state.floatbank4_b_level</th>\n",
              "      <th>secondary_cleaner.state.floatbank5_a_air</th>\n",
              "      <th>secondary_cleaner.state.floatbank5_a_level</th>\n",
              "      <th>secondary_cleaner.state.floatbank5_b_air</th>\n",
              "      <th>secondary_cleaner.state.floatbank5_b_level</th>\n",
              "      <th>secondary_cleaner.state.floatbank6_a_air</th>\n",
              "      <th>secondary_cleaner.state.floatbank6_a_level</th>\n",
              "    </tr>\n",
              "  </thead>\n",
              "  <tbody>\n",
              "    <tr>\n",
              "      <th>0</th>\n",
              "      <td>2016-09-01 00:59:59</td>\n",
              "      <td>210.800909</td>\n",
              "      <td>14.993118</td>\n",
              "      <td>8.080000</td>\n",
              "      <td>1.005021</td>\n",
              "      <td>1398.981301</td>\n",
              "      <td>-500.225577</td>\n",
              "      <td>1399.144926</td>\n",
              "      <td>-499.919735</td>\n",
              "      <td>1400.102998</td>\n",
              "      <td>...</td>\n",
              "      <td>12.023554</td>\n",
              "      <td>-497.795834</td>\n",
              "      <td>8.016656</td>\n",
              "      <td>-501.289139</td>\n",
              "      <td>7.946562</td>\n",
              "      <td>-432.317850</td>\n",
              "      <td>4.872511</td>\n",
              "      <td>-500.037437</td>\n",
              "      <td>26.705889</td>\n",
              "      <td>-499.709414</td>\n",
              "    </tr>\n",
              "    <tr>\n",
              "      <th>1</th>\n",
              "      <td>2016-09-01 01:59:59</td>\n",
              "      <td>215.392455</td>\n",
              "      <td>14.987471</td>\n",
              "      <td>8.080000</td>\n",
              "      <td>0.990469</td>\n",
              "      <td>1398.777912</td>\n",
              "      <td>-500.057435</td>\n",
              "      <td>1398.055362</td>\n",
              "      <td>-499.778182</td>\n",
              "      <td>1396.151033</td>\n",
              "      <td>...</td>\n",
              "      <td>12.058140</td>\n",
              "      <td>-498.695773</td>\n",
              "      <td>8.130979</td>\n",
              "      <td>-499.634209</td>\n",
              "      <td>7.958270</td>\n",
              "      <td>-525.839648</td>\n",
              "      <td>4.878850</td>\n",
              "      <td>-500.162375</td>\n",
              "      <td>25.019940</td>\n",
              "      <td>-499.819438</td>\n",
              "    </tr>\n",
              "    <tr>\n",
              "      <th>2</th>\n",
              "      <td>2016-09-01 02:59:59</td>\n",
              "      <td>215.259946</td>\n",
              "      <td>12.884934</td>\n",
              "      <td>7.786667</td>\n",
              "      <td>0.996043</td>\n",
              "      <td>1398.493666</td>\n",
              "      <td>-500.868360</td>\n",
              "      <td>1398.860436</td>\n",
              "      <td>-499.764529</td>\n",
              "      <td>1398.075709</td>\n",
              "      <td>...</td>\n",
              "      <td>11.962366</td>\n",
              "      <td>-498.767484</td>\n",
              "      <td>8.096893</td>\n",
              "      <td>-500.827423</td>\n",
              "      <td>8.071056</td>\n",
              "      <td>-500.801673</td>\n",
              "      <td>4.905125</td>\n",
              "      <td>-499.828510</td>\n",
              "      <td>24.994862</td>\n",
              "      <td>-500.622559</td>\n",
              "    </tr>\n",
              "    <tr>\n",
              "      <th>3</th>\n",
              "      <td>2016-09-01 03:59:59</td>\n",
              "      <td>215.336236</td>\n",
              "      <td>12.006805</td>\n",
              "      <td>7.640000</td>\n",
              "      <td>0.863514</td>\n",
              "      <td>1399.618111</td>\n",
              "      <td>-498.863574</td>\n",
              "      <td>1397.440120</td>\n",
              "      <td>-499.211024</td>\n",
              "      <td>1400.129303</td>\n",
              "      <td>...</td>\n",
              "      <td>12.033091</td>\n",
              "      <td>-498.350935</td>\n",
              "      <td>8.074946</td>\n",
              "      <td>-499.474407</td>\n",
              "      <td>7.897085</td>\n",
              "      <td>-500.868509</td>\n",
              "      <td>4.931400</td>\n",
              "      <td>-499.963623</td>\n",
              "      <td>24.948919</td>\n",
              "      <td>-498.709987</td>\n",
              "    </tr>\n",
              "    <tr>\n",
              "      <th>4</th>\n",
              "      <td>2016-09-01 04:59:59</td>\n",
              "      <td>199.099327</td>\n",
              "      <td>10.682530</td>\n",
              "      <td>7.530000</td>\n",
              "      <td>0.805575</td>\n",
              "      <td>1401.268123</td>\n",
              "      <td>-500.808305</td>\n",
              "      <td>1398.128818</td>\n",
              "      <td>-499.504543</td>\n",
              "      <td>1402.172226</td>\n",
              "      <td>...</td>\n",
              "      <td>12.025367</td>\n",
              "      <td>-500.786497</td>\n",
              "      <td>8.054678</td>\n",
              "      <td>-500.397500</td>\n",
              "      <td>8.107890</td>\n",
              "      <td>-509.526725</td>\n",
              "      <td>4.957674</td>\n",
              "      <td>-500.360026</td>\n",
              "      <td>25.003331</td>\n",
              "      <td>-500.856333</td>\n",
              "    </tr>\n",
              "  </tbody>\n",
              "</table>\n",
              "<p>5 rows × 53 columns</p>\n",
              "</div>"
            ],
            "text/plain": [
              "                  date  primary_cleaner.input.sulfate  \\\n",
              "0  2016-09-01 00:59:59                     210.800909   \n",
              "1  2016-09-01 01:59:59                     215.392455   \n",
              "2  2016-09-01 02:59:59                     215.259946   \n",
              "3  2016-09-01 03:59:59                     215.336236   \n",
              "4  2016-09-01 04:59:59                     199.099327   \n",
              "\n",
              "   primary_cleaner.input.depressant  primary_cleaner.input.feed_size  \\\n",
              "0                         14.993118                         8.080000   \n",
              "1                         14.987471                         8.080000   \n",
              "2                         12.884934                         7.786667   \n",
              "3                         12.006805                         7.640000   \n",
              "4                         10.682530                         7.530000   \n",
              "\n",
              "   primary_cleaner.input.xanthate  primary_cleaner.state.floatbank8_a_air  \\\n",
              "0                        1.005021                             1398.981301   \n",
              "1                        0.990469                             1398.777912   \n",
              "2                        0.996043                             1398.493666   \n",
              "3                        0.863514                             1399.618111   \n",
              "4                        0.805575                             1401.268123   \n",
              "\n",
              "   primary_cleaner.state.floatbank8_a_level  \\\n",
              "0                               -500.225577   \n",
              "1                               -500.057435   \n",
              "2                               -500.868360   \n",
              "3                               -498.863574   \n",
              "4                               -500.808305   \n",
              "\n",
              "   primary_cleaner.state.floatbank8_b_air  \\\n",
              "0                             1399.144926   \n",
              "1                             1398.055362   \n",
              "2                             1398.860436   \n",
              "3                             1397.440120   \n",
              "4                             1398.128818   \n",
              "\n",
              "   primary_cleaner.state.floatbank8_b_level  \\\n",
              "0                               -499.919735   \n",
              "1                               -499.778182   \n",
              "2                               -499.764529   \n",
              "3                               -499.211024   \n",
              "4                               -499.504543   \n",
              "\n",
              "   primary_cleaner.state.floatbank8_c_air  ...  \\\n",
              "0                             1400.102998  ...   \n",
              "1                             1396.151033  ...   \n",
              "2                             1398.075709  ...   \n",
              "3                             1400.129303  ...   \n",
              "4                             1402.172226  ...   \n",
              "\n",
              "   secondary_cleaner.state.floatbank4_a_air  \\\n",
              "0                                 12.023554   \n",
              "1                                 12.058140   \n",
              "2                                 11.962366   \n",
              "3                                 12.033091   \n",
              "4                                 12.025367   \n",
              "\n",
              "   secondary_cleaner.state.floatbank4_a_level  \\\n",
              "0                                 -497.795834   \n",
              "1                                 -498.695773   \n",
              "2                                 -498.767484   \n",
              "3                                 -498.350935   \n",
              "4                                 -500.786497   \n",
              "\n",
              "   secondary_cleaner.state.floatbank4_b_air  \\\n",
              "0                                  8.016656   \n",
              "1                                  8.130979   \n",
              "2                                  8.096893   \n",
              "3                                  8.074946   \n",
              "4                                  8.054678   \n",
              "\n",
              "   secondary_cleaner.state.floatbank4_b_level  \\\n",
              "0                                 -501.289139   \n",
              "1                                 -499.634209   \n",
              "2                                 -500.827423   \n",
              "3                                 -499.474407   \n",
              "4                                 -500.397500   \n",
              "\n",
              "   secondary_cleaner.state.floatbank5_a_air  \\\n",
              "0                                  7.946562   \n",
              "1                                  7.958270   \n",
              "2                                  8.071056   \n",
              "3                                  7.897085   \n",
              "4                                  8.107890   \n",
              "\n",
              "   secondary_cleaner.state.floatbank5_a_level  \\\n",
              "0                                 -432.317850   \n",
              "1                                 -525.839648   \n",
              "2                                 -500.801673   \n",
              "3                                 -500.868509   \n",
              "4                                 -509.526725   \n",
              "\n",
              "   secondary_cleaner.state.floatbank5_b_air  \\\n",
              "0                                  4.872511   \n",
              "1                                  4.878850   \n",
              "2                                  4.905125   \n",
              "3                                  4.931400   \n",
              "4                                  4.957674   \n",
              "\n",
              "   secondary_cleaner.state.floatbank5_b_level  \\\n",
              "0                                 -500.037437   \n",
              "1                                 -500.162375   \n",
              "2                                 -499.828510   \n",
              "3                                 -499.963623   \n",
              "4                                 -500.360026   \n",
              "\n",
              "   secondary_cleaner.state.floatbank6_a_air  \\\n",
              "0                                 26.705889   \n",
              "1                                 25.019940   \n",
              "2                                 24.994862   \n",
              "3                                 24.948919   \n",
              "4                                 25.003331   \n",
              "\n",
              "   secondary_cleaner.state.floatbank6_a_level  \n",
              "0                                 -499.709414  \n",
              "1                                 -499.819438  \n",
              "2                                 -500.622559  \n",
              "3                                 -498.709987  \n",
              "4                                 -500.856333  \n",
              "\n",
              "[5 rows x 53 columns]"
            ]
          },
          "execution_count": 17,
          "metadata": {},
          "output_type": "execute_result"
        }
      ],
      "source": [
        "test_data.head()"
      ]
    },
    {
      "cell_type": "code",
      "execution_count": null,
      "metadata": {
        "id": "ZhJTIzi9CGQr",
        "outputId": "d93ca320-90e4-4056-8686-1e9f98ab82e3"
      },
      "outputs": [
        {
          "data": {
            "text/html": [
              "<div>\n",
              "<style scoped>\n",
              "    .dataframe tbody tr th:only-of-type {\n",
              "        vertical-align: middle;\n",
              "    }\n",
              "\n",
              "    .dataframe tbody tr th {\n",
              "        vertical-align: top;\n",
              "    }\n",
              "\n",
              "    .dataframe thead th {\n",
              "        text-align: right;\n",
              "    }\n",
              "</style>\n",
              "<table border=\"1\" class=\"dataframe\">\n",
              "  <thead>\n",
              "    <tr style=\"text-align: right;\">\n",
              "      <th></th>\n",
              "      <th>date</th>\n",
              "      <th>final.output.concentrate_ag</th>\n",
              "      <th>final.output.concentrate_pb</th>\n",
              "      <th>final.output.concentrate_sol</th>\n",
              "      <th>final.output.concentrate_au</th>\n",
              "      <th>final.output.recovery</th>\n",
              "      <th>final.output.tail_ag</th>\n",
              "      <th>final.output.tail_pb</th>\n",
              "      <th>final.output.tail_sol</th>\n",
              "      <th>final.output.tail_au</th>\n",
              "      <th>...</th>\n",
              "      <th>secondary_cleaner.state.floatbank4_a_air</th>\n",
              "      <th>secondary_cleaner.state.floatbank4_a_level</th>\n",
              "      <th>secondary_cleaner.state.floatbank4_b_air</th>\n",
              "      <th>secondary_cleaner.state.floatbank4_b_level</th>\n",
              "      <th>secondary_cleaner.state.floatbank5_a_air</th>\n",
              "      <th>secondary_cleaner.state.floatbank5_a_level</th>\n",
              "      <th>secondary_cleaner.state.floatbank5_b_air</th>\n",
              "      <th>secondary_cleaner.state.floatbank5_b_level</th>\n",
              "      <th>secondary_cleaner.state.floatbank6_a_air</th>\n",
              "      <th>secondary_cleaner.state.floatbank6_a_level</th>\n",
              "    </tr>\n",
              "  </thead>\n",
              "  <tbody>\n",
              "    <tr>\n",
              "      <th>0</th>\n",
              "      <td>2016-01-15 00:00:00</td>\n",
              "      <td>6.055403</td>\n",
              "      <td>9.889648</td>\n",
              "      <td>5.507324</td>\n",
              "      <td>42.192020</td>\n",
              "      <td>70.541216</td>\n",
              "      <td>10.411962</td>\n",
              "      <td>0.895447</td>\n",
              "      <td>16.904297</td>\n",
              "      <td>2.143149</td>\n",
              "      <td>...</td>\n",
              "      <td>14.016835</td>\n",
              "      <td>-502.488007</td>\n",
              "      <td>12.099931</td>\n",
              "      <td>-504.715942</td>\n",
              "      <td>9.925633</td>\n",
              "      <td>-498.310211</td>\n",
              "      <td>8.079666</td>\n",
              "      <td>-500.470978</td>\n",
              "      <td>14.151341</td>\n",
              "      <td>-605.841980</td>\n",
              "    </tr>\n",
              "    <tr>\n",
              "      <th>1</th>\n",
              "      <td>2016-01-15 01:00:00</td>\n",
              "      <td>6.029369</td>\n",
              "      <td>9.968944</td>\n",
              "      <td>5.257781</td>\n",
              "      <td>42.701629</td>\n",
              "      <td>69.266198</td>\n",
              "      <td>10.462676</td>\n",
              "      <td>0.927452</td>\n",
              "      <td>16.634514</td>\n",
              "      <td>2.224930</td>\n",
              "      <td>...</td>\n",
              "      <td>13.992281</td>\n",
              "      <td>-505.503262</td>\n",
              "      <td>11.950531</td>\n",
              "      <td>-501.331529</td>\n",
              "      <td>10.039245</td>\n",
              "      <td>-500.169983</td>\n",
              "      <td>7.984757</td>\n",
              "      <td>-500.582168</td>\n",
              "      <td>13.998353</td>\n",
              "      <td>-599.787184</td>\n",
              "    </tr>\n",
              "    <tr>\n",
              "      <th>2</th>\n",
              "      <td>2016-01-15 02:00:00</td>\n",
              "      <td>6.055926</td>\n",
              "      <td>10.213995</td>\n",
              "      <td>5.383759</td>\n",
              "      <td>42.657501</td>\n",
              "      <td>68.116445</td>\n",
              "      <td>10.507046</td>\n",
              "      <td>0.953716</td>\n",
              "      <td>16.208849</td>\n",
              "      <td>2.257889</td>\n",
              "      <td>...</td>\n",
              "      <td>14.015015</td>\n",
              "      <td>-502.520901</td>\n",
              "      <td>11.912783</td>\n",
              "      <td>-501.133383</td>\n",
              "      <td>10.070913</td>\n",
              "      <td>-500.129135</td>\n",
              "      <td>8.013877</td>\n",
              "      <td>-500.517572</td>\n",
              "      <td>14.028663</td>\n",
              "      <td>-601.427363</td>\n",
              "    </tr>\n",
              "    <tr>\n",
              "      <th>3</th>\n",
              "      <td>2016-01-15 03:00:00</td>\n",
              "      <td>6.047977</td>\n",
              "      <td>9.977019</td>\n",
              "      <td>4.858634</td>\n",
              "      <td>42.689819</td>\n",
              "      <td>68.347543</td>\n",
              "      <td>10.422762</td>\n",
              "      <td>0.883763</td>\n",
              "      <td>16.532835</td>\n",
              "      <td>2.146849</td>\n",
              "      <td>...</td>\n",
              "      <td>14.036510</td>\n",
              "      <td>-500.857308</td>\n",
              "      <td>11.999550</td>\n",
              "      <td>-501.193686</td>\n",
              "      <td>9.970366</td>\n",
              "      <td>-499.201640</td>\n",
              "      <td>7.977324</td>\n",
              "      <td>-500.255908</td>\n",
              "      <td>14.005551</td>\n",
              "      <td>-599.996129</td>\n",
              "    </tr>\n",
              "    <tr>\n",
              "      <th>4</th>\n",
              "      <td>2016-01-15 04:00:00</td>\n",
              "      <td>6.148599</td>\n",
              "      <td>10.142511</td>\n",
              "      <td>4.939416</td>\n",
              "      <td>42.774141</td>\n",
              "      <td>66.927016</td>\n",
              "      <td>10.360302</td>\n",
              "      <td>0.792826</td>\n",
              "      <td>16.525686</td>\n",
              "      <td>2.055292</td>\n",
              "      <td>...</td>\n",
              "      <td>14.027298</td>\n",
              "      <td>-499.838632</td>\n",
              "      <td>11.953070</td>\n",
              "      <td>-501.053894</td>\n",
              "      <td>9.925709</td>\n",
              "      <td>-501.686727</td>\n",
              "      <td>7.894242</td>\n",
              "      <td>-500.356035</td>\n",
              "      <td>13.996647</td>\n",
              "      <td>-601.496691</td>\n",
              "    </tr>\n",
              "  </tbody>\n",
              "</table>\n",
              "<p>5 rows × 87 columns</p>\n",
              "</div>"
            ],
            "text/plain": [
              "                  date  final.output.concentrate_ag  \\\n",
              "0  2016-01-15 00:00:00                     6.055403   \n",
              "1  2016-01-15 01:00:00                     6.029369   \n",
              "2  2016-01-15 02:00:00                     6.055926   \n",
              "3  2016-01-15 03:00:00                     6.047977   \n",
              "4  2016-01-15 04:00:00                     6.148599   \n",
              "\n",
              "   final.output.concentrate_pb  final.output.concentrate_sol  \\\n",
              "0                     9.889648                      5.507324   \n",
              "1                     9.968944                      5.257781   \n",
              "2                    10.213995                      5.383759   \n",
              "3                     9.977019                      4.858634   \n",
              "4                    10.142511                      4.939416   \n",
              "\n",
              "   final.output.concentrate_au  final.output.recovery  final.output.tail_ag  \\\n",
              "0                    42.192020              70.541216             10.411962   \n",
              "1                    42.701629              69.266198             10.462676   \n",
              "2                    42.657501              68.116445             10.507046   \n",
              "3                    42.689819              68.347543             10.422762   \n",
              "4                    42.774141              66.927016             10.360302   \n",
              "\n",
              "   final.output.tail_pb  final.output.tail_sol  final.output.tail_au  ...  \\\n",
              "0              0.895447              16.904297              2.143149  ...   \n",
              "1              0.927452              16.634514              2.224930  ...   \n",
              "2              0.953716              16.208849              2.257889  ...   \n",
              "3              0.883763              16.532835              2.146849  ...   \n",
              "4              0.792826              16.525686              2.055292  ...   \n",
              "\n",
              "   secondary_cleaner.state.floatbank4_a_air  \\\n",
              "0                                 14.016835   \n",
              "1                                 13.992281   \n",
              "2                                 14.015015   \n",
              "3                                 14.036510   \n",
              "4                                 14.027298   \n",
              "\n",
              "   secondary_cleaner.state.floatbank4_a_level  \\\n",
              "0                                 -502.488007   \n",
              "1                                 -505.503262   \n",
              "2                                 -502.520901   \n",
              "3                                 -500.857308   \n",
              "4                                 -499.838632   \n",
              "\n",
              "   secondary_cleaner.state.floatbank4_b_air  \\\n",
              "0                                 12.099931   \n",
              "1                                 11.950531   \n",
              "2                                 11.912783   \n",
              "3                                 11.999550   \n",
              "4                                 11.953070   \n",
              "\n",
              "   secondary_cleaner.state.floatbank4_b_level  \\\n",
              "0                                 -504.715942   \n",
              "1                                 -501.331529   \n",
              "2                                 -501.133383   \n",
              "3                                 -501.193686   \n",
              "4                                 -501.053894   \n",
              "\n",
              "   secondary_cleaner.state.floatbank5_a_air  \\\n",
              "0                                  9.925633   \n",
              "1                                 10.039245   \n",
              "2                                 10.070913   \n",
              "3                                  9.970366   \n",
              "4                                  9.925709   \n",
              "\n",
              "   secondary_cleaner.state.floatbank5_a_level  \\\n",
              "0                                 -498.310211   \n",
              "1                                 -500.169983   \n",
              "2                                 -500.129135   \n",
              "3                                 -499.201640   \n",
              "4                                 -501.686727   \n",
              "\n",
              "   secondary_cleaner.state.floatbank5_b_air  \\\n",
              "0                                  8.079666   \n",
              "1                                  7.984757   \n",
              "2                                  8.013877   \n",
              "3                                  7.977324   \n",
              "4                                  7.894242   \n",
              "\n",
              "   secondary_cleaner.state.floatbank5_b_level  \\\n",
              "0                                 -500.470978   \n",
              "1                                 -500.582168   \n",
              "2                                 -500.517572   \n",
              "3                                 -500.255908   \n",
              "4                                 -500.356035   \n",
              "\n",
              "   secondary_cleaner.state.floatbank6_a_air  \\\n",
              "0                                 14.151341   \n",
              "1                                 13.998353   \n",
              "2                                 14.028663   \n",
              "3                                 14.005551   \n",
              "4                                 13.996647   \n",
              "\n",
              "   secondary_cleaner.state.floatbank6_a_level  \n",
              "0                                 -605.841980  \n",
              "1                                 -599.787184  \n",
              "2                                 -601.427363  \n",
              "3                                 -599.996129  \n",
              "4                                 -601.496691  \n",
              "\n",
              "[5 rows x 87 columns]"
            ]
          },
          "execution_count": 18,
          "metadata": {},
          "output_type": "execute_result"
        }
      ],
      "source": [
        "train_data.head()"
      ]
    },
    {
      "cell_type": "code",
      "execution_count": null,
      "metadata": {
        "id": "AmezZrkFCGQs",
        "outputId": "784c207c-bb4e-4ff6-9bc1-2b615414689f"
      },
      "outputs": [
        {
          "data": {
            "text/plain": [
              "date                                            0\n",
              "final.output.concentrate_ag                     1\n",
              "final.output.concentrate_pb                     1\n",
              "final.output.concentrate_sol                  211\n",
              "final.output.concentrate_au                     0\n",
              "                                             ... \n",
              "secondary_cleaner.state.floatbank5_a_level      1\n",
              "secondary_cleaner.state.floatbank5_b_air        1\n",
              "secondary_cleaner.state.floatbank5_b_level      1\n",
              "secondary_cleaner.state.floatbank6_a_air        2\n",
              "secondary_cleaner.state.floatbank6_a_level      1\n",
              "Length: 87, dtype: int64"
            ]
          },
          "execution_count": 19,
          "metadata": {},
          "output_type": "execute_result"
        }
      ],
      "source": [
        "train_data.isna().sum()"
      ]
    },
    {
      "cell_type": "code",
      "execution_count": null,
      "metadata": {
        "scrolled": true,
        "id": "MxW2CgQbCGQs",
        "outputId": "74135ea6-0407-45c2-94df-7859b98a2948"
      },
      "outputs": [
        {
          "data": {
            "text/plain": [
              "date                                           0\n",
              "primary_cleaner.input.sulfate                  4\n",
              "primary_cleaner.input.depressant               5\n",
              "primary_cleaner.input.feed_size                0\n",
              "primary_cleaner.input.xanthate                 4\n",
              "primary_cleaner.state.floatbank8_a_air         0\n",
              "primary_cleaner.state.floatbank8_a_level       0\n",
              "primary_cleaner.state.floatbank8_b_air         0\n",
              "primary_cleaner.state.floatbank8_b_level       0\n",
              "primary_cleaner.state.floatbank8_c_air         0\n",
              "primary_cleaner.state.floatbank8_c_level       0\n",
              "primary_cleaner.state.floatbank8_d_air         0\n",
              "primary_cleaner.state.floatbank8_d_level       0\n",
              "rougher.input.feed_ag                          0\n",
              "rougher.input.feed_pb                          0\n",
              "rougher.input.feed_rate                        3\n",
              "rougher.input.feed_size                        1\n",
              "rougher.input.feed_sol                        21\n",
              "rougher.input.feed_au                          0\n",
              "rougher.input.floatbank10_sulfate              5\n",
              "rougher.input.floatbank10_xanthate             0\n",
              "rougher.input.floatbank11_sulfate              8\n",
              "rougher.input.floatbank11_xanthate            25\n",
              "rougher.state.floatbank10_a_air                0\n",
              "rougher.state.floatbank10_a_level              0\n",
              "rougher.state.floatbank10_b_air                0\n",
              "rougher.state.floatbank10_b_level              0\n",
              "rougher.state.floatbank10_c_air                0\n",
              "rougher.state.floatbank10_c_level              0\n",
              "rougher.state.floatbank10_d_air                0\n",
              "rougher.state.floatbank10_d_level              0\n",
              "rougher.state.floatbank10_e_air                0\n",
              "rougher.state.floatbank10_e_level              0\n",
              "rougher.state.floatbank10_f_air                0\n",
              "rougher.state.floatbank10_f_level              0\n",
              "secondary_cleaner.state.floatbank2_a_air       3\n",
              "secondary_cleaner.state.floatbank2_a_level     0\n",
              "secondary_cleaner.state.floatbank2_b_air       2\n",
              "secondary_cleaner.state.floatbank2_b_level     0\n",
              "secondary_cleaner.state.floatbank3_a_air       9\n",
              "secondary_cleaner.state.floatbank3_a_level     0\n",
              "secondary_cleaner.state.floatbank3_b_air       0\n",
              "secondary_cleaner.state.floatbank3_b_level     0\n",
              "secondary_cleaner.state.floatbank4_a_air       0\n",
              "secondary_cleaner.state.floatbank4_a_level     0\n",
              "secondary_cleaner.state.floatbank4_b_air       0\n",
              "secondary_cleaner.state.floatbank4_b_level     0\n",
              "secondary_cleaner.state.floatbank5_a_air       0\n",
              "secondary_cleaner.state.floatbank5_a_level     0\n",
              "secondary_cleaner.state.floatbank5_b_air       0\n",
              "secondary_cleaner.state.floatbank5_b_level     0\n",
              "secondary_cleaner.state.floatbank6_a_air       0\n",
              "secondary_cleaner.state.floatbank6_a_level     0\n",
              "dtype: int64"
            ]
          },
          "execution_count": 20,
          "metadata": {},
          "output_type": "execute_result"
        }
      ],
      "source": [
        "test_data.isna().sum()"
      ]
    },
    {
      "cell_type": "code",
      "execution_count": null,
      "metadata": {
        "id": "coQW5c9ZCGQt",
        "outputId": "d2ae006e-b65b-45d6-da19-18f9773c57c6"
      },
      "outputs": [
        {
          "data": {
            "text/plain": [
              "0"
            ]
          },
          "execution_count": 21,
          "metadata": {},
          "output_type": "execute_result"
        }
      ],
      "source": [
        "data.duplicated().sum()"
      ]
    },
    {
      "cell_type": "code",
      "execution_count": null,
      "metadata": {
        "id": "SixVu8k4CGQu",
        "outputId": "020c4240-9755-4e82-ebc6-b8a1172f1532"
      },
      "outputs": [
        {
          "data": {
            "text/plain": [
              "0"
            ]
          },
          "execution_count": 22,
          "metadata": {},
          "output_type": "execute_result"
        }
      ],
      "source": [
        "train_data.duplicated().sum()"
      ]
    },
    {
      "cell_type": "code",
      "execution_count": null,
      "metadata": {
        "id": "YCrdzDRECGQu",
        "outputId": "9985dbeb-61a3-424c-8395-8b2a0614e464"
      },
      "outputs": [
        {
          "data": {
            "text/plain": [
              "0"
            ]
          },
          "execution_count": 23,
          "metadata": {},
          "output_type": "execute_result"
        }
      ],
      "source": [
        "test_data.duplicated().sum()"
      ]
    },
    {
      "cell_type": "markdown",
      "metadata": {
        "id": "zopn0S2wCGQv"
      },
      "source": [
        "В выборке не обнаружено дубликатов. Однако, было обнаружено несколько пропущенных значений в тестовой и обучающей выборках. Кроме того, в обучающей выборке было обнаружено значительно больше столбцов с пропущенными значениями. Возможно, эти пропуски были вызваны неправильным заполнением данных на различных этапах или некоторыми отсутствующими значениями."
      ]
    },
    {
      "cell_type": "markdown",
      "metadata": {
        "id": "UKgSTo8LCGQv"
      },
      "source": [
        "#### 1.2 Проверьте, что эффективность обогащения рассчитана правильно. "
      ]
    },
    {
      "cell_type": "code",
      "execution_count": null,
      "metadata": {
        "id": "ag0KRPWRCGQw"
      },
      "outputs": [],
      "source": [
        "formula = ((train_data['rougher.output.concentrate_au']*(train_data['rougher.input.feed_au']-train_data['rougher.output.tail_au'])) / (train_data['rougher.input.feed_au']*(train_data['rougher.output.concentrate_au']-train_data['rougher.output.tail_au'])))*100\n"
      ]
    },
    {
      "cell_type": "markdown",
      "metadata": {
        "id": "ooAQgOuoCGQw"
      },
      "source": [
        "#### Найдите MAE между вашими расчётами и значением признака"
      ]
    },
    {
      "cell_type": "code",
      "execution_count": null,
      "metadata": {
        "id": "2YHJUbOBCGQw",
        "outputId": "a668bac4-43fa-440c-b934-0cee46cb37ed"
      },
      "outputs": [
        {
          "data": {
            "text/plain": [
              "9.73512347450521e-15"
            ]
          },
          "execution_count": 25,
          "metadata": {},
          "output_type": "execute_result"
        }
      ],
      "source": [
        "mae = mean_absolute_error(train_data['rougher.output.recovery'],formula)\n",
        "mae"
      ]
    },
    {
      "cell_type": "markdown",
      "metadata": {
        "id": "_BSCIfDzCGQx"
      },
      "source": [
        "MAE составляет 9. Такая небольшая абсолютная ошибка позволяет сделать вывод, что модель правильно рассчитывает результаты."
      ]
    },
    {
      "cell_type": "markdown",
      "metadata": {
        "id": "ySBuzw_UCGQx"
      },
      "source": [
        "#### 1.3. Проанализируйте признаки, недоступные в тестовой выборке. "
      ]
    },
    {
      "cell_type": "code",
      "execution_count": null,
      "metadata": {
        "id": "SGS1gs6iCGQx",
        "outputId": "172e6f5f-50a8-483d-9575-65f34e9632a3"
      },
      "outputs": [
        {
          "data": {
            "text/plain": [
              "Index(['final.output.concentrate_ag', 'final.output.concentrate_au',\n",
              "       'final.output.concentrate_pb', 'final.output.concentrate_sol',\n",
              "       'final.output.recovery', 'final.output.tail_ag', 'final.output.tail_au',\n",
              "       'final.output.tail_pb', 'final.output.tail_sol',\n",
              "       'primary_cleaner.output.concentrate_ag',\n",
              "       'primary_cleaner.output.concentrate_au',\n",
              "       'primary_cleaner.output.concentrate_pb',\n",
              "       'primary_cleaner.output.concentrate_sol',\n",
              "       'primary_cleaner.output.tail_ag', 'primary_cleaner.output.tail_au',\n",
              "       'primary_cleaner.output.tail_pb', 'primary_cleaner.output.tail_sol',\n",
              "       'rougher.calculation.au_pb_ratio',\n",
              "       'rougher.calculation.floatbank10_sulfate_to_au_feed',\n",
              "       'rougher.calculation.floatbank11_sulfate_to_au_feed',\n",
              "       'rougher.calculation.sulfate_to_au_concentrate',\n",
              "       'rougher.output.concentrate_ag', 'rougher.output.concentrate_au',\n",
              "       'rougher.output.concentrate_pb', 'rougher.output.concentrate_sol',\n",
              "       'rougher.output.recovery', 'rougher.output.tail_ag',\n",
              "       'rougher.output.tail_au', 'rougher.output.tail_pb',\n",
              "       'rougher.output.tail_sol', 'secondary_cleaner.output.tail_ag',\n",
              "       'secondary_cleaner.output.tail_au', 'secondary_cleaner.output.tail_pb',\n",
              "       'secondary_cleaner.output.tail_sol'],\n",
              "      dtype='object')"
            ]
          },
          "execution_count": 26,
          "metadata": {},
          "output_type": "execute_result"
        }
      ],
      "source": [
        "train_columns = train_data.columns\n",
        "test_columns = test_data.columns\n",
        "resalt = train_columns.difference(test_columns)\n",
        "resalt"
      ]
    },
    {
      "cell_type": "markdown",
      "metadata": {
        "id": "hUhOJ_ulCGQy"
      },
      "source": [
        "В тестовой выборке отсутствуют следующие признаки: final.output, primary_cleaner.output, rougher.output, secondary_cleaner.output. Эти расчетные (calculation) и выходные (output) характеристики процесса недоступны в тестовой выборке, так как их невозможно получить или измерить в процессе выполнения технологического процесса."
      ]
    },
    {
      "cell_type": "markdown",
      "metadata": {
        "id": "3VfMI-tUCGQy"
      },
      "source": [
        "#### 1.4. Проведите предобработку данных."
      ]
    },
    {
      "cell_type": "markdown",
      "metadata": {
        "id": "84X1Zat2CGQy"
      },
      "source": [
        "Для начала рекомендуется удалить из обучающей выборки те столбцы, которых нет в тестовой выборке."
      ]
    },
    {
      "cell_type": "code",
      "execution_count": null,
      "metadata": {
        "id": "XJ_V7pZaCGQz"
      },
      "outputs": [],
      "source": [
        "train_data = train_data[test_data.columns]"
      ]
    },
    {
      "cell_type": "markdown",
      "metadata": {
        "id": "efKUmdczCGQz"
      },
      "source": [
        "Ранее в обоих выборках были замечены пропуски, однако количество этих пропусков относительно небольшое в сравнении с общим количеством строк. Поэтому, можно принять решение об удалении этих пропусков из выборок."
      ]
    },
    {
      "cell_type": "code",
      "execution_count": null,
      "metadata": {
        "id": "mWUWyxzvCGQz"
      },
      "outputs": [],
      "source": [
        "train_data.dropna(inplace=True)\n",
        "test_data.dropna(inplace=True)"
      ]
    },
    {
      "cell_type": "markdown",
      "metadata": {
        "id": "ZJra4qAjCGQz"
      },
      "source": [
        "### Вывод "
      ]
    },
    {
      "cell_type": "markdown",
      "metadata": {
        "id": "vcPoSfcjCGQ0"
      },
      "source": [
        "Изучили полученные данные, проверили их на наличие дубликатов и пропусков. Также просмотрели столбцы, которые присутствуют в обучающей выборке, но отсутствуют в тестовой. Был осуществлен расчет эффективности обогащения."
      ]
    },
    {
      "cell_type": "markdown",
      "metadata": {
        "id": "DdJv3vkZCGQ0"
      },
      "source": [
        "## Анализ данных"
      ]
    },
    {
      "cell_type": "markdown",
      "metadata": {
        "id": "xdV7wQNMCGQ0"
      },
      "source": [
        "#### 2.1. Посмотрите, как меняется концентрация металлов (Au, Ag, Pb) на различных этапах очистки. Опишите выводы."
      ]
    },
    {
      "cell_type": "markdown",
      "metadata": {
        "id": "31htqh43CGQ0"
      },
      "source": [
        "руды следующие:\n",
        "\n",
        "1. rougher — этап флотации\n",
        "2. primary_cleaner — этап первичной очистки\n",
        "3. final — финальный этап с получением финальных характеристик продукта."
      ]
    },
    {
      "cell_type": "code",
      "execution_count": null,
      "metadata": {
        "id": "FoM46oM3CGQ1",
        "outputId": "792d5b2a-cc22-4ba2-88c0-9919cddcd912"
      },
      "outputs": [
        {
          "data": {
            "image/png": "[encoded data removed]",
            "text/plain": [
              "<Figure size 1440x720 with 1 Axes>"
            ]
          },
          "metadata": {
            "needs_background": "light"
          },
          "output_type": "display_data"
        }
      ],
      "source": [
        "data.plot(y=['rougher.output.concentrate_ag', 'primary_cleaner.output.concentrate_ag','final.output.concentrate_ag','rougher.input.feed_ag'], kind='hist',figsize=(20,10),fontsize=17)\n",
        "plt.grid(True)\n",
        "plt.xlabel('количество строк с данными',fontsize=17)\n",
        "plt.ylabel('распределение концетрации',fontsize=17)\n",
        "plt.show()\n",
        "\n"
      ]
    },
    {
      "cell_type": "code",
      "execution_count": null,
      "metadata": {
        "id": "mCacs59ACGQ5",
        "outputId": "35712296-6e60-4b07-aa64-4bdf93dd496e"
      },
      "outputs": [
        {
          "data": {
            "image/png": "[encoded data removed]",
            "text/plain": [
              "<Figure size 1440x720 with 1 Axes>"
            ]
          },
          "metadata": {
            "needs_background": "light"
          },
          "output_type": "display_data"
        }
      ],
      "source": [
        "data.plot(y=['rougher.output.concentrate_au', 'primary_cleaner.output.concentrate_au','final.output.concentrate_au','rougher.input.feed_au'], kind='hist',figsize=(20,10),fontsize=17)\n",
        "plt.grid(True)\n",
        "plt.xlabel('количество строк с данными',fontsize=17)\n",
        "plt.ylabel('распределение концетрации',fontsize=17)\n",
        "plt.show()\n",
        "\n",
        "\n"
      ]
    },
    {
      "cell_type": "code",
      "execution_count": null,
      "metadata": {
        "id": "pfLeiOtdCGQ5",
        "outputId": "fd893b3f-cc04-4c47-ee6b-42ecbe03db1c"
      },
      "outputs": [
        {
          "data": {
            "image/png": "[encoded data removed]",
            "text/plain": [
              "<Figure size 1440x720 with 1 Axes>"
            ]
          },
          "metadata": {
            "needs_background": "light"
          },
          "output_type": "display_data"
        }
      ],
      "source": [
        "data.plot(y=['rougher.output.concentrate_pb', 'primary_cleaner.output.concentrate_pb','final.output.concentrate_pb','rougher.input.feed_pb'], kind='hist',figsize=(20,10),fontsize=17)\n",
        "plt.grid(True)\n",
        "plt.xlabel('количество строк с данными',fontsize=17)\n",
        "plt.ylabel('распределение концетрации',fontsize=17)\n",
        "plt.show()\n",
        "\n",
        "\n"
      ]
    },
    {
      "cell_type": "markdown",
      "metadata": {
        "id": "xGMFZYm5CGQ6"
      },
      "source": [
        "Из графиков видно, что концентрация металлов свинца и серебра на всех этапах примерно одинакова и не сильно меняется. В то же время концентрация золота резко увеличивается именно на финальном этапе."
      ]
    },
    {
      "cell_type": "markdown",
      "metadata": {
        "id": "gANZeKEECGQ6"
      },
      "source": [
        "#### 2.2.  Сравните распределения размеров гранул сырья на обучающей и тестовой выборках. Если распределения сильно отличаются друг от друга, оценка модели будет неправильной."
      ]
    },
    {
      "cell_type": "code",
      "execution_count": null,
      "metadata": {
        "id": "5VJPecl0CGQ6",
        "outputId": "7f3fbae8-937f-4166-cece-c579bb48d0e8"
      },
      "outputs": [
        {
          "data": {
            "text/plain": [
              "<AxesSubplot:xlabel='rougher.input.feed_size', ylabel='Density'>"
            ]
          },
          "execution_count": 32,
          "metadata": {},
          "output_type": "execute_result"
        },
        {
          "data": {
            "image/png": "[encoded data removed]",
            "text/plain": [
              "<Figure size 432x288 with 1 Axes>"
            ]
          },
          "metadata": {
            "needs_background": "light"
          },
          "output_type": "display_data"
        }
      ],
      "source": [
        "sns.kdeplot(data=test_data,x = 'rougher.input.feed_size')"
      ]
    },
    {
      "cell_type": "code",
      "execution_count": null,
      "metadata": {
        "id": "M6JX9AIMCGQ7",
        "outputId": "2dad44d0-339d-4814-8d99-b59e84234fd5"
      },
      "outputs": [
        {
          "data": {
            "text/plain": [
              "<AxesSubplot:xlabel='rougher.input.feed_size', ylabel='Density'>"
            ]
          },
          "execution_count": 33,
          "metadata": {},
          "output_type": "execute_result"
        },
        {
          "data": {
            "image/png": "[encoded data removed]",
            "text/plain": [
              "<Figure size 432x288 with 1 Axes>"
            ]
          },
          "metadata": {
            "needs_background": "light"
          },
          "output_type": "display_data"
        }
      ],
      "source": [
        "sns.kdeplot(data=train_data,x = 'rougher.input.feed_size')"
      ]
    },
    {
      "cell_type": "markdown",
      "metadata": {
        "id": "mKekCdMyCGRT"
      },
      "source": [
        "По графикам обучающей и тестовой выборки можно сделать вывод о том, что размер гранул практически идентичен в обеих выборках."
      ]
    },
    {
      "cell_type": "markdown",
      "metadata": {
        "id": "m3DQGw3eCGRT"
      },
      "source": [
        "#### 2.3. Исследуйте суммарную концентрацию всех веществ на разных стадиях: в сырье, в черновом и финальном концентратах. "
      ]
    },
    {
      "cell_type": "code",
      "execution_count": null,
      "metadata": {
        "id": "8yoXHglMCGRT",
        "outputId": "0d7b31c5-a408-476c-f937-1110f46ea206"
      },
      "outputs": [
        {
          "data": {
            "image/png": "[encoded data removed]",
            "text/plain": [
              "<Figure size 720x504 with 1 Axes>"
            ]
          },
          "metadata": {
            "needs_background": "light"
          },
          "output_type": "display_data"
        }
      ],
      "source": [
        "data['summary_rougher_input_feed_']= data['rougher.input.feed_ag']+data['rougher.input.feed_au']+data['rougher.input.feed_pb']+data['rougher.input.feed_sol']\n",
        "data.plot(y = 'summary_rougher_input_feed_',kind='hist',figsize=(10,7))\n",
        "plt.show()"
      ]
    },
    {
      "cell_type": "code",
      "execution_count": null,
      "metadata": {
        "id": "I0o4tntKCGRT",
        "outputId": "913f0f6d-985b-4ae5-a639-aa3e271ce302"
      },
      "outputs": [
        {
          "data": {
            "image/png": "[encoded data removed]",
            "text/plain": [
              "<Figure size 720x504 with 1 Axes>"
            ]
          },
          "metadata": {
            "needs_background": "light"
          },
          "output_type": "display_data"
        }
      ],
      "source": [
        "data['summary_rougher_output_concentrate_']= data['rougher.output.concentrate_ag']+data['rougher.output.concentrate_au']+data['rougher.output.concentrate_pb']+data['rougher.output.concentrate_sol']\n",
        "data.plot(y = 'summary_rougher_output_concentrate_',kind='hist',figsize=(10,7))\n",
        "plt.show()"
      ]
    },
    {
      "cell_type": "code",
      "execution_count": null,
      "metadata": {
        "id": "D1qrOVFBCGRU",
        "outputId": "1c439790-09bc-4045-f377-efcacd887575"
      },
      "outputs": [
        {
          "data": {
            "image/png": "[encoded data removed]",
            "text/plain": [
              "<Figure size 648x504 with 1 Axes>"
            ]
          },
          "metadata": {
            "needs_background": "light"
          },
          "output_type": "display_data"
        }
      ],
      "source": [
        "data['summary_final_output_concentrate_']= data['final.output.concentrate_ag']+data['final.output.concentrate_au']+data['final.output.concentrate_pb']+data['final.output.concentrate_sol']\n",
        "data.plot(y = 'summary_final_output_concentrate_',kind='hist',figsize=(9,7))\n",
        "plt.show()"
      ]
    },
    {
      "cell_type": "markdown",
      "metadata": {
        "id": "F18rILhYCGRU"
      },
      "source": [
        "На графике по черновому концентрату видно достаточно большое количество нулевых значений, что не может быть правильной характеристикой. Следовательно, это является аномалией. Для исправления ситуации, необходимо удалить эти значения из данных."
      ]
    },
    {
      "cell_type": "code",
      "execution_count": null,
      "metadata": {
        "id": "Ga_cnzN0CGRU"
      },
      "outputs": [],
      "source": [
        "data['summary_rougher_output_concentrate_']= data['summary_rougher_output_concentrate_'].replace(0, np.nan)\n",
        "data['summary_rougher_output_concentrate_'].dropna(inplace=True)"
      ]
    },
    {
      "cell_type": "markdown",
      "metadata": {
        "id": "rr_njPcQCGRV"
      },
      "source": [
        "### Вывод по разделу "
      ]
    },
    {
      "cell_type": "markdown",
      "metadata": {
        "id": "d5l9CtC1CGRV"
      },
      "source": [
        "Концентрация металлов свинца и серебра на всех этапах примерно на одном уровне, но концентрация золота возрастает на финальном этапе. Размер гранул в тестовой и обучающей выборках почти одинаковый. В черновом концентрате была обнаружена аномалия, когда какие-то стадии имели нулевые значения. Эти данные были в дальнейшем удалены."
      ]
    },
    {
      "cell_type": "markdown",
      "metadata": {
        "id": "IC_szBm2CGRV"
      },
      "source": [
        "## Модель"
      ]
    },
    {
      "cell_type": "markdown",
      "metadata": {
        "id": "U1YXXzXWCGRV"
      },
      "source": [
        "#### 3.1. Напишите функцию для вычисления итоговой sMAPE."
      ]
    },
    {
      "cell_type": "code",
      "execution_count": null,
      "metadata": {
        "id": "2YfKsKmQCGRW"
      },
      "outputs": [],
      "source": [
        "def smape_total(target_rougher, predicted_rougher, target_final, predicted_final):\n",
        "    smape_rough = 1/len(target_rougher) * np.sum(2 * np.abs(\n",
        "      target_rougher - predicted_rougher) / (np.abs(target_rougher) + np.abs(predicted_rougher))*100)\n",
        "    smape_fin = 1/len(target_final) * np.sum(2 * np.abs(\n",
        "      target_final - predicted_final) / (np.abs(target_final) + np.abs(predicted_final))*100)\n",
        "    return (0.25*smape_rough) + (0.75*smape_fin)"
      ]
    },
    {
      "cell_type": "code",
      "execution_count": null,
      "metadata": {
        "id": "k9Z9CTtFCGRW"
      },
      "outputs": [],
      "source": [
        "def smape_final(rougher, final):\n",
        "    return 0.25*rougher + 0.75*final"
      ]
    },
    {
      "cell_type": "code",
      "execution_count": null,
      "metadata": {
        "id": "gnHk0cB2CGRX"
      },
      "outputs": [],
      "source": [
        "def smape(target, predicted):\n",
        "    return 1/len(target) * np.sum(2 * np.abs(\n",
        "       target - predicted) / (np.abs(target) + np.abs(predicted))*100)"
      ]
    },
    {
      "cell_type": "markdown",
      "metadata": {
        "id": "AmkxJk53CGRX"
      },
      "source": [
        "#### 3.2. Обучите разные модели и оцените их качество кросс-валидацией. Выберите лучшую модель и проверьте её на тестовой выборке. Опишите выводы."
      ]
    },
    {
      "cell_type": "markdown",
      "metadata": {
        "id": "SwqjnaMsCGRX"
      },
      "source": [
        "Так как столбец с датой не несет в себе полезной информации для моделей, решено удалить его из данных. Для обучения моделей мы будем использовать два алгоритма: Случайный лес и Дерево решений."
      ]
    },
    {
      "cell_type": "code",
      "execution_count": null,
      "metadata": {
        "id": "-qH32bztCGRY"
      },
      "outputs": [],
      "source": [
        "test_data = test_data.merge(data[['rougher.output.recovery', 'final.output.recovery', 'date']],\n",
        "                         how = 'left', on= 'date')\n",
        "train_data = train_data.merge(data[['rougher.output.recovery', 'final.output.recovery', 'date']],\n",
        "                         how = 'left', on= 'date')\n",
        "\n"
      ]
    },
    {
      "cell_type": "code",
      "execution_count": null,
      "metadata": {
        "id": "6DyKN6QhCGRY"
      },
      "outputs": [],
      "source": [
        "test_data.drop(['date'],axis = 1 ,inplace=True)\n",
        "train_data.drop(['date'],axis = 1 ,inplace=True)"
      ]
    },
    {
      "cell_type": "markdown",
      "metadata": {
        "id": "wypsuMOfCGRY"
      },
      "source": [
        "Тренировочной выборка."
      ]
    },
    {
      "cell_type": "code",
      "execution_count": null,
      "metadata": {
        "id": "9d9JoUEnCGRY"
      },
      "outputs": [],
      "source": [
        "features_train_rougher = train_data.filter(regex='^rougher',axis=1)"
      ]
    },
    {
      "cell_type": "code",
      "execution_count": null,
      "metadata": {
        "id": "T9Zio6ZcCGRZ"
      },
      "outputs": [],
      "source": [
        "features_train_rougher = features_train_rougher.drop(['rougher.output.recovery'], axis=1)"
      ]
    },
    {
      "cell_type": "code",
      "execution_count": null,
      "metadata": {
        "id": "OrYDaky4CGRZ"
      },
      "outputs": [],
      "source": [
        "target_train_rougher = train_data['rougher.output.recovery']"
      ]
    },
    {
      "cell_type": "code",
      "execution_count": null,
      "metadata": {
        "id": "a4uTQfoACGRZ"
      },
      "outputs": [],
      "source": [
        "features_train_final = train_data.drop(['rougher.output.recovery', 'final.output.recovery'], axis=1)"
      ]
    },
    {
      "cell_type": "code",
      "execution_count": null,
      "metadata": {
        "id": "75Jv8DtmCGRa"
      },
      "outputs": [],
      "source": [
        "target_train_final = train_data['final.output.recovery']"
      ]
    },
    {
      "cell_type": "markdown",
      "metadata": {
        "id": "58HHAC3iCGRa"
      },
      "source": [
        "Тестовая выборка."
      ]
    },
    {
      "cell_type": "code",
      "execution_count": null,
      "metadata": {
        "id": "gmsP8ugBCGRb"
      },
      "outputs": [],
      "source": [
        "features_test_rougher = test_data.filter(regex='^rougher',axis=1)"
      ]
    },
    {
      "cell_type": "code",
      "execution_count": null,
      "metadata": {
        "id": "41bfePp2CGRb"
      },
      "outputs": [],
      "source": [
        "features_test_rougher = features_test_rougher.drop(['rougher.output.recovery'], axis=1)"
      ]
    },
    {
      "cell_type": "code",
      "execution_count": null,
      "metadata": {
        "id": "PAj6uVIxCGRb"
      },
      "outputs": [],
      "source": [
        "target_test_rougher = test_data['rougher.output.recovery']"
      ]
    },
    {
      "cell_type": "code",
      "execution_count": null,
      "metadata": {
        "id": "gT9zUYhhCGRc"
      },
      "outputs": [],
      "source": [
        "features_test_final = test_data.drop(['rougher.output.recovery', 'final.output.recovery'], axis=1)"
      ]
    },
    {
      "cell_type": "code",
      "execution_count": null,
      "metadata": {
        "id": "tpJARU1_CGRc"
      },
      "outputs": [],
      "source": [
        "target_test_final = test_data['final.output.recovery']"
      ]
    },
    {
      "cell_type": "markdown",
      "metadata": {
        "id": "Fxf2WM4nCGRc"
      },
      "source": [
        "Линейная регрессия."
      ]
    },
    {
      "cell_type": "code",
      "execution_count": null,
      "metadata": {
        "id": "jHrj3LJHCGRc"
      },
      "outputs": [],
      "source": [
        "warnings.filterwarnings('ignore')"
      ]
    },
    {
      "cell_type": "code",
      "execution_count": null,
      "metadata": {
        "id": "oLzMac-yCGRd",
        "outputId": "c3109815-ef0b-4f1a-dd29-b7de0bb7c2ee"
      },
      "outputs": [
        {
          "name": "stdout",
          "output_type": "stream",
          "text": [
            "sMape -10.872287085156582\n"
          ]
        }
      ],
      "source": [
        "model = LinearRegression()\n",
        "scorer = make_scorer(smape, greater_is_better=False)\n",
        "rougher_linear = cross_val_score(model, features_train_rougher, target_train_rougher,scoring=scorer, cv=5)\n",
        "final_linear =  cross_val_score(model, features_train_final, target_train_final,scoring=scorer, cv=5)\n",
        "print('sMape', smape_final(rougher_linear, final_linear).mean())"
      ]
    },
    {
      "cell_type": "markdown",
      "metadata": {
        "id": "kHWRUN5DCGRd"
      },
      "source": [
        "Дерево решений."
      ]
    },
    {
      "cell_type": "code",
      "execution_count": null,
      "metadata": {
        "scrolled": false,
        "id": "XURG4w_DCGRd",
        "outputId": "0c4ea0e8-979f-4bea-ffc3-1631229c025c"
      },
      "outputs": [
        {
          "name": "stdout",
          "output_type": "stream",
          "text": [
            "depth 1 min_samples_leaf 5\n",
            "Итоговое sMAPE для решающего дерева: -10.13278756771158\n",
            "depth 1 min_samples_leaf 10\n",
            "Итоговое sMAPE для решающего дерева: -10.13278756771158\n",
            "depth 1 min_samples_leaf 15\n",
            "Итоговое sMAPE для решающего дерева: -10.13278756771158\n",
            "depth 1 min_samples_leaf 20\n",
            "Итоговое sMAPE для решающего дерева: -10.13278756771158\n",
            "depth 1 min_samples_leaf 25\n",
            "Итоговое sMAPE для решающего дерева: -10.13278756771158\n",
            "depth 1 min_samples_leaf 30\n",
            "Итоговое sMAPE для решающего дерева: -10.13278756771158\n",
            "depth 1 min_samples_leaf 35\n",
            "Итоговое sMAPE для решающего дерева: -10.13278756771158\n",
            "depth 1 min_samples_leaf 40\n",
            "Итоговое sMAPE для решающего дерева: -10.13278756771158\n",
            "depth 1 min_samples_leaf 45\n",
            "Итоговое sMAPE для решающего дерева: -10.13278756771158\n",
            "depth 2 min_samples_leaf 5\n",
            "Итоговое sMAPE для решающего дерева: -10.343740218460521\n",
            "depth 2 min_samples_leaf 10\n",
            "Итоговое sMAPE для решающего дерева: -10.343740218460521\n",
            "depth 2 min_samples_leaf 15\n",
            "Итоговое sMAPE для решающего дерева: -10.343740218460521\n",
            "depth 2 min_samples_leaf 20\n",
            "Итоговое sMAPE для решающего дерева: -10.343740218460521\n",
            "depth 2 min_samples_leaf 25\n",
            "Итоговое sMAPE для решающего дерева: -10.331921190790645\n",
            "depth 2 min_samples_leaf 30\n",
            "Итоговое sMAPE для решающего дерева: -10.361040287451106\n",
            "depth 2 min_samples_leaf 35\n",
            "Итоговое sMAPE для решающего дерева: -10.361040287451106\n",
            "depth 2 min_samples_leaf 40\n",
            "Итоговое sMAPE для решающего дерева: -10.361040287451106\n",
            "depth 2 min_samples_leaf 45\n",
            "Итоговое sMAPE для решающего дерева: -10.36248708616641\n",
            "depth 3 min_samples_leaf 5\n",
            "Итоговое sMAPE для решающего дерева: -10.513701734004576\n",
            "depth 3 min_samples_leaf 10\n",
            "Итоговое sMAPE для решающего дерева: -10.511091707158283\n",
            "depth 3 min_samples_leaf 15\n",
            "Итоговое sMAPE для решающего дерева: -10.519821465448553\n",
            "depth 3 min_samples_leaf 20\n",
            "Итоговое sMAPE для решающего дерева: -10.521975447259862\n",
            "depth 3 min_samples_leaf 25\n",
            "Итоговое sMAPE для решающего дерева: -10.56431993026061\n",
            "depth 3 min_samples_leaf 30\n",
            "Итоговое sMAPE для решающего дерева: -10.542508203204992\n",
            "depth 3 min_samples_leaf 35\n",
            "Итоговое sMAPE для решающего дерева: -10.542853220369818\n",
            "depth 3 min_samples_leaf 40\n",
            "Итоговое sMAPE для решающего дерева: -10.550304401300053\n",
            "depth 3 min_samples_leaf 45\n",
            "Итоговое sMAPE для решающего дерева: -10.5422208627526\n",
            "depth 4 min_samples_leaf 5\n",
            "Итоговое sMAPE для решающего дерева: -10.08753351917986\n",
            "depth 4 min_samples_leaf 10\n",
            "Итоговое sMAPE для решающего дерева: -10.085457987920412\n",
            "depth 4 min_samples_leaf 15\n",
            "Итоговое sMAPE для решающего дерева: -10.094627010493573\n",
            "depth 4 min_samples_leaf 20\n",
            "Итоговое sMAPE для решающего дерева: -10.108858691810969\n",
            "depth 4 min_samples_leaf 25\n",
            "Итоговое sMAPE для решающего дерева: -10.173952711048864\n",
            "depth 4 min_samples_leaf 30\n",
            "Итоговое sMAPE для решающего дерева: -10.273548113153183\n",
            "depth 4 min_samples_leaf 35\n",
            "Итоговое sMAPE для решающего дерева: -10.276870043125717\n",
            "depth 4 min_samples_leaf 40\n",
            "Итоговое sMAPE для решающего дерева: -10.355374061966302\n",
            "depth 4 min_samples_leaf 45\n",
            "Итоговое sMAPE для решающего дерева: -10.32482570624472\n",
            "depth 5 min_samples_leaf 5\n",
            "Итоговое sMAPE для решающего дерева: -10.870294421006042\n",
            "depth 5 min_samples_leaf 10\n",
            "Итоговое sMAPE для решающего дерева: -10.813519289533897\n",
            "depth 5 min_samples_leaf 15\n",
            "Итоговое sMAPE для решающего дерева: -10.809357984504453\n",
            "depth 5 min_samples_leaf 20\n",
            "Итоговое sMAPE для решающего дерева: -10.722495187423565\n",
            "depth 5 min_samples_leaf 25\n",
            "Итоговое sMAPE для решающего дерева: -10.69208678351458\n",
            "depth 5 min_samples_leaf 30\n",
            "Итоговое sMAPE для решающего дерева: -10.821642957211141\n",
            "depth 5 min_samples_leaf 35\n",
            "Итоговое sMAPE для решающего дерева: -10.820726605450366\n",
            "depth 5 min_samples_leaf 40\n",
            "Итоговое sMAPE для решающего дерева: -10.913330121945354\n",
            "depth 5 min_samples_leaf 45\n",
            "Итоговое sMAPE для решающего дерева: -10.66052597885284\n",
            "depth 6 min_samples_leaf 5\n",
            "Итоговое sMAPE для решающего дерева: -10.829920714869006\n",
            "depth 6 min_samples_leaf 10\n",
            "Итоговое sMAPE для решающего дерева: -11.252460984176066\n",
            "depth 6 min_samples_leaf 15\n",
            "Итоговое sMAPE для решающего дерева: -11.325610724463008\n",
            "depth 6 min_samples_leaf 20\n",
            "Итоговое sMAPE для решающего дерева: -10.922297866527082\n",
            "depth 6 min_samples_leaf 25\n",
            "Итоговое sMAPE для решающего дерева: -10.81421170165121\n",
            "depth 6 min_samples_leaf 30\n",
            "Итоговое sMAPE для решающего дерева: -11.361604358271935\n",
            "depth 6 min_samples_leaf 35\n",
            "Итоговое sMAPE для решающего дерева: -11.33179914693637\n",
            "depth 6 min_samples_leaf 40\n",
            "Итоговое sMAPE для решающего дерева: -11.448157474178482\n",
            "depth 6 min_samples_leaf 45\n",
            "Итоговое sMAPE для решающего дерева: -11.353547385359679\n",
            "depth 7 min_samples_leaf 5\n",
            "Итоговое sMAPE для решающего дерева: -10.910310859947005\n",
            "depth 7 min_samples_leaf 10\n",
            "Итоговое sMAPE для решающего дерева: -11.328525758642773\n",
            "depth 7 min_samples_leaf 15\n",
            "Итоговое sMAPE для решающего дерева: -11.466077798662036\n",
            "depth 7 min_samples_leaf 20\n",
            "Итоговое sMAPE для решающего дерева: -10.996148243287816\n",
            "depth 7 min_samples_leaf 25\n",
            "Итоговое sMAPE для решающего дерева: -10.978281968207995\n",
            "depth 7 min_samples_leaf 30\n",
            "Итоговое sMAPE для решающего дерева: -11.324580935453117\n",
            "depth 7 min_samples_leaf 35\n",
            "Итоговое sMAPE для решающего дерева: -11.245169030467554\n",
            "depth 7 min_samples_leaf 40\n",
            "Итоговое sMAPE для решающего дерева: -11.33943686384563\n",
            "depth 7 min_samples_leaf 45\n",
            "Итоговое sMAPE для решающего дерева: -11.26937565067682\n",
            "depth 8 min_samples_leaf 5\n",
            "Итоговое sMAPE для решающего дерева: -12.847296257533037\n",
            "depth 8 min_samples_leaf 10\n",
            "Итоговое sMAPE для решающего дерева: -12.915894704636504\n",
            "depth 8 min_samples_leaf 15\n",
            "Итоговое sMAPE для решающего дерева: -11.765216539732382\n",
            "depth 8 min_samples_leaf 20\n",
            "Итоговое sMAPE для решающего дерева: -10.92000119408086\n",
            "depth 8 min_samples_leaf 25\n",
            "Итоговое sMAPE для решающего дерева: -11.094425532115832\n",
            "depth 8 min_samples_leaf 30\n",
            "Итоговое sMAPE для решающего дерева: -11.262767832897175\n",
            "depth 8 min_samples_leaf 35\n",
            "Итоговое sMAPE для решающего дерева: -11.102270852109552\n",
            "depth 8 min_samples_leaf 40\n",
            "Итоговое sMAPE для решающего дерева: -11.310209499579004\n",
            "depth 8 min_samples_leaf 45\n",
            "Итоговое sMAPE для решающего дерева: -11.663299557344704\n",
            "depth 9 min_samples_leaf 5\n",
            "Итоговое sMAPE для решающего дерева: -13.433486907858665\n",
            "depth 9 min_samples_leaf 10\n",
            "Итоговое sMAPE для решающего дерева: -13.538170086063976\n",
            "depth 9 min_samples_leaf 15\n",
            "Итоговое sMAPE для решающего дерева: -12.435960791454036\n",
            "depth 9 min_samples_leaf 20\n",
            "Итоговое sMAPE для решающего дерева: -11.31635187795051\n",
            "depth 9 min_samples_leaf 25\n",
            "Итоговое sMAPE для решающего дерева: -11.443096719429438\n",
            "depth 9 min_samples_leaf 30\n",
            "Итоговое sMAPE для решающего дерева: -11.40764477668298\n",
            "depth 9 min_samples_leaf 35\n",
            "Итоговое sMAPE для решающего дерева: -11.278155278872438\n",
            "depth 9 min_samples_leaf 40\n",
            "Итоговое sMAPE для решающего дерева: -11.38731010264565\n",
            "depth 9 min_samples_leaf 45\n",
            "Итоговое sMAPE для решающего дерева: -11.816138303773677\n",
            "\n"
          ]
        }
      ],
      "source": [
        "for depth in range(1, 10, 1):\n",
        "    for samples_leaf in range(5,50,5):\n",
        "        model2 = DecisionTreeRegressor(random_state=12345, max_depth = depth, min_samples_leaf = samples_leaf )\n",
        "        scorer = make_scorer(smape, greater_is_better=False)\n",
        "        rougher_tree = cross_val_score(model2, features_train_rougher, target_train_rougher,scoring=scorer, cv=5)\n",
        "        final_tree = cross_val_score(model2, features_train_final, target_train_final,scoring=scorer, cv=5)\n",
        "        print('depth',depth,'min_samples_leaf',samples_leaf)\n",
        "        print('Итоговое sMAPE для решающего дерева:',smape_final(rougher_tree, final_tree).mean())\n",
        "print()"
      ]
    },
    {
      "cell_type": "markdown",
      "metadata": {
        "id": "fYQjeXKhCGRe"
      },
      "source": [
        "После применения алгоритма решающего дерева с настроенными параметрами глубины дерева на уровне 4 и минимальным количеством объектов в листьях равным 10, мы получили лучший результат. Итоговое значение sMAPE для данного алгоритма составляет -10.085457987920412.\n"
      ]
    },
    {
      "cell_type": "markdown",
      "metadata": {
        "id": "-2wjnPpDCGRe"
      },
      "source": [
        "Случайный лес"
      ]
    },
    {
      "cell_type": "code",
      "execution_count": null,
      "metadata": {
        "scrolled": true,
        "id": "2c_U9z0nCGRe",
        "outputId": "f10a8124-6aba-4aac-d3c7-fd315f0260d9"
      },
      "outputs": [
        {
          "name": "stdout",
          "output_type": "stream",
          "text": [
            "depth 1 est 5\n",
            "Итоговое sMAPE для решающего дерева: -10.079184444088295\n",
            "depth 1 est 10\n",
            "Итоговое sMAPE для решающего дерева: -9.990453073953699\n",
            "depth 1 est 15\n",
            "Итоговое sMAPE для решающего дерева: -10.003779294815235\n",
            "depth 2 est 5\n",
            "Итоговое sMAPE для решающего дерева: -9.902541446393673\n",
            "depth 2 est 10\n",
            "Итоговое sMAPE для решающего дерева: -9.89114321666068\n",
            "depth 2 est 15\n",
            "Итоговое sMAPE для решающего дерева: -9.921076317780262\n",
            "depth 3 est 5\n",
            "Итоговое sMAPE для решающего дерева: -9.756089257744131\n",
            "depth 3 est 10\n",
            "Итоговое sMAPE для решающего дерева: -9.746247968221084\n",
            "depth 3 est 15\n",
            "Итоговое sMAPE для решающего дерева: -9.824149959706004\n",
            "depth 4 est 5\n",
            "Итоговое sMAPE для решающего дерева: -9.715131387734392\n",
            "depth 4 est 10\n",
            "Итоговое sMAPE для решающего дерева: -9.588508095936206\n",
            "depth 4 est 15\n",
            "Итоговое sMAPE для решающего дерева: -9.668993383361201\n",
            "depth 5 est 5\n",
            "Итоговое sMAPE для решающего дерева: -9.639648472891206\n",
            "depth 5 est 10\n",
            "Итоговое sMAPE для решающего дерева: -9.598209308449526\n",
            "depth 5 est 15\n",
            "Итоговое sMAPE для решающего дерева: -9.515464685784604\n",
            "depth 6 est 5\n",
            "Итоговое sMAPE для решающего дерева: -9.937875052726827\n",
            "depth 6 est 10\n",
            "Итоговое sMAPE для решающего дерева: -9.614971555963871\n",
            "depth 6 est 15\n",
            "Итоговое sMAPE для решающего дерева: -9.547410038321322\n",
            "depth 7 est 5\n",
            "Итоговое sMAPE для решающего дерева: -10.115009680288342\n",
            "depth 7 est 10\n",
            "Итоговое sMAPE для решающего дерева: -9.938833731256654\n",
            "depth 7 est 15\n",
            "Итоговое sMAPE для решающего дерева: -9.724072250005388\n",
            "depth 8 est 5\n",
            "Итоговое sMAPE для решающего дерева: -10.24196941065831\n",
            "depth 8 est 10\n",
            "Итоговое sMAPE для решающего дерева: -10.297461598988924\n",
            "depth 8 est 15\n",
            "Итоговое sMAPE для решающего дерева: -10.006871594068754\n",
            "depth 9 est 5\n",
            "Итоговое sMAPE для решающего дерева: -10.286419735268911\n",
            "depth 9 est 10\n",
            "Итоговое sMAPE для решающего дерева: -10.382299642930288\n",
            "depth 9 est 15\n",
            "Итоговое sMAPE для решающего дерева: -10.175016495231137\n",
            "\n"
          ]
        }
      ],
      "source": [
        "for depth in range(1,10):\n",
        "    for est in range(5,20,5):\n",
        "        \n",
        "        model3 = RandomForestRegressor(max_depth=depth, n_estimators=est,random_state=1234)\n",
        "        scorer = make_scorer(smape, greater_is_better=False)\n",
        "        rougher_tree = cross_val_score(model3, features_train_rougher, target_train_rougher,scoring=scorer, cv=5)\n",
        "        final_tree = cross_val_score(model3, features_train_final, target_train_final,scoring=scorer, cv=5)\n",
        "        print('depth',depth,'est',est)\n",
        "        print('Итоговое sMAPE для решающего дерева:',smape_final(rougher_tree, final_tree).mean())\n",
        "print()\n"
      ]
    },
    {
      "cell_type": "markdown",
      "metadata": {
        "id": "-rYu3Ks0CGRh"
      },
      "source": [
        "По результатам применения алгоритма случайного леса с настроенными параметрами глубины дерева на уровне 5 и количеством деревьев равным 15, получили лучший результат. Итоговое значение sMAPE для данного алгоритма составляет -9.515464685784604."
      ]
    },
    {
      "cell_type": "markdown",
      "metadata": {
        "id": "WkGxD_smCGRh"
      },
      "source": [
        "Проверим значение на тестовой выборке."
      ]
    },
    {
      "cell_type": "code",
      "execution_count": null,
      "metadata": {
        "id": "CjL-LxouCGRh",
        "outputId": "1e6823ce-b0f8-4760-c3a3-e60a3119676e"
      },
      "outputs": [
        {
          "name": "stdout",
          "output_type": "stream",
          "text": [
            "sMAPE на тестовой выборке: 9.843299784098317\n"
          ]
        }
      ],
      "source": [
        "model_01 = RandomForestRegressor(max_depth=5, n_estimators=15,random_state=1234)\n",
        "model_02 = RandomForestRegressor(max_depth=5, n_estimators=15,random_state=1234)\n",
        "model_01.fit(features_train_rougher, target_train_rougher)\n",
        "model_02.fit(features_train_final, target_train_final)\n",
        "test_predictions_01 = model_01.predict(features_test_rougher)\n",
        "test_predictions_02 = model_02.predict(features_test_final)\n",
        "total = smape_total(target_test_rougher, test_predictions_01, target_test_final, test_predictions_02).mean()\n",
        "print('sMAPE на тестовой выборке:',total)"
      ]
    },
    {
      "cell_type": "code",
      "execution_count": null,
      "metadata": {
        "id": "Zkk-sHcNCGRi",
        "outputId": "5649f523-a771-423f-85f1-d8a6c55af402"
      },
      "outputs": [
        {
          "name": "stdout",
          "output_type": "stream",
          "text": [
            "sMAPE для DummyRegressor: 9.74478807914118\n"
          ]
        }
      ],
      "source": [
        "model_01 = DummyRegressor()\n",
        "model_02 = DummyRegressor()\n",
        "model_01.fit(features_train_rougher, target_train_rougher)\n",
        "model_02.fit(features_train_final, target_train_final)\n",
        "test_predictions_01 = model_01.predict(features_test_rougher)\n",
        "test_predictions_02 = model_02.predict(features_test_final)\n",
        "total = smape_total(target_test_rougher, test_predictions_01, target_test_final, test_predictions_02).mean()\n",
        "print('sMAPE для DummyRegressor:',total)"
      ]
    },
    {
      "cell_type": "markdown",
      "metadata": {
        "id": "Ck1RfSi2CGRi"
      },
      "source": [
        "В проекте на входе были получены данные с несколькими пропущенными значениями, которые в дальнейшем были удалены. При анализе данных были обнаружены следующие характеристики процесса: концентрация металлов свинца и серебра на всех этапах процесса находится примерно на одном уровне, в то время как концентрация золота возрастает на финальном этапе. Размер гранул в тестовой и обучающей выборках практически одинаковый. Была также обнаружена аномалия в черновом концентрате, где какой-то этап процесса имел нулевые значения. Эти данные были удалены из выборки. \n",
        "\n",
        "Далее в проекте были применены различные модели (дерево решений, линейная регрессия и случайный лес) и настроены гиперпараметры для каждой модели, чтобы получить наилучшие результаты. Оптимальной моделью оказался случайный лес с оптимальными гиперпараметрами depth=5 и est=15. После проверки этой модели на тестовой выборке, было получено итоговое значение sMAPE = 9.843299784098317."
      ]
    }
  ],
  "metadata": {
    "ExecuteTimeLog": [
      {
        "duration": 8,
        "start_time": "2023-02-14T10:58:19.823Z"
      },
      {
        "duration": 34,
        "start_time": "2023-02-14T10:58:45.591Z"
      },
      {
        "duration": 29,
        "start_time": "2023-02-14T10:58:51.525Z"
      },
      {
        "duration": 30,
        "start_time": "2023-02-14T10:58:57.119Z"
      },
      {
        "duration": 31,
        "start_time": "2023-02-14T10:59:01.522Z"
      },
      {
        "duration": 16,
        "start_time": "2023-02-14T10:59:09.555Z"
      },
      {
        "duration": 12,
        "start_time": "2023-02-14T10:59:20.125Z"
      },
      {
        "duration": 9,
        "start_time": "2023-02-14T10:59:31.871Z"
      },
      {
        "duration": 8,
        "start_time": "2023-02-14T10:59:45.655Z"
      },
      {
        "duration": 26,
        "start_time": "2023-02-14T10:59:59.686Z"
      },
      {
        "duration": 71,
        "start_time": "2023-02-14T11:03:45.259Z"
      }
    ],
    "kernelspec": {
      "display_name": "Python 3 (ipykernel)",
      "language": "python",
      "name": "python3"
    },
    "language_info": {
      "codemirror_mode": {
        "name": "ipython",
        "version": 3
      },
      "file_extension": ".py",
      "mimetype": "text/x-python",
      "name": "python",
      "nbconvert_exporter": "python",
      "pygments_lexer": "ipython3",
      "version": "3.9.7"
    },
    "toc": {
      "base_numbering": 1,
      "nav_menu": {},
      "number_sections": true,
      "sideBar": true,
      "skip_h1_title": true,
      "title_cell": "Содержание",
      "title_sidebar": "Contents",
      "toc_cell": true,
      "toc_position": {
        "height": "calc(100% - 180px)",
        "left": "10px",
        "top": "150px",
        "width": "165px"
      },
      "toc_section_display": true,
      "toc_window_display": true
    },
    "colab": {
      "provenance": []
    }
  },
  "nbformat": 4,
  "nbformat_minor": 0
}